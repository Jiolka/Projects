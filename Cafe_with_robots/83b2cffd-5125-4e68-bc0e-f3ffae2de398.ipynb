{
 "cells": [
  {
   "cell_type": "markdown",
   "metadata": {},
   "source": [
    "# Рынок заведений общественного питания Москвы"
   ]
  },
  {
   "cell_type": "markdown",
   "metadata": {},
   "source": [
    "## Содержание\n",
    "1. [Описание проекта](#describe)\n",
    "\n",
    "    1.1 [Цель](#purpose)\n",
    "\n",
    "\n",
    "2. [Загрузка и подготовка данных](#download)\n",
    "\n",
    "    2.1 [Описание данных](#data)\n",
    "    \n",
    "    2.2 [Загрузка данных](#tables)\n",
    "\n",
    "\n",
    "3. [Анализ данных](#analiz)\n",
    "\n",
    "   3.1. [Соотношение видов объектов общественного питания по количеству](#typetosum)\n",
    "   \n",
    "      * [Выводы](#result1)\n",
    "\n",
    "   3.2. [Соотношение сетевых и несетевых заведений по количеству.](#chain)\n",
    "   \n",
    "      * [Выводы](#result2)\n",
    "\n",
    "   3.3. [Посадочные места в сетевых заведениях](#place)\n",
    "   \n",
    "      * [Выводы](#result3)\n",
    "\n",
    "   3.4. [Расположение объектов](#location)\n",
    "   \n",
    "      * [Выводы](#result4)\n",
    "\n",
    "\n",
    "4. [Выводы и рекомендации](#results)\n",
    "\n",
    "\n",
    "5. [Презентация](#report)"
   ]
  },
  {
   "cell_type": "markdown",
   "metadata": {},
   "source": [
    "## Описание проекта\n",
    "<a id=\"describe\"></a>\n",
    "Вы решили открыть небольшое кафе в Москве. Оно оригинальное — гостей должны обслуживать роботы. Проект многообещающий, но дорогой. Вместе с партнёрами вы решились обратиться к инвесторам. Их интересует текущее положение дел на рынке — сможете ли вы снискать популярность на долгое время, когда все зеваки насмотрятся на роботов-официантов?\n",
    "\n",
    "Вы — гуру аналитики, и партнёры просят вас подготовить исследование рынка. У вас есть открытые данные о заведениях общественного питания в Москве.\n",
    "\n",
    "### Цель\n",
    "<a id=\"purpose\"></a>\n",
    "Наша цель: исследовать рынок общественного питания. Для достижения поставленной цели необходимо выполнить следующие задачи:\n",
    " - Подготовить данные к анализу.\n",
    " \n",
    " - Проанализировать данные:\n",
    "     - соотношение видов объектов общественного питания по количеству,\n",
    "     - соотношение сетевых и несетевых заведений по количеству,\n",
    "     - виды объектов общественного питания, для которых характерно сетевое распространение,\n",
    "     - характерные черты сетевых заведений: много заведений с небольшим числом посадочных мест в каждом или мало заведений с большим количеством посадочных мест.\n",
    "     \n",
    " - Описать для каждого вида объекта общественного питания среднее количество посадочных мест. Какой вид предоставляет в среднем самое большое количество посадочных мест?\n",
    " \n",
    " - Выделить в отдельный столбец информацию об улице из столбца address.\n",
    " \n",
    " - Определить топ-10 улиц по количеству объектов общественного питания. В каких районах Москвы находятся эти улицы?\n",
    " \n",
    " - Найти число улиц с одним объектом общественного питания. В каких районах Москвы находятся эти улицы?\n",
    " \n",
    " - Посмотреть на распределение количества посадочных мест для улиц с большим количеством объектов общественного питания. Какие закономерности можно выявить?\n",
    " \n",
    "- Подготовить презентацию.\n",
    "\n",
    "<a id=\"download\"></a>\n",
    "## Загрузка и подготовка данных\n",
    "\n",
    "\n",
    "<a id=\"data\"></a>\n",
    "### Описание данных\n",
    "\n",
    "Таблица rest_data:\n",
    " - id — идентификатор объекта;\n",
    " - object_name — название объекта общественного питания;\n",
    " - chain — сетевой ресторан;\n",
    " - object_type — тип объекта общественного питания;\n",
    " - address — адрес;\n",
    " - number — количество посадочных мест.\n",
    " \n",
    "### Загрузка данных\n",
    "<a id=\"tables\"></a>\n",
    "Загрузим таблицу. Первый взгляд на данные."
   ]
  },
  {
   "cell_type": "code",
   "execution_count": 1,
   "metadata": {},
   "outputs": [],
   "source": [
    "%matplotlib inline\n",
    "import pandas as pd\n",
    "import datetime as dt\n",
    "import numpy as np\n",
    "import seaborn as sns\n",
    "from numpy import median\n",
    "import matplotlib.pyplot as plt\n",
    "import scipy.stats as stats\n",
    "from pandas.plotting import register_matplotlib_converters\n",
    "register_matplotlib_converters()\n",
    "import re\n",
    "from io import BytesIO\n",
    "import requests\n"
   ]
  },
  {
   "cell_type": "code",
   "execution_count": 2,
   "metadata": {},
   "outputs": [
    {
     "data": {
      "text/html": [
       "<div>\n",
       "<style scoped>\n",
       "    .dataframe tbody tr th:only-of-type {\n",
       "        vertical-align: middle;\n",
       "    }\n",
       "\n",
       "    .dataframe tbody tr th {\n",
       "        vertical-align: top;\n",
       "    }\n",
       "\n",
       "    .dataframe thead th {\n",
       "        text-align: right;\n",
       "    }\n",
       "</style>\n",
       "<table border=\"1\" class=\"dataframe\">\n",
       "  <thead>\n",
       "    <tr style=\"text-align: right;\">\n",
       "      <th></th>\n",
       "      <th>id</th>\n",
       "      <th>object_name</th>\n",
       "      <th>chain</th>\n",
       "      <th>object_type</th>\n",
       "      <th>address</th>\n",
       "      <th>number</th>\n",
       "    </tr>\n",
       "  </thead>\n",
       "  <tbody>\n",
       "    <tr>\n",
       "      <th>0</th>\n",
       "      <td>151635</td>\n",
       "      <td>СМЕТАНА</td>\n",
       "      <td>нет</td>\n",
       "      <td>кафе</td>\n",
       "      <td>город Москва, улица Егора Абакумова, дом 9</td>\n",
       "      <td>48</td>\n",
       "    </tr>\n",
       "    <tr>\n",
       "      <th>1</th>\n",
       "      <td>77874</td>\n",
       "      <td>Родник</td>\n",
       "      <td>нет</td>\n",
       "      <td>кафе</td>\n",
       "      <td>город Москва, улица Талалихина, дом 2/1, корпус 1</td>\n",
       "      <td>35</td>\n",
       "    </tr>\n",
       "    <tr>\n",
       "      <th>2</th>\n",
       "      <td>24309</td>\n",
       "      <td>Кафе «Академия»</td>\n",
       "      <td>нет</td>\n",
       "      <td>кафе</td>\n",
       "      <td>город Москва, Абельмановская улица, дом 6</td>\n",
       "      <td>95</td>\n",
       "    </tr>\n",
       "    <tr>\n",
       "      <th>3</th>\n",
       "      <td>21894</td>\n",
       "      <td>ПИЦЦЕТОРИЯ</td>\n",
       "      <td>да</td>\n",
       "      <td>кафе</td>\n",
       "      <td>город Москва, Абрамцевская улица, дом 1</td>\n",
       "      <td>40</td>\n",
       "    </tr>\n",
       "    <tr>\n",
       "      <th>4</th>\n",
       "      <td>119365</td>\n",
       "      <td>Кафе «Вишневая метель»</td>\n",
       "      <td>нет</td>\n",
       "      <td>кафе</td>\n",
       "      <td>город Москва, Абрамцевская улица, дом 9, корпус 1</td>\n",
       "      <td>50</td>\n",
       "    </tr>\n",
       "    <tr>\n",
       "      <th>5</th>\n",
       "      <td>27429</td>\n",
       "      <td>СТОЛ. ПРИ ГОУ СОШ № 1051</td>\n",
       "      <td>нет</td>\n",
       "      <td>столовая</td>\n",
       "      <td>город Москва, Абрамцевская улица, дом 15, корпус 1</td>\n",
       "      <td>240</td>\n",
       "    </tr>\n",
       "    <tr>\n",
       "      <th>6</th>\n",
       "      <td>148815</td>\n",
       "      <td>Брусника</td>\n",
       "      <td>да</td>\n",
       "      <td>кафе</td>\n",
       "      <td>город Москва, переулок Сивцев Вражек, дом 6/2</td>\n",
       "      <td>10</td>\n",
       "    </tr>\n",
       "    <tr>\n",
       "      <th>7</th>\n",
       "      <td>20957</td>\n",
       "      <td>Буфет МТУСИ</td>\n",
       "      <td>нет</td>\n",
       "      <td>столовая</td>\n",
       "      <td>город Москва, Авиамоторная улица, дом 8, строение 1</td>\n",
       "      <td>90</td>\n",
       "    </tr>\n",
       "    <tr>\n",
       "      <th>8</th>\n",
       "      <td>20958</td>\n",
       "      <td>КПФ СЕМЬЯ-1</td>\n",
       "      <td>нет</td>\n",
       "      <td>столовая</td>\n",
       "      <td>город Москва, Авиамоторная улица, дом 8, строение 1</td>\n",
       "      <td>150</td>\n",
       "    </tr>\n",
       "    <tr>\n",
       "      <th>9</th>\n",
       "      <td>28858</td>\n",
       "      <td>Столовая МТУСИ</td>\n",
       "      <td>нет</td>\n",
       "      <td>столовая</td>\n",
       "      <td>город Москва, Авиамоторная улица, дом 8, строение 1</td>\n",
       "      <td>120</td>\n",
       "    </tr>\n",
       "    <tr>\n",
       "      <th>10</th>\n",
       "      <td>148595</td>\n",
       "      <td>Пекарня 24</td>\n",
       "      <td>нет</td>\n",
       "      <td>закусочная</td>\n",
       "      <td>город Москва, Авиамоторная улица, дом 47</td>\n",
       "      <td>5</td>\n",
       "    </tr>\n",
       "    <tr>\n",
       "      <th>11</th>\n",
       "      <td>23394</td>\n",
       "      <td>Гогиели</td>\n",
       "      <td>нет</td>\n",
       "      <td>кафе</td>\n",
       "      <td>город Москва, Авиамоторная улица, дом 49/1</td>\n",
       "      <td>24</td>\n",
       "    </tr>\n",
       "    <tr>\n",
       "      <th>12</th>\n",
       "      <td>28582</td>\n",
       "      <td>ШКОЛА 735</td>\n",
       "      <td>нет</td>\n",
       "      <td>столовая</td>\n",
       "      <td>город Москва, Авиамоторная улица, дом 51</td>\n",
       "      <td>140</td>\n",
       "    </tr>\n",
       "    <tr>\n",
       "      <th>13</th>\n",
       "      <td>22579</td>\n",
       "      <td>Алло Пицца</td>\n",
       "      <td>да</td>\n",
       "      <td>кафе</td>\n",
       "      <td>город Москва, улица Авиаторов, дом 14</td>\n",
       "      <td>32</td>\n",
       "    </tr>\n",
       "    <tr>\n",
       "      <th>14</th>\n",
       "      <td>23670</td>\n",
       "      <td>Гимназия 1542</td>\n",
       "      <td>нет</td>\n",
       "      <td>столовая</td>\n",
       "      <td>город Москва, улица Авиаторов, дом 16</td>\n",
       "      <td>270</td>\n",
       "    </tr>\n",
       "  </tbody>\n",
       "</table>\n",
       "</div>"
      ],
      "text/plain": [
       "        id               object_name chain object_type  \\\n",
       "0   151635                   СМЕТАНА   нет        кафе   \n",
       "1    77874                    Родник   нет        кафе   \n",
       "2    24309           Кафе «Академия»   нет        кафе   \n",
       "3    21894                ПИЦЦЕТОРИЯ    да        кафе   \n",
       "4   119365    Кафе «Вишневая метель»   нет        кафе   \n",
       "5    27429  СТОЛ. ПРИ ГОУ СОШ № 1051   нет    столовая   \n",
       "6   148815                  Брусника    да        кафе   \n",
       "7    20957               Буфет МТУСИ   нет    столовая   \n",
       "8    20958               КПФ СЕМЬЯ-1   нет    столовая   \n",
       "9    28858            Столовая МТУСИ   нет    столовая   \n",
       "10  148595                Пекарня 24   нет  закусочная   \n",
       "11   23394                   Гогиели   нет        кафе   \n",
       "12   28582                 ШКОЛА 735   нет    столовая   \n",
       "13   22579                Алло Пицца    да        кафе   \n",
       "14   23670             Гимназия 1542   нет    столовая   \n",
       "\n",
       "                                                address  number  \n",
       "0            город Москва, улица Егора Абакумова, дом 9      48  \n",
       "1     город Москва, улица Талалихина, дом 2/1, корпус 1      35  \n",
       "2             город Москва, Абельмановская улица, дом 6      95  \n",
       "3               город Москва, Абрамцевская улица, дом 1      40  \n",
       "4     город Москва, Абрамцевская улица, дом 9, корпус 1      50  \n",
       "5    город Москва, Абрамцевская улица, дом 15, корпус 1     240  \n",
       "6         город Москва, переулок Сивцев Вражек, дом 6/2      10  \n",
       "7   город Москва, Авиамоторная улица, дом 8, строение 1      90  \n",
       "8   город Москва, Авиамоторная улица, дом 8, строение 1     150  \n",
       "9   город Москва, Авиамоторная улица, дом 8, строение 1     120  \n",
       "10             город Москва, Авиамоторная улица, дом 47       5  \n",
       "11           город Москва, Авиамоторная улица, дом 49/1      24  \n",
       "12             город Москва, Авиамоторная улица, дом 51     140  \n",
       "13                город Москва, улица Авиаторов, дом 14      32  \n",
       "14                город Москва, улица Авиаторов, дом 16     270  "
      ]
     },
     "execution_count": 2,
     "metadata": {},
     "output_type": "execute_result"
    }
   ],
   "source": [
    "pd.set_option('max_colwidth', 400)\n",
    "path = 'C:\\\\Users\\plea\\OneDrive\\Документы\\Практикум\\Проекты для гитхаб\\Общепит'\n",
    "data_rest = pd.read_csv(path + '/rest_data.csv')\n",
    "data_rest.head(15)"
   ]
  },
  {
   "cell_type": "code",
   "execution_count": 3,
   "metadata": {},
   "outputs": [
    {
     "name": "stdout",
     "output_type": "stream",
     "text": [
      "<class 'pandas.core.frame.DataFrame'>\n",
      "RangeIndex: 15366 entries, 0 to 15365\n",
      "Data columns (total 6 columns):\n",
      " #   Column       Non-Null Count  Dtype \n",
      "---  ------       --------------  ----- \n",
      " 0   id           15366 non-null  int64 \n",
      " 1   object_name  15366 non-null  object\n",
      " 2   chain        15366 non-null  object\n",
      " 3   object_type  15366 non-null  object\n",
      " 4   address      15366 non-null  object\n",
      " 5   number       15366 non-null  int64 \n",
      "dtypes: int64(2), object(4)\n",
      "memory usage: 720.4+ KB\n"
     ]
    }
   ],
   "source": [
    "data_rest.info()"
   ]
  },
  {
   "cell_type": "code",
   "execution_count": 4,
   "metadata": {},
   "outputs": [
    {
     "data": {
      "text/plain": [
       "10393"
      ]
     },
     "execution_count": 4,
     "metadata": {},
     "output_type": "execute_result"
    }
   ],
   "source": [
    "data_rest['object_name'].nunique()"
   ]
  },
  {
   "cell_type": "code",
   "execution_count": 5,
   "metadata": {},
   "outputs": [
    {
     "data": {
      "text/plain": [
       "array(['СМЕТАНА', 'Родник', 'Кафе «Академия»', ..., 'Бар Мята Lounge',\n",
       "       'Мята Lounge Октябрьская', 'Кальянная «Мята Lounge»'], dtype=object)"
      ]
     },
     "execution_count": 5,
     "metadata": {},
     "output_type": "execute_result"
    }
   ],
   "source": [
    "data_rest['object_name'].unique()"
   ]
  },
  {
   "cell_type": "code",
   "execution_count": 6,
   "metadata": {},
   "outputs": [
    {
     "data": {
      "text/plain": [
       "array(['нет', 'да'], dtype=object)"
      ]
     },
     "execution_count": 6,
     "metadata": {},
     "output_type": "execute_result"
    }
   ],
   "source": [
    "data_rest['chain'].unique()"
   ]
  },
  {
   "cell_type": "code",
   "execution_count": 7,
   "metadata": {},
   "outputs": [
    {
     "data": {
      "text/plain": [
       "array(['кафе', 'столовая', 'закусочная',\n",
       "       'предприятие быстрого обслуживания', 'ресторан', 'кафетерий',\n",
       "       'буфет', 'бар', 'магазин (отдел кулинарии)'], dtype=object)"
      ]
     },
     "execution_count": 7,
     "metadata": {},
     "output_type": "execute_result"
    }
   ],
   "source": [
    "data_rest['object_type'].unique()"
   ]
  },
  {
   "cell_type": "code",
   "execution_count": 8,
   "metadata": {},
   "outputs": [
    {
     "data": {
      "text/plain": [
       "count    15366.000000\n",
       "mean        59.547182\n",
       "std         74.736833\n",
       "min          0.000000\n",
       "25%         12.000000\n",
       "50%         40.000000\n",
       "75%         80.000000\n",
       "max       1700.000000\n",
       "Name: number, dtype: float64"
      ]
     },
     "execution_count": 8,
     "metadata": {},
     "output_type": "execute_result"
    }
   ],
   "source": [
    "data_rest['number'].describe()"
   ]
  },
  {
   "cell_type": "code",
   "execution_count": 9,
   "metadata": {},
   "outputs": [
    {
     "data": {
      "text/plain": [
       "id             0\n",
       "object_name    0\n",
       "chain          0\n",
       "object_type    0\n",
       "address        0\n",
       "number         0\n",
       "dtype: int64"
      ]
     },
     "execution_count": 9,
     "metadata": {},
     "output_type": "execute_result"
    }
   ],
   "source": [
    "data_rest.isnull().sum()"
   ]
  },
  {
   "cell_type": "code",
   "execution_count": 10,
   "metadata": {},
   "outputs": [
    {
     "data": {
      "text/plain": [
       "15366"
      ]
     },
     "execution_count": 10,
     "metadata": {},
     "output_type": "execute_result"
    }
   ],
   "source": [
    "data_rest['id'].nunique()"
   ]
  },
  {
   "cell_type": "code",
   "execution_count": 11,
   "metadata": {},
   "outputs": [
    {
     "data": {
      "text/plain": [
       "9108"
      ]
     },
     "execution_count": 11,
     "metadata": {},
     "output_type": "execute_result"
    }
   ],
   "source": [
    "data_rest['address'].nunique()"
   ]
  },
  {
   "cell_type": "markdown",
   "metadata": {},
   "source": [
    "В целом данные корректные: пропусков, отрицательных и некорректных значений нет. ID не повторяются. Типы данных соответствуют содержимому."
   ]
  },
  {
   "cell_type": "code",
   "execution_count": 12,
   "metadata": {},
   "outputs": [],
   "source": [
    "data_rest['object_name'] = data_rest['object_name'].str.lower()"
   ]
  },
  {
   "cell_type": "markdown",
   "metadata": {},
   "source": [
    "Перед тем как перейдём к анализу, загрузим таблицу streets, которая понадобится нам в дальнейшем, когда мы будем рассмативать расположение объектов. В таблице содержатся улицы и районы Москвы."
   ]
  },
  {
   "cell_type": "code",
   "execution_count": 13,
   "metadata": {},
   "outputs": [
    {
     "data": {
      "text/html": [
       "<div>\n",
       "<style scoped>\n",
       "    .dataframe tbody tr th:only-of-type {\n",
       "        vertical-align: middle;\n",
       "    }\n",
       "\n",
       "    .dataframe tbody tr th {\n",
       "        vertical-align: top;\n",
       "    }\n",
       "\n",
       "    .dataframe thead th {\n",
       "        text-align: right;\n",
       "    }\n",
       "</style>\n",
       "<table border=\"1\" class=\"dataframe\">\n",
       "  <thead>\n",
       "    <tr style=\"text-align: right;\">\n",
       "      <th></th>\n",
       "      <th>streetname</th>\n",
       "      <th>areaid</th>\n",
       "      <th>area</th>\n",
       "    </tr>\n",
       "  </thead>\n",
       "  <tbody>\n",
       "    <tr>\n",
       "      <th>0</th>\n",
       "      <td>Выставочный переулок</td>\n",
       "      <td>17</td>\n",
       "      <td>Пресненский район</td>\n",
       "    </tr>\n",
       "    <tr>\n",
       "      <th>1</th>\n",
       "      <td>улица Гашека</td>\n",
       "      <td>17</td>\n",
       "      <td>Пресненский район</td>\n",
       "    </tr>\n",
       "    <tr>\n",
       "      <th>2</th>\n",
       "      <td>Большая Никитская улица</td>\n",
       "      <td>17</td>\n",
       "      <td>Пресненский район</td>\n",
       "    </tr>\n",
       "    <tr>\n",
       "      <th>3</th>\n",
       "      <td>Глубокий переулок</td>\n",
       "      <td>17</td>\n",
       "      <td>Пресненский район</td>\n",
       "    </tr>\n",
       "    <tr>\n",
       "      <th>4</th>\n",
       "      <td>Большой Гнездниковский переулок</td>\n",
       "      <td>17</td>\n",
       "      <td>Пресненский район</td>\n",
       "    </tr>\n",
       "  </tbody>\n",
       "</table>\n",
       "</div>"
      ],
      "text/plain": [
       "                        streetname  areaid               area\n",
       "0             Выставочный переулок      17  Пресненский район\n",
       "1                     улица Гашека      17  Пресненский район\n",
       "2          Большая Никитская улица      17  Пресненский район\n",
       "3                Глубокий переулок      17  Пресненский район\n",
       "4  Большой Гнездниковский переулок      17  Пресненский район"
      ]
     },
     "execution_count": 13,
     "metadata": {},
     "output_type": "execute_result"
    }
   ],
   "source": [
    "spreadsheet_id = '1bN97muXxi-w0bVR0bo2Uh9AqSVYvKoQ1uc00nVACneE'\n",
    "file_name = 'https://docs.google.com/spreadsheets/d/{}/export?format=csv'.format(spreadsheet_id)\n",
    "r = requests.get(file_name)\n",
    "streets = pd.read_csv(BytesIO(r.content))\n",
    "streets.head()"
   ]
  },
  {
   "cell_type": "markdown",
   "metadata": {},
   "source": [
    "Заменим названия столбцов streetname и areaid, проверим на пропуски."
   ]
  },
  {
   "cell_type": "code",
   "execution_count": 14,
   "metadata": {},
   "outputs": [
    {
     "name": "stdout",
     "output_type": "stream",
     "text": [
      "<class 'pandas.core.frame.DataFrame'>\n",
      "RangeIndex: 4398 entries, 0 to 4397\n",
      "Data columns (total 3 columns):\n",
      " #   Column       Non-Null Count  Dtype \n",
      "---  ------       --------------  ----- \n",
      " 0   street_name  4398 non-null   object\n",
      " 1   area_id      4398 non-null   int64 \n",
      " 2   area         4398 non-null   object\n",
      "dtypes: int64(1), object(2)\n",
      "memory usage: 103.2+ KB\n"
     ]
    }
   ],
   "source": [
    "streets.columns = ['street_name', 'area_id', 'area']\n",
    "streets.info()"
   ]
  },
  {
   "cell_type": "markdown",
   "metadata": {},
   "source": [
    "Пропусков нет, данные корректны."
   ]
  },
  {
   "cell_type": "markdown",
   "metadata": {},
   "source": [
    "## Анализ данных\n",
    "<a id=\"analiz\"></a>\n",
    "### Соотношение видов объектов общественного питания по количеству.\n",
    "<a id=\"typetosum\"></a>\n",
    "\n"
   ]
  },
  {
   "cell_type": "code",
   "execution_count": 15,
   "metadata": {},
   "outputs": [
    {
     "data": {
      "image/png": "[encoded data removed]",
      "text/plain": [
       "<Figure size 864x504 with 1 Axes>"
      ]
     },
     "metadata": {
      "needs_background": "light"
     },
     "output_type": "display_data"
    }
   ],
   "source": [
    "# Сгруппируем данные по типу объекта и посчитаем количество объектов\n",
    "data_object_type = data_rest.groupby('object_type')['id'].count().reset_index()\n",
    "data_object_type.columns = ['object_type', 'id']\n",
    "# Отсортируем по убыванию и построим график\n",
    "data_object_type.sort_values(by='id', ascending=False, inplace=True)\n",
    "plt.figure(figsize=(12, 7))\n",
    "sns.barplot(x='object_type', y='id', data=data_object_type)\n",
    "sns.set_palette('pastel') \n",
    "plt.title('Соотношение видов объектов общественного питания по количеству')\n",
    "plt.xlabel(\"Типы объектов\")\n",
    "plt.ylabel(\"Количество\")\n",
    "plt.xticks(rotation=60)\n",
    "plt.grid(True)\n",
    "plt.show()"
   ]
  },
  {
   "cell_type": "markdown",
   "metadata": {},
   "source": [
    "Больше всего распространены кафе. Следом с отрывом более чем в два раза идут столовые, ненамного отстают рестораны и предприятия быстрого обслуживания, завершают пятерку лидеров бары. Посчитаем долю объектов питания от общего количества."
   ]
  },
  {
   "cell_type": "code",
   "execution_count": 16,
   "metadata": {},
   "outputs": [
    {
     "data": {
      "text/html": [
       "<div>\n",
       "<style scoped>\n",
       "    .dataframe tbody tr th:only-of-type {\n",
       "        vertical-align: middle;\n",
       "    }\n",
       "\n",
       "    .dataframe tbody tr th {\n",
       "        vertical-align: top;\n",
       "    }\n",
       "\n",
       "    .dataframe thead th {\n",
       "        text-align: right;\n",
       "    }\n",
       "</style>\n",
       "<table border=\"1\" class=\"dataframe\">\n",
       "  <thead>\n",
       "    <tr style=\"text-align: right;\">\n",
       "      <th></th>\n",
       "      <th>object_type</th>\n",
       "      <th>id</th>\n",
       "      <th>ratio</th>\n",
       "    </tr>\n",
       "  </thead>\n",
       "  <tbody>\n",
       "    <tr>\n",
       "      <th>3</th>\n",
       "      <td>кафе</td>\n",
       "      <td>6099</td>\n",
       "      <td>39.69</td>\n",
       "    </tr>\n",
       "    <tr>\n",
       "      <th>8</th>\n",
       "      <td>столовая</td>\n",
       "      <td>2587</td>\n",
       "      <td>16.84</td>\n",
       "    </tr>\n",
       "    <tr>\n",
       "      <th>7</th>\n",
       "      <td>ресторан</td>\n",
       "      <td>2285</td>\n",
       "      <td>14.87</td>\n",
       "    </tr>\n",
       "    <tr>\n",
       "      <th>6</th>\n",
       "      <td>предприятие быстрого обслуживания</td>\n",
       "      <td>1923</td>\n",
       "      <td>12.51</td>\n",
       "    </tr>\n",
       "    <tr>\n",
       "      <th>0</th>\n",
       "      <td>бар</td>\n",
       "      <td>856</td>\n",
       "      <td>5.57</td>\n",
       "    </tr>\n",
       "    <tr>\n",
       "      <th>1</th>\n",
       "      <td>буфет</td>\n",
       "      <td>585</td>\n",
       "      <td>3.81</td>\n",
       "    </tr>\n",
       "    <tr>\n",
       "      <th>4</th>\n",
       "      <td>кафетерий</td>\n",
       "      <td>398</td>\n",
       "      <td>2.59</td>\n",
       "    </tr>\n",
       "    <tr>\n",
       "      <th>2</th>\n",
       "      <td>закусочная</td>\n",
       "      <td>360</td>\n",
       "      <td>2.34</td>\n",
       "    </tr>\n",
       "    <tr>\n",
       "      <th>5</th>\n",
       "      <td>магазин (отдел кулинарии)</td>\n",
       "      <td>273</td>\n",
       "      <td>1.78</td>\n",
       "    </tr>\n",
       "  </tbody>\n",
       "</table>\n",
       "</div>"
      ],
      "text/plain": [
       "                         object_type    id  ratio\n",
       "3                               кафе  6099  39.69\n",
       "8                           столовая  2587  16.84\n",
       "7                           ресторан  2285  14.87\n",
       "6  предприятие быстрого обслуживания  1923  12.51\n",
       "0                                бар   856   5.57\n",
       "1                              буфет   585   3.81\n",
       "4                          кафетерий   398   2.59\n",
       "2                         закусочная   360   2.34\n",
       "5          магазин (отдел кулинарии)   273   1.78"
      ]
     },
     "execution_count": 16,
     "metadata": {},
     "output_type": "execute_result"
    }
   ],
   "source": [
    "data_object_type['ratio'] = (data_object_type['id'] / (data_object_type['id'].sum())).round(4) * 100\n",
    "data_object_type.sort_values(by='ratio', ascending=False)"
   ]
  },
  {
   "cell_type": "code",
   "execution_count": 17,
   "metadata": {},
   "outputs": [
    {
     "data": {
      "image/png": "[encoded data removed]",
      "text/plain": [
       "<Figure size 720x720 with 1 Axes>"
      ]
     },
     "metadata": {},
     "output_type": "display_data"
    }
   ],
   "source": [
    "# Для наглядности построим круговую диаграмму\n",
    "plt.figure(figsize=(10, 10))\n",
    "plt.pie(data=data_object_type, x='ratio', labels='object_type', autopct='%1.2f%%')\n",
    "sns.set_palette('pastel') \n",
    "plt.title('Доля объектов общественного питания по видам')\n",
    "plt.show()"
   ]
  },
  {
   "cell_type": "markdown",
   "metadata": {},
   "source": [
    "\n",
    "Почти 40% составляют кафе, а столовые почти 17%, на долю отделов кулинарии приходится меньше 2%.\n",
    "\n",
    "#### Выводы\n",
    "<a id=\"result1\"></a>\n",
    "\n",
    "Больше всего распространены кафе: они составляют 40% от общего количества пунктов общественного питания. Менее распространены столовые, которые составляют 17%, ненамного отстают рестораны и предприятия быстрого обслуживания, составляющие 15% и 12% соответственно, завершают пятерку лидеров бары, доля которых составляет 5,5%."
   ]
  },
  {
   "cell_type": "markdown",
   "metadata": {},
   "source": [
    "### Соотношение сетевых и несетевых заведений по количеству.\n",
    "<a id=\"chain\"></a>\n",
    "\n",
    "Построим график соотношения количества сетевых и несетевых заведений.\n",
    "Для какого вида объекта общественного питания характерно сетевое распространение?\n"
   ]
  },
  {
   "cell_type": "code",
   "execution_count": 18,
   "metadata": {},
   "outputs": [
    {
     "data": {
      "image/png": "[encoded data removed]",
      "text/plain": [
       "<Figure size 864x504 with 1 Axes>"
      ]
     },
     "metadata": {
      "needs_background": "light"
     },
     "output_type": "display_data"
    }
   ],
   "source": [
    "# Сгруппируем данные по объекту и по отношению к сети\n",
    "chain = data_rest.groupby(['object_type', 'chain'])['id'].count().reset_index()\n",
    "chain.columns = ['object_type', 'chain', 'object_count']\n",
    "# Отсортируем по убыванию и построим график\n",
    "chain.sort_values(by='object_count', ascending=False, inplace=True)\n",
    "plt.figure(figsize=(12, 7))\n",
    "sns.barplot(x='object_type', y='object_count', data=chain, hue='chain')\n",
    "sns.set_palette('pastel') \n",
    "plt.title('Соотношение сетевых и несетевых объектов питания по типам')\n",
    "plt.xlabel(\"Типы объектов\")\n",
    "plt.ylabel(\"Количество\")\n",
    "plt.xticks(rotation=60)\n",
    "plt.legend()\n",
    "plt.grid(True)\n",
    "plt.show()"
   ]
  },
  {
   "cell_type": "markdown",
   "metadata": {},
   "source": [
    "Несетевых заведений больше. Сетевых столовых, баров и буфетов мало. Сетевых больше всего кафе, предприятий сетевого обслуживания и ресторанов. Чтобы определить для какого типа заведений характерно сетевое распространение, посмотрим процентное отношение сетевых заведений к несетевым по типам."
   ]
  },
  {
   "cell_type": "code",
   "execution_count": 19,
   "metadata": {},
   "outputs": [
    {
     "data": {
      "text/html": [
       "<div>\n",
       "<style scoped>\n",
       "    .dataframe tbody tr th:only-of-type {\n",
       "        vertical-align: middle;\n",
       "    }\n",
       "\n",
       "    .dataframe tbody tr th {\n",
       "        vertical-align: top;\n",
       "    }\n",
       "\n",
       "    .dataframe thead th {\n",
       "        text-align: right;\n",
       "    }\n",
       "</style>\n",
       "<table border=\"1\" class=\"dataframe\">\n",
       "  <thead>\n",
       "    <tr style=\"text-align: right;\">\n",
       "      <th></th>\n",
       "      <th>object_type</th>\n",
       "      <th>chain_x</th>\n",
       "      <th>object_count_x</th>\n",
       "      <th>chain_y</th>\n",
       "      <th>object_count_y</th>\n",
       "      <th>object_sum</th>\n",
       "      <th>ratio_yes</th>\n",
       "    </tr>\n",
       "  </thead>\n",
       "  <tbody>\n",
       "    <tr>\n",
       "      <th>1</th>\n",
       "      <td>предприятие быстрого обслуживания</td>\n",
       "      <td>да</td>\n",
       "      <td>791</td>\n",
       "      <td>нет</td>\n",
       "      <td>1132</td>\n",
       "      <td>1923</td>\n",
       "      <td>41.1</td>\n",
       "    </tr>\n",
       "    <tr>\n",
       "      <th>3</th>\n",
       "      <td>магазин (отдел кулинарии)</td>\n",
       "      <td>да</td>\n",
       "      <td>78</td>\n",
       "      <td>нет</td>\n",
       "      <td>195</td>\n",
       "      <td>273</td>\n",
       "      <td>28.6</td>\n",
       "    </tr>\n",
       "    <tr>\n",
       "      <th>2</th>\n",
       "      <td>ресторан</td>\n",
       "      <td>да</td>\n",
       "      <td>544</td>\n",
       "      <td>нет</td>\n",
       "      <td>1741</td>\n",
       "      <td>2285</td>\n",
       "      <td>23.8</td>\n",
       "    </tr>\n",
       "    <tr>\n",
       "      <th>0</th>\n",
       "      <td>кафе</td>\n",
       "      <td>да</td>\n",
       "      <td>1396</td>\n",
       "      <td>нет</td>\n",
       "      <td>4703</td>\n",
       "      <td>6099</td>\n",
       "      <td>22.9</td>\n",
       "    </tr>\n",
       "    <tr>\n",
       "      <th>4</th>\n",
       "      <td>закусочная</td>\n",
       "      <td>да</td>\n",
       "      <td>56</td>\n",
       "      <td>нет</td>\n",
       "      <td>304</td>\n",
       "      <td>360</td>\n",
       "      <td>15.6</td>\n",
       "    </tr>\n",
       "    <tr>\n",
       "      <th>5</th>\n",
       "      <td>кафетерий</td>\n",
       "      <td>да</td>\n",
       "      <td>52</td>\n",
       "      <td>нет</td>\n",
       "      <td>346</td>\n",
       "      <td>398</td>\n",
       "      <td>13.1</td>\n",
       "    </tr>\n",
       "    <tr>\n",
       "      <th>6</th>\n",
       "      <td>бар</td>\n",
       "      <td>да</td>\n",
       "      <td>37</td>\n",
       "      <td>нет</td>\n",
       "      <td>819</td>\n",
       "      <td>856</td>\n",
       "      <td>4.3</td>\n",
       "    </tr>\n",
       "    <tr>\n",
       "      <th>7</th>\n",
       "      <td>буфет</td>\n",
       "      <td>да</td>\n",
       "      <td>11</td>\n",
       "      <td>нет</td>\n",
       "      <td>574</td>\n",
       "      <td>585</td>\n",
       "      <td>1.9</td>\n",
       "    </tr>\n",
       "    <tr>\n",
       "      <th>8</th>\n",
       "      <td>столовая</td>\n",
       "      <td>да</td>\n",
       "      <td>3</td>\n",
       "      <td>нет</td>\n",
       "      <td>2584</td>\n",
       "      <td>2587</td>\n",
       "      <td>0.1</td>\n",
       "    </tr>\n",
       "  </tbody>\n",
       "</table>\n",
       "</div>"
      ],
      "text/plain": [
       "                         object_type chain_x  object_count_x chain_y  \\\n",
       "1  предприятие быстрого обслуживания      да             791     нет   \n",
       "3          магазин (отдел кулинарии)      да              78     нет   \n",
       "2                           ресторан      да             544     нет   \n",
       "0                               кафе      да            1396     нет   \n",
       "4                         закусочная      да              56     нет   \n",
       "5                          кафетерий      да              52     нет   \n",
       "6                                бар      да              37     нет   \n",
       "7                              буфет      да              11     нет   \n",
       "8                           столовая      да               3     нет   \n",
       "\n",
       "   object_count_y  object_sum  ratio_yes  \n",
       "1            1132        1923       41.1  \n",
       "3             195         273       28.6  \n",
       "2            1741        2285       23.8  \n",
       "0            4703        6099       22.9  \n",
       "4             304         360       15.6  \n",
       "5             346         398       13.1  \n",
       "6             819         856        4.3  \n",
       "7             574         585        1.9  \n",
       "8            2584        2587        0.1  "
      ]
     },
     "execution_count": 19,
     "metadata": {},
     "output_type": "execute_result"
    }
   ],
   "source": [
    "# Трансформируем немного таблицу и посчитаем отношение сетевых к несетевым, а также долю от общего числа.\n",
    "chain_t = chain.query('chain == \"да\"')\n",
    "chain_f = chain.query('chain == \"нет\"')\n",
    "chain_m = chain_t.merge(chain_f, on=['object_type'])\n",
    "chain_m['object_sum'] = chain_m['object_count_x'] + chain_m['object_count_y']\n",
    "chain_m['ratio_yes'] = (chain_m['object_count_x'] / chain_m['object_sum']).round(3) * 100\n",
    "chain_m.sort_values(by='ratio_yes', ascending=False, inplace=True)\n",
    "chain_m"
   ]
  },
  {
   "cell_type": "code",
   "execution_count": 20,
   "metadata": {},
   "outputs": [
    {
     "data": {
      "image/png": "[encoded data removed]",
      "text/plain": [
       "<Figure size 864x504 with 1 Axes>"
      ]
     },
     "metadata": {
      "needs_background": "light"
     },
     "output_type": "display_data"
    }
   ],
   "source": [
    "# Построим график\n",
    "plt.figure(figsize=(12, 7))\n",
    "sns.barplot(x='object_type', y='ratio_yes', data=chain_m)\n",
    "sns.set_palette('pastel') \n",
    "plt.title('Доля сетевых объектов питания по типам')\n",
    "plt.xlabel(\"Типы объектов\")\n",
    "plt.ylabel(\"Доля\")\n",
    "plt.xticks(rotation=60)\n",
    "plt.grid(True)\n",
    "plt.show()"
   ]
  },
  {
   "cell_type": "markdown",
   "metadata": {},
   "source": [
    "Сетевое распространение более характерно для предприятий быстрого питания, далее идут отделы кулинарии в магазинах и только потом рестораны, кафе и закусочные. Сетевых столовых почти нет - 0.1%. \n",
    "\n",
    "\n",
    "#### Выводы\n",
    "<a id=\"result2\"></a>\n",
    "\n",
    "Несетевых заведений больше, чем сетевых. Сетевых столовых, баров и буфетов мало. По количеству сетевых больше всего кафе (за счёт большого количества кафе в целом), предприятий сетевого обслуживания и ресторанов.\n",
    "Сетевое распространение более характерно для предприятий быстрого питания: 41,1% от общего количества предприятий, далее идут отделы кулинарии в магазинах (28,6%) и только потом рестораны, кафе и закусочные. Сетевых столовых почти нет - 0.1%. \n",
    "\n",
    "\n",
    "\n",
    "### Посадочные места в сетевых заведениях\n",
    "<a id=\"place\"></a>\n",
    "Что характерно для сетевых заведений: много заведений с небольшим числом посадочных мест в каждом или мало заведений с большим количеством посадочных мест?\n",
    "\n",
    "Для каждого вида объекта общественного питания рассмотрим распределение количества посадочных мест. Какой вид предоставляет в среднем самое большое количество посадочных мест? Построим графики. Для начала посмотрим какой процент заведений работает без посадочных мест."
   ]
  },
  {
   "cell_type": "code",
   "execution_count": 21,
   "metadata": {},
   "outputs": [
    {
     "data": {
      "text/plain": [
       "9.03"
      ]
     },
     "execution_count": 21,
     "metadata": {},
     "output_type": "execute_result"
    }
   ],
   "source": [
    "data_rest_chain = data_rest.query('chain == \"да\"')\n",
    "data_rest_chait_wihtout = ((data_rest_chain.loc[data_rest_chain['number'] == 0]).count() / \n",
    "                           data_rest_chain['number'].count()) * 100\n",
    "data_rest_chait_wihtout['number'].round(2)"
   ]
  },
  {
   "cell_type": "code",
   "execution_count": 22,
   "metadata": {},
   "outputs": [
    {
     "data": {
      "image/png": "[encoded data removed]",
      "text/plain": [
       "<Figure size 864x504 with 1 Axes>"
      ]
     },
     "metadata": {
      "needs_background": "light"
     },
     "output_type": "display_data"
    }
   ],
   "source": [
    "\n",
    "plt.figure(figsize=(12, 7))\n",
    "sns.histplot(data_rest_chain.query('object_type == \"кафе\"')['number'])\n",
    "sns.set_palette('pastel') \n",
    "plt.title('Распределение количества посадочных мест в кафе')\n",
    "plt.grid(True)\n",
    "plt.show()"
   ]
  },
  {
   "cell_type": "code",
   "execution_count": 23,
   "metadata": {},
   "outputs": [
    {
     "data": {
      "image/png": "[encoded data removed]",
      "text/plain": [
       "<Figure size 864x648 with 1 Axes>"
      ]
     },
     "metadata": {
      "needs_background": "light"
     },
     "output_type": "display_data"
    }
   ],
   "source": [
    "plt.figure(figsize=(12, 9))\n",
    "sns.histplot(data_rest_chain.query('object_type == \"кафе\"')['number'], bins=100)\n",
    "sns.set_palette('pastel') \n",
    "plt.title('Распределение количества посадочных мест в кафе')\n",
    "plt.grid(True)\n",
    "plt.xlim([0, 100])\n",
    "plt.show()"
   ]
  },
  {
   "cell_type": "markdown",
   "metadata": {},
   "source": [
    "Количество мест в кафе весьма разнообразно. Есть уникальные кафе, в которых посадочных мест более 100. Но их немного, основные значения лежат в диапозоне от нуля до 50."
   ]
  },
  {
   "cell_type": "code",
   "execution_count": 24,
   "metadata": {},
   "outputs": [
    {
     "data": {
      "image/png": "[encoded data removed]",
      "text/plain": [
       "<Figure size 864x504 with 1 Axes>"
      ]
     },
     "metadata": {
      "needs_background": "light"
     },
     "output_type": "display_data"
    }
   ],
   "source": [
    "plt.figure(figsize=(12, 7))\n",
    "sns.histplot(data_rest_chain.query('object_type == \"предприятие быстрого обслуживания\"')['number'])\n",
    "sns.set_palette('pastel') \n",
    "plt.title('Распределение количества посадочных мест в предприятиях быстрого обслуживания')\n",
    "plt.grid(True)\n",
    "plt.show()"
   ]
  },
  {
   "cell_type": "markdown",
   "metadata": {},
   "source": [
    "В предприятиях быстрого обслуживания большинство заведений не имеет посадочных мест. По заведениям, имеющим посадочные места, график похож на график по посадочным местам в кафе: более 100 мало, в основном менее 50."
   ]
  },
  {
   "cell_type": "code",
   "execution_count": 25,
   "metadata": {
    "scrolled": false
   },
   "outputs": [
    {
     "data": {
      "image/png": "[encoded data removed]",
      "text/plain": [
       "<Figure size 864x504 with 1 Axes>"
      ]
     },
     "metadata": {
      "needs_background": "light"
     },
     "output_type": "display_data"
    }
   ],
   "source": [
    "plt.figure(figsize=(12, 7))\n",
    "sns.histplot(data_rest_chain.query('object_type == \"бар\"')['number'], bins=200)\n",
    "sns.set_palette('pastel') \n",
    "plt.title('Распределение количества посадочных мест в барах')\n",
    "plt.grid(True)\n",
    "plt.show()"
   ]
  },
  {
   "cell_type": "markdown",
   "metadata": {},
   "source": [
    "Весьма интересное распределение посадочных мест в барах. Больше всего баров, в которых 40 или 90 посадочных мест, далее идут бары, в которых посадочных мест 3-5, 45-60, около 100 и 150."
   ]
  },
  {
   "cell_type": "code",
   "execution_count": 26,
   "metadata": {},
   "outputs": [
    {
     "data": {
      "image/png": "[encoded data removed]",
      "text/plain": [
       "<Figure size 864x504 with 1 Axes>"
      ]
     },
     "metadata": {
      "needs_background": "light"
     },
     "output_type": "display_data"
    }
   ],
   "source": [
    "plt.figure(figsize=(12, 7))\n",
    "sns.histplot(data_rest_chain.query('object_type == \"буфет\"')['number'], bins=70)\n",
    "sns.set_palette('pastel') \n",
    "plt.title('Распределение количества посадочных мест в буфетах')\n",
    "plt.grid(True)\n",
    "plt.show()"
   ]
  },
  {
   "cell_type": "code",
   "execution_count": 27,
   "metadata": {},
   "outputs": [
    {
     "data": {
      "text/html": [
       "<div>\n",
       "<style scoped>\n",
       "    .dataframe tbody tr th:only-of-type {\n",
       "        vertical-align: middle;\n",
       "    }\n",
       "\n",
       "    .dataframe tbody tr th {\n",
       "        vertical-align: top;\n",
       "    }\n",
       "\n",
       "    .dataframe thead th {\n",
       "        text-align: right;\n",
       "    }\n",
       "</style>\n",
       "<table border=\"1\" class=\"dataframe\">\n",
       "  <thead>\n",
       "    <tr style=\"text-align: right;\">\n",
       "      <th></th>\n",
       "      <th>id</th>\n",
       "      <th>object_name</th>\n",
       "      <th>chain</th>\n",
       "      <th>object_type</th>\n",
       "      <th>address</th>\n",
       "      <th>number</th>\n",
       "    </tr>\n",
       "  </thead>\n",
       "  <tbody>\n",
       "    <tr>\n",
       "      <th>1054</th>\n",
       "      <td>138535</td>\n",
       "      <td>кофе с собой</td>\n",
       "      <td>да</td>\n",
       "      <td>буфет</td>\n",
       "      <td>город Москва, Большая Серпуховская улица, дом 31, корпус 10</td>\n",
       "      <td>0</td>\n",
       "    </tr>\n",
       "    <tr>\n",
       "      <th>2046</th>\n",
       "      <td>138842</td>\n",
       "      <td>кофе с собой</td>\n",
       "      <td>да</td>\n",
       "      <td>буфет</td>\n",
       "      <td>город Москва, Новокузнецкая улица, дом 39</td>\n",
       "      <td>0</td>\n",
       "    </tr>\n",
       "    <tr>\n",
       "      <th>6089</th>\n",
       "      <td>23888</td>\n",
       "      <td>теремок</td>\n",
       "      <td>да</td>\n",
       "      <td>буфет</td>\n",
       "      <td>город Москва, улица Миклухо-Маклая, дом 32А</td>\n",
       "      <td>20</td>\n",
       "    </tr>\n",
       "    <tr>\n",
       "      <th>7006</th>\n",
       "      <td>157300</td>\n",
       "      <td>азбука вкуса</td>\n",
       "      <td>да</td>\n",
       "      <td>буфет</td>\n",
       "      <td>город Москва, проезд Аэропорта, дом 8</td>\n",
       "      <td>0</td>\n",
       "    </tr>\n",
       "    <tr>\n",
       "      <th>9970</th>\n",
       "      <td>171198</td>\n",
       "      <td>хлеб насущный</td>\n",
       "      <td>да</td>\n",
       "      <td>буфет</td>\n",
       "      <td>город Москва, Климентовский переулок, дом 9/1</td>\n",
       "      <td>50</td>\n",
       "    </tr>\n",
       "    <tr>\n",
       "      <th>11968</th>\n",
       "      <td>181328</td>\n",
       "      <td>крошка картошка</td>\n",
       "      <td>да</td>\n",
       "      <td>буфет</td>\n",
       "      <td>город Москва, Боровское шоссе, дом 6</td>\n",
       "      <td>0</td>\n",
       "    </tr>\n",
       "    <tr>\n",
       "      <th>12956</th>\n",
       "      <td>200711</td>\n",
       "      <td>милти</td>\n",
       "      <td>да</td>\n",
       "      <td>буфет</td>\n",
       "      <td>город Москва, Профсоюзная улица, дом 118</td>\n",
       "      <td>0</td>\n",
       "    </tr>\n",
       "    <tr>\n",
       "      <th>15089</th>\n",
       "      <td>215716</td>\n",
       "      <td>суп кафе</td>\n",
       "      <td>да</td>\n",
       "      <td>буфет</td>\n",
       "      <td>город Москва, Скаковая улица, дом 17, строение 2</td>\n",
       "      <td>70</td>\n",
       "    </tr>\n",
       "    <tr>\n",
       "      <th>15176</th>\n",
       "      <td>217037</td>\n",
       "      <td>кофе с собой</td>\n",
       "      <td>да</td>\n",
       "      <td>буфет</td>\n",
       "      <td>город Москва, Ярцевская улица, дом 25А</td>\n",
       "      <td>0</td>\n",
       "    </tr>\n",
       "    <tr>\n",
       "      <th>15203</th>\n",
       "      <td>216666</td>\n",
       "      <td>теремок</td>\n",
       "      <td>да</td>\n",
       "      <td>буфет</td>\n",
       "      <td>город Москва, Солнцевский проспект, дом 21</td>\n",
       "      <td>0</td>\n",
       "    </tr>\n",
       "    <tr>\n",
       "      <th>15276</th>\n",
       "      <td>213245</td>\n",
       "      <td>милти</td>\n",
       "      <td>да</td>\n",
       "      <td>буфет</td>\n",
       "      <td>город Москва, улица Героев Панфиловцев, дом 16, корпус 1</td>\n",
       "      <td>0</td>\n",
       "    </tr>\n",
       "  </tbody>\n",
       "</table>\n",
       "</div>"
      ],
      "text/plain": [
       "           id      object_name chain object_type  \\\n",
       "1054   138535     кофе с собой    да       буфет   \n",
       "2046   138842     кофе с собой    да       буфет   \n",
       "6089    23888          теремок    да       буфет   \n",
       "7006   157300     азбука вкуса    да       буфет   \n",
       "9970   171198    хлеб насущный    да       буфет   \n",
       "11968  181328  крошка картошка    да       буфет   \n",
       "12956  200711            милти    да       буфет   \n",
       "15089  215716         суп кафе    да       буфет   \n",
       "15176  217037     кофе с собой    да       буфет   \n",
       "15203  216666          теремок    да       буфет   \n",
       "15276  213245            милти    да       буфет   \n",
       "\n",
       "                                                           address  number  \n",
       "1054   город Москва, Большая Серпуховская улица, дом 31, корпус 10       0  \n",
       "2046                     город Москва, Новокузнецкая улица, дом 39       0  \n",
       "6089                   город Москва, улица Миклухо-Маклая, дом 32А      20  \n",
       "7006                         город Москва, проезд Аэропорта, дом 8       0  \n",
       "9970                 город Москва, Климентовский переулок, дом 9/1      50  \n",
       "11968                         город Москва, Боровское шоссе, дом 6       0  \n",
       "12956                     город Москва, Профсоюзная улица, дом 118       0  \n",
       "15089             город Москва, Скаковая улица, дом 17, строение 2      70  \n",
       "15176                       город Москва, Ярцевская улица, дом 25А       0  \n",
       "15203                   город Москва, Солнцевский проспект, дом 21       0  \n",
       "15276     город Москва, улица Героев Панфиловцев, дом 16, корпус 1       0  "
      ]
     },
     "execution_count": 27,
     "metadata": {},
     "output_type": "execute_result"
    }
   ],
   "source": [
    "data_rest_chain.query('object_type == \"буфет\"')"
   ]
  },
  {
   "cell_type": "markdown",
   "metadata": {},
   "source": [
    "В большинстве буфетов посадочных мест нет. Поскольку сетевых буфетов немного, сделать вывод о количестве посадочных мест в сетевых буфетах мы не можем."
   ]
  },
  {
   "cell_type": "code",
   "execution_count": 28,
   "metadata": {},
   "outputs": [
    {
     "data": {
      "image/png": "[encoded data removed]",
      "text/plain": [
       "<Figure size 864x504 with 1 Axes>"
      ]
     },
     "metadata": {
      "needs_background": "light"
     },
     "output_type": "display_data"
    }
   ],
   "source": [
    "plt.figure(figsize=(12, 7))\n",
    "sns.histplot(data_rest_chain.query('object_type == \"закусочная\"')['number'], bins=90)\n",
    "sns.set_palette('pastel') \n",
    "plt.title('Распределение количества посадочных мест в закусочных')\n",
    "plt.grid(True)\n",
    "plt.show()"
   ]
  },
  {
   "cell_type": "markdown",
   "metadata": {},
   "source": [
    "Большинство закусочных тоже без посадочных мест. Есть уникальные закусочные с посадочными местами в количестве 50, 60 и 90."
   ]
  },
  {
   "cell_type": "code",
   "execution_count": 29,
   "metadata": {
    "scrolled": false
   },
   "outputs": [
    {
     "data": {
      "image/png": "[encoded data removed]",
      "text/plain": [
       "<Figure size 864x504 with 1 Axes>"
      ]
     },
     "metadata": {
      "needs_background": "light"
     },
     "output_type": "display_data"
    }
   ],
   "source": [
    "plt.figure(figsize=(12, 7))\n",
    "sns.histplot(data_rest_chain.query('object_type == \"кафетерий\"')['number'], bins=85)\n",
    "sns.set_palette('pastel') \n",
    "plt.title('Распределение количества посадочных мест в кафетериях')\n",
    "plt.grid(True)\n",
    "plt.show()"
   ]
  },
  {
   "cell_type": "markdown",
   "metadata": {},
   "source": [
    "Похожая ситуация в кафетериях: большинство не имеет посадочных мест, далее выделяются кафетерии с 10 посадочными местами. Есть уникальные кафетерии с количеством посадочных мест от 20 до 85."
   ]
  },
  {
   "cell_type": "code",
   "execution_count": 30,
   "metadata": {},
   "outputs": [
    {
     "data": {
      "image/png": "[encoded data removed]",
      "text/plain": [
       "<Figure size 864x504 with 1 Axes>"
      ]
     },
     "metadata": {
      "needs_background": "light"
     },
     "output_type": "display_data"
    }
   ],
   "source": [
    "plt.figure(figsize=(12, 7))\n",
    "sns.histplot(data_rest_chain.query('object_type == \"магазин (отдел кулинарии)\"')['number'], bins=47)\n",
    "sns.set_palette('pastel') \n",
    "plt.title('Распределение количества посадочных мест в магазинах')\n",
    "plt.grid(True)\n",
    "plt.show()"
   ]
  },
  {
   "cell_type": "markdown",
   "metadata": {},
   "source": [
    "В отделах кулинарии в магазинах посадочные места бывают редко. Если есть, то чаще 10-12."
   ]
  },
  {
   "cell_type": "code",
   "execution_count": 31,
   "metadata": {},
   "outputs": [
    {
     "data": {
      "image/png": "[encoded data removed]",
      "text/plain": [
       "<Figure size 864x504 with 1 Axes>"
      ]
     },
     "metadata": {
      "needs_background": "light"
     },
     "output_type": "display_data"
    }
   ],
   "source": [
    "plt.figure(figsize=(12, 7))\n",
    "sns.histplot(data_rest_chain.query('object_type == \"ресторан\"')['number'], bins=100)\n",
    "sns.set_palette('pastel') \n",
    "plt.title('Распределение количества посадочных мест в ресторанах')\n",
    "plt.grid(True)\n",
    "plt.show()"
   ]
  },
  {
   "cell_type": "markdown",
   "metadata": {},
   "source": [
    "Большинство ресторанов имеют около 100 посадочных мест. Больше ста редко, но есть выброс около 150. Также редко меньше 20, но есть выброс в районе нуля."
   ]
  },
  {
   "cell_type": "code",
   "execution_count": 32,
   "metadata": {},
   "outputs": [
    {
     "data": {
      "text/html": [
       "<div>\n",
       "<style scoped>\n",
       "    .dataframe tbody tr th:only-of-type {\n",
       "        vertical-align: middle;\n",
       "    }\n",
       "\n",
       "    .dataframe tbody tr th {\n",
       "        vertical-align: top;\n",
       "    }\n",
       "\n",
       "    .dataframe thead th {\n",
       "        text-align: right;\n",
       "    }\n",
       "</style>\n",
       "<table border=\"1\" class=\"dataframe\">\n",
       "  <thead>\n",
       "    <tr style=\"text-align: right;\">\n",
       "      <th></th>\n",
       "      <th>id</th>\n",
       "      <th>object_name</th>\n",
       "      <th>chain</th>\n",
       "      <th>object_type</th>\n",
       "      <th>address</th>\n",
       "      <th>number</th>\n",
       "    </tr>\n",
       "  </thead>\n",
       "  <tbody>\n",
       "    <tr>\n",
       "      <th>5234</th>\n",
       "      <td>20979</td>\n",
       "      <td>грабли</td>\n",
       "      <td>да</td>\n",
       "      <td>столовая</td>\n",
       "      <td>город Москва, Ярославское шоссе, дом 26, корпус 1</td>\n",
       "      <td>120</td>\n",
       "    </tr>\n",
       "    <tr>\n",
       "      <th>5967</th>\n",
       "      <td>104941</td>\n",
       "      <td>му-му</td>\n",
       "      <td>да</td>\n",
       "      <td>столовая</td>\n",
       "      <td>город Москва, Люблинская улица, дом 169, корпус 2</td>\n",
       "      <td>55</td>\n",
       "    </tr>\n",
       "    <tr>\n",
       "      <th>6574</th>\n",
       "      <td>78347</td>\n",
       "      <td>гурман</td>\n",
       "      <td>да</td>\n",
       "      <td>столовая</td>\n",
       "      <td>город Москва, Оршанская улица, дом 3</td>\n",
       "      <td>162</td>\n",
       "    </tr>\n",
       "  </tbody>\n",
       "</table>\n",
       "</div>"
      ],
      "text/plain": [
       "          id object_name chain object_type  \\\n",
       "5234   20979      грабли    да    столовая   \n",
       "5967  104941       му-му    да    столовая   \n",
       "6574   78347      гурман    да    столовая   \n",
       "\n",
       "                                                address  number  \n",
       "5234  город Москва, Ярославское шоссе, дом 26, корпус 1     120  \n",
       "5967  город Москва, Люблинская улица, дом 169, корпус 2      55  \n",
       "6574               город Москва, Оршанская улица, дом 3     162  "
      ]
     },
     "execution_count": 32,
     "metadata": {},
     "output_type": "execute_result"
    }
   ],
   "source": [
    "data_rest_chain.query('object_type == \"столовая\"')"
   ]
  },
  {
   "cell_type": "code",
   "execution_count": 33,
   "metadata": {},
   "outputs": [
    {
     "data": {
      "image/png": "[encoded data removed]",
      "text/plain": [
       "<Figure size 864x504 with 1 Axes>"
      ]
     },
     "metadata": {
      "needs_background": "light"
     },
     "output_type": "display_data"
    }
   ],
   "source": [
    "plt.figure(figsize=(12, 7))\n",
    "sns.histplot(data_rest.query('object_type == \"столовая\"')['number'], bins=200)\n",
    "sns.set_palette('pastel') \n",
    "plt.title('Распределение количества посадочных мест в столовых')\n",
    "plt.grid(True)\n",
    "plt.show()"
   ]
  },
  {
   "cell_type": "code",
   "execution_count": 34,
   "metadata": {
    "scrolled": false
   },
   "outputs": [
    {
     "data": {
      "image/png": "[encoded data removed]",
      "text/plain": [
       "<Figure size 864x504 with 1 Axes>"
      ]
     },
     "metadata": {
      "needs_background": "light"
     },
     "output_type": "display_data"
    }
   ],
   "source": [
    "plt.figure(figsize=(12, 7))\n",
    "sns.histplot(data_rest.query('object_type == \"столовая\"')['number'], bins=310)\n",
    "sns.set_palette('pastel') \n",
    "plt.title('Распределение количества посадочных мест в столовых')\n",
    "plt.grid(True)\n",
    "plt.xlim([0, 310])\n",
    "plt.show()"
   ]
  },
  {
   "cell_type": "markdown",
   "metadata": {},
   "source": [
    "Сложно судить о количестве мест в сетевых столовых, поскольку их всего 3. Столовые редко бывают сетевыми. По несетевым столовым количество посадочных мест колеблется от 30 до 300.\n"
   ]
  },
  {
   "cell_type": "code",
   "execution_count": 35,
   "metadata": {
    "scrolled": false
   },
   "outputs": [
    {
     "data": {
      "image/png": "[encoded data removed]",
      "text/plain": [
       "<Figure size 864x504 with 1 Axes>"
      ]
     },
     "metadata": {
      "needs_background": "light"
     },
     "output_type": "display_data"
    }
   ],
   "source": [
    "data_rest_chain_on = data_rest_chain.groupby('object_name').agg({'id':'count', 'number':'mean'}).reset_index()\n",
    "data_rest_chain_on.columns=['object_name', 'object_number', 'places_number']\n",
    "data_rest_chain_moreone = data_rest_chain_on.query('object_number > 1')\n",
    "\n",
    "fig, ax = plt.subplots(figsize=(12, 7))\n",
    "ax.set_xlabel('Количество заведений в сети')\n",
    "ax.set_ylabel('Количество мест в заведении')\n",
    "ax.set_title('Среднее количество мест по заведениям сети')\n",
    "plt.scatter(data_rest_chain_moreone['object_number'], data_rest_chain_moreone['places_number'], alpha=0.3)\n",
    "line_y = data_rest_chain_moreone['places_number'].median()\n",
    "line_x = data_rest_chain_moreone['object_number'].median()\n",
    "plt.axhline(y = line_y, color='red', linestyle='-')\n",
    "plt.axvline(x = line_x, color='blue', linestyle='-')\n",
    "plt.grid(True)  \n",
    "\n",
    "plt.show()"
   ]
  },
  {
   "cell_type": "markdown",
   "metadata": {},
   "source": [
    "Сказать об однозначной зависимости среднего числа посадочных мест от количества заведений в сети нельзя."
   ]
  },
  {
   "cell_type": "code",
   "execution_count": 36,
   "metadata": {},
   "outputs": [
    {
     "name": "stdout",
     "output_type": "stream",
     "text": [
      "-0.06919396493666934\n"
     ]
    }
   ],
   "source": [
    "print(data_rest_chain_moreone['places_number'].corr(data_rest_chain_moreone['object_number']))"
   ]
  },
  {
   "cell_type": "markdown",
   "metadata": {},
   "source": [
    "Коэфициент корреляции показывает, что зависимость слабая и обратная."
   ]
  },
  {
   "cell_type": "code",
   "execution_count": 37,
   "metadata": {},
   "outputs": [
    {
     "data": {
      "text/plain": [
       "object_name      51\n",
       "object_number    51\n",
       "places_number    51\n",
       "dtype: int64"
      ]
     },
     "execution_count": 37,
     "metadata": {},
     "output_type": "execute_result"
    }
   ],
   "source": [
    "(data_rest_chain_moreone.loc[(data_rest_chain_moreone['places_number'] > data_rest_chain_moreone[\n",
    "    'places_number'].median()) & (data_rest_chain_moreone['object_number'] > data_rest_chain_moreone[\n",
    "    'object_number'].median())]).count()"
   ]
  },
  {
   "cell_type": "code",
   "execution_count": 38,
   "metadata": {},
   "outputs": [
    {
     "data": {
      "text/plain": [
       "object_name      59\n",
       "object_number    59\n",
       "places_number    59\n",
       "dtype: int64"
      ]
     },
     "execution_count": 38,
     "metadata": {},
     "output_type": "execute_result"
    }
   ],
   "source": [
    "(data_rest_chain_moreone.loc[(data_rest_chain_moreone['places_number'] > data_rest_chain_moreone[\n",
    "    'places_number'].median()) & (data_rest_chain_moreone['object_number'] < data_rest_chain_moreone[\n",
    "    'object_number'].median())]).count()"
   ]
  },
  {
   "cell_type": "code",
   "execution_count": 39,
   "metadata": {},
   "outputs": [
    {
     "data": {
      "text/plain": [
       "object_name      58\n",
       "object_number    58\n",
       "places_number    58\n",
       "dtype: int64"
      ]
     },
     "execution_count": 39,
     "metadata": {},
     "output_type": "execute_result"
    }
   ],
   "source": [
    "(data_rest_chain_moreone.loc[(data_rest_chain_moreone['places_number'] < data_rest_chain_moreone[\n",
    "    'places_number'].median()) & (data_rest_chain_moreone['object_number'] > data_rest_chain_moreone[\n",
    "    'object_number'].median())]).count()"
   ]
  },
  {
   "cell_type": "code",
   "execution_count": 40,
   "metadata": {},
   "outputs": [
    {
     "data": {
      "text/plain": [
       "object_name      61\n",
       "object_number    61\n",
       "places_number    61\n",
       "dtype: int64"
      ]
     },
     "execution_count": 40,
     "metadata": {},
     "output_type": "execute_result"
    }
   ],
   "source": [
    "(data_rest_chain_moreone.loc[(data_rest_chain_moreone['places_number'] < data_rest_chain_moreone[\n",
    "    'places_number'].median()) & (data_rest_chain_moreone['object_number'] < data_rest_chain_moreone[\n",
    "    'object_number'].median())]).count()"
   ]
  },
  {
   "cell_type": "markdown",
   "metadata": {},
   "source": [
    "Больше всего сетей с небольшим количеством заведений и небольшим средним количеством посадочных мест. Чуть меньше заведений с большим количеством мест и небольшим количеством заведений. Заведений с небольшим количеством мест и большим количеством заведений ещё меньше. Меньше всего заведений, имеющих много посадочных мест и много заведений в сети.\n",
    "\n",
    "#### Выводы\n",
    "<a id=\"result3\"></a>\n",
    "\n",
    "Про кафе можно однозначно сказать: заведения отличаются относительно небольшими размерами и большим разнообразием. \n",
    "В предприятиях быстрого обслуживания большинство заведений не имеет посадочных мест. По заведениям имеющим посадочные места график похож на график по посадочным местам в кафе: до 50. Бары отличаются типовым количеством посадочных мест. Больше всего баров, в которых 40 или 90 посадочных мест, далее идут бары, в которых посадочных мест 3-5, 45-60, около 100 и 150. Сложно сделать однозначные выводы про посадочные места в буфетах и столовых: сетевых буфетов с посадочными местами и сетевых столовых всего по три. В большинстве сетевых буфетов посадочных мест нет.\n",
    "Большинство закусочных и кафетериев тоже без посадочных мест. Есть уникальные закусочные с посадочными местами в количестве 50, 60 и 90. Выделяются кафетерии с 10 посадочными местами. Есть уникальные кафетерии с количеством посадочных мест от 20 до 85.\n",
    "В отделах кулинарии в магазинах посадочные места бывают редко. Если есть, то чаще 10-12.\n",
    "Большинство ресторанов имеют около 100 посадочных мест. Больше ста редко, но есть выброс около 150. Также редко меньше 20, но есть выброс в районе нуля.\n",
    "\n",
    "\n",
    "### Расположение заведений\n",
    "<a id=\"location\"></a>\n",
    "\n",
    "Выделим в отдельный столбец информацию об улице из столбца address.\n",
    "Построим график топ-10 улиц по количеству объектов общественного питания. Воспользуемся внешней информацией (таблица streets) и ответим на вопрос — в каких районах Москвы находятся эти улицы?\n",
    "Найдём число улиц с одним объектом общественного питания. В каких районах Москвы находятся эти улицы?\n",
    "Посмотрим на распределение количества посадочных мест для улиц с большим количеством объектов общественного питания. Какие закономерности можно выявить?"
   ]
  },
  {
   "cell_type": "code",
   "execution_count": 41,
   "metadata": {},
   "outputs": [
    {
     "data": {
      "text/plain": [
       "array(['город Москва, улица Егора Абакумова, дом 9',\n",
       "       'город Москва, улица Талалихина, дом 2/1, корпус 1',\n",
       "       'город Москва, Абельмановская улица, дом 6', ...,\n",
       "       'город Москва, Салтыковская улица, дом 7Г',\n",
       "       'город Москва, Осенний бульвар, дом 9',\n",
       "       'город Москва, улица Новый Арбат, дом 13'], dtype=object)"
      ]
     },
     "execution_count": 41,
     "metadata": {},
     "output_type": "execute_result"
    }
   ],
   "source": [
    "data_rest['address'].unique()"
   ]
  },
  {
   "cell_type": "code",
   "execution_count": 42,
   "metadata": {},
   "outputs": [
    {
     "data": {
      "text/plain": [
       "197"
      ]
     },
     "execution_count": 42,
     "metadata": {},
     "output_type": "execute_result"
    }
   ],
   "source": [
    "# С помощью регулярных выражений выделим улицу из адреса\n",
    "words = ['улица','ул','переулок','шоссе','проспект','площадь','проезд',\n",
    "         'село','аллея','бульвар','набережная','тупик','линия', 'просек',\n",
    "         'поселение', 'микрорайон', 'квартал', 'километр', 'территория']\n",
    "\n",
    "str_pat = r\".*,\\s*\\b([^,]*?(?:{})\\b[^,]*(?:$|,))\".format(\"|\".join(words))\n",
    "\n",
    "data_rest['street'] = data_rest['address'].str.extract(str_pat, flags=re.I)\n",
    "data_rest['street'].isnull().sum()"
   ]
  },
  {
   "cell_type": "markdown",
   "metadata": {},
   "source": [
    "Мы выделили улицу из адреса. В тех случаях, когда улицы нет, вместо неё выделили название территории, например, микрорайоны, километр МКАД. Город Зеленоград, не имеющий в адресах названий улиц, выделять не будем. За счёт отсутствия улиц он попадает в топ и рассматривать его как отдельную улицу не корректно. Помешать пропуски нам не должны, поэтому удалять не будем. Выделим топ-10 улиц по количеству объектов."
   ]
  },
  {
   "cell_type": "code",
   "execution_count": 43,
   "metadata": {
    "scrolled": false
   },
   "outputs": [
    {
     "data": {
      "image/png": "[encoded data removed]",
      "text/plain": [
       "<Figure size 864x504 with 1 Axes>"
      ]
     },
     "metadata": {
      "needs_background": "light"
     },
     "output_type": "display_data"
    }
   ],
   "source": [
    "# Сгруппируем данные по улице и посчитаем количество заведений на улице\n",
    "data_rest_street = data_rest.groupby('street')['id'].count().sort_values(ascending=False)\n",
    "# Отсортируем по убыванию и построим график топ-10 улиц.\n",
    "data_rest_street_top = data_rest_street.head(10).reset_index()\n",
    "data_rest_street_top.columns = ['street_name', 'count']\n",
    "plt.figure(figsize=(12, 7))\n",
    "sns.barplot(x='street_name', y='count', data=data_rest_street_top)\n",
    "sns.set_palette('pastel') \n",
    "plt.title('Топ-10 улиц по количеству объектов')\n",
    "plt.xlabel(\"Улицы\")\n",
    "plt.ylabel(\"Количество объектов\")\n",
    "plt.xticks(rotation=60)\n",
    "plt.grid(True)\n",
    "plt.show()"
   ]
  },
  {
   "cell_type": "markdown",
   "metadata": {},
   "source": [
    "Самая богатая на заведения общественного питания улица - проспект Мира."
   ]
  },
  {
   "cell_type": "code",
   "execution_count": 44,
   "metadata": {},
   "outputs": [
    {
     "data": {
      "text/html": [
       "<div>\n",
       "<style scoped>\n",
       "    .dataframe tbody tr th:only-of-type {\n",
       "        vertical-align: middle;\n",
       "    }\n",
       "\n",
       "    .dataframe tbody tr th {\n",
       "        vertical-align: top;\n",
       "    }\n",
       "\n",
       "    .dataframe thead th {\n",
       "        text-align: right;\n",
       "    }\n",
       "</style>\n",
       "<table border=\"1\" class=\"dataframe\">\n",
       "  <thead>\n",
       "    <tr style=\"text-align: right;\">\n",
       "      <th></th>\n",
       "      <th>street_name</th>\n",
       "      <th>area_id</th>\n",
       "      <th>area</th>\n",
       "    </tr>\n",
       "  </thead>\n",
       "  <tbody>\n",
       "    <tr>\n",
       "      <th>0</th>\n",
       "      <td>1-й Автозаводский проезд</td>\n",
       "      <td>98</td>\n",
       "      <td>Даниловский район</td>\n",
       "    </tr>\n",
       "    <tr>\n",
       "      <th>1</th>\n",
       "      <td>1-й Амбулаторный проезд</td>\n",
       "      <td>54</td>\n",
       "      <td>Район Аэропорт</td>\n",
       "    </tr>\n",
       "    <tr>\n",
       "      <th>2</th>\n",
       "      <td>1-й Архивный переулок</td>\n",
       "      <td>20</td>\n",
       "      <td>Район Хамовники</td>\n",
       "    </tr>\n",
       "    <tr>\n",
       "      <th>3</th>\n",
       "      <td>1-й Бабьегородский переулок</td>\n",
       "      <td>21</td>\n",
       "      <td>Район Якиманка</td>\n",
       "    </tr>\n",
       "    <tr>\n",
       "      <th>4</th>\n",
       "      <td>1-й Балтийский переулок</td>\n",
       "      <td>54</td>\n",
       "      <td>Район Аэропорт</td>\n",
       "    </tr>\n",
       "    <tr>\n",
       "      <th>...</th>\n",
       "      <td>...</td>\n",
       "      <td>...</td>\n",
       "      <td>...</td>\n",
       "    </tr>\n",
       "    <tr>\n",
       "      <th>3599</th>\n",
       "      <td>улица Юности</td>\n",
       "      <td>23, 52</td>\n",
       "      <td>Район Вешняки, Район Матушкино-Савелки</td>\n",
       "    </tr>\n",
       "    <tr>\n",
       "      <th>3600</th>\n",
       "      <td>улица Юных Ленинцев</td>\n",
       "      <td>113, 121</td>\n",
       "      <td>Район Кузьминки, Район Текстильщики</td>\n",
       "    </tr>\n",
       "    <tr>\n",
       "      <th>3601</th>\n",
       "      <td>улица Яблочкова</td>\n",
       "      <td>74</td>\n",
       "      <td>Бутырский район</td>\n",
       "    </tr>\n",
       "    <tr>\n",
       "      <th>3602</th>\n",
       "      <td>шоссе Фрезер</td>\n",
       "      <td>117</td>\n",
       "      <td>Нижегородский район</td>\n",
       "    </tr>\n",
       "    <tr>\n",
       "      <th>3603</th>\n",
       "      <td>шоссе Энтузиастов</td>\n",
       "      <td>27, 32, 36, 37, 114</td>\n",
       "      <td>Район Измайлово, Район Перово, Район Соколиная Гора, Район Ивановское, Район Лефортово</td>\n",
       "    </tr>\n",
       "  </tbody>\n",
       "</table>\n",
       "<p>3604 rows × 3 columns</p>\n",
       "</div>"
      ],
      "text/plain": [
       "                      street_name              area_id  \\\n",
       "0        1-й Автозаводский проезд                   98   \n",
       "1         1-й Амбулаторный проезд                   54   \n",
       "2           1-й Архивный переулок                   20   \n",
       "3     1-й Бабьегородский переулок                   21   \n",
       "4         1-й Балтийский переулок                   54   \n",
       "...                           ...                  ...   \n",
       "3599                 улица Юности               23, 52   \n",
       "3600          улица Юных Ленинцев             113, 121   \n",
       "3601              улица Яблочкова                   74   \n",
       "3602                 шоссе Фрезер                  117   \n",
       "3603            шоссе Энтузиастов  27, 32, 36, 37, 114   \n",
       "\n",
       "                                                                                        area  \n",
       "0                                                                          Даниловский район  \n",
       "1                                                                             Район Аэропорт  \n",
       "2                                                                            Район Хамовники  \n",
       "3                                                                             Район Якиманка  \n",
       "4                                                                             Район Аэропорт  \n",
       "...                                                                                      ...  \n",
       "3599                                                  Район Вешняки, Район Матушкино-Савелки  \n",
       "3600                                                     Район Кузьминки, Район Текстильщики  \n",
       "3601                                                                         Бутырский район  \n",
       "3602                                                                     Нижегородский район  \n",
       "3603  Район Измайлово, Район Перово, Район Соколиная Гора, Район Ивановское, Район Лефортово  \n",
       "\n",
       "[3604 rows x 3 columns]"
      ]
     },
     "execution_count": 44,
     "metadata": {},
     "output_type": "execute_result"
    }
   ],
   "source": [
    "# Сгруппируем по улице таблицу streets, соберём названия районов, через которые проходят улицы.\n",
    "streets_gr = streets.groupby(\"street_name\").agg(list).reset_index()\n",
    "def areas(area):\n",
    "    areas = \", \".join(map(str,area))\n",
    "    return areas\n",
    "streets_gr['area_id'] = streets_gr['area_id'].apply(areas)\n",
    "streets_gr['area'] = streets_gr['area'].apply(areas)\n",
    "streets_gr"
   ]
  },
  {
   "cell_type": "code",
   "execution_count": 45,
   "metadata": {
    "scrolled": false
   },
   "outputs": [
    {
     "data": {
      "text/html": [
       "<div>\n",
       "<style scoped>\n",
       "    .dataframe tbody tr th:only-of-type {\n",
       "        vertical-align: middle;\n",
       "    }\n",
       "\n",
       "    .dataframe tbody tr th {\n",
       "        vertical-align: top;\n",
       "    }\n",
       "\n",
       "    .dataframe thead th {\n",
       "        text-align: right;\n",
       "    }\n",
       "</style>\n",
       "<table border=\"1\" class=\"dataframe\">\n",
       "  <thead>\n",
       "    <tr style=\"text-align: right;\">\n",
       "      <th></th>\n",
       "      <th>street_name</th>\n",
       "      <th>area_id</th>\n",
       "      <th>area</th>\n",
       "    </tr>\n",
       "  </thead>\n",
       "  <tbody>\n",
       "  </tbody>\n",
       "</table>\n",
       "</div>"
      ],
      "text/plain": [
       "Empty DataFrame\n",
       "Columns: [street_name, area_id, area]\n",
       "Index: []"
      ]
     },
     "execution_count": 45,
     "metadata": {},
     "output_type": "execute_result"
    }
   ],
   "source": [
    "# Посмотрим через какие районы проходят улицы из топ-10.\n",
    "street_top = data_rest_street.head(10).reset_index()\n",
    "street_top_list = street_top['street']\n",
    "street_top_area = streets_gr.query('street_name in @street_top_list')\n",
    "street_top_area"
   ]
  },
  {
   "cell_type": "markdown",
   "metadata": {},
   "source": [
    "За исключением Кривоградской улицы, Кутузовского проспекта и Пресненской набережной, улицы проходят через несколько районов. Протяжённость этих улиц, за исключением Пресненской набережной, от 4 до 15 км. И располагаются они либо в центре (Пресненская набережная и Кировоградская улица), либо проходят от центра к окраинам."
   ]
  },
  {
   "cell_type": "code",
   "execution_count": 46,
   "metadata": {},
   "outputs": [
    {
     "data": {
      "text/html": [
       "<div>\n",
       "<style scoped>\n",
       "    .dataframe tbody tr th:only-of-type {\n",
       "        vertical-align: middle;\n",
       "    }\n",
       "\n",
       "    .dataframe tbody tr th {\n",
       "        vertical-align: top;\n",
       "    }\n",
       "\n",
       "    .dataframe thead th {\n",
       "        text-align: right;\n",
       "    }\n",
       "</style>\n",
       "<table border=\"1\" class=\"dataframe\">\n",
       "  <thead>\n",
       "    <tr style=\"text-align: right;\">\n",
       "      <th></th>\n",
       "      <th>street_name</th>\n",
       "      <th>count</th>\n",
       "    </tr>\n",
       "  </thead>\n",
       "  <tbody>\n",
       "    <tr>\n",
       "      <th>0</th>\n",
       "      <td>проспект Мира,</td>\n",
       "      <td>204</td>\n",
       "    </tr>\n",
       "    <tr>\n",
       "      <th>1</th>\n",
       "      <td>Профсоюзная улица,</td>\n",
       "      <td>182</td>\n",
       "    </tr>\n",
       "    <tr>\n",
       "      <th>2</th>\n",
       "      <td>Ленинградский проспект,</td>\n",
       "      <td>171</td>\n",
       "    </tr>\n",
       "    <tr>\n",
       "      <th>3</th>\n",
       "      <td>Пресненская набережная,</td>\n",
       "      <td>167</td>\n",
       "    </tr>\n",
       "    <tr>\n",
       "      <th>4</th>\n",
       "      <td>Варшавское шоссе,</td>\n",
       "      <td>161</td>\n",
       "    </tr>\n",
       "    <tr>\n",
       "      <th>5</th>\n",
       "      <td>Ленинский проспект,</td>\n",
       "      <td>147</td>\n",
       "    </tr>\n",
       "    <tr>\n",
       "      <th>6</th>\n",
       "      <td>проспект Вернадского,</td>\n",
       "      <td>132</td>\n",
       "    </tr>\n",
       "    <tr>\n",
       "      <th>7</th>\n",
       "      <td>Кутузовский проспект,</td>\n",
       "      <td>114</td>\n",
       "    </tr>\n",
       "    <tr>\n",
       "      <th>8</th>\n",
       "      <td>Каширское шоссе,</td>\n",
       "      <td>112</td>\n",
       "    </tr>\n",
       "    <tr>\n",
       "      <th>9</th>\n",
       "      <td>Кировоградская улица,</td>\n",
       "      <td>110</td>\n",
       "    </tr>\n",
       "  </tbody>\n",
       "</table>\n",
       "</div>"
      ],
      "text/plain": [
       "               street_name  count\n",
       "0           проспект Мира,    204\n",
       "1       Профсоюзная улица,    182\n",
       "2  Ленинградский проспект,    171\n",
       "3  Пресненская набережная,    167\n",
       "4        Варшавское шоссе,    161\n",
       "5      Ленинский проспект,    147\n",
       "6    проспект Вернадского,    132\n",
       "7    Кутузовский проспект,    114\n",
       "8         Каширское шоссе,    112\n",
       "9    Кировоградская улица,    110"
      ]
     },
     "execution_count": 46,
     "metadata": {},
     "output_type": "execute_result"
    }
   ],
   "source": [
    "# Выведем топ-10 улиц\n",
    "data_rest_street = data_rest_street.reset_index()\n",
    "data_rest_street.columns = ['street_name', 'count']\n",
    "data_rest_street.head(10)"
   ]
  },
  {
   "cell_type": "code",
   "execution_count": 47,
   "metadata": {
    "scrolled": true
   },
   "outputs": [
    {
     "data": {
      "text/html": [
       "<div>\n",
       "<style scoped>\n",
       "    .dataframe tbody tr th:only-of-type {\n",
       "        vertical-align: middle;\n",
       "    }\n",
       "\n",
       "    .dataframe tbody tr th {\n",
       "        vertical-align: top;\n",
       "    }\n",
       "\n",
       "    .dataframe thead th {\n",
       "        text-align: right;\n",
       "    }\n",
       "</style>\n",
       "<table border=\"1\" class=\"dataframe\">\n",
       "  <thead>\n",
       "    <tr style=\"text-align: right;\">\n",
       "      <th></th>\n",
       "      <th>street_name</th>\n",
       "      <th>area_id</th>\n",
       "      <th>area</th>\n",
       "    </tr>\n",
       "  </thead>\n",
       "  <tbody>\n",
       "  </tbody>\n",
       "</table>\n",
       "</div>"
      ],
      "text/plain": [
       "Empty DataFrame\n",
       "Columns: [street_name, area_id, area]\n",
       "Index: []"
      ]
     },
     "execution_count": 47,
     "metadata": {},
     "output_type": "execute_result"
    }
   ],
   "source": [
    "# Посмотрим на улицы, где по одному заведению\n",
    "data_rest_street_one = data_rest_street.query('count == 1')\n",
    "street_one_list = data_rest_street_one['street_name']\n",
    "street_one_area = streets_gr.query('street_name in @street_one_list')\n",
    "street_one_area"
   ]
  },
  {
   "cell_type": "markdown",
   "metadata": {},
   "source": [
    "521 улица, на которой по одному заведению. Либо улицы короткие, либо расположены неудачно, либо рядом есть крупные улицы, на которых много конкурентов. Посмотрим в каких районах расположены эти улицы. Посчитаем количество таких улиц по районам."
   ]
  },
  {
   "cell_type": "code",
   "execution_count": 48,
   "metadata": {},
   "outputs": [
    {
     "data": {
      "text/plain": [
       "Series([], Name: street_name, dtype: int64)"
      ]
     },
     "execution_count": 48,
     "metadata": {},
     "output_type": "execute_result"
    }
   ],
   "source": [
    "street_one_area.groupby('area')['street_name'].count().sort_values(ascending=False).head(20)"
   ]
  },
  {
   "cell_type": "markdown",
   "metadata": {},
   "source": [
    "В основном районы, в которых много улиц, на которых только 1 объект общественного питания, относятся к Центральному административному округу Москвы. Как в любом историческом центре крупного города: улочки не большие.\n",
    "Чем меньше таких улиц, тем дальше от центра. Что тоже объяснимо: улицы больше, длиннее, аренда ниже, заведений на отдельно взятой улице больше. Посмотрим как обстоят дела с посадочными местами в заведениях на улицах из топ-10."
   ]
  },
  {
   "cell_type": "code",
   "execution_count": 49,
   "metadata": {
    "scrolled": false
   },
   "outputs": [
    {
     "data": {
      "text/html": [
       "<div>\n",
       "<style scoped>\n",
       "    .dataframe tbody tr th:only-of-type {\n",
       "        vertical-align: middle;\n",
       "    }\n",
       "\n",
       "    .dataframe tbody tr th {\n",
       "        vertical-align: top;\n",
       "    }\n",
       "\n",
       "    .dataframe thead th {\n",
       "        text-align: right;\n",
       "    }\n",
       "</style>\n",
       "<table border=\"1\" class=\"dataframe\">\n",
       "  <thead>\n",
       "    <tr style=\"text-align: right;\">\n",
       "      <th></th>\n",
       "      <th>id</th>\n",
       "      <th>object_name</th>\n",
       "      <th>chain</th>\n",
       "      <th>object_type</th>\n",
       "      <th>address</th>\n",
       "      <th>number</th>\n",
       "      <th>street</th>\n",
       "    </tr>\n",
       "  </thead>\n",
       "  <tbody>\n",
       "    <tr>\n",
       "      <th>151</th>\n",
       "      <td>155973</td>\n",
       "      <td>кафе «андерсон»</td>\n",
       "      <td>да</td>\n",
       "      <td>кафе</td>\n",
       "      <td>город Москва, Варшавское шоссе, дом 2</td>\n",
       "      <td>150</td>\n",
       "      <td>Варшавское шоссе,</td>\n",
       "    </tr>\n",
       "    <tr>\n",
       "      <th>152</th>\n",
       "      <td>23618</td>\n",
       "      <td>кафе «subway»</td>\n",
       "      <td>да</td>\n",
       "      <td>кафе</td>\n",
       "      <td>город Москва, Варшавское шоссе, дом 7, корпус 1</td>\n",
       "      <td>36</td>\n",
       "      <td>Варшавское шоссе,</td>\n",
       "    </tr>\n",
       "    <tr>\n",
       "      <th>153</th>\n",
       "      <td>155852</td>\n",
       "      <td>кафе «ламаджо»</td>\n",
       "      <td>нет</td>\n",
       "      <td>кафе</td>\n",
       "      <td>город Москва, Варшавское шоссе, дом 29</td>\n",
       "      <td>30</td>\n",
       "      <td>Варшавское шоссе,</td>\n",
       "    </tr>\n",
       "    <tr>\n",
       "      <th>154</th>\n",
       "      <td>152556</td>\n",
       "      <td>шаурма в пите</td>\n",
       "      <td>нет</td>\n",
       "      <td>предприятие быстрого обслуживания</td>\n",
       "      <td>город Москва, Варшавское шоссе, дом 72, корпус 2</td>\n",
       "      <td>0</td>\n",
       "      <td>Варшавское шоссе,</td>\n",
       "    </tr>\n",
       "    <tr>\n",
       "      <th>155</th>\n",
       "      <td>120658</td>\n",
       "      <td>выпечка</td>\n",
       "      <td>нет</td>\n",
       "      <td>кафетерий</td>\n",
       "      <td>город Москва, Варшавское шоссе, дом 100</td>\n",
       "      <td>2</td>\n",
       "      <td>Варшавское шоссе,</td>\n",
       "    </tr>\n",
       "    <tr>\n",
       "      <th>...</th>\n",
       "      <td>...</td>\n",
       "      <td>...</td>\n",
       "      <td>...</td>\n",
       "      <td>...</td>\n",
       "      <td>...</td>\n",
       "      <td>...</td>\n",
       "      <td>...</td>\n",
       "    </tr>\n",
       "    <tr>\n",
       "      <th>15308</th>\n",
       "      <td>213629</td>\n",
       "      <td>додо пицца</td>\n",
       "      <td>да</td>\n",
       "      <td>кафе</td>\n",
       "      <td>город Москва, Пресненская набережная, дом 12</td>\n",
       "      <td>25</td>\n",
       "      <td>Пресненская набережная,</td>\n",
       "    </tr>\n",
       "    <tr>\n",
       "      <th>15325</th>\n",
       "      <td>198436</td>\n",
       "      <td>милти</td>\n",
       "      <td>да</td>\n",
       "      <td>предприятие быстрого обслуживания</td>\n",
       "      <td>город Москва, Ленинградский проспект, дом 80, корпус 17</td>\n",
       "      <td>0</td>\n",
       "      <td>Ленинградский проспект,</td>\n",
       "    </tr>\n",
       "    <tr>\n",
       "      <th>15347</th>\n",
       "      <td>222491</td>\n",
       "      <td>кальянная «мята lounge»</td>\n",
       "      <td>да</td>\n",
       "      <td>кафе</td>\n",
       "      <td>город Москва, Профсоюзная улица, дом 142, корпус 1, строение 1</td>\n",
       "      <td>40</td>\n",
       "      <td>Профсоюзная улица,</td>\n",
       "    </tr>\n",
       "    <tr>\n",
       "      <th>15350</th>\n",
       "      <td>213061</td>\n",
       "      <td>мята</td>\n",
       "      <td>да</td>\n",
       "      <td>кафетерий</td>\n",
       "      <td>город Москва, Каширское шоссе, дом 96, корпус 1</td>\n",
       "      <td>35</td>\n",
       "      <td>Каширское шоссе,</td>\n",
       "    </tr>\n",
       "    <tr>\n",
       "      <th>15358</th>\n",
       "      <td>213724</td>\n",
       "      <td>шоколадница</td>\n",
       "      <td>да</td>\n",
       "      <td>кафе</td>\n",
       "      <td>город Москва, Варшавское шоссе, дом 87Б</td>\n",
       "      <td>54</td>\n",
       "      <td>Варшавское шоссе,</td>\n",
       "    </tr>\n",
       "  </tbody>\n",
       "</table>\n",
       "<p>1500 rows × 7 columns</p>\n",
       "</div>"
      ],
      "text/plain": [
       "           id              object_name chain  \\\n",
       "151    155973          кафе «андерсон»    да   \n",
       "152     23618            кафе «subway»    да   \n",
       "153    155852           кафе «ламаджо»   нет   \n",
       "154    152556            шаурма в пите   нет   \n",
       "155    120658                  выпечка   нет   \n",
       "...       ...                      ...   ...   \n",
       "15308  213629               додо пицца    да   \n",
       "15325  198436                    милти    да   \n",
       "15347  222491  кальянная «мята lounge»    да   \n",
       "15350  213061                     мята    да   \n",
       "15358  213724              шоколадница    да   \n",
       "\n",
       "                             object_type  \\\n",
       "151                                 кафе   \n",
       "152                                 кафе   \n",
       "153                                 кафе   \n",
       "154    предприятие быстрого обслуживания   \n",
       "155                            кафетерий   \n",
       "...                                  ...   \n",
       "15308                               кафе   \n",
       "15325  предприятие быстрого обслуживания   \n",
       "15347                               кафе   \n",
       "15350                          кафетерий   \n",
       "15358                               кафе   \n",
       "\n",
       "                                                              address  number  \\\n",
       "151                             город Москва, Варшавское шоссе, дом 2     150   \n",
       "152                   город Москва, Варшавское шоссе, дом 7, корпус 1      36   \n",
       "153                            город Москва, Варшавское шоссе, дом 29      30   \n",
       "154                  город Москва, Варшавское шоссе, дом 72, корпус 2       0   \n",
       "155                           город Москва, Варшавское шоссе, дом 100       2   \n",
       "...                                                               ...     ...   \n",
       "15308                    город Москва, Пресненская набережная, дом 12      25   \n",
       "15325         город Москва, Ленинградский проспект, дом 80, корпус 17       0   \n",
       "15347  город Москва, Профсоюзная улица, дом 142, корпус 1, строение 1      40   \n",
       "15350                 город Москва, Каширское шоссе, дом 96, корпус 1      35   \n",
       "15358                         город Москва, Варшавское шоссе, дом 87Б      54   \n",
       "\n",
       "                        street  \n",
       "151          Варшавское шоссе,  \n",
       "152          Варшавское шоссе,  \n",
       "153          Варшавское шоссе,  \n",
       "154          Варшавское шоссе,  \n",
       "155          Варшавское шоссе,  \n",
       "...                        ...  \n",
       "15308  Пресненская набережная,  \n",
       "15325  Ленинградский проспект,  \n",
       "15347       Профсоюзная улица,  \n",
       "15350         Каширское шоссе,  \n",
       "15358        Варшавское шоссе,  \n",
       "\n",
       "[1500 rows x 7 columns]"
      ]
     },
     "execution_count": 49,
     "metadata": {},
     "output_type": "execute_result"
    }
   ],
   "source": [
    "data_rest_top = data_rest.query('street in @street_top_list')\n",
    "data_rest_top"
   ]
  },
  {
   "cell_type": "code",
   "execution_count": 50,
   "metadata": {},
   "outputs": [
    {
     "data": {
      "image/png": "[encoded data removed]",
      "text/plain": [
       "<Figure size 864x504 with 1 Axes>"
      ]
     },
     "metadata": {
      "needs_background": "light"
     },
     "output_type": "display_data"
    }
   ],
   "source": [
    "plt.figure(figsize=(12, 7))\n",
    "sns.histplot(data_rest_top['number'], bins=100)\n",
    "sns.set_palette('pastel') \n",
    "plt.title('Распределение количества посадочных мест')\n",
    "plt.grid(True)\n",
    "plt.show()"
   ]
  },
  {
   "cell_type": "code",
   "execution_count": 51,
   "metadata": {},
   "outputs": [
    {
     "data": {
      "image/png": "[encoded data removed]",
      "text/plain": [
       "<Figure size 864x504 with 1 Axes>"
      ]
     },
     "metadata": {
      "needs_background": "light"
     },
     "output_type": "display_data"
    }
   ],
   "source": [
    "plt.figure(figsize=(12, 7))\n",
    "sns.histplot(data_rest_top['number'], bins=500)\n",
    "sns.set_palette('pastel') \n",
    "plt.title('Распределение количества посадочных мест')\n",
    "plt.grid(True)\n",
    "plt.xlim([-10, 150])\n",
    "plt.show()"
   ]
  },
  {
   "cell_type": "markdown",
   "metadata": {},
   "source": [
    "Есть выделяющееся значение в районе нуля: многие заведения работают без посадочных мест. Есть уникальные заведения, где посадочных мест более 1000. Скорее всего, столовая на промышленном предприятии. Чаще всего встерчаются заведения с 20 и 40 посадочными местами, чуть реже с 10, 30, 50, 60, 80. Больше 80 редко. Есть значения от 80 до 120, но их немного. Можно сделать вывод, что на топовых улицах заведений много, но чаще они небольшие. Посмотрим долю объектов по типам."
   ]
  },
  {
   "cell_type": "code",
   "execution_count": 52,
   "metadata": {},
   "outputs": [
    {
     "data": {
      "image/png": "[encoded data removed]",
      "text/plain": [
       "<Figure size 720x720 with 1 Axes>"
      ]
     },
     "metadata": {},
     "output_type": "display_data"
    }
   ],
   "source": [
    "# Сгруппируем по типу объекта и посчитаем количество заведений\n",
    "data_rest_top_type = data_rest_top.groupby('object_type')['id'].count().reset_index()\n",
    "data_rest_top_type.columns=['object_type', 'count']\n",
    "data_rest_top_type.sort_values(by='count', ascending=False, inplace=True)\n",
    "data_rest_top_type['ratio'] = ((data_rest_top_type['count'] / data_rest_top_type['count'].sum()) * 100).round(2)\n",
    "# Для наглядности построим круговую диаграмму\n",
    "plt.figure(figsize=(10, 10))\n",
    "plt.pie(data=data_rest_top_type, x='ratio', labels='object_type', autopct='%1.2f%%')\n",
    "sns.set_palette('pastel') \n",
    "plt.title('Доля объектов общественного питания по видам на улицах топ-10')\n",
    "plt.show()"
   ]
  },
  {
   "cell_type": "markdown",
   "metadata": {},
   "source": [
    "Кафе, рестораны и предприятия быстрого обслуживания в большинстве. Что косвенно подтверждает выводы, сделанные по предыдущему графику: в кафе обычно до 50 мест, в ресторанах около ста, а предприятия быстрого обслуживания стараются работать без посадочных мест, но если они есть, то до 50. По сравнению с распределением долей по всему городу, доли кафе, ресторанов и предприятий быстрого обслуживания по топовым улицам больше, чем по всему городу, а доля столовых значительно меньше: почти 17% по городу и 9% по топ-10. Доли остальных объектов изменились незначительно."
   ]
  },
  {
   "cell_type": "markdown",
   "metadata": {},
   "source": [
    "#### Выводы\n",
    "<a id=\"result4\"></a>\n",
    "\n",
    "Мы рассмотрели топ-10 улиц. Больше всего заведений общественного питания на проспекте Мира. За исключением Кривоградской улицы, Кутузовского проспекта и Пресненской набережной, улицы проходят через несколько районов. Протяжённость этих улиц, за исключением Пресненской набережной, от 4 до 15 км. И располагаются они либо в центре (Пресненская набережная и Кировоградская улица), либо проходят от центра к окраинам. Улицы, на которых по одному заведению, чаще всего расположены в центральных районах города.\n",
    "Количество посадочных мест в заведениях, расположенных на топовых улицах, колеблется от 0 до 80, значений от 80 до 120 немного, а более 120 - редкие. Из этого можно сделать вывод, что эти заведения небольшого размера, но их много. Даже рестораны, в которых чаще всего около 100 мест, на топовых улицах имеют около 80, а доля их в общем количестве больше, чем доля в общем количестве по городу.\n"
   ]
  },
  {
   "cell_type": "markdown",
   "metadata": {},
   "source": [
    "## Выводы и рекомендации\n",
    "<a id=\"results\"></a>\n",
    "\n",
    "Наше исследование показало, что в Москве чаще всего встречаются кафе, значительно реже столовые, рестораны и предприятия быстрого обслуживания. На долю остальных объектов приходится всего 16%. Несетевых объектов гораздо больше, чем сетевых. Исключение составляют предприятия быстрого обслуживания, 40% которых - сетевые заведения. \n",
    "9% сетевых заведений не имеют посадочных мест. В кафе и предприятиях быстрого питания обычно до 50 мест, в ресторанах около ста, в барах 40 или 90. Сетевых столовых и буфетов очень мало. Кафетерии, закусочные и кулинарные отделы в магазинах посадочные места имеют редко и если есть, то немного.\n",
    "Больше всего сетей с небольшим количеством заведений и небольшим средним количеством посадочных мест. Чуть меньше заведений с большим количеством мест и небольшим количеством заведений. Заведений с небольшим количеством мест и большим количеством заведений ещё меньше. Меньше всего заведений, имеющих много посадочных мест и много заведений в сети.\n",
    "Исследование топ-10 улиц показало, что больше всего заведений общественного питания на больших, протяжённых улицах, а также на крупных улицах центральных районов. Такие заведения отличаются небольшим для своего типа количеством посадочных мест. Среди них больше всего кафе, ресторанов и предприятий быстрого обслуживания, столовых значительно меньше, чем по городу в целом. На небольших улочках чаще располагается одно заведение общественного питания. И большинство таких улочек находится в центральных районах.\n",
    "Из этого можно сделать вывод, что с одной стороны кафе пользуются спросом, с другой стороны высока конкуренция. С точки зрения развития сети стоит обратить внимание на предприятия быстрого обслуживания.\n",
    "Для принятия более конкретного решения необходимо продолжить исследование и рассмотреть различия в арендной плате (стоимости недвижимости) по районам, особенности районов (спальные, промышленные, густота населения, конкурентные предприятия), расположение конкурентных предприятий по типам, а также обратить внимание на самих роботов: возможности, техническое обслуживание, ремонтопригодность."
   ]
  },
  {
   "cell_type": "markdown",
   "metadata": {},
   "source": [
    "## Презентация\n",
    "<a id=\"report\"></a>\n"
   ]
  },
  {
   "cell_type": "markdown",
   "metadata": {},
   "source": [
    "https://disk.yandex.ru/i/W_Hrd6QqYAwOyg"
   ]
  }
 ],
 "metadata": {
  "ExecuteTimeLog": [
   {
    "duration": 1423,
    "start_time": "2021-06-17T11:22:21.829Z"
   },
   {
    "duration": 72,
    "start_time": "2021-06-17T11:22:23.254Z"
   },
   {
    "duration": 13,
    "start_time": "2021-06-17T11:23:59.178Z"
   },
   {
    "duration": 10,
    "start_time": "2021-06-17T11:25:43.391Z"
   },
   {
    "duration": 4,
    "start_time": "2021-06-17T11:26:27.479Z"
   },
   {
    "duration": 68,
    "start_time": "2021-06-17T11:26:27.610Z"
   },
   {
    "duration": 11,
    "start_time": "2021-06-17T11:26:27.681Z"
   },
   {
    "duration": 10,
    "start_time": "2021-06-17T11:26:27.695Z"
   },
   {
    "duration": 150,
    "start_time": "2021-06-17T11:27:05.489Z"
   },
   {
    "duration": 8,
    "start_time": "2021-06-17T11:27:20.539Z"
   },
   {
    "duration": 6,
    "start_time": "2021-06-17T11:28:02.489Z"
   },
   {
    "duration": 6,
    "start_time": "2021-06-17T11:28:18.799Z"
   },
   {
    "duration": 12,
    "start_time": "2021-06-17T11:31:24.671Z"
   },
   {
    "duration": 4,
    "start_time": "2021-06-17T11:32:18.630Z"
   },
   {
    "duration": 72,
    "start_time": "2021-06-17T11:32:18.650Z"
   },
   {
    "duration": 14,
    "start_time": "2021-06-17T11:32:18.725Z"
   },
   {
    "duration": 12,
    "start_time": "2021-06-17T11:32:18.743Z"
   },
   {
    "duration": 32,
    "start_time": "2021-06-17T11:32:18.758Z"
   },
   {
    "duration": 10,
    "start_time": "2021-06-17T11:32:18.793Z"
   },
   {
    "duration": 13,
    "start_time": "2021-06-17T11:32:18.806Z"
   },
   {
    "duration": 10,
    "start_time": "2021-06-17T11:34:36.681Z"
   },
   {
    "duration": 12,
    "start_time": "2021-06-17T11:35:42.399Z"
   },
   {
    "duration": 13,
    "start_time": "2021-06-17T11:37:39.170Z"
   },
   {
    "duration": 12,
    "start_time": "2021-06-17T11:37:51.279Z"
   },
   {
    "duration": 21,
    "start_time": "2021-06-17T11:38:42.110Z"
   },
   {
    "duration": 364,
    "start_time": "2021-06-17T15:15:42.903Z"
   },
   {
    "duration": 1441,
    "start_time": "2021-06-17T15:15:52.411Z"
   },
   {
    "duration": 89,
    "start_time": "2021-06-17T15:15:53.855Z"
   },
   {
    "duration": 18,
    "start_time": "2021-06-17T15:15:53.948Z"
   },
   {
    "duration": 25,
    "start_time": "2021-06-17T15:15:53.970Z"
   },
   {
    "duration": 11,
    "start_time": "2021-06-17T15:15:53.998Z"
   },
   {
    "duration": 9,
    "start_time": "2021-06-17T15:15:54.012Z"
   },
   {
    "duration": 10,
    "start_time": "2021-06-17T15:15:54.023Z"
   },
   {
    "duration": 12,
    "start_time": "2021-06-17T15:15:54.088Z"
   },
   {
    "duration": 11,
    "start_time": "2021-06-17T15:15:54.105Z"
   },
   {
    "duration": 13,
    "start_time": "2021-06-17T15:15:54.119Z"
   },
   {
    "duration": 61,
    "start_time": "2021-06-17T15:15:54.134Z"
   },
   {
    "duration": 16,
    "start_time": "2021-06-17T15:15:54.198Z"
   },
   {
    "duration": 13,
    "start_time": "2021-06-17T15:16:12.274Z"
   },
   {
    "duration": 21,
    "start_time": "2021-06-17T15:16:16.798Z"
   },
   {
    "duration": 15,
    "start_time": "2021-06-17T15:16:23.917Z"
   },
   {
    "duration": 11,
    "start_time": "2021-06-17T15:16:29.153Z"
   },
   {
    "duration": 15,
    "start_time": "2021-06-17T15:16:41.919Z"
   },
   {
    "duration": 16,
    "start_time": "2021-06-17T15:16:49.400Z"
   },
   {
    "duration": 15,
    "start_time": "2021-06-17T15:17:12.577Z"
   },
   {
    "duration": 12,
    "start_time": "2021-06-17T15:17:23.927Z"
   },
   {
    "duration": 16,
    "start_time": "2021-06-17T15:17:37.270Z"
   },
   {
    "duration": 12,
    "start_time": "2021-06-17T15:17:42.750Z"
   },
   {
    "duration": 10,
    "start_time": "2021-06-17T15:17:47.717Z"
   },
   {
    "duration": 15,
    "start_time": "2021-06-17T15:17:57.796Z"
   },
   {
    "duration": 14,
    "start_time": "2021-06-17T15:18:23.767Z"
   },
   {
    "duration": 12,
    "start_time": "2021-06-17T15:18:37.036Z"
   },
   {
    "duration": 11,
    "start_time": "2021-06-17T15:18:42.773Z"
   },
   {
    "duration": 13,
    "start_time": "2021-06-17T15:18:57.803Z"
   },
   {
    "duration": 11,
    "start_time": "2021-06-17T15:19:01.871Z"
   },
   {
    "duration": 23,
    "start_time": "2021-06-17T15:19:40.218Z"
   },
   {
    "duration": 27,
    "start_time": "2021-06-17T15:19:57.687Z"
   },
   {
    "duration": 22,
    "start_time": "2021-06-17T15:20:11.053Z"
   },
   {
    "duration": 21,
    "start_time": "2021-06-17T15:20:34.369Z"
   },
   {
    "duration": 16,
    "start_time": "2021-06-17T15:21:12.517Z"
   },
   {
    "duration": 422,
    "start_time": "2021-06-17T15:33:10.631Z"
   },
   {
    "duration": 17,
    "start_time": "2021-06-17T15:33:34.256Z"
   },
   {
    "duration": 21,
    "start_time": "2021-06-17T15:33:56.363Z"
   },
   {
    "duration": 21,
    "start_time": "2021-06-17T15:34:14.563Z"
   },
   {
    "duration": 22,
    "start_time": "2021-06-17T15:34:45.820Z"
   },
   {
    "duration": 24,
    "start_time": "2021-06-17T15:34:49.395Z"
   },
   {
    "duration": 1496,
    "start_time": "2021-06-17T15:35:16.859Z"
   },
   {
    "duration": 75,
    "start_time": "2021-06-17T15:35:18.358Z"
   },
   {
    "duration": 13,
    "start_time": "2021-06-17T15:35:18.436Z"
   },
   {
    "duration": 17,
    "start_time": "2021-06-17T15:35:18.452Z"
   },
   {
    "duration": 22,
    "start_time": "2021-06-17T15:35:18.471Z"
   },
   {
    "duration": 7,
    "start_time": "2021-06-17T15:35:18.496Z"
   },
   {
    "duration": 10,
    "start_time": "2021-06-17T15:35:18.505Z"
   },
   {
    "duration": 11,
    "start_time": "2021-06-17T15:35:18.519Z"
   },
   {
    "duration": 53,
    "start_time": "2021-06-17T15:35:18.533Z"
   },
   {
    "duration": 16,
    "start_time": "2021-06-17T15:35:18.589Z"
   },
   {
    "duration": 24,
    "start_time": "2021-06-17T15:35:18.608Z"
   },
   {
    "duration": 56,
    "start_time": "2021-06-17T15:35:18.635Z"
   },
   {
    "duration": 22,
    "start_time": "2021-06-17T15:35:48.549Z"
   },
   {
    "duration": 7,
    "start_time": "2021-06-17T15:38:52.609Z"
   },
   {
    "duration": 7,
    "start_time": "2021-06-17T15:49:26.038Z"
   },
   {
    "duration": 429,
    "start_time": "2021-06-17T15:52:26.733Z"
   },
   {
    "duration": 1457,
    "start_time": "2021-06-17T15:52:35.394Z"
   },
   {
    "duration": 71,
    "start_time": "2021-06-17T15:52:36.854Z"
   },
   {
    "duration": 14,
    "start_time": "2021-06-17T15:52:36.928Z"
   },
   {
    "duration": 10,
    "start_time": "2021-06-17T15:52:36.945Z"
   },
   {
    "duration": 29,
    "start_time": "2021-06-17T15:52:36.958Z"
   },
   {
    "duration": 6,
    "start_time": "2021-06-17T15:52:36.990Z"
   },
   {
    "duration": 8,
    "start_time": "2021-06-17T15:52:36.999Z"
   },
   {
    "duration": 12,
    "start_time": "2021-06-17T15:52:37.012Z"
   },
   {
    "duration": 63,
    "start_time": "2021-06-17T15:52:37.027Z"
   },
   {
    "duration": 12,
    "start_time": "2021-06-17T15:52:37.093Z"
   },
   {
    "duration": 12,
    "start_time": "2021-06-17T15:52:37.108Z"
   },
   {
    "duration": 22,
    "start_time": "2021-06-17T15:52:37.122Z"
   },
   {
    "duration": 53,
    "start_time": "2021-06-17T15:52:37.147Z"
   },
   {
    "duration": 425,
    "start_time": "2021-06-17T15:52:37.203Z"
   },
   {
    "duration": 306,
    "start_time": "2021-06-17T15:55:19.247Z"
   },
   {
    "duration": 363,
    "start_time": "2021-06-17T15:56:58.536Z"
   },
   {
    "duration": 431,
    "start_time": "2021-06-17T15:57:46.758Z"
   },
   {
    "duration": 456,
    "start_time": "2021-06-17T15:59:21.686Z"
   },
   {
    "duration": 1449,
    "start_time": "2021-06-19T19:22:37.222Z"
   },
   {
    "duration": 72,
    "start_time": "2021-06-19T19:22:38.674Z"
   },
   {
    "duration": 12,
    "start_time": "2021-06-19T19:22:38.750Z"
   },
   {
    "duration": 15,
    "start_time": "2021-06-19T19:22:38.765Z"
   },
   {
    "duration": 24,
    "start_time": "2021-06-19T19:22:38.782Z"
   },
   {
    "duration": 6,
    "start_time": "2021-06-19T19:22:38.809Z"
   },
   {
    "duration": 11,
    "start_time": "2021-06-19T19:22:38.818Z"
   },
   {
    "duration": 10,
    "start_time": "2021-06-19T19:22:38.833Z"
   },
   {
    "duration": 61,
    "start_time": "2021-06-19T19:22:38.845Z"
   },
   {
    "duration": 6,
    "start_time": "2021-06-19T19:22:38.909Z"
   },
   {
    "duration": 12,
    "start_time": "2021-06-19T19:22:38.918Z"
   },
   {
    "duration": 68,
    "start_time": "2021-06-19T19:22:38.932Z"
   },
   {
    "duration": 21,
    "start_time": "2021-06-19T19:22:39.003Z"
   },
   {
    "duration": 488,
    "start_time": "2021-06-19T19:22:39.026Z"
   },
   {
    "duration": 467,
    "start_time": "2021-06-19T19:34:08.419Z"
   },
   {
    "duration": 473,
    "start_time": "2021-06-19T19:34:47.196Z"
   },
   {
    "duration": 15,
    "start_time": "2021-06-19T19:36:29.918Z"
   },
   {
    "duration": 14,
    "start_time": "2021-06-19T19:36:53.228Z"
   },
   {
    "duration": 19,
    "start_time": "2021-06-19T19:37:06.362Z"
   },
   {
    "duration": 21,
    "start_time": "2021-06-19T19:46:28.061Z"
   },
   {
    "duration": 537,
    "start_time": "2021-06-19T19:49:35.283Z"
   },
   {
    "duration": 290,
    "start_time": "2021-06-19T19:50:17.262Z"
   },
   {
    "duration": 501,
    "start_time": "2021-06-19T19:50:32.116Z"
   },
   {
    "duration": 615,
    "start_time": "2021-06-19T19:51:26.444Z"
   },
   {
    "duration": 551,
    "start_time": "2021-06-19T19:52:35.901Z"
   },
   {
    "duration": 465,
    "start_time": "2021-06-19T19:52:59.899Z"
   },
   {
    "duration": 484,
    "start_time": "2021-06-19T19:53:09.955Z"
   },
   {
    "duration": 298,
    "start_time": "2021-06-19T19:53:40.895Z"
   },
   {
    "duration": 344,
    "start_time": "2021-06-19T19:53:54.503Z"
   },
   {
    "duration": 587,
    "start_time": "2021-06-19T19:54:12.464Z"
   },
   {
    "duration": 301,
    "start_time": "2021-06-19T19:58:18.499Z"
   },
   {
    "duration": 273,
    "start_time": "2021-06-19T19:58:52.325Z"
   },
   {
    "duration": 341,
    "start_time": "2021-06-19T20:00:04.794Z"
   },
   {
    "duration": 791,
    "start_time": "2021-06-19T20:02:00.474Z"
   },
   {
    "duration": 992,
    "start_time": "2021-06-19T20:02:26.996Z"
   },
   {
    "duration": 540,
    "start_time": "2021-06-19T20:04:01.724Z"
   },
   {
    "duration": 15,
    "start_time": "2021-06-19T20:13:47.471Z"
   },
   {
    "duration": 23,
    "start_time": "2021-06-19T20:13:54.990Z"
   },
   {
    "duration": 525,
    "start_time": "2021-06-19T20:14:47.942Z"
   },
   {
    "duration": 25,
    "start_time": "2021-06-19T20:14:52.778Z"
   },
   {
    "duration": 19,
    "start_time": "2021-06-19T20:20:37.036Z"
   },
   {
    "duration": 30,
    "start_time": "2021-06-19T20:20:47.608Z"
   },
   {
    "duration": 29,
    "start_time": "2021-06-19T20:21:09.669Z"
   },
   {
    "duration": 19,
    "start_time": "2021-06-19T20:22:12.880Z"
   },
   {
    "duration": 32,
    "start_time": "2021-06-19T20:22:21.874Z"
   },
   {
    "duration": 267,
    "start_time": "2021-06-19T20:23:44.686Z"
   },
   {
    "duration": 533,
    "start_time": "2021-06-19T20:24:11.790Z"
   },
   {
    "duration": 571,
    "start_time": "2021-06-19T20:25:00.573Z"
   },
   {
    "duration": 494,
    "start_time": "2021-06-19T20:25:54.307Z"
   },
   {
    "duration": 457,
    "start_time": "2021-06-19T20:26:11.543Z"
   },
   {
    "duration": 432,
    "start_time": "2021-06-19T20:32:56.541Z"
   },
   {
    "duration": 454,
    "start_time": "2021-06-19T20:36:10.869Z"
   },
   {
    "duration": 13,
    "start_time": "2021-06-19T20:45:40.791Z"
   },
   {
    "duration": 866,
    "start_time": "2021-06-19T20:49:37.764Z"
   },
   {
    "duration": 283,
    "start_time": "2021-06-19T20:56:54.807Z"
   },
   {
    "duration": 1167,
    "start_time": "2021-06-19T20:57:25.754Z"
   },
   {
    "duration": 1107,
    "start_time": "2021-06-19T20:57:56.855Z"
   },
   {
    "duration": 301,
    "start_time": "2021-06-19T21:01:49.845Z"
   },
   {
    "duration": 272,
    "start_time": "2021-06-19T21:02:31.678Z"
   },
   {
    "duration": 509,
    "start_time": "2021-06-19T21:02:50.607Z"
   },
   {
    "duration": 526,
    "start_time": "2021-06-19T21:03:00.882Z"
   },
   {
    "duration": 523,
    "start_time": "2021-06-19T21:03:13.625Z"
   },
   {
    "duration": 615,
    "start_time": "2021-06-19T21:11:36.054Z"
   },
   {
    "duration": 396,
    "start_time": "2021-06-19T21:11:39.924Z"
   },
   {
    "duration": 407,
    "start_time": "2021-06-19T21:11:43.214Z"
   },
   {
    "duration": 396,
    "start_time": "2021-06-19T21:11:45.265Z"
   },
   {
    "duration": 412,
    "start_time": "2021-06-19T21:11:53.078Z"
   },
   {
    "duration": 392,
    "start_time": "2021-06-19T21:11:56.007Z"
   },
   {
    "duration": 428,
    "start_time": "2021-06-19T21:12:08.076Z"
   },
   {
    "duration": 402,
    "start_time": "2021-06-19T21:12:10.342Z"
   },
   {
    "duration": 12,
    "start_time": "2021-06-19T21:12:45.248Z"
   },
   {
    "duration": 424,
    "start_time": "2021-06-19T21:13:26.224Z"
   },
   {
    "duration": 19,
    "start_time": "2021-06-19T21:14:55.916Z"
   },
   {
    "duration": 13,
    "start_time": "2021-06-19T21:15:18.450Z"
   },
   {
    "duration": 19,
    "start_time": "2021-06-19T21:15:43.869Z"
   },
   {
    "duration": 497,
    "start_time": "2021-06-19T21:15:56.880Z"
   },
   {
    "duration": 1442,
    "start_time": "2021-06-20T09:48:17.622Z"
   },
   {
    "duration": 75,
    "start_time": "2021-06-20T09:48:19.067Z"
   },
   {
    "duration": 11,
    "start_time": "2021-06-20T09:48:19.145Z"
   },
   {
    "duration": 15,
    "start_time": "2021-06-20T09:48:19.159Z"
   },
   {
    "duration": 29,
    "start_time": "2021-06-20T09:48:19.176Z"
   },
   {
    "duration": 6,
    "start_time": "2021-06-20T09:48:19.207Z"
   },
   {
    "duration": 7,
    "start_time": "2021-06-20T09:48:19.216Z"
   },
   {
    "duration": 11,
    "start_time": "2021-06-20T09:48:19.228Z"
   },
   {
    "duration": 10,
    "start_time": "2021-06-20T09:48:19.242Z"
   },
   {
    "duration": 53,
    "start_time": "2021-06-20T09:48:19.254Z"
   },
   {
    "duration": 13,
    "start_time": "2021-06-20T09:48:19.310Z"
   },
   {
    "duration": 21,
    "start_time": "2021-06-20T09:48:19.326Z"
   },
   {
    "duration": 59,
    "start_time": "2021-06-20T09:48:19.349Z"
   },
   {
    "duration": 471,
    "start_time": "2021-06-20T09:48:19.410Z"
   },
   {
    "duration": 29,
    "start_time": "2021-06-20T09:48:19.883Z"
   },
   {
    "duration": 543,
    "start_time": "2021-06-20T09:48:19.914Z"
   },
   {
    "duration": 44,
    "start_time": "2021-06-20T09:48:20.459Z"
   },
   {
    "duration": 471,
    "start_time": "2021-06-20T09:48:20.506Z"
   },
   {
    "duration": 407,
    "start_time": "2021-06-20T09:48:20.979Z"
   },
   {
    "duration": -3695,
    "start_time": "2021-06-20T09:48:25.085Z"
   },
   {
    "duration": -3696,
    "start_time": "2021-06-20T09:48:25.088Z"
   },
   {
    "duration": -3699,
    "start_time": "2021-06-20T09:48:25.093Z"
   },
   {
    "duration": -3701,
    "start_time": "2021-06-20T09:48:25.097Z"
   },
   {
    "duration": -3702,
    "start_time": "2021-06-20T09:48:25.101Z"
   },
   {
    "duration": -3704,
    "start_time": "2021-06-20T09:48:25.105Z"
   },
   {
    "duration": -3706,
    "start_time": "2021-06-20T09:48:25.109Z"
   },
   {
    "duration": -3708,
    "start_time": "2021-06-20T09:48:25.113Z"
   },
   {
    "duration": -3709,
    "start_time": "2021-06-20T09:48:25.116Z"
   },
   {
    "duration": 515,
    "start_time": "2021-06-20T09:50:03.772Z"
   },
   {
    "duration": 526,
    "start_time": "2021-06-20T09:50:04.289Z"
   },
   {
    "duration": 785,
    "start_time": "2021-06-20T09:50:04.818Z"
   },
   {
    "duration": -1082,
    "start_time": "2021-06-20T09:50:06.687Z"
   },
   {
    "duration": -1085,
    "start_time": "2021-06-20T09:50:06.692Z"
   },
   {
    "duration": -1088,
    "start_time": "2021-06-20T09:50:06.696Z"
   },
   {
    "duration": -1091,
    "start_time": "2021-06-20T09:50:06.700Z"
   },
   {
    "duration": -1093,
    "start_time": "2021-06-20T09:50:06.703Z"
   },
   {
    "duration": -1095,
    "start_time": "2021-06-20T09:50:06.707Z"
   },
   {
    "duration": 90,
    "start_time": "2021-06-20T09:51:35.495Z"
   },
   {
    "duration": 729,
    "start_time": "2021-06-20T09:51:42.596Z"
   },
   {
    "duration": 424,
    "start_time": "2021-06-20T09:51:54.279Z"
   },
   {
    "duration": 452,
    "start_time": "2021-06-20T09:52:21.253Z"
   },
   {
    "duration": 517,
    "start_time": "2021-06-20T09:52:30.845Z"
   },
   {
    "duration": 755,
    "start_time": "2021-06-20T09:53:03.116Z"
   },
   {
    "duration": 271,
    "start_time": "2021-06-20T10:00:15.199Z"
   },
   {
    "duration": 287,
    "start_time": "2021-06-20T10:00:31.449Z"
   },
   {
    "duration": 422,
    "start_time": "2021-06-20T10:02:55.128Z"
   },
   {
    "duration": 623,
    "start_time": "2021-06-20T10:03:15.124Z"
   },
   {
    "duration": 416,
    "start_time": "2021-06-20T10:06:07.593Z"
   },
   {
    "duration": 448,
    "start_time": "2021-06-20T10:06:08.011Z"
   },
   {
    "duration": 442,
    "start_time": "2021-06-20T10:06:08.462Z"
   },
   {
    "duration": 527,
    "start_time": "2021-06-20T10:06:08.907Z"
   },
   {
    "duration": 425,
    "start_time": "2021-06-20T10:06:09.437Z"
   },
   {
    "duration": 615,
    "start_time": "2021-06-20T10:06:31.536Z"
   },
   {
    "duration": 691,
    "start_time": "2021-06-20T10:52:59.200Z"
   },
   {
    "duration": 498,
    "start_time": "2021-06-20T10:58:53.769Z"
   },
   {
    "duration": 570,
    "start_time": "2021-06-20T11:26:07.516Z"
   },
   {
    "duration": 1792,
    "start_time": "2021-06-20T11:26:50.836Z"
   },
   {
    "duration": 664,
    "start_time": "2021-06-20T11:27:00.093Z"
   },
   {
    "duration": 625,
    "start_time": "2021-06-20T11:31:36.317Z"
   },
   {
    "duration": 508,
    "start_time": "2021-06-20T11:31:52.161Z"
   },
   {
    "duration": 784,
    "start_time": "2021-06-20T11:32:04.919Z"
   },
   {
    "duration": 15,
    "start_time": "2021-06-20T11:32:38.848Z"
   },
   {
    "duration": 1372,
    "start_time": "2021-06-20T12:48:43.489Z"
   },
   {
    "duration": 71,
    "start_time": "2021-06-20T12:48:44.863Z"
   },
   {
    "duration": 11,
    "start_time": "2021-06-20T12:48:44.937Z"
   },
   {
    "duration": 12,
    "start_time": "2021-06-20T12:48:44.951Z"
   },
   {
    "duration": 7,
    "start_time": "2021-06-20T12:48:44.965Z"
   },
   {
    "duration": 6,
    "start_time": "2021-06-20T12:48:45.001Z"
   },
   {
    "duration": 15,
    "start_time": "2021-06-20T12:48:45.010Z"
   },
   {
    "duration": 20,
    "start_time": "2021-06-20T12:48:45.029Z"
   },
   {
    "duration": 12,
    "start_time": "2021-06-20T12:48:45.052Z"
   },
   {
    "duration": 34,
    "start_time": "2021-06-20T12:48:45.066Z"
   },
   {
    "duration": 14,
    "start_time": "2021-06-20T12:48:45.102Z"
   },
   {
    "duration": 31,
    "start_time": "2021-06-20T12:48:45.118Z"
   },
   {
    "duration": 27,
    "start_time": "2021-06-20T12:48:45.152Z"
   },
   {
    "duration": 462,
    "start_time": "2021-06-20T12:48:46.549Z"
   },
   {
    "duration": 19,
    "start_time": "2021-06-20T12:48:47.014Z"
   },
   {
    "duration": 551,
    "start_time": "2021-06-20T12:48:47.036Z"
   },
   {
    "duration": 35,
    "start_time": "2021-06-20T12:48:47.590Z"
   },
   {
    "duration": 473,
    "start_time": "2021-06-20T12:48:47.627Z"
   },
   {
    "duration": 521,
    "start_time": "2021-06-20T12:48:48.103Z"
   },
   {
    "duration": 522,
    "start_time": "2021-06-20T12:48:48.627Z"
   },
   {
    "duration": 871,
    "start_time": "2021-06-20T12:48:49.152Z"
   },
   {
    "duration": 1989,
    "start_time": "2021-06-20T12:54:46.764Z"
   },
   {
    "duration": 96,
    "start_time": "2021-06-20T12:54:48.756Z"
   },
   {
    "duration": 16,
    "start_time": "2021-06-20T12:54:48.856Z"
   },
   {
    "duration": 31,
    "start_time": "2021-06-20T12:54:48.876Z"
   },
   {
    "duration": 10,
    "start_time": "2021-06-20T12:54:48.910Z"
   },
   {
    "duration": 8,
    "start_time": "2021-06-20T12:54:48.923Z"
   },
   {
    "duration": 8,
    "start_time": "2021-06-20T12:54:48.934Z"
   },
   {
    "duration": 60,
    "start_time": "2021-06-20T12:54:48.944Z"
   },
   {
    "duration": 10,
    "start_time": "2021-06-20T12:54:49.008Z"
   },
   {
    "duration": 9,
    "start_time": "2021-06-20T12:54:49.021Z"
   },
   {
    "duration": 15,
    "start_time": "2021-06-20T12:54:49.034Z"
   },
   {
    "duration": 61,
    "start_time": "2021-06-20T12:54:49.051Z"
   },
   {
    "duration": 22,
    "start_time": "2021-06-20T12:54:49.115Z"
   },
   {
    "duration": 601,
    "start_time": "2021-06-20T12:54:49.139Z"
   },
   {
    "duration": 20,
    "start_time": "2021-06-20T12:54:49.743Z"
   },
   {
    "duration": 566,
    "start_time": "2021-06-20T12:54:49.766Z"
   },
   {
    "duration": 35,
    "start_time": "2021-06-20T12:54:50.335Z"
   },
   {
    "duration": 761,
    "start_time": "2021-06-20T12:54:50.374Z"
   },
   {
    "duration": 716,
    "start_time": "2021-06-20T12:54:51.137Z"
   },
   {
    "duration": 550,
    "start_time": "2021-06-20T12:54:51.855Z"
   },
   {
    "duration": 1039,
    "start_time": "2021-06-20T12:54:52.408Z"
   },
   {
    "duration": 586,
    "start_time": "2021-06-20T12:54:53.449Z"
   },
   {
    "duration": 666,
    "start_time": "2021-06-20T12:54:54.037Z"
   },
   {
    "duration": 637,
    "start_time": "2021-06-20T12:54:54.706Z"
   },
   {
    "duration": 522,
    "start_time": "2021-06-20T12:54:55.345Z"
   },
   {
    "duration": 696,
    "start_time": "2021-06-20T12:54:55.869Z"
   },
   {
    "duration": 31,
    "start_time": "2021-06-20T12:54:56.569Z"
   },
   {
    "duration": 739,
    "start_time": "2021-06-20T12:54:56.603Z"
   },
   {
    "duration": 1784,
    "start_time": "2021-06-20T12:55:27.307Z"
   },
   {
    "duration": 500,
    "start_time": "2021-06-20T12:55:43.733Z"
   },
   {
    "duration": 954,
    "start_time": "2021-06-20T12:56:02.372Z"
   },
   {
    "duration": 1458,
    "start_time": "2021-06-20T12:59:30.014Z"
   },
   {
    "duration": 5,
    "start_time": "2021-06-20T13:44:09.965Z"
   },
   {
    "duration": 75,
    "start_time": "2021-06-20T13:44:09.978Z"
   },
   {
    "duration": 13,
    "start_time": "2021-06-20T13:44:10.055Z"
   },
   {
    "duration": 36,
    "start_time": "2021-06-20T13:44:10.071Z"
   },
   {
    "duration": 8,
    "start_time": "2021-06-20T13:44:10.111Z"
   },
   {
    "duration": 10,
    "start_time": "2021-06-20T13:44:10.123Z"
   },
   {
    "duration": 9,
    "start_time": "2021-06-20T13:44:10.136Z"
   },
   {
    "duration": 55,
    "start_time": "2021-06-20T13:44:10.148Z"
   },
   {
    "duration": 12,
    "start_time": "2021-06-20T13:44:10.205Z"
   },
   {
    "duration": 7,
    "start_time": "2021-06-20T13:44:10.221Z"
   },
   {
    "duration": 12,
    "start_time": "2021-06-20T13:44:10.232Z"
   },
   {
    "duration": 64,
    "start_time": "2021-06-20T13:44:10.247Z"
   },
   {
    "duration": 22,
    "start_time": "2021-06-20T13:44:10.314Z"
   },
   {
    "duration": 469,
    "start_time": "2021-06-20T13:44:10.339Z"
   },
   {
    "duration": 15,
    "start_time": "2021-06-20T13:44:10.812Z"
   },
   {
    "duration": 559,
    "start_time": "2021-06-20T13:44:10.831Z"
   },
   {
    "duration": 37,
    "start_time": "2021-06-20T13:44:11.393Z"
   },
   {
    "duration": 482,
    "start_time": "2021-06-20T13:44:11.434Z"
   },
   {
    "duration": 507,
    "start_time": "2021-06-20T13:44:11.919Z"
   },
   {
    "duration": 570,
    "start_time": "2021-06-20T13:44:12.430Z"
   },
   {
    "duration": 885,
    "start_time": "2021-06-20T13:44:13.002Z"
   },
   {
    "duration": 651,
    "start_time": "2021-06-20T13:44:13.889Z"
   },
   {
    "duration": 636,
    "start_time": "2021-06-20T13:44:14.543Z"
   },
   {
    "duration": 622,
    "start_time": "2021-06-20T13:44:15.181Z"
   },
   {
    "duration": 518,
    "start_time": "2021-06-20T13:44:15.806Z"
   },
   {
    "duration": 664,
    "start_time": "2021-06-20T13:44:16.327Z"
   },
   {
    "duration": 15,
    "start_time": "2021-06-20T13:44:17.001Z"
   },
   {
    "duration": 1007,
    "start_time": "2021-06-20T13:44:17.021Z"
   },
   {
    "duration": 529,
    "start_time": "2021-06-20T13:47:46.109Z"
   },
   {
    "duration": 632,
    "start_time": "2021-06-20T13:48:03.968Z"
   },
   {
    "duration": 83,
    "start_time": "2021-06-20T13:48:46.919Z"
   },
   {
    "duration": 745,
    "start_time": "2021-06-20T13:48:51.000Z"
   },
   {
    "duration": 602,
    "start_time": "2021-06-20T13:49:00.940Z"
   },
   {
    "duration": 527,
    "start_time": "2021-06-20T13:49:12.869Z"
   },
   {
    "duration": 690,
    "start_time": "2021-06-20T13:49:36.980Z"
   },
   {
    "duration": 784,
    "start_time": "2021-06-20T13:49:59.910Z"
   },
   {
    "duration": 655,
    "start_time": "2021-06-20T13:51:23.699Z"
   },
   {
    "duration": 922,
    "start_time": "2021-06-20T13:52:09.319Z"
   },
   {
    "duration": 609,
    "start_time": "2021-06-20T13:52:29.409Z"
   },
   {
    "duration": 1267,
    "start_time": "2021-06-20T13:52:59.449Z"
   },
   {
    "duration": 1144,
    "start_time": "2021-06-20T13:53:45.999Z"
   },
   {
    "duration": 1164,
    "start_time": "2021-06-20T14:03:59.329Z"
   },
   {
    "duration": 540,
    "start_time": "2021-06-20T14:04:17.499Z"
   },
   {
    "duration": 718,
    "start_time": "2021-06-20T14:04:35.900Z"
   },
   {
    "duration": 1152,
    "start_time": "2021-06-20T14:04:52.340Z"
   },
   {
    "duration": 647,
    "start_time": "2021-06-20T14:05:11.221Z"
   },
   {
    "duration": 1241,
    "start_time": "2021-06-20T14:05:25.670Z"
   },
   {
    "duration": 11,
    "start_time": "2021-06-20T14:20:52.329Z"
   },
   {
    "duration": 283,
    "start_time": "2021-06-20T14:20:58.820Z"
   },
   {
    "duration": 95,
    "start_time": "2021-06-20T14:22:03.050Z"
   },
   {
    "duration": 116,
    "start_time": "2021-06-20T14:22:18.510Z"
   },
   {
    "duration": 96,
    "start_time": "2021-06-20T14:23:43.120Z"
   },
   {
    "duration": 100,
    "start_time": "2021-06-20T14:24:03.070Z"
   },
   {
    "duration": 100,
    "start_time": "2021-06-20T14:25:41.450Z"
   },
   {
    "duration": 165,
    "start_time": "2021-06-20T14:25:55.190Z"
   },
   {
    "duration": 97,
    "start_time": "2021-06-20T14:26:17.169Z"
   },
   {
    "duration": 311,
    "start_time": "2021-06-20T14:27:51.699Z"
   },
   {
    "duration": 9,
    "start_time": "2021-06-20T14:29:41.090Z"
   },
   {
    "duration": 200,
    "start_time": "2021-06-20T14:36:17.144Z"
   },
   {
    "duration": 30,
    "start_time": "2021-06-20T14:36:49.689Z"
   },
   {
    "duration": 18,
    "start_time": "2021-06-20T14:38:37.404Z"
   },
   {
    "duration": 76,
    "start_time": "2021-06-20T14:40:37.423Z"
   },
   {
    "duration": 17,
    "start_time": "2021-06-20T14:40:46.135Z"
   },
   {
    "duration": 75,
    "start_time": "2021-06-20T14:41:19.223Z"
   },
   {
    "duration": 17,
    "start_time": "2021-06-20T14:41:23.813Z"
   },
   {
    "duration": 1434,
    "start_time": "2021-06-20T14:47:00.052Z"
   },
   {
    "duration": 81,
    "start_time": "2021-06-20T14:47:01.489Z"
   },
   {
    "duration": 12,
    "start_time": "2021-06-20T14:47:01.573Z"
   },
   {
    "duration": 17,
    "start_time": "2021-06-20T14:47:01.604Z"
   },
   {
    "duration": 9,
    "start_time": "2021-06-20T14:47:01.624Z"
   },
   {
    "duration": 10,
    "start_time": "2021-06-20T14:47:01.636Z"
   },
   {
    "duration": 12,
    "start_time": "2021-06-20T14:47:01.649Z"
   },
   {
    "duration": 14,
    "start_time": "2021-06-20T14:47:01.705Z"
   },
   {
    "duration": 13,
    "start_time": "2021-06-20T14:47:01.724Z"
   },
   {
    "duration": 16,
    "start_time": "2021-06-20T14:47:01.740Z"
   },
   {
    "duration": 55,
    "start_time": "2021-06-20T14:47:01.759Z"
   },
   {
    "duration": 24,
    "start_time": "2021-06-20T14:47:01.817Z"
   },
   {
    "duration": 32,
    "start_time": "2021-06-20T14:47:01.844Z"
   },
   {
    "duration": 492,
    "start_time": "2021-06-20T14:47:01.878Z"
   },
   {
    "duration": 31,
    "start_time": "2021-06-20T14:47:02.373Z"
   },
   {
    "duration": 567,
    "start_time": "2021-06-20T14:47:02.407Z"
   },
   {
    "duration": 41,
    "start_time": "2021-06-20T14:47:02.976Z"
   },
   {
    "duration": 503,
    "start_time": "2021-06-20T14:47:03.020Z"
   },
   {
    "duration": 553,
    "start_time": "2021-06-20T14:47:03.526Z"
   },
   {
    "duration": 727,
    "start_time": "2021-06-20T14:47:04.081Z"
   },
   {
    "duration": 617,
    "start_time": "2021-06-20T14:47:04.810Z"
   },
   {
    "duration": 824,
    "start_time": "2021-06-20T14:47:05.430Z"
   },
   {
    "duration": 636,
    "start_time": "2021-06-20T14:47:06.260Z"
   },
   {
    "duration": 675,
    "start_time": "2021-06-20T14:47:06.900Z"
   },
   {
    "duration": 631,
    "start_time": "2021-06-20T14:47:07.578Z"
   },
   {
    "duration": 546,
    "start_time": "2021-06-20T14:47:08.213Z"
   },
   {
    "duration": 804,
    "start_time": "2021-06-20T14:47:08.761Z"
   },
   {
    "duration": 31,
    "start_time": "2021-06-20T14:47:09.569Z"
   },
   {
    "duration": 990,
    "start_time": "2021-06-20T14:47:09.605Z"
   },
   {
    "duration": 1234,
    "start_time": "2021-06-20T14:47:10.601Z"
   },
   {
    "duration": 10,
    "start_time": "2021-06-20T14:47:11.838Z"
   },
   {
    "duration": 93,
    "start_time": "2021-06-20T14:47:11.851Z"
   },
   {
    "duration": 17,
    "start_time": "2021-06-20T14:47:11.947Z"
   },
   {
    "duration": 166,
    "start_time": "2021-06-20T14:49:50.813Z"
   },
   {
    "duration": 15,
    "start_time": "2021-06-20T14:49:52.322Z"
   },
   {
    "duration": 73,
    "start_time": "2021-06-20T14:50:23.052Z"
   },
   {
    "duration": 15,
    "start_time": "2021-06-20T14:50:26.942Z"
   },
   {
    "duration": 13,
    "start_time": "2021-06-20T14:51:22.444Z"
   },
   {
    "duration": 13,
    "start_time": "2021-06-20T14:51:32.022Z"
   },
   {
    "duration": 72,
    "start_time": "2021-06-20T14:52:04.292Z"
   },
   {
    "duration": 13,
    "start_time": "2021-06-20T14:52:07.232Z"
   },
   {
    "duration": 71,
    "start_time": "2021-06-20T14:53:05.162Z"
   },
   {
    "duration": 13,
    "start_time": "2021-06-20T14:53:06.863Z"
   },
   {
    "duration": 98,
    "start_time": "2021-06-20T15:00:44.563Z"
   },
   {
    "duration": 13,
    "start_time": "2021-06-20T15:00:53.072Z"
   },
   {
    "duration": 144,
    "start_time": "2021-06-20T15:09:07.083Z"
   },
   {
    "duration": 648,
    "start_time": "2021-06-20T15:09:30.823Z"
   },
   {
    "duration": 422,
    "start_time": "2021-06-20T15:09:40.592Z"
   },
   {
    "duration": 153,
    "start_time": "2021-06-20T15:09:57.206Z"
   },
   {
    "duration": 1491,
    "start_time": "2021-06-20T15:15:10.779Z"
   },
   {
    "duration": 74,
    "start_time": "2021-06-20T15:15:12.272Z"
   },
   {
    "duration": 13,
    "start_time": "2021-06-20T15:15:12.349Z"
   },
   {
    "duration": 37,
    "start_time": "2021-06-20T15:15:12.364Z"
   },
   {
    "duration": 9,
    "start_time": "2021-06-20T15:15:12.403Z"
   },
   {
    "duration": 6,
    "start_time": "2021-06-20T15:15:12.415Z"
   },
   {
    "duration": 10,
    "start_time": "2021-06-20T15:15:12.424Z"
   },
   {
    "duration": 11,
    "start_time": "2021-06-20T15:15:12.439Z"
   },
   {
    "duration": 54,
    "start_time": "2021-06-20T15:15:12.453Z"
   },
   {
    "duration": 14,
    "start_time": "2021-06-20T15:15:12.510Z"
   },
   {
    "duration": 17,
    "start_time": "2021-06-20T15:15:12.527Z"
   },
   {
    "duration": 66,
    "start_time": "2021-06-20T15:15:12.547Z"
   },
   {
    "duration": 29,
    "start_time": "2021-06-20T15:15:12.616Z"
   },
   {
    "duration": 514,
    "start_time": "2021-06-20T15:15:12.648Z"
   },
   {
    "duration": 19,
    "start_time": "2021-06-20T15:15:13.165Z"
   },
   {
    "duration": 564,
    "start_time": "2021-06-20T15:15:13.201Z"
   },
   {
    "duration": 40,
    "start_time": "2021-06-20T15:15:13.768Z"
   },
   {
    "duration": 482,
    "start_time": "2021-06-20T15:15:13.811Z"
   },
   {
    "duration": 528,
    "start_time": "2021-06-20T15:15:14.296Z"
   },
   {
    "duration": 790,
    "start_time": "2021-06-20T15:15:14.826Z"
   },
   {
    "duration": 520,
    "start_time": "2021-06-20T15:15:15.619Z"
   },
   {
    "duration": 816,
    "start_time": "2021-06-20T15:15:16.141Z"
   },
   {
    "duration": 578,
    "start_time": "2021-06-20T15:15:16.960Z"
   },
   {
    "duration": 679,
    "start_time": "2021-06-20T15:15:17.540Z"
   },
   {
    "duration": 652,
    "start_time": "2021-06-20T15:15:18.222Z"
   },
   {
    "duration": 533,
    "start_time": "2021-06-20T15:15:18.879Z"
   },
   {
    "duration": 775,
    "start_time": "2021-06-20T15:15:19.415Z"
   },
   {
    "duration": 19,
    "start_time": "2021-06-20T15:15:20.193Z"
   },
   {
    "duration": 946,
    "start_time": "2021-06-20T15:15:20.215Z"
   },
   {
    "duration": 1561,
    "start_time": "2021-06-20T15:15:21.164Z"
   },
   {
    "duration": 14,
    "start_time": "2021-06-20T15:15:22.728Z"
   },
   {
    "duration": 219,
    "start_time": "2021-06-20T15:15:22.745Z"
   },
   {
    "duration": 17,
    "start_time": "2021-06-20T15:15:22.967Z"
   },
   {
    "duration": 243,
    "start_time": "2021-06-20T15:26:44.700Z"
   },
   {
    "duration": 171,
    "start_time": "2021-06-20T15:26:55.368Z"
   },
   {
    "duration": 169,
    "start_time": "2021-06-20T15:57:52.303Z"
   },
   {
    "duration": 12,
    "start_time": "2021-06-20T16:36:49.042Z"
   },
   {
    "duration": 21,
    "start_time": "2021-06-20T16:37:06.211Z"
   },
   {
    "duration": 13,
    "start_time": "2021-06-20T16:38:11.091Z"
   },
   {
    "duration": 214,
    "start_time": "2021-06-20T20:11:07.557Z"
   },
   {
    "duration": 1083,
    "start_time": "2021-06-20T20:11:17.894Z"
   },
   {
    "duration": 58,
    "start_time": "2021-06-20T20:11:18.979Z"
   },
   {
    "duration": 8,
    "start_time": "2021-06-20T20:11:19.039Z"
   },
   {
    "duration": 10,
    "start_time": "2021-06-20T20:11:19.049Z"
   },
   {
    "duration": 6,
    "start_time": "2021-06-20T20:11:19.060Z"
   },
   {
    "duration": 20,
    "start_time": "2021-06-20T20:11:19.067Z"
   },
   {
    "duration": 5,
    "start_time": "2021-06-20T20:11:19.089Z"
   },
   {
    "duration": 6,
    "start_time": "2021-06-20T20:11:19.097Z"
   },
   {
    "duration": 7,
    "start_time": "2021-06-20T20:11:19.105Z"
   },
   {
    "duration": 4,
    "start_time": "2021-06-20T20:11:19.114Z"
   },
   {
    "duration": 10,
    "start_time": "2021-06-20T20:11:19.119Z"
   },
   {
    "duration": 14,
    "start_time": "2021-06-20T20:11:19.130Z"
   },
   {
    "duration": 52,
    "start_time": "2021-06-20T20:11:19.145Z"
   },
   {
    "duration": 290,
    "start_time": "2021-06-20T20:11:19.199Z"
   },
   {
    "duration": 13,
    "start_time": "2021-06-20T20:11:19.491Z"
   },
   {
    "duration": 344,
    "start_time": "2021-06-20T20:11:19.506Z"
   },
   {
    "duration": 32,
    "start_time": "2021-06-20T20:11:19.852Z"
   },
   {
    "duration": 287,
    "start_time": "2021-06-20T20:11:19.886Z"
   },
   {
    "duration": 318,
    "start_time": "2021-06-20T20:11:20.175Z"
   },
   {
    "duration": 414,
    "start_time": "2021-06-20T20:11:20.495Z"
   },
   {
    "duration": 385,
    "start_time": "2021-06-20T20:11:20.911Z"
   },
   {
    "duration": 474,
    "start_time": "2021-06-20T20:11:21.298Z"
   },
   {
    "duration": 335,
    "start_time": "2021-06-20T20:11:21.784Z"
   },
   {
    "duration": 400,
    "start_time": "2021-06-20T20:11:22.121Z"
   },
   {
    "duration": 373,
    "start_time": "2021-06-20T20:11:22.523Z"
   },
   {
    "duration": 313,
    "start_time": "2021-06-20T20:11:22.898Z"
   },
   {
    "duration": 487,
    "start_time": "2021-06-20T20:11:23.213Z"
   },
   {
    "duration": 11,
    "start_time": "2021-06-20T20:11:23.702Z"
   },
   {
    "duration": 616,
    "start_time": "2021-06-20T20:11:23.715Z"
   },
   {
    "duration": 709,
    "start_time": "2021-06-20T20:11:24.333Z"
   },
   {
    "duration": 9,
    "start_time": "2021-06-20T20:11:25.044Z"
   },
   {
    "duration": 125,
    "start_time": "2021-06-20T20:11:25.055Z"
   },
   {
    "duration": 14,
    "start_time": "2021-06-20T20:11:25.181Z"
   },
   {
    "duration": 11,
    "start_time": "2021-06-20T20:11:25.196Z"
   },
   {
    "duration": 1599,
    "start_time": "2021-06-20T20:11:25.209Z"
   },
   {
    "duration": 57,
    "start_time": "2021-06-20T20:23:02.142Z"
   },
   {
    "duration": 53,
    "start_time": "2021-06-20T20:25:38.344Z"
   },
   {
    "duration": 410,
    "start_time": "2021-06-20T20:25:50.273Z"
   },
   {
    "duration": 3194,
    "start_time": "2021-06-20T20:29:45.954Z"
   },
   {
    "duration": 3882,
    "start_time": "2021-06-20T20:31:42.954Z"
   },
   {
    "duration": 988,
    "start_time": "2021-06-20T20:51:41.084Z"
   },
   {
    "duration": 1040,
    "start_time": "2021-06-20T20:52:04.712Z"
   },
   {
    "duration": 1151,
    "start_time": "2021-06-20T20:54:04.823Z"
   },
   {
    "duration": 7,
    "start_time": "2021-06-20T20:57:19.463Z"
   },
   {
    "duration": 9,
    "start_time": "2021-06-20T20:57:33.542Z"
   },
   {
    "duration": 999,
    "start_time": "2021-06-20T20:57:59.183Z"
   },
   {
    "duration": 1216,
    "start_time": "2021-06-20T21:08:29.953Z"
   },
   {
    "duration": 57,
    "start_time": "2021-06-20T21:08:31.171Z"
   },
   {
    "duration": 8,
    "start_time": "2021-06-20T21:08:31.230Z"
   },
   {
    "duration": 11,
    "start_time": "2021-06-20T21:08:31.240Z"
   },
   {
    "duration": 10,
    "start_time": "2021-06-20T21:08:31.252Z"
   },
   {
    "duration": 22,
    "start_time": "2021-06-20T21:08:31.263Z"
   },
   {
    "duration": 5,
    "start_time": "2021-06-20T21:08:31.287Z"
   },
   {
    "duration": 26,
    "start_time": "2021-06-20T21:08:31.294Z"
   },
   {
    "duration": 14,
    "start_time": "2021-06-20T21:08:31.322Z"
   },
   {
    "duration": 9,
    "start_time": "2021-06-20T21:08:31.338Z"
   },
   {
    "duration": 15,
    "start_time": "2021-06-20T21:08:31.349Z"
   },
   {
    "duration": 20,
    "start_time": "2021-06-20T21:08:31.366Z"
   },
   {
    "duration": 1426,
    "start_time": "2021-06-20T21:08:31.388Z"
   },
   {
    "duration": 7,
    "start_time": "2021-06-20T21:08:32.816Z"
   },
   {
    "duration": 284,
    "start_time": "2021-06-20T21:08:32.825Z"
   },
   {
    "duration": 12,
    "start_time": "2021-06-20T21:08:33.111Z"
   },
   {
    "duration": 349,
    "start_time": "2021-06-20T21:08:33.125Z"
   },
   {
    "duration": 23,
    "start_time": "2021-06-20T21:08:33.476Z"
   },
   {
    "duration": 289,
    "start_time": "2021-06-20T21:08:33.501Z"
   },
   {
    "duration": 384,
    "start_time": "2021-06-20T21:08:33.791Z"
   },
   {
    "duration": 428,
    "start_time": "2021-06-20T21:08:34.176Z"
   },
   {
    "duration": 329,
    "start_time": "2021-06-20T21:08:34.606Z"
   },
   {
    "duration": 500,
    "start_time": "2021-06-20T21:08:34.938Z"
   },
   {
    "duration": 352,
    "start_time": "2021-06-20T21:08:35.440Z"
   },
   {
    "duration": 396,
    "start_time": "2021-06-20T21:08:35.794Z"
   },
   {
    "duration": 479,
    "start_time": "2021-06-20T21:08:36.192Z"
   },
   {
    "duration": 315,
    "start_time": "2021-06-20T21:08:36.673Z"
   },
   {
    "duration": 410,
    "start_time": "2021-06-20T21:08:36.990Z"
   },
   {
    "duration": 10,
    "start_time": "2021-06-20T21:08:37.402Z"
   },
   {
    "duration": 567,
    "start_time": "2021-06-20T21:08:37.414Z"
   },
   {
    "duration": 719,
    "start_time": "2021-06-20T21:08:37.984Z"
   },
   {
    "duration": 7,
    "start_time": "2021-06-20T21:08:38.705Z"
   },
   {
    "duration": 251,
    "start_time": "2021-06-20T21:08:38.714Z"
   },
   {
    "duration": 28,
    "start_time": "2021-06-20T21:08:38.967Z"
   },
   {
    "duration": 11,
    "start_time": "2021-06-20T21:08:38.997Z"
   },
   {
    "duration": 10,
    "start_time": "2021-06-20T21:08:39.009Z"
   },
   {
    "duration": 65,
    "start_time": "2021-06-20T21:08:39.020Z"
   },
   {
    "duration": 128,
    "start_time": "2021-06-20T21:10:20.904Z"
   },
   {
    "duration": 10,
    "start_time": "2021-06-20T21:10:25.895Z"
   },
   {
    "duration": 1135,
    "start_time": "2021-06-20T21:12:35.335Z"
   },
   {
    "duration": 55,
    "start_time": "2021-06-20T21:12:36.472Z"
   },
   {
    "duration": 10,
    "start_time": "2021-06-20T21:12:36.530Z"
   },
   {
    "duration": 11,
    "start_time": "2021-06-20T21:12:36.542Z"
   },
   {
    "duration": 6,
    "start_time": "2021-06-20T21:12:36.554Z"
   },
   {
    "duration": 4,
    "start_time": "2021-06-20T21:12:36.561Z"
   },
   {
    "duration": 5,
    "start_time": "2021-06-20T21:12:36.585Z"
   },
   {
    "duration": 8,
    "start_time": "2021-06-20T21:12:36.592Z"
   },
   {
    "duration": 7,
    "start_time": "2021-06-20T21:12:36.602Z"
   },
   {
    "duration": 15,
    "start_time": "2021-06-20T21:12:36.610Z"
   },
   {
    "duration": 13,
    "start_time": "2021-06-20T21:12:36.627Z"
   },
   {
    "duration": 17,
    "start_time": "2021-06-20T21:12:36.641Z"
   },
   {
    "duration": 1099,
    "start_time": "2021-06-20T21:12:36.660Z"
   },
   {
    "duration": 6,
    "start_time": "2021-06-20T21:12:37.761Z"
   },
   {
    "duration": 279,
    "start_time": "2021-06-20T21:12:37.769Z"
   },
   {
    "duration": 11,
    "start_time": "2021-06-20T21:12:38.050Z"
   },
   {
    "duration": 336,
    "start_time": "2021-06-20T21:12:38.063Z"
   },
   {
    "duration": 19,
    "start_time": "2021-06-20T21:12:38.401Z"
   },
   {
    "duration": 292,
    "start_time": "2021-06-20T21:12:38.421Z"
   },
   {
    "duration": 400,
    "start_time": "2021-06-20T21:12:38.714Z"
   },
   {
    "duration": 425,
    "start_time": "2021-06-20T21:12:39.116Z"
   },
   {
    "duration": 329,
    "start_time": "2021-06-20T21:12:39.542Z"
   },
   {
    "duration": 489,
    "start_time": "2021-06-20T21:12:39.875Z"
   },
   {
    "duration": 345,
    "start_time": "2021-06-20T21:12:40.366Z"
   },
   {
    "duration": 386,
    "start_time": "2021-06-20T21:12:40.713Z"
   },
   {
    "duration": 469,
    "start_time": "2021-06-20T21:12:41.101Z"
   },
   {
    "duration": 317,
    "start_time": "2021-06-20T21:12:41.571Z"
   },
   {
    "duration": 412,
    "start_time": "2021-06-20T21:12:41.889Z"
   },
   {
    "duration": 10,
    "start_time": "2021-06-20T21:12:42.302Z"
   },
   {
    "duration": 567,
    "start_time": "2021-06-20T21:12:42.313Z"
   },
   {
    "duration": 705,
    "start_time": "2021-06-20T21:12:42.884Z"
   },
   {
    "duration": 7,
    "start_time": "2021-06-20T21:12:43.591Z"
   },
   {
    "duration": 232,
    "start_time": "2021-06-20T21:12:43.599Z"
   },
   {
    "duration": 10,
    "start_time": "2021-06-20T21:12:43.833Z"
   },
   {
    "duration": 9,
    "start_time": "2021-06-20T21:12:43.845Z"
   },
   {
    "duration": 8,
    "start_time": "2021-06-20T21:12:43.855Z"
   },
   {
    "duration": 12,
    "start_time": "2021-06-20T21:19:56.042Z"
   },
   {
    "duration": 9,
    "start_time": "2021-06-20T21:21:32.212Z"
   },
   {
    "duration": 307,
    "start_time": "2021-06-20T21:22:46.852Z"
   },
   {
    "duration": 276,
    "start_time": "2021-06-20T21:24:29.762Z"
   },
   {
    "duration": 315,
    "start_time": "2021-06-20T21:24:54.453Z"
   },
   {
    "duration": 16,
    "start_time": "2021-06-20T21:24:55.681Z"
   },
   {
    "duration": 7,
    "start_time": "2021-06-20T21:24:56.602Z"
   },
   {
    "duration": 9,
    "start_time": "2021-06-20T21:27:36.932Z"
   },
   {
    "duration": 11,
    "start_time": "2021-06-20T21:27:59.332Z"
   },
   {
    "duration": 18,
    "start_time": "2021-06-20T21:28:08.393Z"
   },
   {
    "duration": 186,
    "start_time": "2021-06-20T21:28:58.862Z"
   },
   {
    "duration": 1964,
    "start_time": "2021-06-20T21:37:46.433Z"
   },
   {
    "duration": 2000,
    "start_time": "2021-06-20T21:37:59.163Z"
   },
   {
    "duration": 230,
    "start_time": "2021-06-20T21:38:22.861Z"
   },
   {
    "duration": 3,
    "start_time": "2021-06-20T21:38:36.893Z"
   },
   {
    "duration": 165,
    "start_time": "2021-06-20T21:38:46.372Z"
   },
   {
    "duration": 167,
    "start_time": "2021-06-20T21:40:38.591Z"
   },
   {
    "duration": 1113,
    "start_time": "2021-06-20T21:40:57.723Z"
   },
   {
    "duration": 56,
    "start_time": "2021-06-20T21:40:58.838Z"
   },
   {
    "duration": 9,
    "start_time": "2021-06-20T21:40:58.896Z"
   },
   {
    "duration": 9,
    "start_time": "2021-06-20T21:40:58.907Z"
   },
   {
    "duration": 6,
    "start_time": "2021-06-20T21:40:58.918Z"
   },
   {
    "duration": 4,
    "start_time": "2021-06-20T21:40:58.925Z"
   },
   {
    "duration": 6,
    "start_time": "2021-06-20T21:40:58.931Z"
   },
   {
    "duration": 7,
    "start_time": "2021-06-20T21:40:58.939Z"
   },
   {
    "duration": 37,
    "start_time": "2021-06-20T21:40:58.948Z"
   },
   {
    "duration": 4,
    "start_time": "2021-06-20T21:40:58.987Z"
   },
   {
    "duration": 11,
    "start_time": "2021-06-20T21:40:58.992Z"
   },
   {
    "duration": 13,
    "start_time": "2021-06-20T21:40:59.004Z"
   },
   {
    "duration": 1233,
    "start_time": "2021-06-20T21:40:59.018Z"
   },
   {
    "duration": 6,
    "start_time": "2021-06-20T21:41:00.253Z"
   },
   {
    "duration": 296,
    "start_time": "2021-06-20T21:41:00.261Z"
   },
   {
    "duration": 12,
    "start_time": "2021-06-20T21:41:00.559Z"
   },
   {
    "duration": 359,
    "start_time": "2021-06-20T21:41:00.572Z"
   },
   {
    "duration": 20,
    "start_time": "2021-06-20T21:41:00.933Z"
   },
   {
    "duration": 310,
    "start_time": "2021-06-20T21:41:00.954Z"
   },
   {
    "duration": 397,
    "start_time": "2021-06-20T21:41:01.266Z"
   },
   {
    "duration": 433,
    "start_time": "2021-06-20T21:41:01.664Z"
   },
   {
    "duration": 325,
    "start_time": "2021-06-20T21:41:02.099Z"
   },
   {
    "duration": 492,
    "start_time": "2021-06-20T21:41:02.425Z"
   },
   {
    "duration": 351,
    "start_time": "2021-06-20T21:41:02.919Z"
   },
   {
    "duration": 400,
    "start_time": "2021-06-20T21:41:03.272Z"
   },
   {
    "duration": 480,
    "start_time": "2021-06-20T21:41:03.673Z"
   },
   {
    "duration": 324,
    "start_time": "2021-06-20T21:41:04.156Z"
   },
   {
    "duration": 406,
    "start_time": "2021-06-20T21:41:04.485Z"
   },
   {
    "duration": 10,
    "start_time": "2021-06-20T21:41:04.892Z"
   },
   {
    "duration": 581,
    "start_time": "2021-06-20T21:41:04.904Z"
   },
   {
    "duration": 710,
    "start_time": "2021-06-20T21:41:05.487Z"
   },
   {
    "duration": 7,
    "start_time": "2021-06-20T21:41:06.198Z"
   },
   {
    "duration": 234,
    "start_time": "2021-06-20T21:41:06.207Z"
   },
   {
    "duration": 10,
    "start_time": "2021-06-20T21:41:06.442Z"
   },
   {
    "duration": 323,
    "start_time": "2021-06-20T21:41:06.454Z"
   },
   {
    "duration": 284,
    "start_time": "2021-06-20T21:41:06.779Z"
   },
   {
    "duration": -1009,
    "start_time": "2021-06-20T21:41:08.074Z"
   },
   {
    "duration": -1011,
    "start_time": "2021-06-20T21:41:08.077Z"
   },
   {
    "duration": 2001,
    "start_time": "2021-06-20T21:41:23.073Z"
   },
   {
    "duration": 181,
    "start_time": "2021-06-20T21:41:48.403Z"
   },
   {
    "duration": 3,
    "start_time": "2021-06-20T21:42:27.853Z"
   },
   {
    "duration": 473,
    "start_time": "2021-06-20T21:43:21.933Z"
   },
   {
    "duration": 639,
    "start_time": "2021-06-20T21:46:26.413Z"
   },
   {
    "duration": 649,
    "start_time": "2021-06-20T21:46:33.312Z"
   },
   {
    "duration": 469,
    "start_time": "2021-06-20T21:47:41.522Z"
   },
   {
    "duration": 475,
    "start_time": "2021-06-20T21:48:04.653Z"
   },
   {
    "duration": 9,
    "start_time": "2021-06-20T21:48:37.333Z"
   },
   {
    "duration": 12,
    "start_time": "2021-06-20T21:49:22.982Z"
   },
   {
    "duration": 9,
    "start_time": "2021-06-20T21:49:56.553Z"
   },
   {
    "duration": 202,
    "start_time": "2021-06-20T21:54:57.154Z"
   },
   {
    "duration": 206,
    "start_time": "2021-06-20T21:57:22.598Z"
   },
   {
    "duration": 1193,
    "start_time": "2021-06-20T21:57:48.696Z"
   },
   {
    "duration": 55,
    "start_time": "2021-06-20T21:57:49.891Z"
   },
   {
    "duration": 9,
    "start_time": "2021-06-20T21:57:49.948Z"
   },
   {
    "duration": 7,
    "start_time": "2021-06-20T21:57:49.959Z"
   },
   {
    "duration": 22,
    "start_time": "2021-06-20T21:57:49.967Z"
   },
   {
    "duration": 5,
    "start_time": "2021-06-20T21:57:49.990Z"
   },
   {
    "duration": 9,
    "start_time": "2021-06-20T21:57:49.996Z"
   },
   {
    "duration": 9,
    "start_time": "2021-06-20T21:57:50.007Z"
   },
   {
    "duration": 7,
    "start_time": "2021-06-20T21:57:50.018Z"
   },
   {
    "duration": 5,
    "start_time": "2021-06-20T21:57:50.027Z"
   },
   {
    "duration": 51,
    "start_time": "2021-06-20T21:57:50.034Z"
   },
   {
    "duration": 14,
    "start_time": "2021-06-20T21:57:50.087Z"
   },
   {
    "duration": 1188,
    "start_time": "2021-06-20T21:57:50.102Z"
   },
   {
    "duration": 6,
    "start_time": "2021-06-20T21:57:51.292Z"
   },
   {
    "duration": 302,
    "start_time": "2021-06-20T21:57:51.300Z"
   },
   {
    "duration": 11,
    "start_time": "2021-06-20T21:57:51.604Z"
   },
   {
    "duration": 345,
    "start_time": "2021-06-20T21:57:51.617Z"
   },
   {
    "duration": 23,
    "start_time": "2021-06-20T21:57:51.964Z"
   },
   {
    "duration": 295,
    "start_time": "2021-06-20T21:57:51.989Z"
   },
   {
    "duration": 386,
    "start_time": "2021-06-20T21:57:52.286Z"
   },
   {
    "duration": 433,
    "start_time": "2021-06-20T21:57:52.673Z"
   },
   {
    "duration": 325,
    "start_time": "2021-06-20T21:57:53.108Z"
   },
   {
    "duration": 496,
    "start_time": "2021-06-20T21:57:53.437Z"
   },
   {
    "duration": 366,
    "start_time": "2021-06-20T21:57:53.936Z"
   },
   {
    "duration": 399,
    "start_time": "2021-06-20T21:57:54.305Z"
   },
   {
    "duration": 483,
    "start_time": "2021-06-20T21:57:54.706Z"
   },
   {
    "duration": 324,
    "start_time": "2021-06-20T21:57:55.191Z"
   },
   {
    "duration": 398,
    "start_time": "2021-06-20T21:57:55.517Z"
   },
   {
    "duration": 9,
    "start_time": "2021-06-20T21:57:55.917Z"
   },
   {
    "duration": 578,
    "start_time": "2021-06-20T21:57:55.928Z"
   },
   {
    "duration": 712,
    "start_time": "2021-06-20T21:57:56.508Z"
   },
   {
    "duration": 7,
    "start_time": "2021-06-20T21:57:57.221Z"
   },
   {
    "duration": 226,
    "start_time": "2021-06-20T21:57:57.230Z"
   },
   {
    "duration": 12,
    "start_time": "2021-06-20T21:57:57.458Z"
   },
   {
    "duration": 314,
    "start_time": "2021-06-20T21:57:57.484Z"
   },
   {
    "duration": 2,
    "start_time": "2021-06-20T21:57:57.800Z"
   },
   {
    "duration": 481,
    "start_time": "2021-06-20T21:57:57.804Z"
   },
   {
    "duration": 280,
    "start_time": "2021-06-20T21:57:58.287Z"
   },
   {
    "duration": 10,
    "start_time": "2021-06-20T22:01:53.227Z"
   },
   {
    "duration": 671,
    "start_time": "2021-06-20T22:02:43.227Z"
   },
   {
    "duration": 9,
    "start_time": "2021-06-20T22:02:59.416Z"
   },
   {
    "duration": 188,
    "start_time": "2021-06-20T22:07:05.088Z"
   },
   {
    "duration": 169,
    "start_time": "2021-06-20T22:07:21.489Z"
   },
   {
    "duration": 17,
    "start_time": "2021-06-20T22:08:00.556Z"
   },
   {
    "duration": 16,
    "start_time": "2021-06-20T22:08:46.617Z"
   },
   {
    "duration": -943,
    "start_time": "2021-06-20T22:11:59.901Z"
   },
   {
    "duration": -969,
    "start_time": "2021-06-20T22:13:08.813Z"
   },
   {
    "duration": 21320,
    "start_time": "2021-06-20T22:13:09.407Z"
   },
   {
    "duration": 480,
    "start_time": "2021-06-20T22:15:42.127Z"
   },
   {
    "duration": 1148,
    "start_time": "2021-06-20T22:16:03.440Z"
   },
   {
    "duration": 57,
    "start_time": "2021-06-20T22:16:04.590Z"
   },
   {
    "duration": 7,
    "start_time": "2021-06-20T22:16:04.649Z"
   },
   {
    "duration": 7,
    "start_time": "2021-06-20T22:16:04.658Z"
   },
   {
    "duration": 19,
    "start_time": "2021-06-20T22:16:04.667Z"
   },
   {
    "duration": 4,
    "start_time": "2021-06-20T22:16:04.687Z"
   },
   {
    "duration": 8,
    "start_time": "2021-06-20T22:16:04.693Z"
   },
   {
    "duration": 8,
    "start_time": "2021-06-20T22:16:04.704Z"
   },
   {
    "duration": 7,
    "start_time": "2021-06-20T22:16:04.713Z"
   },
   {
    "duration": 6,
    "start_time": "2021-06-20T22:16:04.722Z"
   },
   {
    "duration": 9,
    "start_time": "2021-06-20T22:16:04.730Z"
   },
   {
    "duration": 47,
    "start_time": "2021-06-20T22:16:04.741Z"
   },
   {
    "duration": 1189,
    "start_time": "2021-06-20T22:16:04.790Z"
   },
   {
    "duration": 6,
    "start_time": "2021-06-20T22:16:05.980Z"
   },
   {
    "duration": 299,
    "start_time": "2021-06-20T22:16:05.988Z"
   },
   {
    "duration": 11,
    "start_time": "2021-06-20T22:16:06.289Z"
   },
   {
    "duration": 353,
    "start_time": "2021-06-20T22:16:06.301Z"
   },
   {
    "duration": 30,
    "start_time": "2021-06-20T22:16:06.656Z"
   },
   {
    "duration": 289,
    "start_time": "2021-06-20T22:16:06.688Z"
   },
   {
    "duration": 399,
    "start_time": "2021-06-20T22:16:06.979Z"
   },
   {
    "duration": 427,
    "start_time": "2021-06-20T22:16:07.380Z"
   },
   {
    "duration": 330,
    "start_time": "2021-06-20T22:16:07.808Z"
   },
   {
    "duration": 509,
    "start_time": "2021-06-20T22:16:08.141Z"
   },
   {
    "duration": 386,
    "start_time": "2021-06-20T22:16:08.652Z"
   },
   {
    "duration": 407,
    "start_time": "2021-06-20T22:16:09.040Z"
   },
   {
    "duration": 486,
    "start_time": "2021-06-20T22:16:09.449Z"
   },
   {
    "duration": 337,
    "start_time": "2021-06-20T22:16:09.936Z"
   },
   {
    "duration": 406,
    "start_time": "2021-06-20T22:16:10.274Z"
   },
   {
    "duration": 10,
    "start_time": "2021-06-20T22:16:10.682Z"
   },
   {
    "duration": 579,
    "start_time": "2021-06-20T22:16:10.694Z"
   },
   {
    "duration": 713,
    "start_time": "2021-06-20T22:16:11.275Z"
   },
   {
    "duration": 7,
    "start_time": "2021-06-20T22:16:11.989Z"
   },
   {
    "duration": 225,
    "start_time": "2021-06-20T22:16:11.998Z"
   },
   {
    "duration": 10,
    "start_time": "2021-06-20T22:16:12.225Z"
   },
   {
    "duration": 321,
    "start_time": "2021-06-20T22:16:12.237Z"
   },
   {
    "duration": 471,
    "start_time": "2021-06-20T22:16:12.559Z"
   },
   {
    "duration": 14,
    "start_time": "2021-06-20T22:16:13.032Z"
   },
   {
    "duration": 269,
    "start_time": "2021-06-20T22:16:13.047Z"
   },
   {
    "duration": 30,
    "start_time": "2021-06-20T22:16:58.159Z"
   },
   {
    "duration": 2,
    "start_time": "2021-06-20T22:17:27.730Z"
   },
   {
    "duration": 30,
    "start_time": "2021-06-20T22:17:28.729Z"
   },
   {
    "duration": 15,
    "start_time": "2021-06-20T22:19:07.489Z"
   },
   {
    "duration": 452,
    "start_time": "2021-06-20T22:20:54.999Z"
   },
   {
    "duration": 11,
    "start_time": "2021-06-20T22:25:07.849Z"
   },
   {
    "duration": 1576,
    "start_time": "2021-06-20T22:25:47.409Z"
   },
   {
    "duration": 1367,
    "start_time": "2021-06-20T22:26:16.001Z"
   },
   {
    "duration": 1379,
    "start_time": "2021-06-20T22:27:36.309Z"
   },
   {
    "duration": 465,
    "start_time": "2021-06-20T22:28:15.960Z"
   },
   {
    "duration": 462,
    "start_time": "2021-06-20T22:28:26.828Z"
   },
   {
    "duration": 479,
    "start_time": "2021-06-20T22:31:09.120Z"
   },
   {
    "duration": 460,
    "start_time": "2021-06-20T22:31:19.569Z"
   },
   {
    "duration": 533,
    "start_time": "2021-06-20T22:31:31.579Z"
   },
   {
    "duration": 16,
    "start_time": "2021-06-20T22:31:45.610Z"
   },
   {
    "duration": 504,
    "start_time": "2021-06-20T22:32:25.698Z"
   },
   {
    "duration": 15,
    "start_time": "2021-06-20T22:32:33.851Z"
   },
   {
    "duration": 474,
    "start_time": "2021-06-20T22:33:14.059Z"
   },
   {
    "duration": 461,
    "start_time": "2021-06-20T22:33:35.060Z"
   },
   {
    "duration": 476,
    "start_time": "2021-06-20T22:34:10.230Z"
   },
   {
    "duration": 489,
    "start_time": "2021-06-20T22:34:30.098Z"
   },
   {
    "duration": 491,
    "start_time": "2021-06-20T22:34:45.540Z"
   },
   {
    "duration": 23,
    "start_time": "2021-06-20T22:34:53.290Z"
   },
   {
    "duration": 25,
    "start_time": "2021-06-20T22:36:22.669Z"
   },
   {
    "duration": 863,
    "start_time": "2021-06-20T22:37:55.049Z"
   },
   {
    "duration": 24,
    "start_time": "2021-06-20T22:38:27.339Z"
   },
   {
    "duration": 184,
    "start_time": "2021-06-20T22:38:56.959Z"
   },
   {
    "duration": 183,
    "start_time": "2021-06-20T22:39:10.579Z"
   },
   {
    "duration": 462,
    "start_time": "2021-06-20T22:39:33.019Z"
   },
   {
    "duration": 171,
    "start_time": "2021-06-20T22:39:35.339Z"
   },
   {
    "duration": 1217,
    "start_time": "2021-06-20T22:40:09.065Z"
   },
   {
    "duration": 57,
    "start_time": "2021-06-20T22:40:10.285Z"
   },
   {
    "duration": 8,
    "start_time": "2021-06-20T22:40:10.343Z"
   },
   {
    "duration": 9,
    "start_time": "2021-06-20T22:40:10.353Z"
   },
   {
    "duration": 6,
    "start_time": "2021-06-20T22:40:10.363Z"
   },
   {
    "duration": 4,
    "start_time": "2021-06-20T22:40:10.370Z"
   },
   {
    "duration": 6,
    "start_time": "2021-06-20T22:40:10.375Z"
   },
   {
    "duration": 7,
    "start_time": "2021-06-20T22:40:10.383Z"
   },
   {
    "duration": 6,
    "start_time": "2021-06-20T22:40:10.392Z"
   },
   {
    "duration": 5,
    "start_time": "2021-06-20T22:40:10.399Z"
   },
   {
    "duration": 10,
    "start_time": "2021-06-20T22:40:10.406Z"
   },
   {
    "duration": 13,
    "start_time": "2021-06-20T22:40:10.418Z"
   },
   {
    "duration": 1237,
    "start_time": "2021-06-20T22:40:10.432Z"
   },
   {
    "duration": 6,
    "start_time": "2021-06-20T22:40:11.670Z"
   },
   {
    "duration": 301,
    "start_time": "2021-06-20T22:40:11.677Z"
   },
   {
    "duration": 12,
    "start_time": "2021-06-20T22:40:11.981Z"
   },
   {
    "duration": 339,
    "start_time": "2021-06-20T22:40:11.995Z"
   },
   {
    "duration": 19,
    "start_time": "2021-06-20T22:40:12.336Z"
   },
   {
    "duration": 292,
    "start_time": "2021-06-20T22:40:12.357Z"
   },
   {
    "duration": 378,
    "start_time": "2021-06-20T22:40:12.651Z"
   },
   {
    "duration": 413,
    "start_time": "2021-06-20T22:40:13.031Z"
   },
   {
    "duration": 320,
    "start_time": "2021-06-20T22:40:13.446Z"
   },
   {
    "duration": 476,
    "start_time": "2021-06-20T22:40:13.769Z"
   },
   {
    "duration": 355,
    "start_time": "2021-06-20T22:40:14.247Z"
   },
   {
    "duration": 387,
    "start_time": "2021-06-20T22:40:14.604Z"
   },
   {
    "duration": 473,
    "start_time": "2021-06-20T22:40:14.993Z"
   },
   {
    "duration": 316,
    "start_time": "2021-06-20T22:40:15.468Z"
   },
   {
    "duration": 408,
    "start_time": "2021-06-20T22:40:15.786Z"
   },
   {
    "duration": 9,
    "start_time": "2021-06-20T22:40:16.196Z"
   },
   {
    "duration": 548,
    "start_time": "2021-06-20T22:40:16.207Z"
   },
   {
    "duration": 698,
    "start_time": "2021-06-20T22:40:16.758Z"
   },
   {
    "duration": 8,
    "start_time": "2021-06-20T22:40:17.459Z"
   },
   {
    "duration": 232,
    "start_time": "2021-06-20T22:40:17.469Z"
   },
   {
    "duration": 12,
    "start_time": "2021-06-20T22:40:17.703Z"
   },
   {
    "duration": 326,
    "start_time": "2021-06-20T22:40:17.717Z"
   },
   {
    "duration": 473,
    "start_time": "2021-06-20T22:40:18.044Z"
   },
   {
    "duration": 273,
    "start_time": "2021-06-20T22:40:18.519Z"
   },
   {
    "duration": -1043,
    "start_time": "2021-06-20T22:40:19.837Z"
   },
   {
    "duration": 180,
    "start_time": "2021-06-20T22:40:48.404Z"
   },
   {
    "duration": 7,
    "start_time": "2021-06-20T22:41:58.785Z"
   },
   {
    "duration": 5,
    "start_time": "2021-06-20T22:42:12.994Z"
   },
   {
    "duration": 126,
    "start_time": "2021-06-20T22:42:51.104Z"
   },
   {
    "duration": 11,
    "start_time": "2021-06-20T22:42:52.444Z"
   },
   {
    "duration": 312,
    "start_time": "2021-06-20T22:42:59.804Z"
   },
   {
    "duration": 296,
    "start_time": "2021-06-20T22:43:07.305Z"
   },
   {
    "duration": 466,
    "start_time": "2021-06-20T22:43:14.254Z"
   },
   {
    "duration": 5,
    "start_time": "2021-06-20T22:43:19.145Z"
   },
   {
    "duration": 9,
    "start_time": "2021-06-20T22:43:34.855Z"
   },
   {
    "duration": 4633,
    "start_time": "2021-06-20T22:44:20.605Z"
   },
   {
    "duration": 5161,
    "start_time": "2021-06-20T22:44:26.584Z"
   },
   {
    "duration": 6,
    "start_time": "2021-06-20T22:45:04.524Z"
   },
   {
    "duration": 10,
    "start_time": "2021-06-20T22:45:14.525Z"
   },
   {
    "duration": 9,
    "start_time": "2021-06-20T22:45:38.954Z"
   },
   {
    "duration": 8,
    "start_time": "2021-06-20T22:45:46.584Z"
   },
   {
    "duration": 199,
    "start_time": "2021-06-20T22:46:32.694Z"
   },
   {
    "duration": 181,
    "start_time": "2021-06-20T22:46:38.844Z"
   },
   {
    "duration": 173,
    "start_time": "2021-06-20T22:47:03.695Z"
   },
   {
    "duration": 185,
    "start_time": "2021-06-20T22:47:13.454Z"
   },
   {
    "duration": 171,
    "start_time": "2021-06-20T22:50:14.534Z"
   },
   {
    "duration": 1123,
    "start_time": "2021-06-20T22:51:07.723Z"
   },
   {
    "duration": 66,
    "start_time": "2021-06-20T22:51:08.848Z"
   },
   {
    "duration": 9,
    "start_time": "2021-06-20T22:51:08.916Z"
   },
   {
    "duration": 8,
    "start_time": "2021-06-20T22:51:08.927Z"
   },
   {
    "duration": 10,
    "start_time": "2021-06-20T22:51:08.936Z"
   },
   {
    "duration": 5,
    "start_time": "2021-06-20T22:51:08.947Z"
   },
   {
    "duration": 8,
    "start_time": "2021-06-20T22:51:08.953Z"
   },
   {
    "duration": 28,
    "start_time": "2021-06-20T22:51:08.963Z"
   },
   {
    "duration": 7,
    "start_time": "2021-06-20T22:51:08.995Z"
   },
   {
    "duration": 5,
    "start_time": "2021-06-20T22:51:09.005Z"
   },
   {
    "duration": 10,
    "start_time": "2021-06-20T22:51:09.012Z"
   },
   {
    "duration": 14,
    "start_time": "2021-06-20T22:51:09.024Z"
   },
   {
    "duration": 1140,
    "start_time": "2021-06-20T22:51:09.039Z"
   },
   {
    "duration": 7,
    "start_time": "2021-06-20T22:51:10.181Z"
   },
   {
    "duration": 287,
    "start_time": "2021-06-20T22:51:10.190Z"
   },
   {
    "duration": 15,
    "start_time": "2021-06-20T22:51:10.480Z"
   },
   {
    "duration": 348,
    "start_time": "2021-06-20T22:51:10.496Z"
   },
   {
    "duration": 22,
    "start_time": "2021-06-20T22:51:10.846Z"
   },
   {
    "duration": 304,
    "start_time": "2021-06-20T22:51:10.869Z"
   },
   {
    "duration": 386,
    "start_time": "2021-06-20T22:51:11.175Z"
   },
   {
    "duration": 434,
    "start_time": "2021-06-20T22:51:11.562Z"
   },
   {
    "duration": 344,
    "start_time": "2021-06-20T22:51:11.997Z"
   },
   {
    "duration": 491,
    "start_time": "2021-06-20T22:51:12.343Z"
   },
   {
    "duration": 418,
    "start_time": "2021-06-20T22:51:12.835Z"
   },
   {
    "duration": 411,
    "start_time": "2021-06-20T22:51:13.255Z"
   },
   {
    "duration": 460,
    "start_time": "2021-06-20T22:51:13.668Z"
   },
   {
    "duration": 317,
    "start_time": "2021-06-20T22:51:14.131Z"
   },
   {
    "duration": 411,
    "start_time": "2021-06-20T22:51:14.450Z"
   },
   {
    "duration": 10,
    "start_time": "2021-06-20T22:51:14.862Z"
   },
   {
    "duration": 567,
    "start_time": "2021-06-20T22:51:14.874Z"
   },
   {
    "duration": 719,
    "start_time": "2021-06-20T22:51:15.443Z"
   },
   {
    "duration": 7,
    "start_time": "2021-06-20T22:51:16.164Z"
   },
   {
    "duration": 235,
    "start_time": "2021-06-20T22:51:16.173Z"
   },
   {
    "duration": 11,
    "start_time": "2021-06-20T22:51:16.410Z"
   },
   {
    "duration": 326,
    "start_time": "2021-06-20T22:51:16.422Z"
   },
   {
    "duration": 470,
    "start_time": "2021-06-20T22:51:16.750Z"
   },
   {
    "duration": 274,
    "start_time": "2021-06-20T22:51:17.221Z"
   },
   {
    "duration": 13,
    "start_time": "2021-06-20T22:51:41.073Z"
   },
   {
    "duration": 182,
    "start_time": "2021-06-20T22:53:54.413Z"
   },
   {
    "duration": 5,
    "start_time": "2021-06-20T22:54:30.764Z"
   },
   {
    "duration": 705,
    "start_time": "2021-06-20T22:55:16.623Z"
   },
   {
    "duration": 293,
    "start_time": "2021-06-20T22:55:35.113Z"
   },
   {
    "duration": 202,
    "start_time": "2021-06-20T22:55:52.973Z"
   },
   {
    "duration": 10,
    "start_time": "2021-06-20T22:56:04.642Z"
   },
   {
    "duration": 172,
    "start_time": "2021-06-20T22:56:34.522Z"
   },
   {
    "duration": 10,
    "start_time": "2021-06-20T22:56:42.882Z"
   },
   {
    "duration": 168,
    "start_time": "2021-06-20T22:56:49.525Z"
   },
   {
    "duration": 185,
    "start_time": "2021-06-20T22:57:04.373Z"
   },
   {
    "duration": 11,
    "start_time": "2021-06-20T22:57:12.662Z"
   },
   {
    "duration": 7,
    "start_time": "2021-06-20T22:57:26.006Z"
   },
   {
    "duration": 14,
    "start_time": "2021-06-20T22:57:37.854Z"
   },
   {
    "duration": 13,
    "start_time": "2021-06-20T22:57:56.365Z"
   },
   {
    "duration": 14,
    "start_time": "2021-06-20T22:58:16.562Z"
   },
   {
    "duration": 13,
    "start_time": "2021-06-20T22:58:53.764Z"
   },
   {
    "duration": 265,
    "start_time": "2021-06-20T22:59:34.023Z"
   },
   {
    "duration": 12,
    "start_time": "2021-06-20T22:59:46.803Z"
   },
   {
    "duration": 183,
    "start_time": "2021-06-20T23:00:02.104Z"
   },
   {
    "duration": 5,
    "start_time": "2021-06-20T23:00:13.803Z"
   },
   {
    "duration": 290,
    "start_time": "2021-06-20T23:00:27.313Z"
   },
   {
    "duration": 476,
    "start_time": "2021-06-20T23:00:38.392Z"
   },
   {
    "duration": 6,
    "start_time": "2021-06-20T23:00:43.823Z"
   },
   {
    "duration": 10,
    "start_time": "2021-06-20T23:01:00.443Z"
   },
   {
    "duration": 184,
    "start_time": "2021-06-20T23:01:23.194Z"
   },
   {
    "duration": 181,
    "start_time": "2021-06-20T23:02:03.182Z"
   },
   {
    "duration": 5,
    "start_time": "2021-06-20T23:02:47.703Z"
   },
   {
    "duration": 7,
    "start_time": "2021-06-20T23:02:53.273Z"
   },
   {
    "duration": 10,
    "start_time": "2021-06-20T23:03:02.994Z"
   },
   {
    "duration": 691,
    "start_time": "2021-06-20T23:03:12.563Z"
   },
   {
    "duration": 734,
    "start_time": "2021-06-20T23:03:33.464Z"
   },
   {
    "duration": 1152,
    "start_time": "2021-06-20T23:04:09.127Z"
   },
   {
    "duration": 56,
    "start_time": "2021-06-20T23:04:10.280Z"
   },
   {
    "duration": 7,
    "start_time": "2021-06-20T23:04:10.338Z"
   },
   {
    "duration": 9,
    "start_time": "2021-06-20T23:04:10.347Z"
   },
   {
    "duration": 5,
    "start_time": "2021-06-20T23:04:10.358Z"
   },
   {
    "duration": 5,
    "start_time": "2021-06-20T23:04:10.364Z"
   },
   {
    "duration": 14,
    "start_time": "2021-06-20T23:04:10.371Z"
   },
   {
    "duration": 7,
    "start_time": "2021-06-20T23:04:10.387Z"
   },
   {
    "duration": 7,
    "start_time": "2021-06-20T23:04:10.396Z"
   },
   {
    "duration": 5,
    "start_time": "2021-06-20T23:04:10.404Z"
   },
   {
    "duration": 8,
    "start_time": "2021-06-20T23:04:10.411Z"
   },
   {
    "duration": 16,
    "start_time": "2021-06-20T23:04:10.421Z"
   },
   {
    "duration": 971,
    "start_time": "2021-06-20T23:04:10.438Z"
   },
   {
    "duration": 6,
    "start_time": "2021-06-20T23:04:11.411Z"
   },
   {
    "duration": 286,
    "start_time": "2021-06-20T23:04:11.418Z"
   },
   {
    "duration": 11,
    "start_time": "2021-06-20T23:04:11.705Z"
   },
   {
    "duration": 357,
    "start_time": "2021-06-20T23:04:11.717Z"
   },
   {
    "duration": 24,
    "start_time": "2021-06-20T23:04:12.076Z"
   },
   {
    "duration": 297,
    "start_time": "2021-06-20T23:04:12.102Z"
   },
   {
    "duration": 373,
    "start_time": "2021-06-20T23:04:12.401Z"
   },
   {
    "duration": 419,
    "start_time": "2021-06-20T23:04:12.776Z"
   },
   {
    "duration": 315,
    "start_time": "2021-06-20T23:04:13.197Z"
   },
   {
    "duration": 474,
    "start_time": "2021-06-20T23:04:13.515Z"
   },
   {
    "duration": 356,
    "start_time": "2021-06-20T23:04:13.991Z"
   },
   {
    "duration": 396,
    "start_time": "2021-06-20T23:04:14.349Z"
   },
   {
    "duration": 475,
    "start_time": "2021-06-20T23:04:14.747Z"
   },
   {
    "duration": 304,
    "start_time": "2021-06-20T23:04:15.223Z"
   },
   {
    "duration": 400,
    "start_time": "2021-06-20T23:04:15.528Z"
   },
   {
    "duration": 9,
    "start_time": "2021-06-20T23:04:15.930Z"
   },
   {
    "duration": 566,
    "start_time": "2021-06-20T23:04:15.941Z"
   },
   {
    "duration": 798,
    "start_time": "2021-06-20T23:04:16.509Z"
   },
   {
    "duration": 7,
    "start_time": "2021-06-20T23:04:17.309Z"
   },
   {
    "duration": 304,
    "start_time": "2021-06-20T23:04:17.318Z"
   },
   {
    "duration": 11,
    "start_time": "2021-06-20T23:04:17.623Z"
   },
   {
    "duration": 311,
    "start_time": "2021-06-20T23:04:17.636Z"
   },
   {
    "duration": 473,
    "start_time": "2021-06-20T23:04:17.948Z"
   },
   {
    "duration": 12,
    "start_time": "2021-06-20T23:04:18.422Z"
   },
   {
    "duration": 14,
    "start_time": "2021-06-20T23:04:18.435Z"
   },
   {
    "duration": 944,
    "start_time": "2021-06-20T23:04:29.727Z"
   },
   {
    "duration": 1128,
    "start_time": "2021-06-20T23:04:42.114Z"
   },
   {
    "duration": 54,
    "start_time": "2021-06-20T23:04:43.243Z"
   },
   {
    "duration": 7,
    "start_time": "2021-06-20T23:04:43.299Z"
   },
   {
    "duration": 8,
    "start_time": "2021-06-20T23:04:43.308Z"
   },
   {
    "duration": 5,
    "start_time": "2021-06-20T23:04:43.318Z"
   },
   {
    "duration": 5,
    "start_time": "2021-06-20T23:04:43.324Z"
   },
   {
    "duration": 9,
    "start_time": "2021-06-20T23:04:43.330Z"
   },
   {
    "duration": 7,
    "start_time": "2021-06-20T23:04:43.341Z"
   },
   {
    "duration": 37,
    "start_time": "2021-06-20T23:04:43.350Z"
   },
   {
    "duration": 5,
    "start_time": "2021-06-20T23:04:43.389Z"
   },
   {
    "duration": 9,
    "start_time": "2021-06-20T23:04:43.395Z"
   },
   {
    "duration": 13,
    "start_time": "2021-06-20T23:04:43.406Z"
   },
   {
    "duration": 797,
    "start_time": "2021-06-20T23:04:43.420Z"
   },
   {
    "duration": 6,
    "start_time": "2021-06-20T23:04:44.218Z"
   },
   {
    "duration": 296,
    "start_time": "2021-06-20T23:04:44.226Z"
   },
   {
    "duration": 11,
    "start_time": "2021-06-20T23:04:44.524Z"
   },
   {
    "duration": 350,
    "start_time": "2021-06-20T23:04:44.537Z"
   },
   {
    "duration": 21,
    "start_time": "2021-06-20T23:04:44.889Z"
   },
   {
    "duration": 304,
    "start_time": "2021-06-20T23:04:44.911Z"
   },
   {
    "duration": 388,
    "start_time": "2021-06-20T23:04:45.216Z"
   },
   {
    "duration": 437,
    "start_time": "2021-06-20T23:04:45.605Z"
   },
   {
    "duration": 333,
    "start_time": "2021-06-20T23:04:46.043Z"
   },
   {
    "duration": 508,
    "start_time": "2021-06-20T23:04:46.378Z"
   },
   {
    "duration": 355,
    "start_time": "2021-06-20T23:04:46.888Z"
   },
   {
    "duration": 404,
    "start_time": "2021-06-20T23:04:47.245Z"
   },
   {
    "duration": 492,
    "start_time": "2021-06-20T23:04:47.650Z"
   },
   {
    "duration": 320,
    "start_time": "2021-06-20T23:04:48.145Z"
   },
   {
    "duration": 407,
    "start_time": "2021-06-20T23:04:48.467Z"
   },
   {
    "duration": 15,
    "start_time": "2021-06-20T23:04:48.876Z"
   },
   {
    "duration": 564,
    "start_time": "2021-06-20T23:04:48.893Z"
   },
   {
    "duration": 732,
    "start_time": "2021-06-20T23:04:49.459Z"
   },
   {
    "duration": 7,
    "start_time": "2021-06-20T23:04:50.193Z"
   },
   {
    "duration": 236,
    "start_time": "2021-06-20T23:04:50.202Z"
   },
   {
    "duration": 10,
    "start_time": "2021-06-20T23:04:50.440Z"
   },
   {
    "duration": 310,
    "start_time": "2021-06-20T23:04:50.452Z"
   },
   {
    "duration": 474,
    "start_time": "2021-06-20T23:04:50.763Z"
   },
   {
    "duration": 12,
    "start_time": "2021-06-20T23:04:51.238Z"
   },
   {
    "duration": 11,
    "start_time": "2021-06-20T23:04:51.251Z"
   },
   {
    "duration": 1185,
    "start_time": "2021-06-20T23:06:26.485Z"
   },
   {
    "duration": 55,
    "start_time": "2021-06-20T23:06:27.671Z"
   },
   {
    "duration": 8,
    "start_time": "2021-06-20T23:06:27.727Z"
   },
   {
    "duration": 6,
    "start_time": "2021-06-20T23:06:27.737Z"
   },
   {
    "duration": 5,
    "start_time": "2021-06-20T23:06:27.745Z"
   },
   {
    "duration": 3,
    "start_time": "2021-06-20T23:06:27.752Z"
   },
   {
    "duration": 29,
    "start_time": "2021-06-20T23:06:27.757Z"
   },
   {
    "duration": 7,
    "start_time": "2021-06-20T23:06:27.789Z"
   },
   {
    "duration": 6,
    "start_time": "2021-06-20T23:06:27.798Z"
   },
   {
    "duration": 4,
    "start_time": "2021-06-20T23:06:27.806Z"
   },
   {
    "duration": 10,
    "start_time": "2021-06-20T23:06:27.812Z"
   },
   {
    "duration": 15,
    "start_time": "2021-06-20T23:06:27.823Z"
   },
   {
    "duration": 811,
    "start_time": "2021-06-20T23:06:27.839Z"
   },
   {
    "duration": 7,
    "start_time": "2021-06-20T23:06:28.652Z"
   },
   {
    "duration": 276,
    "start_time": "2021-06-20T23:06:28.660Z"
   },
   {
    "duration": 12,
    "start_time": "2021-06-20T23:06:28.938Z"
   },
   {
    "duration": 344,
    "start_time": "2021-06-20T23:06:28.952Z"
   },
   {
    "duration": 22,
    "start_time": "2021-06-20T23:06:29.298Z"
   },
   {
    "duration": 305,
    "start_time": "2021-06-20T23:06:29.322Z"
   },
   {
    "duration": 381,
    "start_time": "2021-06-20T23:06:29.628Z"
   },
   {
    "duration": 434,
    "start_time": "2021-06-20T23:06:30.011Z"
   },
   {
    "duration": 312,
    "start_time": "2021-06-20T23:06:30.447Z"
   },
   {
    "duration": 484,
    "start_time": "2021-06-20T23:06:30.762Z"
   },
   {
    "duration": 347,
    "start_time": "2021-06-20T23:06:31.248Z"
   },
   {
    "duration": 376,
    "start_time": "2021-06-20T23:06:31.597Z"
   },
   {
    "duration": 476,
    "start_time": "2021-06-20T23:06:31.975Z"
   },
   {
    "duration": 310,
    "start_time": "2021-06-20T23:06:32.452Z"
   },
   {
    "duration": 400,
    "start_time": "2021-06-20T23:06:32.764Z"
   },
   {
    "duration": 10,
    "start_time": "2021-06-20T23:06:33.166Z"
   },
   {
    "duration": 566,
    "start_time": "2021-06-20T23:06:33.185Z"
   },
   {
    "duration": 725,
    "start_time": "2021-06-20T23:06:33.752Z"
   },
   {
    "duration": 7,
    "start_time": "2021-06-20T23:06:34.479Z"
   },
   {
    "duration": 238,
    "start_time": "2021-06-20T23:06:34.488Z"
   },
   {
    "duration": 12,
    "start_time": "2021-06-20T23:06:34.727Z"
   },
   {
    "duration": 318,
    "start_time": "2021-06-20T23:06:34.740Z"
   },
   {
    "duration": 482,
    "start_time": "2021-06-20T23:06:35.060Z"
   },
   {
    "duration": 12,
    "start_time": "2021-06-20T23:06:35.543Z"
   },
   {
    "duration": 29,
    "start_time": "2021-06-20T23:06:35.556Z"
   },
   {
    "duration": 767,
    "start_time": "2021-06-20T23:08:10.665Z"
   },
   {
    "duration": 1191,
    "start_time": "2021-06-20T23:08:20.069Z"
   },
   {
    "duration": 56,
    "start_time": "2021-06-20T23:08:21.262Z"
   },
   {
    "duration": 7,
    "start_time": "2021-06-20T23:08:21.320Z"
   },
   {
    "duration": 11,
    "start_time": "2021-06-20T23:08:21.329Z"
   },
   {
    "duration": 6,
    "start_time": "2021-06-20T23:08:21.342Z"
   },
   {
    "duration": 7,
    "start_time": "2021-06-20T23:08:21.349Z"
   },
   {
    "duration": 30,
    "start_time": "2021-06-20T23:08:21.357Z"
   },
   {
    "duration": 7,
    "start_time": "2021-06-20T23:08:21.389Z"
   },
   {
    "duration": 13,
    "start_time": "2021-06-20T23:08:21.398Z"
   },
   {
    "duration": 14,
    "start_time": "2021-06-20T23:08:21.413Z"
   },
   {
    "duration": 19,
    "start_time": "2021-06-20T23:08:21.428Z"
   },
   {
    "duration": 27,
    "start_time": "2021-06-20T23:08:21.448Z"
   },
   {
    "duration": 779,
    "start_time": "2021-06-20T23:08:21.476Z"
   },
   {
    "duration": 5,
    "start_time": "2021-06-20T23:08:22.257Z"
   },
   {
    "duration": 295,
    "start_time": "2021-06-20T23:08:22.263Z"
   },
   {
    "duration": 11,
    "start_time": "2021-06-20T23:08:22.559Z"
   },
   {
    "duration": 339,
    "start_time": "2021-06-20T23:08:22.571Z"
   },
   {
    "duration": 19,
    "start_time": "2021-06-20T23:08:22.912Z"
   },
   {
    "duration": 296,
    "start_time": "2021-06-20T23:08:22.933Z"
   },
   {
    "duration": 384,
    "start_time": "2021-06-20T23:08:23.230Z"
   },
   {
    "duration": 456,
    "start_time": "2021-06-20T23:08:23.616Z"
   },
   {
    "duration": 323,
    "start_time": "2021-06-20T23:08:24.073Z"
   },
   {
    "duration": 501,
    "start_time": "2021-06-20T23:08:24.397Z"
   },
   {
    "duration": 346,
    "start_time": "2021-06-20T23:08:24.900Z"
   },
   {
    "duration": 444,
    "start_time": "2021-06-20T23:08:25.247Z"
   },
   {
    "duration": 470,
    "start_time": "2021-06-20T23:08:25.692Z"
   },
   {
    "duration": 322,
    "start_time": "2021-06-20T23:08:26.165Z"
   },
   {
    "duration": 404,
    "start_time": "2021-06-20T23:08:26.489Z"
   },
   {
    "duration": 11,
    "start_time": "2021-06-20T23:08:26.894Z"
   },
   {
    "duration": 560,
    "start_time": "2021-06-20T23:08:26.906Z"
   },
   {
    "duration": 689,
    "start_time": "2021-06-20T23:08:27.468Z"
   },
   {
    "duration": 8,
    "start_time": "2021-06-20T23:08:28.160Z"
   },
   {
    "duration": 238,
    "start_time": "2021-06-20T23:08:28.170Z"
   },
   {
    "duration": 12,
    "start_time": "2021-06-20T23:08:28.410Z"
   },
   {
    "duration": 313,
    "start_time": "2021-06-20T23:08:28.424Z"
   },
   {
    "duration": 473,
    "start_time": "2021-06-20T23:08:28.739Z"
   },
   {
    "duration": 13,
    "start_time": "2021-06-20T23:08:29.214Z"
   },
   {
    "duration": 16,
    "start_time": "2021-06-20T23:08:29.229Z"
   },
   {
    "duration": 784,
    "start_time": "2021-06-20T23:09:05.930Z"
   },
   {
    "duration": 1147,
    "start_time": "2021-06-20T23:09:18.300Z"
   },
   {
    "duration": 56,
    "start_time": "2021-06-20T23:09:19.449Z"
   },
   {
    "duration": 8,
    "start_time": "2021-06-20T23:09:19.506Z"
   },
   {
    "duration": 8,
    "start_time": "2021-06-20T23:09:19.516Z"
   },
   {
    "duration": 7,
    "start_time": "2021-06-20T23:09:19.525Z"
   },
   {
    "duration": 3,
    "start_time": "2021-06-20T23:09:19.534Z"
   },
   {
    "duration": 5,
    "start_time": "2021-06-20T23:09:19.539Z"
   },
   {
    "duration": 38,
    "start_time": "2021-06-20T23:09:19.547Z"
   },
   {
    "duration": 7,
    "start_time": "2021-06-20T23:09:19.586Z"
   },
   {
    "duration": 5,
    "start_time": "2021-06-20T23:09:19.595Z"
   },
   {
    "duration": 8,
    "start_time": "2021-06-20T23:09:19.602Z"
   },
   {
    "duration": 12,
    "start_time": "2021-06-20T23:09:19.612Z"
   },
   {
    "duration": 824,
    "start_time": "2021-06-20T23:09:19.626Z"
   },
   {
    "duration": 6,
    "start_time": "2021-06-20T23:09:20.451Z"
   },
   {
    "duration": 276,
    "start_time": "2021-06-20T23:09:20.459Z"
   },
   {
    "duration": 10,
    "start_time": "2021-06-20T23:09:20.737Z"
   },
   {
    "duration": 330,
    "start_time": "2021-06-20T23:09:20.748Z"
   },
   {
    "duration": 19,
    "start_time": "2021-06-20T23:09:21.080Z"
   },
   {
    "duration": 289,
    "start_time": "2021-06-20T23:09:21.100Z"
   },
   {
    "duration": 372,
    "start_time": "2021-06-20T23:09:21.390Z"
   },
   {
    "duration": 414,
    "start_time": "2021-06-20T23:09:21.765Z"
   },
   {
    "duration": 318,
    "start_time": "2021-06-20T23:09:22.181Z"
   },
   {
    "duration": 476,
    "start_time": "2021-06-20T23:09:22.503Z"
   },
   {
    "duration": 323,
    "start_time": "2021-06-20T23:09:22.984Z"
   },
   {
    "duration": 377,
    "start_time": "2021-06-20T23:09:23.309Z"
   },
   {
    "duration": 488,
    "start_time": "2021-06-20T23:09:23.688Z"
   },
   {
    "duration": 319,
    "start_time": "2021-06-20T23:09:24.178Z"
   },
   {
    "duration": 398,
    "start_time": "2021-06-20T23:09:24.499Z"
   },
   {
    "duration": 9,
    "start_time": "2021-06-20T23:09:24.898Z"
   },
   {
    "duration": 547,
    "start_time": "2021-06-20T23:09:24.909Z"
   },
   {
    "duration": 678,
    "start_time": "2021-06-20T23:09:25.458Z"
   },
   {
    "duration": 7,
    "start_time": "2021-06-20T23:09:26.138Z"
   },
   {
    "duration": 240,
    "start_time": "2021-06-20T23:09:26.146Z"
   },
   {
    "duration": 11,
    "start_time": "2021-06-20T23:09:26.387Z"
   },
   {
    "duration": 305,
    "start_time": "2021-06-20T23:09:26.399Z"
   },
   {
    "duration": 474,
    "start_time": "2021-06-20T23:09:26.706Z"
   },
   {
    "duration": 11,
    "start_time": "2021-06-20T23:09:27.184Z"
   },
   {
    "duration": 15,
    "start_time": "2021-06-20T23:09:27.197Z"
   },
   {
    "duration": 1163,
    "start_time": "2021-06-20T23:10:11.017Z"
   },
   {
    "duration": 55,
    "start_time": "2021-06-20T23:10:12.182Z"
   },
   {
    "duration": 7,
    "start_time": "2021-06-20T23:10:12.240Z"
   },
   {
    "duration": 8,
    "start_time": "2021-06-20T23:10:12.249Z"
   },
   {
    "duration": 5,
    "start_time": "2021-06-20T23:10:12.259Z"
   },
   {
    "duration": 18,
    "start_time": "2021-06-20T23:10:12.266Z"
   },
   {
    "duration": 5,
    "start_time": "2021-06-20T23:10:12.286Z"
   },
   {
    "duration": 7,
    "start_time": "2021-06-20T23:10:12.294Z"
   },
   {
    "duration": 7,
    "start_time": "2021-06-20T23:10:12.303Z"
   },
   {
    "duration": 5,
    "start_time": "2021-06-20T23:10:12.311Z"
   },
   {
    "duration": 11,
    "start_time": "2021-06-20T23:10:12.318Z"
   },
   {
    "duration": 15,
    "start_time": "2021-06-20T23:10:12.330Z"
   },
   {
    "duration": 1396,
    "start_time": "2021-06-20T23:10:12.346Z"
   },
   {
    "duration": 6,
    "start_time": "2021-06-20T23:10:13.743Z"
   },
   {
    "duration": 280,
    "start_time": "2021-06-20T23:10:13.751Z"
   },
   {
    "duration": 11,
    "start_time": "2021-06-20T23:10:14.033Z"
   },
   {
    "duration": 345,
    "start_time": "2021-06-20T23:10:14.045Z"
   },
   {
    "duration": 19,
    "start_time": "2021-06-20T23:10:14.392Z"
   },
   {
    "duration": 313,
    "start_time": "2021-06-20T23:10:14.413Z"
   },
   {
    "duration": 387,
    "start_time": "2021-06-20T23:10:14.728Z"
   },
   {
    "duration": 423,
    "start_time": "2021-06-20T23:10:15.116Z"
   },
   {
    "duration": 316,
    "start_time": "2021-06-20T23:10:15.540Z"
   },
   {
    "duration": 494,
    "start_time": "2021-06-20T23:10:15.859Z"
   },
   {
    "duration": 347,
    "start_time": "2021-06-20T23:10:16.355Z"
   },
   {
    "duration": 388,
    "start_time": "2021-06-20T23:10:16.704Z"
   },
   {
    "duration": 480,
    "start_time": "2021-06-20T23:10:17.094Z"
   },
   {
    "duration": 311,
    "start_time": "2021-06-20T23:10:17.576Z"
   },
   {
    "duration": 406,
    "start_time": "2021-06-20T23:10:17.889Z"
   },
   {
    "duration": 10,
    "start_time": "2021-06-20T23:10:18.297Z"
   },
   {
    "duration": 557,
    "start_time": "2021-06-20T23:10:18.308Z"
   },
   {
    "duration": 715,
    "start_time": "2021-06-20T23:10:18.866Z"
   },
   {
    "duration": 7,
    "start_time": "2021-06-20T23:10:19.585Z"
   },
   {
    "duration": 236,
    "start_time": "2021-06-20T23:10:19.593Z"
   },
   {
    "duration": 11,
    "start_time": "2021-06-20T23:10:19.831Z"
   },
   {
    "duration": 314,
    "start_time": "2021-06-20T23:10:19.844Z"
   },
   {
    "duration": 480,
    "start_time": "2021-06-20T23:10:20.160Z"
   },
   {
    "duration": 12,
    "start_time": "2021-06-20T23:10:20.641Z"
   },
   {
    "duration": 288,
    "start_time": "2021-06-20T23:10:20.655Z"
   },
   {
    "duration": 199,
    "start_time": "2021-06-20T23:10:59.738Z"
   },
   {
    "duration": 695,
    "start_time": "2021-06-20T23:11:57.748Z"
   },
   {
    "duration": 1136,
    "start_time": "2021-06-20T23:12:05.713Z"
   },
   {
    "duration": 55,
    "start_time": "2021-06-20T23:12:06.851Z"
   },
   {
    "duration": 8,
    "start_time": "2021-06-20T23:12:06.908Z"
   },
   {
    "duration": 8,
    "start_time": "2021-06-20T23:12:06.918Z"
   },
   {
    "duration": 5,
    "start_time": "2021-06-20T23:12:06.928Z"
   },
   {
    "duration": 4,
    "start_time": "2021-06-20T23:12:06.935Z"
   },
   {
    "duration": 6,
    "start_time": "2021-06-20T23:12:06.941Z"
   },
   {
    "duration": 36,
    "start_time": "2021-06-20T23:12:06.949Z"
   },
   {
    "duration": 7,
    "start_time": "2021-06-20T23:12:06.987Z"
   },
   {
    "duration": 13,
    "start_time": "2021-06-20T23:12:06.995Z"
   },
   {
    "duration": 11,
    "start_time": "2021-06-20T23:12:07.010Z"
   },
   {
    "duration": 13,
    "start_time": "2021-06-20T23:12:07.023Z"
   },
   {
    "duration": 684,
    "start_time": "2021-06-20T23:12:07.037Z"
   },
   {
    "duration": 5,
    "start_time": "2021-06-20T23:12:07.723Z"
   },
   {
    "duration": 279,
    "start_time": "2021-06-20T23:12:07.730Z"
   },
   {
    "duration": 11,
    "start_time": "2021-06-20T23:12:08.011Z"
   },
   {
    "duration": 339,
    "start_time": "2021-06-20T23:12:08.023Z"
   },
   {
    "duration": 27,
    "start_time": "2021-06-20T23:12:08.364Z"
   },
   {
    "duration": 288,
    "start_time": "2021-06-20T23:12:08.392Z"
   },
   {
    "duration": 400,
    "start_time": "2021-06-20T23:12:08.684Z"
   },
   {
    "duration": 409,
    "start_time": "2021-06-20T23:12:09.086Z"
   },
   {
    "duration": 329,
    "start_time": "2021-06-20T23:12:09.497Z"
   },
   {
    "duration": 493,
    "start_time": "2021-06-20T23:12:09.829Z"
   },
   {
    "duration": 348,
    "start_time": "2021-06-20T23:12:10.324Z"
   },
   {
    "duration": 400,
    "start_time": "2021-06-20T23:12:10.674Z"
   },
   {
    "duration": 471,
    "start_time": "2021-06-20T23:12:11.075Z"
   },
   {
    "duration": 324,
    "start_time": "2021-06-20T23:12:11.548Z"
   },
   {
    "duration": 413,
    "start_time": "2021-06-20T23:12:11.874Z"
   },
   {
    "duration": 10,
    "start_time": "2021-06-20T23:12:12.288Z"
   },
   {
    "duration": 564,
    "start_time": "2021-06-20T23:12:12.300Z"
   },
   {
    "duration": 710,
    "start_time": "2021-06-20T23:12:12.866Z"
   },
   {
    "duration": 13,
    "start_time": "2021-06-20T23:12:13.577Z"
   },
   {
    "duration": 233,
    "start_time": "2021-06-20T23:12:13.591Z"
   },
   {
    "duration": 11,
    "start_time": "2021-06-20T23:12:13.825Z"
   },
   {
    "duration": 313,
    "start_time": "2021-06-20T23:12:13.838Z"
   },
   {
    "duration": 486,
    "start_time": "2021-06-20T23:12:14.153Z"
   },
   {
    "duration": 13,
    "start_time": "2021-06-20T23:12:14.641Z"
   },
   {
    "duration": 962,
    "start_time": "2021-06-20T23:12:14.656Z"
   },
   {
    "duration": 5,
    "start_time": "2021-06-20T23:12:41.682Z"
   },
   {
    "duration": 10,
    "start_time": "2021-06-20T23:12:48.984Z"
   },
   {
    "duration": 8,
    "start_time": "2021-06-20T23:13:18.273Z"
   },
   {
    "duration": 14,
    "start_time": "2021-06-20T23:13:26.412Z"
   },
   {
    "duration": 737,
    "start_time": "2021-06-20T23:13:40.333Z"
   },
   {
    "duration": 6,
    "start_time": "2021-06-20T23:13:52.683Z"
   },
   {
    "duration": 13,
    "start_time": "2021-06-20T23:14:00.153Z"
   },
   {
    "duration": 14,
    "start_time": "2021-06-20T23:14:35.683Z"
   },
   {
    "duration": 11,
    "start_time": "2021-06-20T23:15:04.754Z"
   },
   {
    "duration": 194,
    "start_time": "2021-06-20T23:17:32.483Z"
   },
   {
    "duration": 195,
    "start_time": "2021-06-20T23:17:47.304Z"
   },
   {
    "duration": 21,
    "start_time": "2021-06-20T23:18:28.433Z"
   },
   {
    "duration": 709,
    "start_time": "2021-06-20T23:20:20.184Z"
   },
   {
    "duration": 763,
    "start_time": "2021-06-20T23:20:41.283Z"
   },
   {
    "duration": 701,
    "start_time": "2021-06-20T23:20:48.963Z"
   },
   {
    "duration": 1659,
    "start_time": "2021-06-21T06:48:27.424Z"
   },
   {
    "duration": 77,
    "start_time": "2021-06-21T06:48:29.086Z"
   },
   {
    "duration": 15,
    "start_time": "2021-06-21T06:48:29.167Z"
   },
   {
    "duration": 11,
    "start_time": "2021-06-21T06:48:29.185Z"
   },
   {
    "duration": 13,
    "start_time": "2021-06-21T06:48:29.198Z"
   },
   {
    "duration": 50,
    "start_time": "2021-06-21T06:48:29.214Z"
   },
   {
    "duration": 14,
    "start_time": "2021-06-21T06:48:29.266Z"
   },
   {
    "duration": 14,
    "start_time": "2021-06-21T06:48:29.282Z"
   },
   {
    "duration": 22,
    "start_time": "2021-06-21T06:48:29.300Z"
   },
   {
    "duration": 11,
    "start_time": "2021-06-21T06:48:29.325Z"
   },
   {
    "duration": 33,
    "start_time": "2021-06-21T06:48:29.338Z"
   },
   {
    "duration": 28,
    "start_time": "2021-06-21T06:48:29.373Z"
   },
   {
    "duration": 1036,
    "start_time": "2021-06-21T06:48:29.404Z"
   },
   {
    "duration": 13,
    "start_time": "2021-06-21T06:48:30.443Z"
   },
   {
    "duration": 494,
    "start_time": "2021-06-21T06:48:30.458Z"
   },
   {
    "duration": 23,
    "start_time": "2021-06-21T06:48:30.956Z"
   },
   {
    "duration": 572,
    "start_time": "2021-06-21T06:48:30.982Z"
   },
   {
    "duration": 31,
    "start_time": "2021-06-21T06:48:31.560Z"
   },
   {
    "duration": 502,
    "start_time": "2021-06-21T06:48:31.594Z"
   },
   {
    "duration": 623,
    "start_time": "2021-06-21T06:48:32.099Z"
   },
   {
    "duration": 721,
    "start_time": "2021-06-21T06:48:32.725Z"
   },
   {
    "duration": 546,
    "start_time": "2021-06-21T06:48:33.449Z"
   },
   {
    "duration": 834,
    "start_time": "2021-06-21T06:48:33.997Z"
   },
   {
    "duration": 596,
    "start_time": "2021-06-21T06:48:34.833Z"
   },
   {
    "duration": 661,
    "start_time": "2021-06-21T06:48:35.431Z"
   },
   {
    "duration": 780,
    "start_time": "2021-06-21T06:48:36.094Z"
   },
   {
    "duration": 545,
    "start_time": "2021-06-21T06:48:36.879Z"
   },
   {
    "duration": 703,
    "start_time": "2021-06-21T06:48:37.427Z"
   },
   {
    "duration": 30,
    "start_time": "2021-06-21T06:48:38.134Z"
   },
   {
    "duration": 1429,
    "start_time": "2021-06-21T06:48:38.167Z"
   },
   {
    "duration": 1230,
    "start_time": "2021-06-21T06:48:39.599Z"
   },
   {
    "duration": 10,
    "start_time": "2021-06-21T06:48:40.832Z"
   },
   {
    "duration": 333,
    "start_time": "2021-06-21T06:48:40.845Z"
   },
   {
    "duration": 18,
    "start_time": "2021-06-21T06:48:41.180Z"
   },
   {
    "duration": 532,
    "start_time": "2021-06-21T06:48:41.200Z"
   },
   {
    "duration": 991,
    "start_time": "2021-06-21T06:48:41.734Z"
   },
   {
    "duration": 18,
    "start_time": "2021-06-21T06:48:42.727Z"
   },
   {
    "duration": 26,
    "start_time": "2021-06-21T06:48:42.747Z"
   },
   {
    "duration": 26,
    "start_time": "2021-06-21T06:48:42.776Z"
   },
   {
    "duration": 16,
    "start_time": "2021-06-21T06:48:42.805Z"
   },
   {
    "duration": 62,
    "start_time": "2021-06-21T06:48:42.824Z"
   },
   {
    "duration": 1349,
    "start_time": "2021-06-21T06:48:42.889Z"
   },
   {
    "duration": 7,
    "start_time": "2021-06-21T06:50:14.746Z"
   },
   {
    "duration": 6,
    "start_time": "2021-06-21T06:50:30.502Z"
   },
   {
    "duration": 7,
    "start_time": "2021-06-21T06:50:36.840Z"
   },
   {
    "duration": 1063,
    "start_time": "2021-06-21T06:53:01.345Z"
   },
   {
    "duration": 27,
    "start_time": "2021-06-21T06:54:02.145Z"
   },
   {
    "duration": 2452,
    "start_time": "2021-06-21T06:54:06.582Z"
   },
   {
    "duration": 2270,
    "start_time": "2021-06-21T06:54:46.520Z"
   },
   {
    "duration": 5,
    "start_time": "2021-06-21T07:43:39.678Z"
   },
   {
    "duration": 9,
    "start_time": "2021-06-21T07:43:57.128Z"
   },
   {
    "duration": 19,
    "start_time": "2021-06-21T07:44:19.760Z"
   },
   {
    "duration": 2172,
    "start_time": "2021-06-21T07:44:56.989Z"
   },
   {
    "duration": 1570,
    "start_time": "2021-06-21T07:46:08.801Z"
   },
   {
    "duration": 74,
    "start_time": "2021-06-21T07:46:10.374Z"
   },
   {
    "duration": 17,
    "start_time": "2021-06-21T07:46:10.451Z"
   },
   {
    "duration": 12,
    "start_time": "2021-06-21T07:46:10.471Z"
   },
   {
    "duration": 8,
    "start_time": "2021-06-21T07:46:10.486Z"
   },
   {
    "duration": 7,
    "start_time": "2021-06-21T07:46:10.496Z"
   },
   {
    "duration": 9,
    "start_time": "2021-06-21T07:46:10.505Z"
   },
   {
    "duration": 11,
    "start_time": "2021-06-21T07:46:10.562Z"
   },
   {
    "duration": 11,
    "start_time": "2021-06-21T07:46:10.577Z"
   },
   {
    "duration": 6,
    "start_time": "2021-06-21T07:46:10.591Z"
   },
   {
    "duration": 12,
    "start_time": "2021-06-21T07:46:10.600Z"
   },
   {
    "duration": 61,
    "start_time": "2021-06-21T07:46:10.615Z"
   },
   {
    "duration": 974,
    "start_time": "2021-06-21T07:46:10.679Z"
   },
   {
    "duration": 9,
    "start_time": "2021-06-21T07:46:11.655Z"
   },
   {
    "duration": 525,
    "start_time": "2021-06-21T07:46:11.667Z"
   },
   {
    "duration": 19,
    "start_time": "2021-06-21T07:46:12.195Z"
   },
   {
    "duration": 569,
    "start_time": "2021-06-21T07:46:12.217Z"
   },
   {
    "duration": 33,
    "start_time": "2021-06-21T07:46:12.789Z"
   },
   {
    "duration": 570,
    "start_time": "2021-06-21T07:46:12.825Z"
   },
   {
    "duration": 632,
    "start_time": "2021-06-21T07:46:13.399Z"
   },
   {
    "duration": 756,
    "start_time": "2021-06-21T07:46:14.034Z"
   },
   {
    "duration": 547,
    "start_time": "2021-06-21T07:46:14.793Z"
   },
   {
    "duration": 840,
    "start_time": "2021-06-21T07:46:15.343Z"
   },
   {
    "duration": 621,
    "start_time": "2021-06-21T07:46:16.186Z"
   },
   {
    "duration": 677,
    "start_time": "2021-06-21T07:46:16.810Z"
   },
   {
    "duration": 782,
    "start_time": "2021-06-21T07:46:17.490Z"
   },
   {
    "duration": 538,
    "start_time": "2021-06-21T07:46:18.278Z"
   },
   {
    "duration": 712,
    "start_time": "2021-06-21T07:46:18.818Z"
   },
   {
    "duration": 15,
    "start_time": "2021-06-21T07:46:19.533Z"
   },
   {
    "duration": 1058,
    "start_time": "2021-06-21T07:46:19.563Z"
   },
   {
    "duration": 1543,
    "start_time": "2021-06-21T07:46:20.624Z"
   },
   {
    "duration": 10,
    "start_time": "2021-06-21T07:46:22.169Z"
   },
   {
    "duration": 528,
    "start_time": "2021-06-21T07:46:22.182Z"
   },
   {
    "duration": 16,
    "start_time": "2021-06-21T07:46:22.712Z"
   },
   {
    "duration": 524,
    "start_time": "2021-06-21T07:46:22.730Z"
   },
   {
    "duration": 1005,
    "start_time": "2021-06-21T07:46:23.261Z"
   },
   {
    "duration": 18,
    "start_time": "2021-06-21T07:46:24.269Z"
   },
   {
    "duration": 11,
    "start_time": "2021-06-21T07:46:24.290Z"
   },
   {
    "duration": 65,
    "start_time": "2021-06-21T07:46:24.304Z"
   },
   {
    "duration": 2502,
    "start_time": "2021-06-21T07:46:24.373Z"
   },
   {
    "duration": -1024,
    "start_time": "2021-06-21T07:46:27.903Z"
   },
   {
    "duration": -1027,
    "start_time": "2021-06-21T07:46:27.908Z"
   },
   {
    "duration": 25,
    "start_time": "2021-06-21T07:46:54.385Z"
   },
   {
    "duration": 1637,
    "start_time": "2021-06-21T07:50:50.819Z"
   },
   {
    "duration": 72,
    "start_time": "2021-06-21T07:50:52.458Z"
   },
   {
    "duration": 11,
    "start_time": "2021-06-21T07:50:52.533Z"
   },
   {
    "duration": 23,
    "start_time": "2021-06-21T07:50:52.547Z"
   },
   {
    "duration": 9,
    "start_time": "2021-06-21T07:50:52.573Z"
   },
   {
    "duration": 16,
    "start_time": "2021-06-21T07:50:52.585Z"
   },
   {
    "duration": 16,
    "start_time": "2021-06-21T07:50:52.604Z"
   },
   {
    "duration": 12,
    "start_time": "2021-06-21T07:50:52.662Z"
   },
   {
    "duration": 12,
    "start_time": "2021-06-21T07:50:52.679Z"
   },
   {
    "duration": 5,
    "start_time": "2021-06-21T07:50:52.694Z"
   },
   {
    "duration": 22,
    "start_time": "2021-06-21T07:50:52.702Z"
   },
   {
    "duration": 54,
    "start_time": "2021-06-21T07:50:52.726Z"
   },
   {
    "duration": 881,
    "start_time": "2021-06-21T07:50:52.782Z"
   },
   {
    "duration": 12,
    "start_time": "2021-06-21T07:50:53.667Z"
   },
   {
    "duration": 702,
    "start_time": "2021-06-21T07:50:53.683Z"
   },
   {
    "duration": 25,
    "start_time": "2021-06-21T07:50:54.388Z"
   },
   {
    "duration": 837,
    "start_time": "2021-06-21T07:50:54.416Z"
   },
   {
    "duration": 43,
    "start_time": "2021-06-21T07:50:55.261Z"
   },
   {
    "duration": 699,
    "start_time": "2021-06-21T07:50:55.308Z"
   },
   {
    "duration": 900,
    "start_time": "2021-06-21T07:50:56.010Z"
   },
   {
    "duration": 1093,
    "start_time": "2021-06-21T07:50:56.914Z"
   },
   {
    "duration": 597,
    "start_time": "2021-06-21T07:50:58.010Z"
   },
   {
    "duration": 854,
    "start_time": "2021-06-21T07:50:58.612Z"
   },
   {
    "duration": 611,
    "start_time": "2021-06-21T07:50:59.469Z"
   },
   {
    "duration": 18,
    "start_time": "2021-06-21T07:51:00.082Z"
   },
   {
    "duration": 690,
    "start_time": "2021-06-21T07:51:00.102Z"
   },
   {
    "duration": 794,
    "start_time": "2021-06-21T07:51:00.794Z"
   },
   {
    "duration": 545,
    "start_time": "2021-06-21T07:51:01.590Z"
   },
   {
    "duration": 711,
    "start_time": "2021-06-21T07:51:02.137Z"
   },
   {
    "duration": 22,
    "start_time": "2021-06-21T07:51:02.850Z"
   },
   {
    "duration": 973,
    "start_time": "2021-06-21T07:51:02.874Z"
   },
   {
    "duration": 1230,
    "start_time": "2021-06-21T07:51:03.849Z"
   },
   {
    "duration": 10,
    "start_time": "2021-06-21T07:51:05.081Z"
   },
   {
    "duration": 326,
    "start_time": "2021-06-21T07:51:05.094Z"
   },
   {
    "duration": 16,
    "start_time": "2021-06-21T07:51:05.422Z"
   },
   {
    "duration": 530,
    "start_time": "2021-06-21T07:51:05.441Z"
   },
   {
    "duration": 1485,
    "start_time": "2021-06-21T07:51:05.974Z"
   },
   {
    "duration": -1064,
    "start_time": "2021-06-21T07:51:08.525Z"
   },
   {
    "duration": -1068,
    "start_time": "2021-06-21T07:51:08.531Z"
   },
   {
    "duration": -1089,
    "start_time": "2021-06-21T07:51:08.553Z"
   },
   {
    "duration": -1093,
    "start_time": "2021-06-21T07:51:08.559Z"
   },
   {
    "duration": -1095,
    "start_time": "2021-06-21T07:51:08.562Z"
   },
   {
    "duration": -1097,
    "start_time": "2021-06-21T07:51:08.566Z"
   },
   {
    "duration": 1007,
    "start_time": "2021-06-21T07:51:30.815Z"
   },
   {
    "duration": 21,
    "start_time": "2021-06-21T07:51:34.989Z"
   },
   {
    "duration": 13,
    "start_time": "2021-06-21T07:51:38.528Z"
   },
   {
    "duration": 24,
    "start_time": "2021-06-21T07:51:40.168Z"
   },
   {
    "duration": 8,
    "start_time": "2021-06-21T07:51:42.573Z"
   },
   {
    "duration": 28,
    "start_time": "2021-06-21T07:51:47.582Z"
   },
   {
    "duration": 1247,
    "start_time": "2021-06-21T07:51:52.223Z"
   },
   {
    "duration": 580,
    "start_time": "2021-06-21T10:05:26.515Z"
   },
   {
    "duration": 704,
    "start_time": "2021-06-21T10:07:25.249Z"
   },
   {
    "duration": 601,
    "start_time": "2021-06-21T10:08:38.680Z"
   },
   {
    "duration": 734,
    "start_time": "2021-06-21T10:09:49.696Z"
   },
   {
    "duration": 471,
    "start_time": "2021-06-21T10:10:40.848Z"
   },
   {
    "duration": 370,
    "start_time": "2021-06-21T15:43:19.620Z"
   },
   {
    "duration": 1492,
    "start_time": "2021-06-21T15:43:34.979Z"
   },
   {
    "duration": 71,
    "start_time": "2021-06-21T15:43:36.473Z"
   },
   {
    "duration": 15,
    "start_time": "2021-06-21T15:43:36.547Z"
   },
   {
    "duration": 10,
    "start_time": "2021-06-21T15:43:36.565Z"
   },
   {
    "duration": 8,
    "start_time": "2021-06-21T15:43:36.577Z"
   },
   {
    "duration": 10,
    "start_time": "2021-06-21T15:43:36.587Z"
   },
   {
    "duration": 12,
    "start_time": "2021-06-21T15:43:36.599Z"
   },
   {
    "duration": 46,
    "start_time": "2021-06-21T15:43:36.615Z"
   },
   {
    "duration": 18,
    "start_time": "2021-06-21T15:43:36.664Z"
   },
   {
    "duration": 10,
    "start_time": "2021-06-21T15:43:36.684Z"
   },
   {
    "duration": 33,
    "start_time": "2021-06-21T15:43:36.696Z"
   },
   {
    "duration": 27,
    "start_time": "2021-06-21T15:43:36.731Z"
   },
   {
    "duration": 1126,
    "start_time": "2021-06-21T15:43:36.761Z"
   },
   {
    "duration": 8,
    "start_time": "2021-06-21T15:43:37.889Z"
   },
   {
    "duration": 487,
    "start_time": "2021-06-21T15:43:37.900Z"
   },
   {
    "duration": -1408,
    "start_time": "2021-06-21T15:43:39.798Z"
   },
   {
    "duration": -1414,
    "start_time": "2021-06-21T15:43:39.805Z"
   },
   {
    "duration": -1418,
    "start_time": "2021-06-21T15:43:39.811Z"
   },
   {
    "duration": -1422,
    "start_time": "2021-06-21T15:43:39.816Z"
   },
   {
    "duration": -1426,
    "start_time": "2021-06-21T15:43:39.822Z"
   },
   {
    "duration": -1432,
    "start_time": "2021-06-21T15:43:39.829Z"
   },
   {
    "duration": -1435,
    "start_time": "2021-06-21T15:43:39.834Z"
   },
   {
    "duration": -1440,
    "start_time": "2021-06-21T15:43:39.840Z"
   },
   {
    "duration": -1494,
    "start_time": "2021-06-21T15:43:39.896Z"
   },
   {
    "duration": -1502,
    "start_time": "2021-06-21T15:43:39.905Z"
   },
   {
    "duration": -1506,
    "start_time": "2021-06-21T15:43:39.911Z"
   },
   {
    "duration": -1511,
    "start_time": "2021-06-21T15:43:39.917Z"
   },
   {
    "duration": -1516,
    "start_time": "2021-06-21T15:43:39.924Z"
   },
   {
    "duration": -1520,
    "start_time": "2021-06-21T15:43:39.930Z"
   },
   {
    "duration": -1524,
    "start_time": "2021-06-21T15:43:39.935Z"
   },
   {
    "duration": -1530,
    "start_time": "2021-06-21T15:43:39.942Z"
   },
   {
    "duration": -1533,
    "start_time": "2021-06-21T15:43:39.946Z"
   },
   {
    "duration": -1497,
    "start_time": "2021-06-21T15:43:39.952Z"
   },
   {
    "duration": -1501,
    "start_time": "2021-06-21T15:43:39.958Z"
   },
   {
    "duration": -1505,
    "start_time": "2021-06-21T15:43:39.963Z"
   },
   {
    "duration": -1510,
    "start_time": "2021-06-21T15:43:39.969Z"
   },
   {
    "duration": -1513,
    "start_time": "2021-06-21T15:43:39.974Z"
   },
   {
    "duration": -1517,
    "start_time": "2021-06-21T15:43:39.979Z"
   },
   {
    "duration": -1521,
    "start_time": "2021-06-21T15:43:39.984Z"
   },
   {
    "duration": -1524,
    "start_time": "2021-06-21T15:43:39.988Z"
   },
   {
    "duration": -1526,
    "start_time": "2021-06-21T15:43:39.992Z"
   },
   {
    "duration": -1539,
    "start_time": "2021-06-21T15:43:40.006Z"
   },
   {
    "duration": -1544,
    "start_time": "2021-06-21T15:43:40.012Z"
   },
   {
    "duration": 294,
    "start_time": "2021-06-21T15:46:25.108Z"
   },
   {
    "duration": 7091,
    "start_time": "2021-06-21T15:49:44.199Z"
   },
   {
    "duration": 717,
    "start_time": "2021-06-21T15:50:18.259Z"
   },
   {
    "duration": 608,
    "start_time": "2021-06-21T15:50:39.164Z"
   },
   {
    "duration": 542,
    "start_time": "2021-06-21T15:51:13.262Z"
   },
   {
    "duration": 429,
    "start_time": "2021-06-21T15:51:53.960Z"
   },
   {
    "duration": 524,
    "start_time": "2021-06-21T15:52:16.221Z"
   },
   {
    "duration": 688,
    "start_time": "2021-06-21T15:52:57.095Z"
   },
   {
    "duration": 271,
    "start_time": "2021-06-21T15:54:08.358Z"
   },
   {
    "duration": 455,
    "start_time": "2021-06-21T15:54:26.948Z"
   },
   {
    "duration": 1178,
    "start_time": "2021-06-21T19:41:20.294Z"
   },
   {
    "duration": 54,
    "start_time": "2021-06-21T19:41:21.474Z"
   },
   {
    "duration": 8,
    "start_time": "2021-06-21T19:41:21.530Z"
   },
   {
    "duration": 10,
    "start_time": "2021-06-21T19:41:21.539Z"
   },
   {
    "duration": 4,
    "start_time": "2021-06-21T19:41:21.551Z"
   },
   {
    "duration": 4,
    "start_time": "2021-06-21T19:41:21.557Z"
   },
   {
    "duration": 26,
    "start_time": "2021-06-21T19:41:21.562Z"
   },
   {
    "duration": 9,
    "start_time": "2021-06-21T19:41:21.591Z"
   },
   {
    "duration": 9,
    "start_time": "2021-06-21T19:41:21.602Z"
   },
   {
    "duration": 5,
    "start_time": "2021-06-21T19:41:21.613Z"
   },
   {
    "duration": 9,
    "start_time": "2021-06-21T19:41:21.620Z"
   },
   {
    "duration": 14,
    "start_time": "2021-06-21T19:41:21.631Z"
   },
   {
    "duration": 1387,
    "start_time": "2021-06-21T19:41:21.685Z"
   },
   {
    "duration": 6,
    "start_time": "2021-06-21T19:41:23.074Z"
   },
   {
    "duration": 299,
    "start_time": "2021-06-21T19:41:23.081Z"
   },
   {
    "duration": 11,
    "start_time": "2021-06-21T19:41:23.384Z"
   },
   {
    "duration": 353,
    "start_time": "2021-06-21T19:41:23.397Z"
   },
   {
    "duration": 19,
    "start_time": "2021-06-21T19:41:23.752Z"
   },
   {
    "duration": 306,
    "start_time": "2021-06-21T19:41:23.773Z"
   },
   {
    "duration": 385,
    "start_time": "2021-06-21T19:41:24.084Z"
   },
   {
    "duration": 435,
    "start_time": "2021-06-21T19:41:24.470Z"
   },
   {
    "duration": 326,
    "start_time": "2021-06-21T19:41:24.907Z"
   },
   {
    "duration": 487,
    "start_time": "2021-06-21T19:41:25.236Z"
   },
   {
    "duration": 342,
    "start_time": "2021-06-21T19:41:25.725Z"
   },
   {
    "duration": 18,
    "start_time": "2021-06-21T19:41:26.068Z"
   },
   {
    "duration": 379,
    "start_time": "2021-06-21T19:41:26.087Z"
   },
   {
    "duration": 467,
    "start_time": "2021-06-21T19:41:26.468Z"
   },
   {
    "duration": 314,
    "start_time": "2021-06-21T19:41:26.937Z"
   },
   {
    "duration": 404,
    "start_time": "2021-06-21T19:41:27.252Z"
   },
   {
    "duration": 11,
    "start_time": "2021-06-21T19:41:27.658Z"
   },
   {
    "duration": 550,
    "start_time": "2021-06-21T19:41:27.684Z"
   },
   {
    "duration": 716,
    "start_time": "2021-06-21T19:41:28.236Z"
   },
   {
    "duration": 8,
    "start_time": "2021-06-21T19:41:28.954Z"
   },
   {
    "duration": 234,
    "start_time": "2021-06-21T19:41:28.964Z"
   },
   {
    "duration": 11,
    "start_time": "2021-06-21T19:41:29.200Z"
   },
   {
    "duration": 321,
    "start_time": "2021-06-21T19:41:29.213Z"
   },
   {
    "duration": 666,
    "start_time": "2021-06-21T19:41:29.536Z"
   },
   {
    "duration": 12,
    "start_time": "2021-06-21T19:41:30.203Z"
   },
   {
    "duration": 17,
    "start_time": "2021-06-21T19:41:30.217Z"
   },
   {
    "duration": 58,
    "start_time": "2021-06-21T19:41:30.236Z"
   },
   {
    "duration": 9,
    "start_time": "2021-06-21T19:41:30.295Z"
   },
   {
    "duration": 32,
    "start_time": "2021-06-21T19:41:30.305Z"
   },
   {
    "duration": 708,
    "start_time": "2021-06-21T19:41:30.339Z"
   },
   {
    "duration": 294,
    "start_time": "2021-06-21T19:44:19.496Z"
   },
   {
    "duration": 176,
    "start_time": "2021-06-21T19:44:30.883Z"
   },
   {
    "duration": 177,
    "start_time": "2021-06-21T19:45:21.913Z"
   },
   {
    "duration": 192,
    "start_time": "2021-06-21T19:45:49.417Z"
   },
   {
    "duration": 127,
    "start_time": "2021-06-21T19:46:07.405Z"
   },
   {
    "duration": 204,
    "start_time": "2021-06-21T19:47:06.572Z"
   },
   {
    "duration": 197,
    "start_time": "2021-06-21T19:49:16.630Z"
   },
   {
    "duration": 141,
    "start_time": "2021-06-21T19:49:40.815Z"
   },
   {
    "duration": 226,
    "start_time": "2021-06-21T19:49:53.936Z"
   },
   {
    "duration": 183,
    "start_time": "2021-06-21T19:50:09.550Z"
   },
   {
    "duration": 177,
    "start_time": "2021-06-21T19:56:49.791Z"
   },
   {
    "duration": 4,
    "start_time": "2021-06-21T19:57:48.209Z"
   },
   {
    "duration": 175,
    "start_time": "2021-06-21T20:01:10.225Z"
   },
   {
    "duration": 280,
    "start_time": "2021-06-21T20:01:28.969Z"
   },
   {
    "duration": 179,
    "start_time": "2021-06-21T20:02:25.928Z"
   },
   {
    "duration": 657,
    "start_time": "2021-06-21T20:05:41.369Z"
   },
   {
    "duration": 342,
    "start_time": "2021-06-22T13:42:12.089Z"
   },
   {
    "duration": 1604,
    "start_time": "2021-06-22T13:42:19.638Z"
   },
   {
    "duration": 71,
    "start_time": "2021-06-22T13:42:21.245Z"
   },
   {
    "duration": 12,
    "start_time": "2021-06-22T13:42:21.319Z"
   },
   {
    "duration": 25,
    "start_time": "2021-06-22T13:42:21.334Z"
   },
   {
    "duration": 8,
    "start_time": "2021-06-22T13:42:21.361Z"
   },
   {
    "duration": 7,
    "start_time": "2021-06-22T13:42:21.371Z"
   },
   {
    "duration": 8,
    "start_time": "2021-06-22T13:42:21.381Z"
   },
   {
    "duration": 10,
    "start_time": "2021-06-22T13:42:21.391Z"
   },
   {
    "duration": 54,
    "start_time": "2021-06-22T13:42:21.405Z"
   },
   {
    "duration": 7,
    "start_time": "2021-06-22T13:42:21.462Z"
   },
   {
    "duration": 13,
    "start_time": "2021-06-22T13:42:21.471Z"
   },
   {
    "duration": 20,
    "start_time": "2021-06-22T13:42:21.486Z"
   },
   {
    "duration": 1239,
    "start_time": "2021-06-22T13:42:21.509Z"
   },
   {
    "duration": 10,
    "start_time": "2021-06-22T13:42:22.752Z"
   },
   {
    "duration": 489,
    "start_time": "2021-06-22T13:42:22.766Z"
   },
   {
    "duration": 301,
    "start_time": "2021-06-22T13:42:23.258Z"
   },
   {
    "duration": 606,
    "start_time": "2021-06-22T13:42:23.562Z"
   },
   {
    "duration": 196,
    "start_time": "2021-06-22T13:42:24.171Z"
   },
   {
    "duration": 716,
    "start_time": "2021-06-22T13:42:24.369Z"
   },
   {
    "duration": 309,
    "start_time": "2021-06-22T13:42:25.088Z"
   },
   {
    "duration": 532,
    "start_time": "2021-06-22T13:42:25.400Z"
   },
   {
    "duration": 711,
    "start_time": "2021-06-22T13:42:25.935Z"
   },
   {
    "duration": 551,
    "start_time": "2021-06-22T13:42:26.655Z"
   },
   {
    "duration": 1010,
    "start_time": "2021-06-22T13:42:27.209Z"
   },
   {
    "duration": 592,
    "start_time": "2021-06-22T13:42:28.222Z"
   },
   {
    "duration": 16,
    "start_time": "2021-06-22T13:42:28.817Z"
   },
   {
    "duration": 754,
    "start_time": "2021-06-22T13:42:28.853Z"
   },
   {
    "duration": 647,
    "start_time": "2021-06-22T13:42:29.610Z"
   },
   {
    "duration": 522,
    "start_time": "2021-06-22T13:42:30.259Z"
   },
   {
    "duration": 673,
    "start_time": "2021-06-22T13:42:30.784Z"
   },
   {
    "duration": 15,
    "start_time": "2021-06-22T13:42:31.460Z"
   },
   {
    "duration": 1039,
    "start_time": "2021-06-22T13:42:31.478Z"
   },
   {
    "duration": 1298,
    "start_time": "2021-06-22T13:42:32.519Z"
   },
   {
    "duration": 11,
    "start_time": "2021-06-22T13:42:33.819Z"
   },
   {
    "duration": 206,
    "start_time": "2021-06-22T13:42:33.833Z"
   },
   {
    "duration": 23,
    "start_time": "2021-06-22T13:42:34.042Z"
   },
   {
    "duration": 502,
    "start_time": "2021-06-22T13:42:34.068Z"
   },
   {
    "duration": 984,
    "start_time": "2021-06-22T13:42:34.572Z"
   },
   {
    "duration": 19,
    "start_time": "2021-06-22T13:42:35.558Z"
   },
   {
    "duration": 12,
    "start_time": "2021-06-22T13:42:35.580Z"
   },
   {
    "duration": 20,
    "start_time": "2021-06-22T13:42:35.594Z"
   },
   {
    "duration": 42,
    "start_time": "2021-06-22T13:42:35.616Z"
   },
   {
    "duration": 28,
    "start_time": "2021-06-22T13:42:35.661Z"
   },
   {
    "duration": 1177,
    "start_time": "2021-06-22T13:42:35.691Z"
   },
   {
    "duration": 403,
    "start_time": "2021-06-22T13:42:59.333Z"
   },
   {
    "duration": 14,
    "start_time": "2021-06-22T13:47:17.106Z"
   },
   {
    "duration": 13,
    "start_time": "2021-06-22T13:47:27.169Z"
   },
   {
    "duration": 308,
    "start_time": "2021-06-22T13:52:17.606Z"
   },
   {
    "duration": 465,
    "start_time": "2021-06-22T13:54:30.074Z"
   },
   {
    "duration": 1642,
    "start_time": "2021-06-22T14:02:17.916Z"
   },
   {
    "duration": 74,
    "start_time": "2021-06-22T14:02:19.561Z"
   },
   {
    "duration": 16,
    "start_time": "2021-06-22T14:02:19.638Z"
   },
   {
    "duration": 9,
    "start_time": "2021-06-22T14:02:19.657Z"
   },
   {
    "duration": 7,
    "start_time": "2021-06-22T14:02:19.669Z"
   },
   {
    "duration": 11,
    "start_time": "2021-06-22T14:02:19.679Z"
   },
   {
    "duration": 8,
    "start_time": "2021-06-22T14:02:19.693Z"
   },
   {
    "duration": 55,
    "start_time": "2021-06-22T14:02:19.703Z"
   },
   {
    "duration": 12,
    "start_time": "2021-06-22T14:02:19.763Z"
   },
   {
    "duration": 20,
    "start_time": "2021-06-22T14:02:19.778Z"
   },
   {
    "duration": 20,
    "start_time": "2021-06-22T14:02:19.801Z"
   },
   {
    "duration": 39,
    "start_time": "2021-06-22T14:02:19.823Z"
   },
   {
    "duration": 1110,
    "start_time": "2021-06-22T14:02:19.865Z"
   },
   {
    "duration": 9,
    "start_time": "2021-06-22T14:02:20.977Z"
   },
   {
    "duration": 509,
    "start_time": "2021-06-22T14:02:20.988Z"
   },
   {
    "duration": 21,
    "start_time": "2021-06-22T14:02:21.499Z"
   },
   {
    "duration": 456,
    "start_time": "2021-06-22T14:02:21.523Z"
   },
   {
    "duration": 558,
    "start_time": "2021-06-22T14:02:21.981Z"
   },
   {
    "duration": 114,
    "start_time": "2021-06-22T14:02:22.542Z"
   },
   {
    "duration": 492,
    "start_time": "2021-06-22T14:02:22.659Z"
   },
   {
    "duration": 535,
    "start_time": "2021-06-22T14:02:23.154Z"
   },
   {
    "duration": 744,
    "start_time": "2021-06-22T14:02:23.691Z"
   },
   {
    "duration": 620,
    "start_time": "2021-06-22T14:02:24.438Z"
   },
   {
    "duration": 877,
    "start_time": "2021-06-22T14:02:25.060Z"
   },
   {
    "duration": 632,
    "start_time": "2021-06-22T14:02:25.940Z"
   },
   {
    "duration": 19,
    "start_time": "2021-06-22T14:02:26.575Z"
   },
   {
    "duration": 896,
    "start_time": "2021-06-22T14:02:26.603Z"
   },
   {
    "duration": 986,
    "start_time": "2021-06-22T14:02:27.502Z"
   },
   {
    "duration": 1039,
    "start_time": "2021-06-22T14:02:28.491Z"
   },
   {
    "duration": 970,
    "start_time": "2021-06-22T14:02:29.534Z"
   },
   {
    "duration": 19,
    "start_time": "2021-06-22T14:02:30.507Z"
   },
   {
    "duration": 1268,
    "start_time": "2021-06-22T14:02:30.529Z"
   },
   {
    "duration": 2241,
    "start_time": "2021-06-22T14:02:31.801Z"
   },
   {
    "duration": 15,
    "start_time": "2021-06-22T14:02:34.045Z"
   },
   {
    "duration": 232,
    "start_time": "2021-06-22T14:02:34.063Z"
   },
   {
    "duration": 18,
    "start_time": "2021-06-22T14:02:34.297Z"
   },
   {
    "duration": 549,
    "start_time": "2021-06-22T14:02:34.318Z"
   },
   {
    "duration": 1071,
    "start_time": "2021-06-22T14:02:34.869Z"
   },
   {
    "duration": 38,
    "start_time": "2021-06-22T14:02:35.943Z"
   },
   {
    "duration": 25,
    "start_time": "2021-06-22T14:02:35.983Z"
   },
   {
    "duration": 46,
    "start_time": "2021-06-22T14:02:36.010Z"
   },
   {
    "duration": 6,
    "start_time": "2021-06-22T14:02:36.059Z"
   },
   {
    "duration": 37,
    "start_time": "2021-06-22T14:02:36.068Z"
   },
   {
    "duration": 1285,
    "start_time": "2021-06-22T14:02:36.108Z"
   },
   {
    "duration": 565,
    "start_time": "2021-06-22T14:03:00.529Z"
   },
   {
    "duration": 21,
    "start_time": "2021-06-22T14:04:45.366Z"
   },
   {
    "duration": 571,
    "start_time": "2021-06-22T14:04:47.339Z"
   },
   {
    "duration": 1794,
    "start_time": "2021-06-23T09:06:15.062Z"
   },
   {
    "duration": 78,
    "start_time": "2021-06-23T09:06:16.858Z"
   },
   {
    "duration": 25,
    "start_time": "2021-06-23T09:06:16.942Z"
   },
   {
    "duration": 177,
    "start_time": "2021-06-23T09:06:16.970Z"
   },
   {
    "duration": 7,
    "start_time": "2021-06-23T09:06:17.150Z"
   },
   {
    "duration": 6,
    "start_time": "2021-06-23T09:06:17.160Z"
   },
   {
    "duration": 11,
    "start_time": "2021-06-23T09:06:17.168Z"
   },
   {
    "duration": 11,
    "start_time": "2021-06-23T09:06:17.184Z"
   },
   {
    "duration": 13,
    "start_time": "2021-06-23T09:06:17.198Z"
   },
   {
    "duration": 11,
    "start_time": "2021-06-23T09:06:17.214Z"
   },
   {
    "duration": 46,
    "start_time": "2021-06-23T09:06:17.228Z"
   },
   {
    "duration": 28,
    "start_time": "2021-06-23T09:06:17.277Z"
   },
   {
    "duration": 1229,
    "start_time": "2021-06-23T09:06:17.308Z"
   },
   {
    "duration": 10,
    "start_time": "2021-06-23T09:06:18.540Z"
   },
   {
    "duration": 478,
    "start_time": "2021-06-23T09:06:18.552Z"
   },
   {
    "duration": 62,
    "start_time": "2021-06-23T09:06:19.033Z"
   },
   {
    "duration": 320,
    "start_time": "2021-06-23T09:06:19.097Z"
   },
   {
    "duration": 575,
    "start_time": "2021-06-23T09:06:19.420Z"
   },
   {
    "duration": 105,
    "start_time": "2021-06-23T09:06:19.998Z"
   },
   {
    "duration": 490,
    "start_time": "2021-06-23T09:06:20.105Z"
   },
   {
    "duration": 561,
    "start_time": "2021-06-23T09:06:20.598Z"
   },
   {
    "duration": 794,
    "start_time": "2021-06-23T09:06:21.167Z"
   },
   {
    "duration": 657,
    "start_time": "2021-06-23T09:06:21.971Z"
   },
   {
    "duration": 852,
    "start_time": "2021-06-23T09:06:22.631Z"
   },
   {
    "duration": 662,
    "start_time": "2021-06-23T09:06:23.486Z"
   },
   {
    "duration": 29,
    "start_time": "2021-06-23T09:06:24.151Z"
   },
   {
    "duration": 892,
    "start_time": "2021-06-23T09:06:24.183Z"
   },
   {
    "duration": 675,
    "start_time": "2021-06-23T09:06:25.078Z"
   },
   {
    "duration": 640,
    "start_time": "2021-06-23T09:06:25.756Z"
   },
   {
    "duration": 715,
    "start_time": "2021-06-23T09:06:26.398Z"
   },
   {
    "duration": 17,
    "start_time": "2021-06-23T09:06:27.116Z"
   },
   {
    "duration": 1133,
    "start_time": "2021-06-23T09:06:27.136Z"
   },
   {
    "duration": 1450,
    "start_time": "2021-06-23T09:06:28.272Z"
   },
   {
    "duration": 11,
    "start_time": "2021-06-23T09:06:29.724Z"
   },
   {
    "duration": 226,
    "start_time": "2021-06-23T09:06:29.737Z"
   },
   {
    "duration": 17,
    "start_time": "2021-06-23T09:06:29.967Z"
   },
   {
    "duration": 528,
    "start_time": "2021-06-23T09:06:29.987Z"
   },
   {
    "duration": 1089,
    "start_time": "2021-06-23T09:06:30.518Z"
   },
   {
    "duration": 34,
    "start_time": "2021-06-23T09:06:31.609Z"
   },
   {
    "duration": 36,
    "start_time": "2021-06-23T09:06:31.645Z"
   },
   {
    "duration": 29,
    "start_time": "2021-06-23T09:06:31.684Z"
   },
   {
    "duration": 24,
    "start_time": "2021-06-23T09:06:31.715Z"
   },
   {
    "duration": 49,
    "start_time": "2021-06-23T09:06:31.741Z"
   },
   {
    "duration": 1282,
    "start_time": "2021-06-23T09:06:31.792Z"
   },
   {
    "duration": 470,
    "start_time": "2021-06-23T09:56:35.405Z"
   },
   {
    "duration": 1034,
    "start_time": "2021-06-23T10:09:45.507Z"
   },
   {
    "duration": 657,
    "start_time": "2021-06-23T10:10:01.398Z"
   },
   {
    "duration": 34,
    "start_time": "2021-06-23T10:14:28.947Z"
   },
   {
    "duration": 1178,
    "start_time": "2021-06-23T10:53:30.053Z"
   },
   {
    "duration": 708,
    "start_time": "2021-06-23T10:53:40.423Z"
   },
   {
    "duration": 1702,
    "start_time": "2021-06-23T15:06:51.609Z"
   },
   {
    "duration": 106,
    "start_time": "2021-06-23T15:06:53.313Z"
   },
   {
    "duration": 19,
    "start_time": "2021-06-23T15:06:53.423Z"
   },
   {
    "duration": 23,
    "start_time": "2021-06-23T15:06:53.446Z"
   },
   {
    "duration": 12,
    "start_time": "2021-06-23T15:06:53.472Z"
   },
   {
    "duration": 42,
    "start_time": "2021-06-23T15:06:53.486Z"
   },
   {
    "duration": 14,
    "start_time": "2021-06-23T15:06:53.531Z"
   },
   {
    "duration": 17,
    "start_time": "2021-06-23T15:06:53.548Z"
   },
   {
    "duration": 10,
    "start_time": "2021-06-23T15:06:53.570Z"
   },
   {
    "duration": 17,
    "start_time": "2021-06-23T15:06:53.583Z"
   },
   {
    "duration": 42,
    "start_time": "2021-06-23T15:06:53.602Z"
   },
   {
    "duration": 23,
    "start_time": "2021-06-23T15:06:53.647Z"
   },
   {
    "duration": 1206,
    "start_time": "2021-06-23T15:06:53.673Z"
   },
   {
    "duration": 8,
    "start_time": "2021-06-23T15:06:54.881Z"
   },
   {
    "duration": 861,
    "start_time": "2021-06-23T15:06:54.892Z"
   },
   {
    "duration": 73,
    "start_time": "2021-06-23T15:06:55.756Z"
   },
   {
    "duration": 368,
    "start_time": "2021-06-23T15:06:55.836Z"
   },
   {
    "duration": 594,
    "start_time": "2021-06-23T15:06:56.206Z"
   },
   {
    "duration": 135,
    "start_time": "2021-06-23T15:06:56.803Z"
   },
   {
    "duration": 506,
    "start_time": "2021-06-23T15:06:56.942Z"
   },
   {
    "duration": 567,
    "start_time": "2021-06-23T15:06:57.453Z"
   },
   {
    "duration": 768,
    "start_time": "2021-06-23T15:06:58.025Z"
   },
   {
    "duration": 585,
    "start_time": "2021-06-23T15:06:58.795Z"
   },
   {
    "duration": 893,
    "start_time": "2021-06-23T15:06:59.383Z"
   },
   {
    "duration": 657,
    "start_time": "2021-06-23T15:07:00.278Z"
   },
   {
    "duration": 17,
    "start_time": "2021-06-23T15:07:00.941Z"
   },
   {
    "duration": 925,
    "start_time": "2021-06-23T15:07:00.965Z"
   },
   {
    "duration": 708,
    "start_time": "2021-06-23T15:07:01.893Z"
   },
   {
    "duration": 567,
    "start_time": "2021-06-23T15:07:02.603Z"
   },
   {
    "duration": 765,
    "start_time": "2021-06-23T15:07:03.172Z"
   },
   {
    "duration": 16,
    "start_time": "2021-06-23T15:07:03.941Z"
   },
   {
    "duration": 1127,
    "start_time": "2021-06-23T15:07:03.959Z"
   },
   {
    "duration": 1442,
    "start_time": "2021-06-23T15:07:05.089Z"
   },
   {
    "duration": 17,
    "start_time": "2021-06-23T15:07:06.534Z"
   },
   {
    "duration": 235,
    "start_time": "2021-06-23T15:07:06.554Z"
   },
   {
    "duration": 17,
    "start_time": "2021-06-23T15:07:06.791Z"
   },
   {
    "duration": 568,
    "start_time": "2021-06-23T15:07:06.824Z"
   },
   {
    "duration": 1074,
    "start_time": "2021-06-23T15:07:07.394Z"
   },
   {
    "duration": 19,
    "start_time": "2021-06-23T15:07:08.470Z"
   },
   {
    "duration": 41,
    "start_time": "2021-06-23T15:07:08.492Z"
   },
   {
    "duration": 22,
    "start_time": "2021-06-23T15:07:08.543Z"
   },
   {
    "duration": 7,
    "start_time": "2021-06-23T15:07:08.568Z"
   },
   {
    "duration": 54,
    "start_time": "2021-06-23T15:07:08.577Z"
   },
   {
    "duration": 1394,
    "start_time": "2021-06-23T15:07:08.635Z"
   },
   {
    "duration": 1242,
    "start_time": "2021-06-23T15:14:08.867Z"
   },
   {
    "duration": 1591,
    "start_time": "2021-06-23T15:25:18.977Z"
   },
   {
    "duration": 82,
    "start_time": "2021-06-23T15:25:20.570Z"
   },
   {
    "duration": 12,
    "start_time": "2021-06-23T15:25:20.655Z"
   },
   {
    "duration": 18,
    "start_time": "2021-06-23T15:25:20.670Z"
   },
   {
    "duration": 23,
    "start_time": "2021-06-23T15:25:20.691Z"
   },
   {
    "duration": 17,
    "start_time": "2021-06-23T15:25:20.717Z"
   },
   {
    "duration": 13,
    "start_time": "2021-06-23T15:25:20.737Z"
   },
   {
    "duration": 11,
    "start_time": "2021-06-23T15:25:20.753Z"
   },
   {
    "duration": 10,
    "start_time": "2021-06-23T15:25:20.766Z"
   },
   {
    "duration": 50,
    "start_time": "2021-06-23T15:25:20.778Z"
   },
   {
    "duration": 18,
    "start_time": "2021-06-23T15:25:20.831Z"
   },
   {
    "duration": 22,
    "start_time": "2021-06-23T15:25:20.852Z"
   },
   {
    "duration": 1272,
    "start_time": "2021-06-23T15:25:20.876Z"
   },
   {
    "duration": 9,
    "start_time": "2021-06-23T15:25:22.150Z"
   },
   {
    "duration": 518,
    "start_time": "2021-06-23T15:25:22.162Z"
   },
   {
    "duration": 20,
    "start_time": "2021-06-23T15:25:22.683Z"
   },
   {
    "duration": 358,
    "start_time": "2021-06-23T15:25:22.705Z"
   },
   {
    "duration": 597,
    "start_time": "2021-06-23T15:25:23.066Z"
   },
   {
    "duration": 123,
    "start_time": "2021-06-23T15:25:23.665Z"
   },
   {
    "duration": 502,
    "start_time": "2021-06-23T15:25:23.790Z"
   },
   {
    "duration": 562,
    "start_time": "2021-06-23T15:25:24.294Z"
   },
   {
    "duration": 814,
    "start_time": "2021-06-23T15:25:24.858Z"
   },
   {
    "duration": 593,
    "start_time": "2021-06-23T15:25:25.677Z"
   },
   {
    "duration": 1143,
    "start_time": "2021-06-23T15:25:26.273Z"
   },
   {
    "duration": 619,
    "start_time": "2021-06-23T15:25:27.419Z"
   },
   {
    "duration": 17,
    "start_time": "2021-06-23T15:25:28.041Z"
   },
   {
    "duration": 889,
    "start_time": "2021-06-23T15:25:28.060Z"
   },
   {
    "duration": 676,
    "start_time": "2021-06-23T15:25:28.951Z"
   },
   {
    "duration": 549,
    "start_time": "2021-06-23T15:25:29.631Z"
   },
   {
    "duration": 734,
    "start_time": "2021-06-23T15:25:30.183Z"
   },
   {
    "duration": 18,
    "start_time": "2021-06-23T15:25:30.924Z"
   },
   {
    "duration": 1011,
    "start_time": "2021-06-23T15:25:30.945Z"
   },
   {
    "duration": 1402,
    "start_time": "2021-06-23T15:25:31.959Z"
   },
   {
    "duration": 10,
    "start_time": "2021-06-23T15:25:33.364Z"
   },
   {
    "duration": 227,
    "start_time": "2021-06-23T15:25:33.376Z"
   },
   {
    "duration": 31,
    "start_time": "2021-06-23T15:25:33.606Z"
   },
   {
    "duration": 534,
    "start_time": "2021-06-23T15:25:33.640Z"
   },
   {
    "duration": 1069,
    "start_time": "2021-06-23T15:25:34.177Z"
   },
   {
    "duration": 18,
    "start_time": "2021-06-23T15:25:35.248Z"
   },
   {
    "duration": 12,
    "start_time": "2021-06-23T15:25:35.269Z"
   },
   {
    "duration": 61,
    "start_time": "2021-06-23T15:25:35.284Z"
   },
   {
    "duration": 7,
    "start_time": "2021-06-23T15:25:35.348Z"
   },
   {
    "duration": 27,
    "start_time": "2021-06-23T15:25:35.358Z"
   },
   {
    "duration": 1299,
    "start_time": "2021-06-23T15:25:35.387Z"
   },
   {
    "duration": 10,
    "start_time": "2021-06-23T16:49:38.163Z"
   },
   {
    "duration": 11,
    "start_time": "2021-06-23T16:50:12.225Z"
   },
   {
    "duration": 11,
    "start_time": "2021-06-23T16:50:26.176Z"
   },
   {
    "duration": 10,
    "start_time": "2021-06-23T16:50:44.010Z"
   },
   {
    "duration": 13,
    "start_time": "2021-06-23T19:56:19.926Z"
   },
   {
    "duration": 10,
    "start_time": "2021-06-23T19:56:38.843Z"
   },
   {
    "duration": 5,
    "start_time": "2021-06-23T20:01:59.936Z"
   },
   {
    "duration": 409,
    "start_time": "2021-06-24T05:49:02.234Z"
   },
   {
    "duration": 1595,
    "start_time": "2021-06-24T05:49:10.733Z"
   },
   {
    "duration": 73,
    "start_time": "2021-06-24T05:49:12.331Z"
   },
   {
    "duration": 14,
    "start_time": "2021-06-24T05:49:12.410Z"
   },
   {
    "duration": 12,
    "start_time": "2021-06-24T05:49:12.428Z"
   },
   {
    "duration": 11,
    "start_time": "2021-06-24T05:49:12.444Z"
   },
   {
    "duration": 6,
    "start_time": "2021-06-24T05:49:12.458Z"
   },
   {
    "duration": 10,
    "start_time": "2021-06-24T05:49:12.510Z"
   },
   {
    "duration": 13,
    "start_time": "2021-06-24T05:49:12.526Z"
   },
   {
    "duration": 12,
    "start_time": "2021-06-24T05:49:12.543Z"
   },
   {
    "duration": 8,
    "start_time": "2021-06-24T05:49:12.610Z"
   },
   {
    "duration": 22,
    "start_time": "2021-06-24T05:49:12.621Z"
   },
   {
    "duration": 24,
    "start_time": "2021-06-24T05:49:12.646Z"
   },
   {
    "duration": 1141,
    "start_time": "2021-06-24T05:49:12.673Z"
   },
   {
    "duration": 10,
    "start_time": "2021-06-24T05:49:13.817Z"
   },
   {
    "duration": 509,
    "start_time": "2021-06-24T05:49:13.830Z"
   },
   {
    "duration": 20,
    "start_time": "2021-06-24T05:49:14.342Z"
   },
   {
    "duration": 352,
    "start_time": "2021-06-24T05:49:14.365Z"
   },
   {
    "duration": 571,
    "start_time": "2021-06-24T05:49:14.720Z"
   },
   {
    "duration": 125,
    "start_time": "2021-06-24T05:49:15.294Z"
   },
   {
    "duration": 481,
    "start_time": "2021-06-24T05:49:15.422Z"
   },
   {
    "duration": 530,
    "start_time": "2021-06-24T05:49:15.905Z"
   },
   {
    "duration": 949,
    "start_time": "2021-06-24T05:49:16.439Z"
   },
   {
    "duration": 544,
    "start_time": "2021-06-24T05:49:17.395Z"
   },
   {
    "duration": 841,
    "start_time": "2021-06-24T05:49:17.943Z"
   },
   {
    "duration": 598,
    "start_time": "2021-06-24T05:49:18.787Z"
   },
   {
    "duration": 25,
    "start_time": "2021-06-24T05:49:19.387Z"
   },
   {
    "duration": 756,
    "start_time": "2021-06-24T05:49:19.415Z"
   },
   {
    "duration": 643,
    "start_time": "2021-06-24T05:49:20.173Z"
   },
   {
    "duration": 544,
    "start_time": "2021-06-24T05:49:20.819Z"
   },
   {
    "duration": 725,
    "start_time": "2021-06-24T05:49:21.365Z"
   },
   {
    "duration": 18,
    "start_time": "2021-06-24T05:49:22.093Z"
   },
   {
    "duration": 984,
    "start_time": "2021-06-24T05:49:22.113Z"
   },
   {
    "duration": 1712,
    "start_time": "2021-06-24T05:49:23.100Z"
   },
   {
    "duration": 10,
    "start_time": "2021-06-24T05:49:24.815Z"
   },
   {
    "duration": 206,
    "start_time": "2021-06-24T05:49:24.827Z"
   },
   {
    "duration": 16,
    "start_time": "2021-06-24T05:49:25.035Z"
   },
   {
    "duration": 515,
    "start_time": "2021-06-24T05:49:25.053Z"
   },
   {
    "duration": 1007,
    "start_time": "2021-06-24T05:49:25.571Z"
   },
   {
    "duration": 29,
    "start_time": "2021-06-24T05:49:26.581Z"
   },
   {
    "duration": 18,
    "start_time": "2021-06-24T05:49:26.612Z"
   },
   {
    "duration": 25,
    "start_time": "2021-06-24T05:49:26.632Z"
   },
   {
    "duration": 18,
    "start_time": "2021-06-24T05:49:26.659Z"
   },
   {
    "duration": 45,
    "start_time": "2021-06-24T05:49:26.679Z"
   },
   {
    "duration": 1220,
    "start_time": "2021-06-24T05:49:26.727Z"
   },
   {
    "duration": 336,
    "start_time": "2021-06-24T05:49:27.949Z"
   },
   {
    "duration": 470,
    "start_time": "2021-06-24T05:55:16.486Z"
   },
   {
    "duration": 328,
    "start_time": "2021-06-24T05:56:22.763Z"
   },
   {
    "duration": 342,
    "start_time": "2021-06-24T06:19:04.054Z"
   },
   {
    "duration": 342,
    "start_time": "2021-06-24T06:19:57.662Z"
   },
   {
    "duration": 676,
    "start_time": "2021-06-24T07:16:03.180Z"
   },
   {
    "duration": 1805,
    "start_time": "2021-06-24T07:17:39.554Z"
   },
   {
    "duration": 2089,
    "start_time": "2021-06-24T07:18:11.576Z"
   },
   {
    "duration": 1737,
    "start_time": "2021-06-24T07:18:25.206Z"
   },
   {
    "duration": 945,
    "start_time": "2021-06-24T07:18:56.822Z"
   },
   {
    "duration": 1718,
    "start_time": "2021-06-24T07:19:07.813Z"
   },
   {
    "duration": 492,
    "start_time": "2021-06-24T08:03:19.104Z"
   },
   {
    "duration": 11,
    "start_time": "2021-06-24T08:04:15.896Z"
   },
   {
    "duration": 535,
    "start_time": "2021-06-24T08:04:16.016Z"
   },
   {
    "duration": 14,
    "start_time": "2021-06-24T08:04:26.727Z"
   },
   {
    "duration": 15,
    "start_time": "2021-06-24T08:05:02.147Z"
   },
   {
    "duration": 111,
    "start_time": "2021-06-24T08:05:56.423Z"
   },
   {
    "duration": 16,
    "start_time": "2021-06-24T08:06:04.313Z"
   },
   {
    "duration": 16,
    "start_time": "2021-06-24T08:06:26.164Z"
   },
   {
    "duration": 14,
    "start_time": "2021-06-24T08:07:36.132Z"
   },
   {
    "duration": 668,
    "start_time": "2021-06-24T10:32:07.317Z"
   },
   {
    "duration": 1053,
    "start_time": "2021-06-24T10:32:27.599Z"
   },
   {
    "duration": 89,
    "start_time": "2021-06-24T13:08:06.213Z"
   },
   {
    "duration": 89,
    "start_time": "2021-06-24T13:13:10.070Z"
   },
   {
    "duration": 1609,
    "start_time": "2021-06-24T13:18:04.997Z"
   },
   {
    "duration": 74,
    "start_time": "2021-06-24T13:18:06.608Z"
   },
   {
    "duration": 15,
    "start_time": "2021-06-24T13:18:06.685Z"
   },
   {
    "duration": 10,
    "start_time": "2021-06-24T13:18:06.703Z"
   },
   {
    "duration": 16,
    "start_time": "2021-06-24T13:18:06.716Z"
   },
   {
    "duration": 11,
    "start_time": "2021-06-24T13:18:06.735Z"
   },
   {
    "duration": 15,
    "start_time": "2021-06-24T13:18:06.748Z"
   },
   {
    "duration": 39,
    "start_time": "2021-06-24T13:18:06.767Z"
   },
   {
    "duration": 11,
    "start_time": "2021-06-24T13:18:06.808Z"
   },
   {
    "duration": 13,
    "start_time": "2021-06-24T13:18:06.822Z"
   },
   {
    "duration": 21,
    "start_time": "2021-06-24T13:18:06.837Z"
   },
   {
    "duration": 46,
    "start_time": "2021-06-24T13:18:06.861Z"
   },
   {
    "duration": 1039,
    "start_time": "2021-06-24T13:18:06.910Z"
   },
   {
    "duration": 8,
    "start_time": "2021-06-24T13:18:07.951Z"
   },
   {
    "duration": 457,
    "start_time": "2021-06-24T13:18:07.962Z"
   },
   {
    "duration": 19,
    "start_time": "2021-06-24T13:18:08.422Z"
   },
   {
    "duration": 330,
    "start_time": "2021-06-24T13:18:08.444Z"
   },
   {
    "duration": 552,
    "start_time": "2021-06-24T13:18:08.777Z"
   },
   {
    "duration": 114,
    "start_time": "2021-06-24T13:18:09.331Z"
   },
   {
    "duration": 451,
    "start_time": "2021-06-24T13:18:09.448Z"
   },
   {
    "duration": 15,
    "start_time": "2021-06-24T13:18:09.901Z"
   },
   {
    "duration": 543,
    "start_time": "2021-06-24T13:18:09.918Z"
   },
   {
    "duration": 706,
    "start_time": "2021-06-24T13:18:10.466Z"
   },
   {
    "duration": 551,
    "start_time": "2021-06-24T13:18:11.176Z"
   },
   {
    "duration": 952,
    "start_time": "2021-06-24T13:18:11.730Z"
   },
   {
    "duration": 584,
    "start_time": "2021-06-24T13:18:12.685Z"
   },
   {
    "duration": 30,
    "start_time": "2021-06-24T13:18:13.271Z"
   },
   {
    "duration": 731,
    "start_time": "2021-06-24T13:18:13.305Z"
   },
   {
    "duration": 618,
    "start_time": "2021-06-24T13:18:14.039Z"
   },
   {
    "duration": 516,
    "start_time": "2021-06-24T13:18:14.660Z"
   },
   {
    "duration": 704,
    "start_time": "2021-06-24T13:18:15.180Z"
   },
   {
    "duration": 22,
    "start_time": "2021-06-24T13:18:15.887Z"
   },
   {
    "duration": 969,
    "start_time": "2021-06-24T13:18:15.912Z"
   },
   {
    "duration": 2161,
    "start_time": "2021-06-24T13:18:16.884Z"
   },
   {
    "duration": 14,
    "start_time": "2021-06-24T13:18:19.048Z"
   },
   {
    "duration": 340,
    "start_time": "2021-06-24T13:18:19.065Z"
   },
   {
    "duration": 6,
    "start_time": "2021-06-24T13:18:19.409Z"
   },
   {
    "duration": 18,
    "start_time": "2021-06-24T13:18:19.418Z"
   },
   {
    "duration": 524,
    "start_time": "2021-06-24T13:18:19.439Z"
   },
   {
    "duration": 995,
    "start_time": "2021-06-24T13:18:19.965Z"
   },
   {
    "duration": 19,
    "start_time": "2021-06-24T13:18:20.963Z"
   },
   {
    "duration": 31,
    "start_time": "2021-06-24T13:18:20.985Z"
   },
   {
    "duration": 29,
    "start_time": "2021-06-24T13:18:21.019Z"
   },
   {
    "duration": 12,
    "start_time": "2021-06-24T13:18:21.051Z"
   },
   {
    "duration": 33,
    "start_time": "2021-06-24T13:18:21.101Z"
   },
   {
    "duration": 698,
    "start_time": "2021-06-24T13:18:21.137Z"
   },
   {
    "duration": 1823,
    "start_time": "2021-06-24T13:18:21.838Z"
   },
   {
    "duration": 342,
    "start_time": "2021-06-24T13:18:23.663Z"
   },
   {
    "duration": 6,
    "start_time": "2021-06-24T13:19:30.335Z"
   },
   {
    "duration": 4,
    "start_time": "2021-06-24T13:19:40.968Z"
   },
   {
    "duration": 6,
    "start_time": "2021-06-24T13:19:46.882Z"
   },
   {
    "duration": 8,
    "start_time": "2021-06-24T13:19:57.480Z"
   },
   {
    "duration": 5,
    "start_time": "2021-06-24T13:20:06.172Z"
   },
   {
    "duration": 184,
    "start_time": "2021-06-24T13:22:39.884Z"
   },
   {
    "duration": 6,
    "start_time": "2021-06-24T13:22:42.510Z"
   },
   {
    "duration": 188,
    "start_time": "2021-06-24T13:22:50.180Z"
   },
   {
    "duration": 6,
    "start_time": "2021-06-24T13:22:51.956Z"
   },
   {
    "duration": 98,
    "start_time": "2021-06-24T13:31:40.730Z"
   },
   {
    "duration": 95,
    "start_time": "2021-06-24T13:33:15.314Z"
   },
   {
    "duration": 373,
    "start_time": "2021-06-24T15:25:01.033Z"
   },
   {
    "duration": 1598,
    "start_time": "2021-06-24T15:25:09.864Z"
   },
   {
    "duration": 72,
    "start_time": "2021-06-24T15:25:11.464Z"
   },
   {
    "duration": 24,
    "start_time": "2021-06-24T15:25:11.539Z"
   },
   {
    "duration": 16,
    "start_time": "2021-06-24T15:25:11.566Z"
   },
   {
    "duration": 11,
    "start_time": "2021-06-24T15:25:11.585Z"
   },
   {
    "duration": 7,
    "start_time": "2021-06-24T15:25:11.600Z"
   },
   {
    "duration": 52,
    "start_time": "2021-06-24T15:25:11.610Z"
   },
   {
    "duration": 14,
    "start_time": "2021-06-24T15:25:11.668Z"
   },
   {
    "duration": 16,
    "start_time": "2021-06-24T15:25:11.686Z"
   },
   {
    "duration": 8,
    "start_time": "2021-06-24T15:25:11.705Z"
   },
   {
    "duration": 55,
    "start_time": "2021-06-24T15:25:11.716Z"
   },
   {
    "duration": 24,
    "start_time": "2021-06-24T15:25:11.774Z"
   },
   {
    "duration": 1422,
    "start_time": "2021-06-24T15:25:11.801Z"
   },
   {
    "duration": 11,
    "start_time": "2021-06-24T15:25:13.226Z"
   },
   {
    "duration": 488,
    "start_time": "2021-06-24T15:25:13.240Z"
   },
   {
    "duration": 31,
    "start_time": "2021-06-24T15:25:13.731Z"
   },
   {
    "duration": 327,
    "start_time": "2021-06-24T15:25:13.765Z"
   },
   {
    "duration": 561,
    "start_time": "2021-06-24T15:25:14.094Z"
   },
   {
    "duration": 112,
    "start_time": "2021-06-24T15:25:14.657Z"
   },
   {
    "duration": 591,
    "start_time": "2021-06-24T15:25:14.771Z"
   },
   {
    "duration": 15,
    "start_time": "2021-06-24T15:25:15.364Z"
   },
   {
    "duration": 784,
    "start_time": "2021-06-24T15:25:15.381Z"
   },
   {
    "duration": 720,
    "start_time": "2021-06-24T15:25:16.171Z"
   },
   {
    "duration": 541,
    "start_time": "2021-06-24T15:25:16.895Z"
   },
   {
    "duration": 955,
    "start_time": "2021-06-24T15:25:17.439Z"
   },
   {
    "duration": 584,
    "start_time": "2021-06-24T15:25:18.397Z"
   },
   {
    "duration": 19,
    "start_time": "2021-06-24T15:25:18.983Z"
   },
   {
    "duration": 767,
    "start_time": "2021-06-24T15:25:19.005Z"
   },
   {
    "duration": 644,
    "start_time": "2021-06-24T15:25:19.775Z"
   },
   {
    "duration": 526,
    "start_time": "2021-06-24T15:25:20.422Z"
   },
   {
    "duration": 682,
    "start_time": "2021-06-24T15:25:20.950Z"
   },
   {
    "duration": 27,
    "start_time": "2021-06-24T15:25:21.634Z"
   },
   {
    "duration": 949,
    "start_time": "2021-06-24T15:25:21.664Z"
   },
   {
    "duration": 1297,
    "start_time": "2021-06-24T15:25:22.616Z"
   },
   {
    "duration": 17,
    "start_time": "2021-06-24T15:25:23.915Z"
   },
   {
    "duration": 29,
    "start_time": "2021-06-24T15:25:23.934Z"
   },
   {
    "duration": 199,
    "start_time": "2021-06-24T15:25:23.966Z"
   },
   {
    "duration": 7,
    "start_time": "2021-06-24T15:25:24.167Z"
   },
   {
    "duration": 24,
    "start_time": "2021-06-24T15:25:24.176Z"
   },
   {
    "duration": 514,
    "start_time": "2021-06-24T15:25:24.202Z"
   },
   {
    "duration": 1011,
    "start_time": "2021-06-24T15:25:24.718Z"
   },
   {
    "duration": 18,
    "start_time": "2021-06-24T15:25:25.732Z"
   },
   {
    "duration": 21,
    "start_time": "2021-06-24T15:25:25.752Z"
   },
   {
    "duration": 25,
    "start_time": "2021-06-24T15:25:25.775Z"
   },
   {
    "duration": 10,
    "start_time": "2021-06-24T15:25:25.802Z"
   },
   {
    "duration": 26,
    "start_time": "2021-06-24T15:25:25.816Z"
   },
   {
    "duration": 695,
    "start_time": "2021-06-24T15:25:25.845Z"
   },
   {
    "duration": 2094,
    "start_time": "2021-06-24T15:25:26.542Z"
   },
   {
    "duration": 350,
    "start_time": "2021-06-24T15:25:28.638Z"
   },
   {
    "duration": 14,
    "start_time": "2021-06-24T15:30:41.745Z"
   },
   {
    "duration": 25,
    "start_time": "2021-06-24T15:30:55.145Z"
   },
   {
    "duration": 16,
    "start_time": "2021-06-24T15:32:02.874Z"
   },
   {
    "duration": 17,
    "start_time": "2021-06-24T15:32:19.245Z"
   },
   {
    "duration": 469,
    "start_time": "2021-06-24T15:32:41.493Z"
   },
   {
    "duration": 25,
    "start_time": "2021-06-24T15:33:13.083Z"
   },
   {
    "duration": 28,
    "start_time": "2021-06-24T15:35:16.304Z"
   },
   {
    "duration": 24,
    "start_time": "2021-06-24T15:35:46.334Z"
   },
   {
    "duration": 5757,
    "start_time": "2021-06-24T15:44:25.175Z"
   },
   {
    "duration": 5637,
    "start_time": "2021-06-24T15:44:47.255Z"
   },
   {
    "duration": 6104,
    "start_time": "2021-06-24T15:45:16.825Z"
   },
   {
    "duration": 5674,
    "start_time": "2021-06-24T15:46:05.874Z"
   },
   {
    "duration": 4842,
    "start_time": "2021-06-24T15:46:47.334Z"
   },
   {
    "duration": 4649,
    "start_time": "2021-06-24T15:47:47.654Z"
   },
   {
    "duration": 546,
    "start_time": "2021-06-24T15:48:08.614Z"
   },
   {
    "duration": 631,
    "start_time": "2021-06-24T15:48:16.494Z"
   },
   {
    "duration": 519,
    "start_time": "2021-06-24T15:50:33.915Z"
   },
   {
    "duration": 762,
    "start_time": "2021-06-24T15:51:51.215Z"
   },
   {
    "duration": 829,
    "start_time": "2021-06-24T15:52:41.885Z"
   },
   {
    "duration": 727,
    "start_time": "2021-06-24T15:53:21.995Z"
   },
   {
    "duration": 756,
    "start_time": "2021-06-24T15:53:31.124Z"
   },
   {
    "duration": 502,
    "start_time": "2021-06-24T15:55:15.085Z"
   },
   {
    "duration": 620,
    "start_time": "2021-06-24T15:55:35.565Z"
   },
   {
    "duration": 515,
    "start_time": "2021-06-24T15:55:40.972Z"
   },
   {
    "duration": 780,
    "start_time": "2021-06-24T16:03:36.306Z"
   },
   {
    "duration": 5697,
    "start_time": "2021-06-24T16:03:47.584Z"
   },
   {
    "duration": 1559,
    "start_time": "2021-06-24T16:04:35.803Z"
   },
   {
    "duration": 75,
    "start_time": "2021-06-24T16:04:37.365Z"
   },
   {
    "duration": 20,
    "start_time": "2021-06-24T16:04:37.443Z"
   },
   {
    "duration": 20,
    "start_time": "2021-06-24T16:04:37.466Z"
   },
   {
    "duration": 24,
    "start_time": "2021-06-24T16:04:37.488Z"
   },
   {
    "duration": 18,
    "start_time": "2021-06-24T16:04:37.515Z"
   },
   {
    "duration": 18,
    "start_time": "2021-06-24T16:04:37.535Z"
   },
   {
    "duration": 29,
    "start_time": "2021-06-24T16:04:37.557Z"
   },
   {
    "duration": 17,
    "start_time": "2021-06-24T16:04:37.589Z"
   },
   {
    "duration": 29,
    "start_time": "2021-06-24T16:04:37.608Z"
   },
   {
    "duration": 27,
    "start_time": "2021-06-24T16:04:37.640Z"
   },
   {
    "duration": 26,
    "start_time": "2021-06-24T16:04:37.669Z"
   },
   {
    "duration": 1271,
    "start_time": "2021-06-24T16:04:37.698Z"
   },
   {
    "duration": 8,
    "start_time": "2021-06-24T16:04:38.971Z"
   },
   {
    "duration": 555,
    "start_time": "2021-06-24T16:04:38.982Z"
   },
   {
    "duration": 27,
    "start_time": "2021-06-24T16:04:39.539Z"
   },
   {
    "duration": 430,
    "start_time": "2021-06-24T16:04:39.569Z"
   },
   {
    "duration": 559,
    "start_time": "2021-06-24T16:04:40.002Z"
   },
   {
    "duration": 116,
    "start_time": "2021-06-24T16:04:40.564Z"
   },
   {
    "duration": 582,
    "start_time": "2021-06-24T16:04:40.683Z"
   },
   {
    "duration": 15,
    "start_time": "2021-06-24T16:04:41.268Z"
   },
   {
    "duration": 560,
    "start_time": "2021-06-24T16:04:41.286Z"
   },
   {
    "duration": 745,
    "start_time": "2021-06-24T16:04:41.851Z"
   },
   {
    "duration": 541,
    "start_time": "2021-06-24T16:04:42.599Z"
   },
   {
    "duration": 962,
    "start_time": "2021-06-24T16:04:43.142Z"
   },
   {
    "duration": 591,
    "start_time": "2021-06-24T16:04:44.107Z"
   },
   {
    "duration": 18,
    "start_time": "2021-06-24T16:04:44.701Z"
   },
   {
    "duration": 770,
    "start_time": "2021-06-24T16:04:44.721Z"
   },
   {
    "duration": 651,
    "start_time": "2021-06-24T16:04:45.494Z"
   },
   {
    "duration": 551,
    "start_time": "2021-06-24T16:04:46.148Z"
   },
   {
    "duration": 690,
    "start_time": "2021-06-24T16:04:46.701Z"
   },
   {
    "duration": 17,
    "start_time": "2021-06-24T16:04:47.394Z"
   },
   {
    "duration": 1486,
    "start_time": "2021-06-24T16:04:47.414Z"
   },
   {
    "duration": 1325,
    "start_time": "2021-06-24T16:04:48.903Z"
   },
   {
    "duration": 5809,
    "start_time": "2021-06-24T16:04:50.231Z"
   },
   {
    "duration": -847,
    "start_time": "2021-06-24T16:04:56.889Z"
   },
   {
    "duration": -851,
    "start_time": "2021-06-24T16:04:56.895Z"
   },
   {
    "duration": -860,
    "start_time": "2021-06-24T16:04:56.905Z"
   },
   {
    "duration": -848,
    "start_time": "2021-06-24T16:04:56.909Z"
   },
   {
    "duration": -851,
    "start_time": "2021-06-24T16:04:56.914Z"
   },
   {
    "duration": -856,
    "start_time": "2021-06-24T16:04:56.920Z"
   },
   {
    "duration": -859,
    "start_time": "2021-06-24T16:04:56.925Z"
   },
   {
    "duration": -862,
    "start_time": "2021-06-24T16:04:56.929Z"
   },
   {
    "duration": -864,
    "start_time": "2021-06-24T16:04:56.933Z"
   },
   {
    "duration": -870,
    "start_time": "2021-06-24T16:04:56.940Z"
   },
   {
    "duration": -874,
    "start_time": "2021-06-24T16:04:56.946Z"
   },
   {
    "duration": -879,
    "start_time": "2021-06-24T16:04:56.952Z"
   },
   {
    "duration": -885,
    "start_time": "2021-06-24T16:04:56.959Z"
   },
   {
    "duration": -890,
    "start_time": "2021-06-24T16:04:56.966Z"
   },
   {
    "duration": 16,
    "start_time": "2021-06-24T16:07:16.014Z"
   },
   {
    "duration": 1281,
    "start_time": "2021-06-24T16:07:33.933Z"
   },
   {
    "duration": 499,
    "start_time": "2021-06-24T16:07:58.645Z"
   },
   {
    "duration": 1367,
    "start_time": "2021-06-24T16:08:22.945Z"
   },
   {
    "duration": 8631,
    "start_time": "2021-06-24T16:08:35.555Z"
   },
   {
    "duration": 20,
    "start_time": "2021-06-24T16:08:57.274Z"
   },
   {
    "duration": 20,
    "start_time": "2021-06-24T16:09:16.464Z"
   },
   {
    "duration": 20,
    "start_time": "2021-06-24T16:09:32.401Z"
   },
   {
    "duration": 551,
    "start_time": "2021-06-24T16:10:22.231Z"
   },
   {
    "duration": 19,
    "start_time": "2021-06-24T16:10:31.952Z"
   },
   {
    "duration": 1561,
    "start_time": "2021-06-24T16:12:43.487Z"
   },
   {
    "duration": 74,
    "start_time": "2021-06-24T16:12:45.051Z"
   },
   {
    "duration": 12,
    "start_time": "2021-06-24T16:12:45.128Z"
   },
   {
    "duration": 28,
    "start_time": "2021-06-24T16:12:45.142Z"
   },
   {
    "duration": 13,
    "start_time": "2021-06-24T16:12:45.172Z"
   },
   {
    "duration": 11,
    "start_time": "2021-06-24T16:12:45.188Z"
   },
   {
    "duration": 20,
    "start_time": "2021-06-24T16:12:45.202Z"
   },
   {
    "duration": 40,
    "start_time": "2021-06-24T16:12:45.226Z"
   },
   {
    "duration": 19,
    "start_time": "2021-06-24T16:12:45.269Z"
   },
   {
    "duration": 6,
    "start_time": "2021-06-24T16:12:45.291Z"
   },
   {
    "duration": 21,
    "start_time": "2021-06-24T16:12:45.299Z"
   },
   {
    "duration": 58,
    "start_time": "2021-06-24T16:12:45.322Z"
   },
   {
    "duration": 485,
    "start_time": "2021-06-24T16:12:45.382Z"
   },
   {
    "duration": -851,
    "start_time": "2021-06-24T16:12:46.723Z"
   },
   {
    "duration": -855,
    "start_time": "2021-06-24T16:12:46.728Z"
   },
   {
    "duration": -857,
    "start_time": "2021-06-24T16:12:46.732Z"
   },
   {
    "duration": -858,
    "start_time": "2021-06-24T16:12:46.735Z"
   },
   {
    "duration": -863,
    "start_time": "2021-06-24T16:12:46.741Z"
   },
   {
    "duration": -865,
    "start_time": "2021-06-24T16:12:46.745Z"
   },
   {
    "duration": -870,
    "start_time": "2021-06-24T16:12:46.751Z"
   },
   {
    "duration": -872,
    "start_time": "2021-06-24T16:12:46.755Z"
   },
   {
    "duration": -873,
    "start_time": "2021-06-24T16:12:46.758Z"
   },
   {
    "duration": -876,
    "start_time": "2021-06-24T16:12:46.762Z"
   },
   {
    "duration": -879,
    "start_time": "2021-06-24T16:12:46.767Z"
   },
   {
    "duration": -1292,
    "start_time": "2021-06-24T16:12:47.181Z"
   },
   {
    "duration": -1299,
    "start_time": "2021-06-24T16:12:47.190Z"
   },
   {
    "duration": -1303,
    "start_time": "2021-06-24T16:12:47.196Z"
   },
   {
    "duration": -1308,
    "start_time": "2021-06-24T16:12:47.202Z"
   },
   {
    "duration": -1311,
    "start_time": "2021-06-24T16:12:47.207Z"
   },
   {
    "duration": -1315,
    "start_time": "2021-06-24T16:12:47.213Z"
   },
   {
    "duration": -1320,
    "start_time": "2021-06-24T16:12:47.219Z"
   },
   {
    "duration": -1324,
    "start_time": "2021-06-24T16:12:47.225Z"
   },
   {
    "duration": -1328,
    "start_time": "2021-06-24T16:12:47.230Z"
   },
   {
    "duration": -1333,
    "start_time": "2021-06-24T16:12:47.237Z"
   },
   {
    "duration": -1337,
    "start_time": "2021-06-24T16:12:47.243Z"
   },
   {
    "duration": -1354,
    "start_time": "2021-06-24T16:12:47.261Z"
   },
   {
    "duration": -1359,
    "start_time": "2021-06-24T16:12:47.268Z"
   },
   {
    "duration": -1312,
    "start_time": "2021-06-24T16:12:47.274Z"
   },
   {
    "duration": -1318,
    "start_time": "2021-06-24T16:12:47.281Z"
   },
   {
    "duration": -1324,
    "start_time": "2021-06-24T16:12:47.288Z"
   },
   {
    "duration": -1327,
    "start_time": "2021-06-24T16:12:47.293Z"
   },
   {
    "duration": -1334,
    "start_time": "2021-06-24T16:12:47.301Z"
   },
   {
    "duration": -1337,
    "start_time": "2021-06-24T16:12:47.306Z"
   },
   {
    "duration": -1344,
    "start_time": "2021-06-24T16:12:47.314Z"
   },
   {
    "duration": -1349,
    "start_time": "2021-06-24T16:12:47.320Z"
   },
   {
    "duration": -1354,
    "start_time": "2021-06-24T16:12:47.327Z"
   },
   {
    "duration": -1360,
    "start_time": "2021-06-24T16:12:47.334Z"
   },
   {
    "duration": -1365,
    "start_time": "2021-06-24T16:12:47.341Z"
   },
   {
    "duration": -1371,
    "start_time": "2021-06-24T16:12:47.348Z"
   },
   {
    "duration": -1377,
    "start_time": "2021-06-24T16:12:47.356Z"
   },
   {
    "duration": -1395,
    "start_time": "2021-06-24T16:12:47.375Z"
   },
   {
    "duration": 379,
    "start_time": "2021-06-24T16:16:24.768Z"
   },
   {
    "duration": 341,
    "start_time": "2021-06-24T16:16:45.438Z"
   },
   {
    "duration": 323,
    "start_time": "2021-06-24T16:18:43.138Z"
   },
   {
    "duration": 338,
    "start_time": "2021-06-24T16:20:35.727Z"
   },
   {
    "duration": 342,
    "start_time": "2021-06-24T16:22:21.918Z"
   },
   {
    "duration": 337,
    "start_time": "2021-06-24T16:22:33.607Z"
   },
   {
    "duration": 116,
    "start_time": "2021-06-24T16:22:38.597Z"
   },
   {
    "duration": 322,
    "start_time": "2021-06-24T16:22:52.158Z"
   },
   {
    "duration": 302,
    "start_time": "2021-06-24T16:23:07.627Z"
   },
   {
    "duration": 310,
    "start_time": "2021-06-24T16:25:29.377Z"
   },
   {
    "duration": 1884,
    "start_time": "2021-06-24T16:25:45.192Z"
   },
   {
    "duration": 74,
    "start_time": "2021-06-24T16:25:47.078Z"
   },
   {
    "duration": 13,
    "start_time": "2021-06-24T16:25:47.162Z"
   },
   {
    "duration": 11,
    "start_time": "2021-06-24T16:25:47.178Z"
   },
   {
    "duration": 19,
    "start_time": "2021-06-24T16:25:47.192Z"
   },
   {
    "duration": 8,
    "start_time": "2021-06-24T16:25:47.214Z"
   },
   {
    "duration": 43,
    "start_time": "2021-06-24T16:25:47.225Z"
   },
   {
    "duration": 14,
    "start_time": "2021-06-24T16:25:47.275Z"
   },
   {
    "duration": 15,
    "start_time": "2021-06-24T16:25:47.294Z"
   },
   {
    "duration": 9,
    "start_time": "2021-06-24T16:25:47.312Z"
   },
   {
    "duration": 56,
    "start_time": "2021-06-24T16:25:47.324Z"
   },
   {
    "duration": 32,
    "start_time": "2021-06-24T16:25:47.383Z"
   },
   {
    "duration": 586,
    "start_time": "2021-06-24T16:25:47.418Z"
   },
   {
    "duration": -893,
    "start_time": "2021-06-24T16:25:48.901Z"
   },
   {
    "duration": -899,
    "start_time": "2021-06-24T16:25:48.908Z"
   },
   {
    "duration": -904,
    "start_time": "2021-06-24T16:25:48.914Z"
   },
   {
    "duration": -907,
    "start_time": "2021-06-24T16:25:48.919Z"
   },
   {
    "duration": -914,
    "start_time": "2021-06-24T16:25:48.927Z"
   },
   {
    "duration": -916,
    "start_time": "2021-06-24T16:25:48.930Z"
   },
   {
    "duration": -923,
    "start_time": "2021-06-24T16:25:48.938Z"
   },
   {
    "duration": -930,
    "start_time": "2021-06-24T16:25:48.947Z"
   },
   {
    "duration": -948,
    "start_time": "2021-06-24T16:25:48.966Z"
   },
   {
    "duration": -968,
    "start_time": "2021-06-24T16:25:48.987Z"
   },
   {
    "duration": -982,
    "start_time": "2021-06-24T16:25:49.002Z"
   },
   {
    "duration": -987,
    "start_time": "2021-06-24T16:25:49.008Z"
   },
   {
    "duration": -1002,
    "start_time": "2021-06-24T16:25:49.025Z"
   },
   {
    "duration": -1020,
    "start_time": "2021-06-24T16:25:49.044Z"
   },
   {
    "duration": -1039,
    "start_time": "2021-06-24T16:25:49.064Z"
   },
   {
    "duration": -1043,
    "start_time": "2021-06-24T16:25:49.069Z"
   },
   {
    "duration": -1049,
    "start_time": "2021-06-24T16:25:49.076Z"
   },
   {
    "duration": -1066,
    "start_time": "2021-06-24T16:25:49.095Z"
   },
   {
    "duration": -1071,
    "start_time": "2021-06-24T16:25:49.101Z"
   },
   {
    "duration": -1077,
    "start_time": "2021-06-24T16:25:49.108Z"
   },
   {
    "duration": -1127,
    "start_time": "2021-06-24T16:25:49.159Z"
   },
   {
    "duration": -1163,
    "start_time": "2021-06-24T16:25:49.196Z"
   },
   {
    "duration": -1208,
    "start_time": "2021-06-24T16:25:49.242Z"
   },
   {
    "duration": -1213,
    "start_time": "2021-06-24T16:25:49.249Z"
   },
   {
    "duration": -1217,
    "start_time": "2021-06-24T16:25:49.254Z"
   },
   {
    "duration": -1223,
    "start_time": "2021-06-24T16:25:49.261Z"
   },
   {
    "duration": -1228,
    "start_time": "2021-06-24T16:25:49.267Z"
   },
   {
    "duration": -1269,
    "start_time": "2021-06-24T16:25:49.309Z"
   },
   {
    "duration": -1313,
    "start_time": "2021-06-24T16:25:49.355Z"
   },
   {
    "duration": -1344,
    "start_time": "2021-06-24T16:25:49.387Z"
   },
   {
    "duration": -1352,
    "start_time": "2021-06-24T16:25:49.396Z"
   },
   {
    "duration": -1357,
    "start_time": "2021-06-24T16:25:49.402Z"
   },
   {
    "duration": -1362,
    "start_time": "2021-06-24T16:25:49.409Z"
   },
   {
    "duration": -1350,
    "start_time": "2021-06-24T16:25:49.415Z"
   },
   {
    "duration": -1353,
    "start_time": "2021-06-24T16:25:49.420Z"
   },
   {
    "duration": -1358,
    "start_time": "2021-06-24T16:25:49.426Z"
   },
   {
    "duration": -1364,
    "start_time": "2021-06-24T16:25:49.433Z"
   },
   {
    "duration": -1387,
    "start_time": "2021-06-24T16:25:49.458Z"
   },
   {
    "duration": 1581,
    "start_time": "2021-06-24T16:27:32.403Z"
   },
   {
    "duration": 75,
    "start_time": "2021-06-24T16:27:33.986Z"
   },
   {
    "duration": 13,
    "start_time": "2021-06-24T16:27:34.064Z"
   },
   {
    "duration": 12,
    "start_time": "2021-06-24T16:27:34.080Z"
   },
   {
    "duration": 10,
    "start_time": "2021-06-24T16:27:34.095Z"
   },
   {
    "duration": 54,
    "start_time": "2021-06-24T16:27:34.108Z"
   },
   {
    "duration": 10,
    "start_time": "2021-06-24T16:27:34.166Z"
   },
   {
    "duration": 10,
    "start_time": "2021-06-24T16:27:34.180Z"
   },
   {
    "duration": 10,
    "start_time": "2021-06-24T16:27:34.193Z"
   },
   {
    "duration": 59,
    "start_time": "2021-06-24T16:27:34.206Z"
   },
   {
    "duration": 12,
    "start_time": "2021-06-24T16:27:34.267Z"
   },
   {
    "duration": 20,
    "start_time": "2021-06-24T16:27:34.282Z"
   },
   {
    "duration": 15,
    "start_time": "2021-06-24T16:27:34.304Z"
   },
   {
    "duration": 1228,
    "start_time": "2021-06-24T16:27:34.321Z"
   },
   {
    "duration": 8,
    "start_time": "2021-06-24T16:27:35.552Z"
   },
   {
    "duration": 512,
    "start_time": "2021-06-24T16:27:35.562Z"
   },
   {
    "duration": 20,
    "start_time": "2021-06-24T16:27:36.076Z"
   },
   {
    "duration": 352,
    "start_time": "2021-06-24T16:27:36.098Z"
   },
   {
    "duration": 582,
    "start_time": "2021-06-24T16:27:36.453Z"
   },
   {
    "duration": 124,
    "start_time": "2021-06-24T16:27:37.038Z"
   },
   {
    "duration": 491,
    "start_time": "2021-06-24T16:27:37.164Z"
   },
   {
    "duration": 16,
    "start_time": "2021-06-24T16:27:37.663Z"
   },
   {
    "duration": 538,
    "start_time": "2021-06-24T16:27:37.684Z"
   },
   {
    "duration": 740,
    "start_time": "2021-06-24T16:27:38.225Z"
   },
   {
    "duration": 805,
    "start_time": "2021-06-24T16:27:38.968Z"
   },
   {
    "duration": 1478,
    "start_time": "2021-06-24T16:27:39.776Z"
   },
   {
    "duration": 872,
    "start_time": "2021-06-24T16:27:41.262Z"
   },
   {
    "duration": 34,
    "start_time": "2021-06-24T16:27:42.137Z"
   },
   {
    "duration": 1153,
    "start_time": "2021-06-24T16:27:42.174Z"
   },
   {
    "duration": 1059,
    "start_time": "2021-06-24T16:27:43.330Z"
   },
   {
    "duration": 779,
    "start_time": "2021-06-24T16:27:44.391Z"
   },
   {
    "duration": 1044,
    "start_time": "2021-06-24T16:27:45.173Z"
   },
   {
    "duration": 22,
    "start_time": "2021-06-24T16:27:46.220Z"
   },
   {
    "duration": 1935,
    "start_time": "2021-06-24T16:27:46.262Z"
   },
   {
    "duration": 1366,
    "start_time": "2021-06-24T16:27:48.200Z"
   },
   {
    "duration": 524,
    "start_time": "2021-06-24T16:27:49.569Z"
   },
   {
    "duration": 20,
    "start_time": "2021-06-24T16:27:50.097Z"
   },
   {
    "duration": 18,
    "start_time": "2021-06-24T16:27:50.121Z"
   },
   {
    "duration": 316,
    "start_time": "2021-06-24T16:27:50.163Z"
   },
   {
    "duration": 8,
    "start_time": "2021-06-24T16:27:50.481Z"
   },
   {
    "duration": 24,
    "start_time": "2021-06-24T16:27:50.492Z"
   },
   {
    "duration": 747,
    "start_time": "2021-06-24T16:27:50.519Z"
   },
   {
    "duration": 1741,
    "start_time": "2021-06-24T16:27:51.269Z"
   },
   {
    "duration": 26,
    "start_time": "2021-06-24T16:27:53.013Z"
   },
   {
    "duration": 35,
    "start_time": "2021-06-24T16:27:53.042Z"
   },
   {
    "duration": 31,
    "start_time": "2021-06-24T16:27:53.080Z"
   },
   {
    "duration": 12,
    "start_time": "2021-06-24T16:27:53.115Z"
   },
   {
    "duration": 57,
    "start_time": "2021-06-24T16:27:53.130Z"
   },
   {
    "duration": 992,
    "start_time": "2021-06-24T16:27:53.190Z"
   },
   {
    "duration": 1961,
    "start_time": "2021-06-24T16:27:54.184Z"
   },
   {
    "duration": 349,
    "start_time": "2021-06-24T16:27:56.147Z"
   },
   {
    "duration": 5,
    "start_time": "2021-06-24T17:16:24.584Z"
   },
   {
    "duration": 729,
    "start_time": "2021-06-24T18:34:47.403Z"
   },
   {
    "duration": 694,
    "start_time": "2021-06-24T18:36:11.376Z"
   },
   {
    "duration": 695,
    "start_time": "2021-06-24T18:36:30.783Z"
   },
   {
    "duration": 693,
    "start_time": "2021-06-24T18:36:50.463Z"
   },
   {
    "duration": 714,
    "start_time": "2021-06-24T18:37:08.752Z"
   },
   {
    "duration": 704,
    "start_time": "2021-06-24T18:37:15.552Z"
   },
   {
    "duration": 8,
    "start_time": "2021-06-24T18:46:13.011Z"
   },
   {
    "duration": 126,
    "start_time": "2021-06-24T18:46:33.743Z"
   },
   {
    "duration": 8,
    "start_time": "2021-06-24T18:46:46.766Z"
   },
   {
    "duration": 25,
    "start_time": "2021-06-24T18:48:14.502Z"
   },
   {
    "duration": 11,
    "start_time": "2021-06-24T18:48:40.421Z"
   },
   {
    "duration": 11,
    "start_time": "2021-06-24T18:49:07.284Z"
   },
   {
    "duration": 10,
    "start_time": "2021-06-24T18:49:27.813Z"
   },
   {
    "duration": 11,
    "start_time": "2021-06-24T18:49:30.611Z"
   },
   {
    "duration": 10,
    "start_time": "2021-06-24T18:49:43.732Z"
   },
   {
    "duration": 13,
    "start_time": "2021-06-24T18:50:05.213Z"
   },
   {
    "duration": 10,
    "start_time": "2021-06-24T18:50:36.704Z"
   },
   {
    "duration": 14,
    "start_time": "2021-06-24T18:52:04.410Z"
   },
   {
    "duration": 133,
    "start_time": "2021-06-24T18:52:34.831Z"
   },
   {
    "duration": 13,
    "start_time": "2021-06-24T18:52:47.283Z"
   },
   {
    "duration": 14,
    "start_time": "2021-06-24T18:53:01.351Z"
   },
   {
    "duration": 195,
    "start_time": "2021-06-24T19:09:25.281Z"
   },
   {
    "duration": 8,
    "start_time": "2021-06-24T19:09:27.592Z"
   },
   {
    "duration": 192,
    "start_time": "2021-06-24T19:09:38.224Z"
   },
   {
    "duration": 6,
    "start_time": "2021-06-24T19:09:39.902Z"
   },
   {
    "duration": 190,
    "start_time": "2021-06-24T19:09:46.782Z"
   },
   {
    "duration": 6,
    "start_time": "2021-06-24T19:09:48.891Z"
   },
   {
    "duration": 305,
    "start_time": "2021-06-24T19:14:36.112Z"
   },
   {
    "duration": 20,
    "start_time": "2021-06-24T19:20:16.382Z"
   },
   {
    "duration": 625,
    "start_time": "2021-06-24T19:34:53.732Z"
   },
   {
    "duration": 444,
    "start_time": "2021-06-24T19:35:52.013Z"
   },
   {
    "duration": 373,
    "start_time": "2021-06-24T19:38:10.092Z"
   },
   {
    "duration": 419,
    "start_time": "2021-06-24T19:40:33.172Z"
   },
   {
    "duration": 443,
    "start_time": "2021-06-24T19:42:07.453Z"
   },
   {
    "duration": 457,
    "start_time": "2021-06-24T19:43:44.272Z"
   },
   {
    "duration": 435,
    "start_time": "2021-06-24T19:44:11.222Z"
   },
   {
    "duration": 408,
    "start_time": "2021-06-24T19:44:52.902Z"
   },
   {
    "duration": 389,
    "start_time": "2021-06-24T19:45:05.142Z"
   },
   {
    "duration": 1712,
    "start_time": "2021-06-24T20:49:14.852Z"
   },
   {
    "duration": 72,
    "start_time": "2021-06-24T20:49:16.567Z"
   },
   {
    "duration": 20,
    "start_time": "2021-06-24T20:49:16.642Z"
   },
   {
    "duration": 12,
    "start_time": "2021-06-24T20:49:16.664Z"
   },
   {
    "duration": 8,
    "start_time": "2021-06-24T20:49:16.678Z"
   },
   {
    "duration": 5,
    "start_time": "2021-06-24T20:49:16.688Z"
   },
   {
    "duration": 9,
    "start_time": "2021-06-24T20:49:16.696Z"
   },
   {
    "duration": 61,
    "start_time": "2021-06-24T20:49:16.708Z"
   },
   {
    "duration": 11,
    "start_time": "2021-06-24T20:49:16.771Z"
   },
   {
    "duration": 8,
    "start_time": "2021-06-24T20:49:16.785Z"
   },
   {
    "duration": 13,
    "start_time": "2021-06-24T20:49:16.796Z"
   },
   {
    "duration": 59,
    "start_time": "2021-06-24T20:49:16.812Z"
   },
   {
    "duration": 15,
    "start_time": "2021-06-24T20:49:16.874Z"
   },
   {
    "duration": 1272,
    "start_time": "2021-06-24T20:49:16.891Z"
   },
   {
    "duration": 10,
    "start_time": "2021-06-24T20:49:18.165Z"
   },
   {
    "duration": 512,
    "start_time": "2021-06-24T20:49:18.177Z"
   },
   {
    "duration": 20,
    "start_time": "2021-06-24T20:49:18.692Z"
   },
   {
    "duration": 338,
    "start_time": "2021-06-24T20:49:18.714Z"
   },
   {
    "duration": 572,
    "start_time": "2021-06-24T20:49:19.061Z"
   },
   {
    "duration": 128,
    "start_time": "2021-06-24T20:49:19.636Z"
   },
   {
    "duration": 481,
    "start_time": "2021-06-24T20:49:19.767Z"
   },
   {
    "duration": 23,
    "start_time": "2021-06-24T20:49:20.251Z"
   },
   {
    "duration": 562,
    "start_time": "2021-06-24T20:49:20.280Z"
   },
   {
    "duration": 739,
    "start_time": "2021-06-24T20:49:20.846Z"
   },
   {
    "duration": 986,
    "start_time": "2021-06-24T20:49:21.587Z"
   },
   {
    "duration": 1095,
    "start_time": "2021-06-24T20:49:22.575Z"
   },
   {
    "duration": 616,
    "start_time": "2021-06-24T20:49:23.672Z"
   },
   {
    "duration": 16,
    "start_time": "2021-06-24T20:49:24.290Z"
   },
   {
    "duration": 810,
    "start_time": "2021-06-24T20:49:24.309Z"
   },
   {
    "duration": 670,
    "start_time": "2021-06-24T20:49:25.122Z"
   },
   {
    "duration": 553,
    "start_time": "2021-06-24T20:49:25.796Z"
   },
   {
    "duration": 737,
    "start_time": "2021-06-24T20:49:26.362Z"
   },
   {
    "duration": 17,
    "start_time": "2021-06-24T20:49:27.102Z"
   },
   {
    "duration": 1079,
    "start_time": "2021-06-24T20:49:27.122Z"
   },
   {
    "duration": 1400,
    "start_time": "2021-06-24T20:49:28.203Z"
   },
   {
    "duration": 574,
    "start_time": "2021-06-24T20:49:29.606Z"
   },
   {
    "duration": 7,
    "start_time": "2021-06-24T20:49:30.184Z"
   },
   {
    "duration": 16,
    "start_time": "2021-06-24T20:49:30.194Z"
   },
   {
    "duration": 16,
    "start_time": "2021-06-24T20:49:30.213Z"
   },
   {
    "duration": 14,
    "start_time": "2021-06-24T20:49:30.263Z"
   },
   {
    "duration": 25,
    "start_time": "2021-06-24T20:49:30.279Z"
   },
   {
    "duration": 24,
    "start_time": "2021-06-24T20:49:30.306Z"
   },
   {
    "duration": 218,
    "start_time": "2021-06-24T20:49:30.332Z"
   },
   {
    "duration": 12,
    "start_time": "2021-06-24T20:49:30.552Z"
   },
   {
    "duration": 28,
    "start_time": "2021-06-24T20:49:30.567Z"
   },
   {
    "duration": 534,
    "start_time": "2021-06-24T20:49:30.597Z"
   },
   {
    "duration": 1053,
    "start_time": "2021-06-24T20:49:31.133Z"
   },
   {
    "duration": 23,
    "start_time": "2021-06-24T20:49:32.188Z"
   },
   {
    "duration": 13,
    "start_time": "2021-06-24T20:49:32.215Z"
   },
   {
    "duration": 24,
    "start_time": "2021-06-24T20:49:32.264Z"
   },
   {
    "duration": 10,
    "start_time": "2021-06-24T20:49:32.292Z"
   },
   {
    "duration": 66,
    "start_time": "2021-06-24T20:49:32.304Z"
   },
   {
    "duration": 714,
    "start_time": "2021-06-24T20:49:32.372Z"
   },
   {
    "duration": 1954,
    "start_time": "2021-06-24T20:49:33.088Z"
   },
   {
    "duration": 338,
    "start_time": "2021-06-24T20:49:35.045Z"
   },
   {
    "duration": 400,
    "start_time": "2021-06-25T09:54:11.929Z"
   },
   {
    "duration": 1638,
    "start_time": "2021-06-25T09:54:14.714Z"
   },
   {
    "duration": 91,
    "start_time": "2021-06-25T09:54:16.355Z"
   },
   {
    "duration": 19,
    "start_time": "2021-06-25T09:54:16.449Z"
   },
   {
    "duration": 11,
    "start_time": "2021-06-25T09:54:16.487Z"
   },
   {
    "duration": 9,
    "start_time": "2021-06-25T09:54:16.501Z"
   },
   {
    "duration": 10,
    "start_time": "2021-06-25T09:54:16.512Z"
   },
   {
    "duration": 7,
    "start_time": "2021-06-25T09:54:16.524Z"
   },
   {
    "duration": 10,
    "start_time": "2021-06-25T09:54:16.535Z"
   },
   {
    "duration": 11,
    "start_time": "2021-06-25T09:54:16.587Z"
   },
   {
    "duration": 9,
    "start_time": "2021-06-25T09:54:16.600Z"
   },
   {
    "duration": 18,
    "start_time": "2021-06-25T09:54:16.612Z"
   },
   {
    "duration": 53,
    "start_time": "2021-06-25T09:54:16.632Z"
   },
   {
    "duration": 13,
    "start_time": "2021-06-25T09:54:16.688Z"
   },
   {
    "duration": 1336,
    "start_time": "2021-06-25T09:54:16.704Z"
   },
   {
    "duration": 15,
    "start_time": "2021-06-25T09:54:18.043Z"
   },
   {
    "duration": 476,
    "start_time": "2021-06-25T09:54:18.061Z"
   },
   {
    "duration": 22,
    "start_time": "2021-06-25T09:54:18.540Z"
   },
   {
    "duration": 347,
    "start_time": "2021-06-25T09:54:18.565Z"
   },
   {
    "duration": 564,
    "start_time": "2021-06-25T09:54:18.915Z"
   },
   {
    "duration": 33,
    "start_time": "2021-06-25T09:54:19.485Z"
   },
   {
    "duration": 474,
    "start_time": "2021-06-25T09:54:19.521Z"
   },
   {
    "duration": 15,
    "start_time": "2021-06-25T09:54:19.998Z"
   },
   {
    "duration": 550,
    "start_time": "2021-06-25T09:54:20.019Z"
   },
   {
    "duration": 807,
    "start_time": "2021-06-25T09:54:20.572Z"
   },
   {
    "duration": 572,
    "start_time": "2021-06-25T09:54:21.385Z"
   },
   {
    "duration": 1019,
    "start_time": "2021-06-25T09:54:21.960Z"
   },
   {
    "duration": 626,
    "start_time": "2021-06-25T09:54:22.982Z"
   },
   {
    "duration": 19,
    "start_time": "2021-06-25T09:54:23.610Z"
   },
   {
    "duration": 658,
    "start_time": "2021-06-25T09:54:23.632Z"
   },
   {
    "duration": 761,
    "start_time": "2021-06-25T09:54:24.293Z"
   },
   {
    "duration": 576,
    "start_time": "2021-06-25T09:54:25.057Z"
   },
   {
    "duration": 712,
    "start_time": "2021-06-25T09:54:25.636Z"
   },
   {
    "duration": 17,
    "start_time": "2021-06-25T09:54:26.350Z"
   },
   {
    "duration": 982,
    "start_time": "2021-06-25T09:54:26.369Z"
   },
   {
    "duration": 1216,
    "start_time": "2021-06-25T09:54:27.353Z"
   },
   {
    "duration": 807,
    "start_time": "2021-06-25T09:54:28.572Z"
   },
   {
    "duration": 6,
    "start_time": "2021-06-25T09:54:29.385Z"
   },
   {
    "duration": 21,
    "start_time": "2021-06-25T09:54:29.394Z"
   },
   {
    "duration": 25,
    "start_time": "2021-06-25T09:54:29.418Z"
   },
   {
    "duration": 26,
    "start_time": "2021-06-25T09:54:29.446Z"
   },
   {
    "duration": 23,
    "start_time": "2021-06-25T09:54:29.474Z"
   },
   {
    "duration": 15,
    "start_time": "2021-06-25T09:54:29.499Z"
   },
   {
    "duration": 216,
    "start_time": "2021-06-25T09:54:29.517Z"
   },
   {
    "duration": 6,
    "start_time": "2021-06-25T09:54:29.736Z"
   },
   {
    "duration": 18,
    "start_time": "2021-06-25T09:54:29.745Z"
   },
   {
    "duration": 28,
    "start_time": "2021-06-25T09:54:29.766Z"
   },
   {
    "duration": 510,
    "start_time": "2021-06-25T09:54:29.797Z"
   },
   {
    "duration": 329,
    "start_time": "2021-06-25T09:54:30.310Z"
   },
   {
    "duration": 20,
    "start_time": "2021-06-25T09:54:30.642Z"
   },
   {
    "duration": 32,
    "start_time": "2021-06-25T09:54:30.664Z"
   },
   {
    "duration": 35,
    "start_time": "2021-06-25T09:54:30.698Z"
   },
   {
    "duration": 10,
    "start_time": "2021-06-25T09:54:30.736Z"
   },
   {
    "duration": 54,
    "start_time": "2021-06-25T09:54:30.748Z"
   },
   {
    "duration": 684,
    "start_time": "2021-06-25T09:54:30.804Z"
   },
   {
    "duration": 1835,
    "start_time": "2021-06-25T09:54:31.490Z"
   },
   {
    "duration": 330,
    "start_time": "2021-06-25T09:54:33.328Z"
   },
   {
    "duration": 7,
    "start_time": "2021-06-25T09:57:00.013Z"
   },
   {
    "duration": 88,
    "start_time": "2021-06-25T09:58:44.126Z"
   },
   {
    "duration": 1638,
    "start_time": "2021-06-25T11:17:04.329Z"
   },
   {
    "duration": 1589,
    "start_time": "2021-06-25T11:18:20.584Z"
   },
   {
    "duration": 72,
    "start_time": "2021-06-25T11:18:22.175Z"
   },
   {
    "duration": 17,
    "start_time": "2021-06-25T11:18:22.250Z"
   },
   {
    "duration": 10,
    "start_time": "2021-06-25T11:18:22.270Z"
   },
   {
    "duration": 9,
    "start_time": "2021-06-25T11:18:22.282Z"
   },
   {
    "duration": 8,
    "start_time": "2021-06-25T11:18:22.294Z"
   },
   {
    "duration": 8,
    "start_time": "2021-06-25T11:18:22.305Z"
   },
   {
    "duration": 13,
    "start_time": "2021-06-25T11:18:22.370Z"
   },
   {
    "duration": 12,
    "start_time": "2021-06-25T11:18:22.387Z"
   },
   {
    "duration": 9,
    "start_time": "2021-06-25T11:18:22.402Z"
   },
   {
    "duration": 55,
    "start_time": "2021-06-25T11:18:22.414Z"
   },
   {
    "duration": 23,
    "start_time": "2021-06-25T11:18:22.472Z"
   },
   {
    "duration": 15,
    "start_time": "2021-06-25T11:18:22.498Z"
   },
   {
    "duration": 1250,
    "start_time": "2021-06-25T11:18:22.516Z"
   },
   {
    "duration": 9,
    "start_time": "2021-06-25T11:18:23.768Z"
   },
   {
    "duration": 492,
    "start_time": "2021-06-25T11:18:23.779Z"
   },
   {
    "duration": 18,
    "start_time": "2021-06-25T11:18:24.273Z"
   },
   {
    "duration": 350,
    "start_time": "2021-06-25T11:18:24.293Z"
   },
   {
    "duration": 565,
    "start_time": "2021-06-25T11:18:24.645Z"
   },
   {
    "duration": 111,
    "start_time": "2021-06-25T11:18:25.213Z"
   },
   {
    "duration": 480,
    "start_time": "2021-06-25T11:18:25.326Z"
   },
   {
    "duration": 15,
    "start_time": "2021-06-25T11:18:25.808Z"
   },
   {
    "duration": 557,
    "start_time": "2021-06-25T11:18:25.828Z"
   },
   {
    "duration": 723,
    "start_time": "2021-06-25T11:18:26.388Z"
   },
   {
    "duration": 545,
    "start_time": "2021-06-25T11:18:27.113Z"
   },
   {
    "duration": 997,
    "start_time": "2021-06-25T11:18:27.660Z"
   },
   {
    "duration": 610,
    "start_time": "2021-06-25T11:18:28.659Z"
   },
   {
    "duration": 17,
    "start_time": "2021-06-25T11:18:29.272Z"
   },
   {
    "duration": 798,
    "start_time": "2021-06-25T11:18:29.291Z"
   },
   {
    "duration": 658,
    "start_time": "2021-06-25T11:18:30.091Z"
   },
   {
    "duration": 541,
    "start_time": "2021-06-25T11:18:30.751Z"
   },
   {
    "duration": 736,
    "start_time": "2021-06-25T11:18:31.295Z"
   },
   {
    "duration": 14,
    "start_time": "2021-06-25T11:18:32.034Z"
   },
   {
    "duration": 1015,
    "start_time": "2021-06-25T11:18:32.051Z"
   },
   {
    "duration": 1446,
    "start_time": "2021-06-25T11:18:33.070Z"
   },
   {
    "duration": 595,
    "start_time": "2021-06-25T11:18:34.519Z"
   },
   {
    "duration": 5,
    "start_time": "2021-06-25T11:18:35.117Z"
   },
   {
    "duration": 16,
    "start_time": "2021-06-25T11:18:35.124Z"
   },
   {
    "duration": 34,
    "start_time": "2021-06-25T11:18:35.142Z"
   },
   {
    "duration": 11,
    "start_time": "2021-06-25T11:18:35.178Z"
   },
   {
    "duration": 11,
    "start_time": "2021-06-25T11:18:35.192Z"
   },
   {
    "duration": 10,
    "start_time": "2021-06-25T11:18:35.206Z"
   },
   {
    "duration": 237,
    "start_time": "2021-06-25T11:18:35.218Z"
   },
   {
    "duration": 10,
    "start_time": "2021-06-25T11:18:35.457Z"
   },
   {
    "duration": 22,
    "start_time": "2021-06-25T11:18:35.469Z"
   },
   {
    "duration": 525,
    "start_time": "2021-06-25T11:18:35.493Z"
   },
   {
    "duration": 1021,
    "start_time": "2021-06-25T11:18:36.020Z"
   },
   {
    "duration": 27,
    "start_time": "2021-06-25T11:18:37.043Z"
   },
   {
    "duration": 14,
    "start_time": "2021-06-25T11:18:37.073Z"
   },
   {
    "duration": 19,
    "start_time": "2021-06-25T11:18:37.090Z"
   },
   {
    "duration": 9,
    "start_time": "2021-06-25T11:18:37.111Z"
   },
   {
    "duration": 59,
    "start_time": "2021-06-25T11:18:37.122Z"
   },
   {
    "duration": 800,
    "start_time": "2021-06-25T11:18:37.183Z"
   }
  ],
  "kernelspec": {
   "display_name": "Python 3",
   "language": "python",
   "name": "python3"
  },
  "language_info": {
   "codemirror_mode": {
    "name": "ipython",
    "version": 3
   },
   "file_extension": ".py",
   "mimetype": "text/x-python",
   "name": "python",
   "nbconvert_exporter": "python",
   "pygments_lexer": "ipython3",
   "version": "3.8.8"
  },
  "toc": {
   "base_numbering": 1,
   "nav_menu": {},
   "number_sections": true,
   "sideBar": true,
   "skip_h1_title": true,
   "title_cell": "Table of Contents",
   "title_sidebar": "Contents",
   "toc_cell": false,
   "toc_position": {
    "height": "calc(100% - 180px)",
    "left": "10px",
    "top": "150px",
    "width": "286.225px"
   },
   "toc_section_display": true,
   "toc_window_display": true
  }
 },
 "nbformat": 4,
 "nbformat_minor": 2
}
