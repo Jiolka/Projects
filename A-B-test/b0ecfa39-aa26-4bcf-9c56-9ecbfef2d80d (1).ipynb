{
 "cells": [
  {
   "cell_type": "markdown",
   "metadata": {},
   "source": [
    "# Принятие решений в бизнесе на основе данных\n",
    "\n",
    "## Оглавление\n",
    "\n",
    "\n",
    "1. [Описание проекта](#describe)\n",
    "\n",
    "   [Цель проекта](#purpose)\n",
    "   \n",
    "\n",
    "2. [Загрузка и подготовка данных](#download)\n",
    "\n",
    "   [Описание данных](#date)\n",
    "   \n",
    "      [Данные для первой части](#first)\n",
    "      \n",
    "      [Данные для второй части](#second)\n",
    "      \n",
    "   [Подготовка данных](#preparation)\n",
    "   \n",
    "   [Выводы](#conclusion2)\n",
    "   \n",
    "   \n",
    "3. [Часть 1. Приотиризация гипотез](#part1)\n",
    "\n",
    "   [Выводы](#conclusion3)\n",
    "   \n",
    "   \n",
    "4. [Часть 2. Анализ А/В-теста](#part2)\n",
    "\n",
    "\n",
    "5. [Выводы и предложения](#conclusions)\n",
    "\n",
    "\n",
    "\n",
    "\n",
    "<a id=\"describe\"></a>\n",
    "## Описание проекта\n",
    "\n",
    "Вы — аналитик крупного интернет-магазина. Вместе с отделом маркетинга вы подготовили список гипотез для увеличения выручки.\n",
    "Приоритизируйте гипотезы, запустите A/B-тест и проанализируйте результаты.\n",
    "<a id=\"purpose\"></a>\n",
    "### Цель проекта\n",
    "\n",
    "Цель работы: выявить гипотезы для увеличения выручки интернет- магазина. Для достижения поставленной цели необходимо выполнить следующие задачи:\n",
    "- приоритизировать гипотезы,\n",
    "- запустить A/B-тест,\n",
    "- проанализировать результаты.\n",
    "\n",
    "<a id=\"download\"></a>\n",
    "## Загрузка и подготовка данных\n",
    "\n",
    "<a id=\"date\"></a>\n",
    "### Описание данных\n",
    "\n",
    "<a id=\"first\"></a>\n",
    "#### Данные для первой части\n",
    "\n",
    "\n",
    "Файл /datasets/hypothesis.csv:\n",
    "\n",
    "\n",
    " - Hypothesis — краткое описание гипотезы;\n",
    " - Reach — охват пользователей по 10-балльной шкале;\n",
    " - Impact — влияние на пользователей по 10-балльной шкале;\n",
    " - Confidence — уверенность в гипотезе по 10-балльной шкале;\n",
    " - Efforts — затраты ресурсов на проверку гипотезы по 10-балльной шкале. Чем больше значение Efforts, тем дороже проверка гипотезы.\n",
    "<a id=\"second\"></a>\n",
    "#### Данные для второй части\n",
    "\n",
    "\n",
    "Файл /datasets/orders.csv:\n",
    "\n",
    "\n",
    " - transactionId — идентификатор заказа;\n",
    " - visitorId — идентификатор пользователя, совершившего заказ;\n",
    " - date — дата, когда был совершён заказ;\n",
    " - revenue — выручка заказа;\n",
    " - group — группа A/B-теста, в которую попал заказ.\n",
    " \n",
    " \n",
    "Файл /datasets/visitors.csv:\n",
    "\n",
    "\n",
    " - date — дата;\n",
    " - group — группа A/B-теста;\n",
    " - visitors — количество пользователей в указанную дату в указанной группе A/B-теста\n",
    "\n",
    "\n",
    "Загрузим файлы. Первый взгляд на данные."
   ]
  },
  {
   "cell_type": "code",
   "execution_count": 1,
   "metadata": {},
   "outputs": [],
   "source": [
    "import pandas as pd\n",
    "import datetime as dt\n",
    "import numpy as np\n",
    "import matplotlib.pyplot as plt\n",
    "import scipy.stats as stats\n",
    "from pandas.plotting import register_matplotlib_converters\n",
    "register_matplotlib_converters()"
   ]
  },
  {
   "cell_type": "code",
   "execution_count": 2,
   "metadata": {},
   "outputs": [],
   "source": [
    "path = 'C:\\\\Users\\plea\\OneDrive\\Документы\\Практикум\\Проекты для гитхаб\\АВ тест'\n",
    "hypothesis = pd.read_csv(path + '/hypothesis.csv')\n",
    "orders = pd.read_csv(path + '/orders.csv')\n",
    "visitors = pd.read_csv(path + '/visitors.csv')\n",
    "pd.set_option('max_colwidth', 400)"
   ]
  },
  {
   "cell_type": "code",
   "execution_count": 3,
   "metadata": {},
   "outputs": [
    {
     "name": "stdout",
     "output_type": "stream",
     "text": [
      "<class 'pandas.core.frame.DataFrame'>\n",
      "RangeIndex: 9 entries, 0 to 8\n",
      "Data columns (total 5 columns):\n",
      " #   Column      Non-Null Count  Dtype \n",
      "---  ------      --------------  ----- \n",
      " 0   Hypothesis  9 non-null      object\n",
      " 1   Reach       9 non-null      int64 \n",
      " 2   Impact      9 non-null      int64 \n",
      " 3   Confidence  9 non-null      int64 \n",
      " 4   Efforts     9 non-null      int64 \n",
      "dtypes: int64(4), object(1)\n",
      "memory usage: 488.0+ bytes\n"
     ]
    }
   ],
   "source": [
    "hypothesis.info()"
   ]
  },
  {
   "cell_type": "code",
   "execution_count": 4,
   "metadata": {
    "scrolled": true
   },
   "outputs": [
    {
     "data": {
      "text/html": [
       "<div>\n",
       "<style scoped>\n",
       "    .dataframe tbody tr th:only-of-type {\n",
       "        vertical-align: middle;\n",
       "    }\n",
       "\n",
       "    .dataframe tbody tr th {\n",
       "        vertical-align: top;\n",
       "    }\n",
       "\n",
       "    .dataframe thead th {\n",
       "        text-align: right;\n",
       "    }\n",
       "</style>\n",
       "<table border=\"1\" class=\"dataframe\">\n",
       "  <thead>\n",
       "    <tr style=\"text-align: right;\">\n",
       "      <th></th>\n",
       "      <th>Hypothesis</th>\n",
       "      <th>Reach</th>\n",
       "      <th>Impact</th>\n",
       "      <th>Confidence</th>\n",
       "      <th>Efforts</th>\n",
       "    </tr>\n",
       "  </thead>\n",
       "  <tbody>\n",
       "    <tr>\n",
       "      <th>0</th>\n",
       "      <td>Добавить два новых канала привлечения трафика, что позволит привлекать на 30% больше пользователей</td>\n",
       "      <td>3</td>\n",
       "      <td>10</td>\n",
       "      <td>8</td>\n",
       "      <td>6</td>\n",
       "    </tr>\n",
       "    <tr>\n",
       "      <th>1</th>\n",
       "      <td>Запустить собственную службу доставки, что сократит срок доставки заказов</td>\n",
       "      <td>2</td>\n",
       "      <td>5</td>\n",
       "      <td>4</td>\n",
       "      <td>10</td>\n",
       "    </tr>\n",
       "    <tr>\n",
       "      <th>2</th>\n",
       "      <td>Добавить блоки рекомендаций товаров на сайт интернет магазина, чтобы повысить конверсию и средний чек заказа</td>\n",
       "      <td>8</td>\n",
       "      <td>3</td>\n",
       "      <td>7</td>\n",
       "      <td>3</td>\n",
       "    </tr>\n",
       "    <tr>\n",
       "      <th>3</th>\n",
       "      <td>Изменить структура категорий, что увеличит конверсию, т.к. пользователи быстрее найдут нужный товар</td>\n",
       "      <td>8</td>\n",
       "      <td>3</td>\n",
       "      <td>3</td>\n",
       "      <td>8</td>\n",
       "    </tr>\n",
       "    <tr>\n",
       "      <th>4</th>\n",
       "      <td>Изменить цвет фона главной страницы, чтобы увеличить вовлеченность пользователей</td>\n",
       "      <td>3</td>\n",
       "      <td>1</td>\n",
       "      <td>1</td>\n",
       "      <td>1</td>\n",
       "    </tr>\n",
       "    <tr>\n",
       "      <th>5</th>\n",
       "      <td>Добавить страницу отзывов клиентов о магазине, что позволит увеличить количество заказов</td>\n",
       "      <td>3</td>\n",
       "      <td>2</td>\n",
       "      <td>2</td>\n",
       "      <td>3</td>\n",
       "    </tr>\n",
       "    <tr>\n",
       "      <th>6</th>\n",
       "      <td>Показать на главной странице баннеры с актуальными акциями и распродажами, чтобы увеличить конверсию</td>\n",
       "      <td>5</td>\n",
       "      <td>3</td>\n",
       "      <td>8</td>\n",
       "      <td>3</td>\n",
       "    </tr>\n",
       "    <tr>\n",
       "      <th>7</th>\n",
       "      <td>Добавить форму подписки на все основные страницы, чтобы собрать базу клиентов для email-рассылок</td>\n",
       "      <td>10</td>\n",
       "      <td>7</td>\n",
       "      <td>8</td>\n",
       "      <td>5</td>\n",
       "    </tr>\n",
       "    <tr>\n",
       "      <th>8</th>\n",
       "      <td>Запустить акцию, дающую скидку на товар в день рождения</td>\n",
       "      <td>1</td>\n",
       "      <td>9</td>\n",
       "      <td>9</td>\n",
       "      <td>5</td>\n",
       "    </tr>\n",
       "  </tbody>\n",
       "</table>\n",
       "</div>"
      ],
      "text/plain": [
       "                                                                                                     Hypothesis  \\\n",
       "0            Добавить два новых канала привлечения трафика, что позволит привлекать на 30% больше пользователей   \n",
       "1                                     Запустить собственную службу доставки, что сократит срок доставки заказов   \n",
       "2  Добавить блоки рекомендаций товаров на сайт интернет магазина, чтобы повысить конверсию и средний чек заказа   \n",
       "3           Изменить структура категорий, что увеличит конверсию, т.к. пользователи быстрее найдут нужный товар   \n",
       "4                              Изменить цвет фона главной страницы, чтобы увеличить вовлеченность пользователей   \n",
       "5                      Добавить страницу отзывов клиентов о магазине, что позволит увеличить количество заказов   \n",
       "6          Показать на главной странице баннеры с актуальными акциями и распродажами, чтобы увеличить конверсию   \n",
       "7              Добавить форму подписки на все основные страницы, чтобы собрать базу клиентов для email-рассылок   \n",
       "8                                                       Запустить акцию, дающую скидку на товар в день рождения   \n",
       "\n",
       "   Reach  Impact  Confidence  Efforts  \n",
       "0      3      10           8        6  \n",
       "1      2       5           4       10  \n",
       "2      8       3           7        3  \n",
       "3      8       3           3        8  \n",
       "4      3       1           1        1  \n",
       "5      3       2           2        3  \n",
       "6      5       3           8        3  \n",
       "7     10       7           8        5  \n",
       "8      1       9           9        5  "
      ]
     },
     "execution_count": 4,
     "metadata": {},
     "output_type": "execute_result"
    }
   ],
   "source": [
    "hypothesis"
   ]
  },
  {
   "cell_type": "code",
   "execution_count": 5,
   "metadata": {},
   "outputs": [
    {
     "data": {
      "text/plain": [
       "array(['Добавить два новых канала привлечения трафика, что позволит привлекать на 30% больше пользователей',\n",
       "       'Запустить собственную службу доставки, что сократит срок доставки заказов',\n",
       "       'Добавить блоки рекомендаций товаров на сайт интернет магазина, чтобы повысить конверсию и средний чек заказа',\n",
       "       'Изменить структура категорий, что увеличит конверсию, т.к. пользователи быстрее найдут нужный товар',\n",
       "       'Изменить цвет фона главной страницы, чтобы увеличить вовлеченность пользователей',\n",
       "       'Добавить страницу отзывов клиентов о магазине, что позволит увеличить количество заказов',\n",
       "       'Показать на главной странице баннеры с актуальными акциями и распродажами, чтобы увеличить конверсию',\n",
       "       'Добавить форму подписки на все основные страницы, чтобы собрать базу клиентов для email-рассылок',\n",
       "       'Запустить акцию, дающую скидку на товар в день рождения'],\n",
       "      dtype=object)"
      ]
     },
     "execution_count": 5,
     "metadata": {},
     "output_type": "execute_result"
    }
   ],
   "source": [
    "hypothesis['Hypothesis'].unique()"
   ]
  },
  {
   "cell_type": "markdown",
   "metadata": {},
   "source": [
    "С гипотезами все хорошо. Если только поправить названия столбцов. Посмотрим на остальные данные."
   ]
  },
  {
   "cell_type": "code",
   "execution_count": 6,
   "metadata": {},
   "outputs": [
    {
     "name": "stdout",
     "output_type": "stream",
     "text": [
      "<class 'pandas.core.frame.DataFrame'>\n",
      "RangeIndex: 1197 entries, 0 to 1196\n",
      "Data columns (total 5 columns):\n",
      " #   Column         Non-Null Count  Dtype \n",
      "---  ------         --------------  ----- \n",
      " 0   transactionId  1197 non-null   int64 \n",
      " 1   visitorId      1197 non-null   int64 \n",
      " 2   date           1197 non-null   object\n",
      " 3   revenue        1197 non-null   int64 \n",
      " 4   group          1197 non-null   object\n",
      "dtypes: int64(3), object(2)\n",
      "memory usage: 46.9+ KB\n"
     ]
    }
   ],
   "source": [
    "orders.info()"
   ]
  },
  {
   "cell_type": "code",
   "execution_count": 7,
   "metadata": {},
   "outputs": [
    {
     "data": {
      "text/html": [
       "<div>\n",
       "<style scoped>\n",
       "    .dataframe tbody tr th:only-of-type {\n",
       "        vertical-align: middle;\n",
       "    }\n",
       "\n",
       "    .dataframe tbody tr th {\n",
       "        vertical-align: top;\n",
       "    }\n",
       "\n",
       "    .dataframe thead th {\n",
       "        text-align: right;\n",
       "    }\n",
       "</style>\n",
       "<table border=\"1\" class=\"dataframe\">\n",
       "  <thead>\n",
       "    <tr style=\"text-align: right;\">\n",
       "      <th></th>\n",
       "      <th>transactionId</th>\n",
       "      <th>visitorId</th>\n",
       "      <th>date</th>\n",
       "      <th>revenue</th>\n",
       "      <th>group</th>\n",
       "    </tr>\n",
       "  </thead>\n",
       "  <tbody>\n",
       "    <tr>\n",
       "      <th>0</th>\n",
       "      <td>3667963787</td>\n",
       "      <td>3312258926</td>\n",
       "      <td>2019-08-15</td>\n",
       "      <td>1650</td>\n",
       "      <td>B</td>\n",
       "    </tr>\n",
       "    <tr>\n",
       "      <th>1</th>\n",
       "      <td>2804400009</td>\n",
       "      <td>3642806036</td>\n",
       "      <td>2019-08-15</td>\n",
       "      <td>730</td>\n",
       "      <td>B</td>\n",
       "    </tr>\n",
       "    <tr>\n",
       "      <th>2</th>\n",
       "      <td>2961555356</td>\n",
       "      <td>4069496402</td>\n",
       "      <td>2019-08-15</td>\n",
       "      <td>400</td>\n",
       "      <td>A</td>\n",
       "    </tr>\n",
       "    <tr>\n",
       "      <th>3</th>\n",
       "      <td>3797467345</td>\n",
       "      <td>1196621759</td>\n",
       "      <td>2019-08-15</td>\n",
       "      <td>9759</td>\n",
       "      <td>B</td>\n",
       "    </tr>\n",
       "    <tr>\n",
       "      <th>4</th>\n",
       "      <td>2282983706</td>\n",
       "      <td>2322279887</td>\n",
       "      <td>2019-08-15</td>\n",
       "      <td>2308</td>\n",
       "      <td>B</td>\n",
       "    </tr>\n",
       "  </tbody>\n",
       "</table>\n",
       "</div>"
      ],
      "text/plain": [
       "   transactionId   visitorId        date  revenue group\n",
       "0     3667963787  3312258926  2019-08-15     1650     B\n",
       "1     2804400009  3642806036  2019-08-15      730     B\n",
       "2     2961555356  4069496402  2019-08-15      400     A\n",
       "3     3797467345  1196621759  2019-08-15     9759     B\n",
       "4     2282983706  2322279887  2019-08-15     2308     B"
      ]
     },
     "execution_count": 7,
     "metadata": {},
     "output_type": "execute_result"
    }
   ],
   "source": [
    "orders.head()"
   ]
  },
  {
   "cell_type": "code",
   "execution_count": 8,
   "metadata": {},
   "outputs": [
    {
     "data": {
      "text/plain": [
       "array(['B', 'A'], dtype=object)"
      ]
     },
     "execution_count": 8,
     "metadata": {},
     "output_type": "execute_result"
    }
   ],
   "source": [
    "orders['group'].unique()"
   ]
  },
  {
   "cell_type": "code",
   "execution_count": 9,
   "metadata": {},
   "outputs": [
    {
     "data": {
      "text/plain": [
       "transactionId    0\n",
       "visitorId        0\n",
       "date             0\n",
       "revenue          0\n",
       "group            0\n",
       "dtype: int64"
      ]
     },
     "execution_count": 9,
     "metadata": {},
     "output_type": "execute_result"
    }
   ],
   "source": [
    "orders.isnull().sum()"
   ]
  },
  {
   "cell_type": "code",
   "execution_count": 10,
   "metadata": {},
   "outputs": [
    {
     "data": {
      "text/plain": [
       "0"
      ]
     },
     "execution_count": 10,
     "metadata": {},
     "output_type": "execute_result"
    }
   ],
   "source": [
    "orders.duplicated().sum()"
   ]
  },
  {
   "cell_type": "code",
   "execution_count": 11,
   "metadata": {},
   "outputs": [
    {
     "data": {
      "text/plain": [
       "count    1.197000e+03\n",
       "mean     8.348006e+03\n",
       "std      3.919113e+04\n",
       "min      5.000000e+01\n",
       "25%      1.220000e+03\n",
       "50%      2.978000e+03\n",
       "75%      8.290000e+03\n",
       "max      1.294500e+06\n",
       "Name: revenue, dtype: float64"
      ]
     },
     "execution_count": 11,
     "metadata": {},
     "output_type": "execute_result"
    }
   ],
   "source": [
    "orders['revenue'].describe()"
   ]
  },
  {
   "cell_type": "markdown",
   "metadata": {},
   "source": [
    "В таблице orders в целом всё хорошо: дубликатов и пропусков нет, отрицательных значений в столбце с выручкой тоже. Стоит поправить названия столбцов transactionId, visitorsId, изменить тип данных в столбце date с object на datetime, проверить диапазон дат."
   ]
  },
  {
   "cell_type": "code",
   "execution_count": 12,
   "metadata": {
    "scrolled": true
   },
   "outputs": [
    {
     "name": "stdout",
     "output_type": "stream",
     "text": [
      "<class 'pandas.core.frame.DataFrame'>\n",
      "RangeIndex: 62 entries, 0 to 61\n",
      "Data columns (total 3 columns):\n",
      " #   Column    Non-Null Count  Dtype \n",
      "---  ------    --------------  ----- \n",
      " 0   date      62 non-null     object\n",
      " 1   group     62 non-null     object\n",
      " 2   visitors  62 non-null     int64 \n",
      "dtypes: int64(1), object(2)\n",
      "memory usage: 1.6+ KB\n"
     ]
    }
   ],
   "source": [
    "visitors.info()"
   ]
  },
  {
   "cell_type": "code",
   "execution_count": 13,
   "metadata": {},
   "outputs": [
    {
     "data": {
      "text/html": [
       "<div>\n",
       "<style scoped>\n",
       "    .dataframe tbody tr th:only-of-type {\n",
       "        vertical-align: middle;\n",
       "    }\n",
       "\n",
       "    .dataframe tbody tr th {\n",
       "        vertical-align: top;\n",
       "    }\n",
       "\n",
       "    .dataframe thead th {\n",
       "        text-align: right;\n",
       "    }\n",
       "</style>\n",
       "<table border=\"1\" class=\"dataframe\">\n",
       "  <thead>\n",
       "    <tr style=\"text-align: right;\">\n",
       "      <th></th>\n",
       "      <th>date</th>\n",
       "      <th>group</th>\n",
       "      <th>visitors</th>\n",
       "    </tr>\n",
       "  </thead>\n",
       "  <tbody>\n",
       "    <tr>\n",
       "      <th>0</th>\n",
       "      <td>2019-08-01</td>\n",
       "      <td>A</td>\n",
       "      <td>719</td>\n",
       "    </tr>\n",
       "    <tr>\n",
       "      <th>1</th>\n",
       "      <td>2019-08-02</td>\n",
       "      <td>A</td>\n",
       "      <td>619</td>\n",
       "    </tr>\n",
       "    <tr>\n",
       "      <th>2</th>\n",
       "      <td>2019-08-03</td>\n",
       "      <td>A</td>\n",
       "      <td>507</td>\n",
       "    </tr>\n",
       "    <tr>\n",
       "      <th>3</th>\n",
       "      <td>2019-08-04</td>\n",
       "      <td>A</td>\n",
       "      <td>717</td>\n",
       "    </tr>\n",
       "    <tr>\n",
       "      <th>4</th>\n",
       "      <td>2019-08-05</td>\n",
       "      <td>A</td>\n",
       "      <td>756</td>\n",
       "    </tr>\n",
       "  </tbody>\n",
       "</table>\n",
       "</div>"
      ],
      "text/plain": [
       "         date group  visitors\n",
       "0  2019-08-01     A       719\n",
       "1  2019-08-02     A       619\n",
       "2  2019-08-03     A       507\n",
       "3  2019-08-04     A       717\n",
       "4  2019-08-05     A       756"
      ]
     },
     "execution_count": 13,
     "metadata": {},
     "output_type": "execute_result"
    }
   ],
   "source": [
    "visitors.head()"
   ]
  },
  {
   "cell_type": "code",
   "execution_count": 14,
   "metadata": {},
   "outputs": [
    {
     "data": {
      "text/plain": [
       "array(['A', 'B'], dtype=object)"
      ]
     },
     "execution_count": 14,
     "metadata": {},
     "output_type": "execute_result"
    }
   ],
   "source": [
    "visitors['group'].unique()"
   ]
  },
  {
   "cell_type": "code",
   "execution_count": 15,
   "metadata": {},
   "outputs": [
    {
     "data": {
      "text/plain": [
       "count     62.000000\n",
       "mean     607.290323\n",
       "std      114.400560\n",
       "min      361.000000\n",
       "25%      534.000000\n",
       "50%      624.500000\n",
       "75%      710.500000\n",
       "max      770.000000\n",
       "Name: visitors, dtype: float64"
      ]
     },
     "execution_count": 15,
     "metadata": {},
     "output_type": "execute_result"
    }
   ],
   "source": [
    "visitors['visitors'].describe()"
   ]
  },
  {
   "cell_type": "code",
   "execution_count": 16,
   "metadata": {},
   "outputs": [
    {
     "data": {
      "text/plain": [
       "date        0\n",
       "group       0\n",
       "visitors    0\n",
       "dtype: int64"
      ]
     },
     "execution_count": 16,
     "metadata": {},
     "output_type": "execute_result"
    }
   ],
   "source": [
    "visitors.isnull().sum()"
   ]
  },
  {
   "cell_type": "code",
   "execution_count": 17,
   "metadata": {},
   "outputs": [
    {
     "data": {
      "text/plain": [
       "0"
      ]
     },
     "execution_count": 17,
     "metadata": {},
     "output_type": "execute_result"
    }
   ],
   "source": [
    "visitors.duplicated().sum()"
   ]
  },
  {
   "cell_type": "markdown",
   "metadata": {},
   "source": [
    "В таблице visitors необходимо привести даты к корректному типу. В остальном всё хорошо: пропусков, дубликатов, отрицательных значений в столбце с количеством визитёров нет.\n",
    "\n",
    "\n",
    "<a id=\"preparation\"></a>\n",
    "### Подготовка данных"
   ]
  },
  {
   "cell_type": "code",
   "execution_count": 18,
   "metadata": {},
   "outputs": [
    {
     "data": {
      "text/html": [
       "<div>\n",
       "<style scoped>\n",
       "    .dataframe tbody tr th:only-of-type {\n",
       "        vertical-align: middle;\n",
       "    }\n",
       "\n",
       "    .dataframe tbody tr th {\n",
       "        vertical-align: top;\n",
       "    }\n",
       "\n",
       "    .dataframe thead th {\n",
       "        text-align: right;\n",
       "    }\n",
       "</style>\n",
       "<table border=\"1\" class=\"dataframe\">\n",
       "  <thead>\n",
       "    <tr style=\"text-align: right;\">\n",
       "      <th></th>\n",
       "      <th>hypothesis</th>\n",
       "      <th>reach</th>\n",
       "      <th>impact</th>\n",
       "      <th>confidence</th>\n",
       "      <th>efforts</th>\n",
       "    </tr>\n",
       "  </thead>\n",
       "  <tbody>\n",
       "    <tr>\n",
       "      <th>0</th>\n",
       "      <td>Добавить два новых канала привлечения трафика, что позволит привлекать на 30% больше пользователей</td>\n",
       "      <td>3</td>\n",
       "      <td>10</td>\n",
       "      <td>8</td>\n",
       "      <td>6</td>\n",
       "    </tr>\n",
       "    <tr>\n",
       "      <th>1</th>\n",
       "      <td>Запустить собственную службу доставки, что сократит срок доставки заказов</td>\n",
       "      <td>2</td>\n",
       "      <td>5</td>\n",
       "      <td>4</td>\n",
       "      <td>10</td>\n",
       "    </tr>\n",
       "    <tr>\n",
       "      <th>2</th>\n",
       "      <td>Добавить блоки рекомендаций товаров на сайт интернет магазина, чтобы повысить конверсию и средний чек заказа</td>\n",
       "      <td>8</td>\n",
       "      <td>3</td>\n",
       "      <td>7</td>\n",
       "      <td>3</td>\n",
       "    </tr>\n",
       "    <tr>\n",
       "      <th>3</th>\n",
       "      <td>Изменить структура категорий, что увеличит конверсию, т.к. пользователи быстрее найдут нужный товар</td>\n",
       "      <td>8</td>\n",
       "      <td>3</td>\n",
       "      <td>3</td>\n",
       "      <td>8</td>\n",
       "    </tr>\n",
       "    <tr>\n",
       "      <th>4</th>\n",
       "      <td>Изменить цвет фона главной страницы, чтобы увеличить вовлеченность пользователей</td>\n",
       "      <td>3</td>\n",
       "      <td>1</td>\n",
       "      <td>1</td>\n",
       "      <td>1</td>\n",
       "    </tr>\n",
       "  </tbody>\n",
       "</table>\n",
       "</div>"
      ],
      "text/plain": [
       "                                                                                                     hypothesis  \\\n",
       "0            Добавить два новых канала привлечения трафика, что позволит привлекать на 30% больше пользователей   \n",
       "1                                     Запустить собственную службу доставки, что сократит срок доставки заказов   \n",
       "2  Добавить блоки рекомендаций товаров на сайт интернет магазина, чтобы повысить конверсию и средний чек заказа   \n",
       "3           Изменить структура категорий, что увеличит конверсию, т.к. пользователи быстрее найдут нужный товар   \n",
       "4                              Изменить цвет фона главной страницы, чтобы увеличить вовлеченность пользователей   \n",
       "\n",
       "   reach  impact  confidence  efforts  \n",
       "0      3      10           8        6  \n",
       "1      2       5           4       10  \n",
       "2      8       3           7        3  \n",
       "3      8       3           3        8  \n",
       "4      3       1           1        1  "
      ]
     },
     "execution_count": 18,
     "metadata": {},
     "output_type": "execute_result"
    }
   ],
   "source": [
    "hypothesis.set_axis(['hypothesis', 'reach', 'impact', 'confidence', 'efforts'], axis='columns', inplace=True)\n",
    "\n",
    "\n",
    "orders['date'] = orders['date'].map(lambda x: dt.datetime.strptime(x, '%Y-%m-%d'))\n",
    "orders.set_axis(['transaction_id', 'visitor_id', 'date', 'revenue', 'group'], axis='columns', inplace=True)\n",
    "\n",
    "\n",
    "visitors['date'] = visitors['date'].map(lambda x: dt.datetime.strptime(x, '%Y-%m-%d'))\n",
    "hypothesis.head()"
   ]
  },
  {
   "cell_type": "code",
   "execution_count": 19,
   "metadata": {},
   "outputs": [
    {
     "data": {
      "text/html": [
       "<div>\n",
       "<style scoped>\n",
       "    .dataframe tbody tr th:only-of-type {\n",
       "        vertical-align: middle;\n",
       "    }\n",
       "\n",
       "    .dataframe tbody tr th {\n",
       "        vertical-align: top;\n",
       "    }\n",
       "\n",
       "    .dataframe thead th {\n",
       "        text-align: right;\n",
       "    }\n",
       "</style>\n",
       "<table border=\"1\" class=\"dataframe\">\n",
       "  <thead>\n",
       "    <tr style=\"text-align: right;\">\n",
       "      <th></th>\n",
       "      <th>transaction_id</th>\n",
       "      <th>visitor_id</th>\n",
       "      <th>date</th>\n",
       "      <th>revenue</th>\n",
       "      <th>group</th>\n",
       "    </tr>\n",
       "  </thead>\n",
       "  <tbody>\n",
       "    <tr>\n",
       "      <th>0</th>\n",
       "      <td>3667963787</td>\n",
       "      <td>3312258926</td>\n",
       "      <td>2019-08-15</td>\n",
       "      <td>1650</td>\n",
       "      <td>B</td>\n",
       "    </tr>\n",
       "    <tr>\n",
       "      <th>1</th>\n",
       "      <td>2804400009</td>\n",
       "      <td>3642806036</td>\n",
       "      <td>2019-08-15</td>\n",
       "      <td>730</td>\n",
       "      <td>B</td>\n",
       "    </tr>\n",
       "    <tr>\n",
       "      <th>2</th>\n",
       "      <td>2961555356</td>\n",
       "      <td>4069496402</td>\n",
       "      <td>2019-08-15</td>\n",
       "      <td>400</td>\n",
       "      <td>A</td>\n",
       "    </tr>\n",
       "    <tr>\n",
       "      <th>3</th>\n",
       "      <td>3797467345</td>\n",
       "      <td>1196621759</td>\n",
       "      <td>2019-08-15</td>\n",
       "      <td>9759</td>\n",
       "      <td>B</td>\n",
       "    </tr>\n",
       "    <tr>\n",
       "      <th>4</th>\n",
       "      <td>2282983706</td>\n",
       "      <td>2322279887</td>\n",
       "      <td>2019-08-15</td>\n",
       "      <td>2308</td>\n",
       "      <td>B</td>\n",
       "    </tr>\n",
       "  </tbody>\n",
       "</table>\n",
       "</div>"
      ],
      "text/plain": [
       "   transaction_id  visitor_id       date  revenue group\n",
       "0      3667963787  3312258926 2019-08-15     1650     B\n",
       "1      2804400009  3642806036 2019-08-15      730     B\n",
       "2      2961555356  4069496402 2019-08-15      400     A\n",
       "3      3797467345  1196621759 2019-08-15     9759     B\n",
       "4      2282983706  2322279887 2019-08-15     2308     B"
      ]
     },
     "execution_count": 19,
     "metadata": {},
     "output_type": "execute_result"
    }
   ],
   "source": [
    "orders.head()"
   ]
  },
  {
   "cell_type": "code",
   "execution_count": 20,
   "metadata": {},
   "outputs": [
    {
     "name": "stdout",
     "output_type": "stream",
     "text": [
      "<class 'pandas.core.frame.DataFrame'>\n",
      "RangeIndex: 62 entries, 0 to 61\n",
      "Data columns (total 3 columns):\n",
      " #   Column    Non-Null Count  Dtype         \n",
      "---  ------    --------------  -----         \n",
      " 0   date      62 non-null     datetime64[ns]\n",
      " 1   group     62 non-null     object        \n",
      " 2   visitors  62 non-null     int64         \n",
      "dtypes: datetime64[ns](1), int64(1), object(1)\n",
      "memory usage: 1.6+ KB\n"
     ]
    }
   ],
   "source": [
    "visitors.info()"
   ]
  },
  {
   "cell_type": "code",
   "execution_count": 21,
   "metadata": {
    "scrolled": true
   },
   "outputs": [
    {
     "name": "stdout",
     "output_type": "stream",
     "text": [
      "<class 'pandas.core.frame.DataFrame'>\n",
      "RangeIndex: 1197 entries, 0 to 1196\n",
      "Data columns (total 5 columns):\n",
      " #   Column          Non-Null Count  Dtype         \n",
      "---  ------          --------------  -----         \n",
      " 0   transaction_id  1197 non-null   int64         \n",
      " 1   visitor_id      1197 non-null   int64         \n",
      " 2   date            1197 non-null   datetime64[ns]\n",
      " 3   revenue         1197 non-null   int64         \n",
      " 4   group           1197 non-null   object        \n",
      "dtypes: datetime64[ns](1), int64(3), object(1)\n",
      "memory usage: 46.9+ KB\n"
     ]
    }
   ],
   "source": [
    "orders.info()"
   ]
  },
  {
   "cell_type": "code",
   "execution_count": 22,
   "metadata": {},
   "outputs": [
    {
     "data": {
      "text/plain": [
       "Timestamp('2019-08-01 00:00:00')"
      ]
     },
     "execution_count": 22,
     "metadata": {},
     "output_type": "execute_result"
    }
   ],
   "source": [
    "orders['date'].min()"
   ]
  },
  {
   "cell_type": "code",
   "execution_count": 23,
   "metadata": {},
   "outputs": [
    {
     "data": {
      "text/plain": [
       "Timestamp('2019-08-31 00:00:00')"
      ]
     },
     "execution_count": 23,
     "metadata": {},
     "output_type": "execute_result"
    }
   ],
   "source": [
    "orders['date'].max()"
   ]
  },
  {
   "cell_type": "code",
   "execution_count": 24,
   "metadata": {},
   "outputs": [
    {
     "data": {
      "text/plain": [
       "Timestamp('2019-08-01 00:00:00')"
      ]
     },
     "execution_count": 24,
     "metadata": {},
     "output_type": "execute_result"
    }
   ],
   "source": [
    "visitors['date'].min()"
   ]
  },
  {
   "cell_type": "code",
   "execution_count": 25,
   "metadata": {},
   "outputs": [
    {
     "data": {
      "text/plain": [
       "Timestamp('2019-08-31 00:00:00')"
      ]
     },
     "execution_count": 25,
     "metadata": {},
     "output_type": "execute_result"
    }
   ],
   "source": [
    "visitors['date'].max()"
   ]
  },
  {
   "cell_type": "markdown",
   "metadata": {},
   "source": [
    "### Выводы\n",
    "<a id=\"conclusion2\"></a>\n",
    "Данные привели в необходимый вид. Названия столбцов и типы данных корректны. Диапазон дат корректен: с 1 по 31 августа. Можем приступать к работе."
   ]
  },
  {
   "cell_type": "markdown",
   "metadata": {},
   "source": [
    "## Часть 1. Приоритизация гипотез.\n",
    "<a id=\"part1\"></a>\n",
    "\n",
    "В файле hypothesis 9 гипотез по увеличению выручки интернет-магазина с указанными параметрами Reach, Impact, Confidence, Effort:\n",
    "\n",
    " - Добавить два новых канала привлечения трафика, что позволит привлекать на 30% больше пользователей,\n",
    " - Запустить собственную службу доставки, что сократит срок доставки заказов,\n",
    " - Добавить блоки рекомендаций товаров на сайт интернет магазина, чтобы повысить конверсию и средний чек заказа,\n",
    " - Изменить структуру категорий, что увеличит конверсию, т.к. пользователи быстрее найдут нужный товар,\n",
    " - Изменить цвет фона главной страницы, чтобы увеличить вовлеченность пользователей,\n",
    " - Добавить страницу отзывов клиентов о магазине, что позволит увеличить количество заказов,\n",
    " - Показать на главной странице баннеры с актуальными акциями и распродажами, чтобы увеличить конверсию,\n",
    " - Добавить форму подписки на все основные страницы, чтобы собрать базу клиентов для email-рассылок,\n",
    " - Запустить акцию, дающую скидку на товар в день рождения.\n",
    "\n",
    "\n",
    "Применим фреймворки ICE и RICE для приоритизации гипотез."
   ]
  },
  {
   "cell_type": "code",
   "execution_count": 26,
   "metadata": {},
   "outputs": [
    {
     "data": {
      "text/html": [
       "<div>\n",
       "<style scoped>\n",
       "    .dataframe tbody tr th:only-of-type {\n",
       "        vertical-align: middle;\n",
       "    }\n",
       "\n",
       "    .dataframe tbody tr th {\n",
       "        vertical-align: top;\n",
       "    }\n",
       "\n",
       "    .dataframe thead th {\n",
       "        text-align: right;\n",
       "    }\n",
       "</style>\n",
       "<table border=\"1\" class=\"dataframe\">\n",
       "  <thead>\n",
       "    <tr style=\"text-align: right;\">\n",
       "      <th></th>\n",
       "      <th>hypothesis</th>\n",
       "      <th>reach</th>\n",
       "      <th>impact</th>\n",
       "      <th>confidence</th>\n",
       "      <th>efforts</th>\n",
       "      <th>ICE</th>\n",
       "    </tr>\n",
       "  </thead>\n",
       "  <tbody>\n",
       "    <tr>\n",
       "      <th>8</th>\n",
       "      <td>Запустить акцию, дающую скидку на товар в день рождения</td>\n",
       "      <td>1</td>\n",
       "      <td>9</td>\n",
       "      <td>9</td>\n",
       "      <td>5</td>\n",
       "      <td>16.20</td>\n",
       "    </tr>\n",
       "    <tr>\n",
       "      <th>0</th>\n",
       "      <td>Добавить два новых канала привлечения трафика, что позволит привлекать на 30% больше пользователей</td>\n",
       "      <td>3</td>\n",
       "      <td>10</td>\n",
       "      <td>8</td>\n",
       "      <td>6</td>\n",
       "      <td>13.33</td>\n",
       "    </tr>\n",
       "    <tr>\n",
       "      <th>7</th>\n",
       "      <td>Добавить форму подписки на все основные страницы, чтобы собрать базу клиентов для email-рассылок</td>\n",
       "      <td>10</td>\n",
       "      <td>7</td>\n",
       "      <td>8</td>\n",
       "      <td>5</td>\n",
       "      <td>11.20</td>\n",
       "    </tr>\n",
       "    <tr>\n",
       "      <th>6</th>\n",
       "      <td>Показать на главной странице баннеры с актуальными акциями и распродажами, чтобы увеличить конверсию</td>\n",
       "      <td>5</td>\n",
       "      <td>3</td>\n",
       "      <td>8</td>\n",
       "      <td>3</td>\n",
       "      <td>8.00</td>\n",
       "    </tr>\n",
       "    <tr>\n",
       "      <th>2</th>\n",
       "      <td>Добавить блоки рекомендаций товаров на сайт интернет магазина, чтобы повысить конверсию и средний чек заказа</td>\n",
       "      <td>8</td>\n",
       "      <td>3</td>\n",
       "      <td>7</td>\n",
       "      <td>3</td>\n",
       "      <td>7.00</td>\n",
       "    </tr>\n",
       "    <tr>\n",
       "      <th>1</th>\n",
       "      <td>Запустить собственную службу доставки, что сократит срок доставки заказов</td>\n",
       "      <td>2</td>\n",
       "      <td>5</td>\n",
       "      <td>4</td>\n",
       "      <td>10</td>\n",
       "      <td>2.00</td>\n",
       "    </tr>\n",
       "    <tr>\n",
       "      <th>5</th>\n",
       "      <td>Добавить страницу отзывов клиентов о магазине, что позволит увеличить количество заказов</td>\n",
       "      <td>3</td>\n",
       "      <td>2</td>\n",
       "      <td>2</td>\n",
       "      <td>3</td>\n",
       "      <td>1.33</td>\n",
       "    </tr>\n",
       "    <tr>\n",
       "      <th>3</th>\n",
       "      <td>Изменить структура категорий, что увеличит конверсию, т.к. пользователи быстрее найдут нужный товар</td>\n",
       "      <td>8</td>\n",
       "      <td>3</td>\n",
       "      <td>3</td>\n",
       "      <td>8</td>\n",
       "      <td>1.12</td>\n",
       "    </tr>\n",
       "    <tr>\n",
       "      <th>4</th>\n",
       "      <td>Изменить цвет фона главной страницы, чтобы увеличить вовлеченность пользователей</td>\n",
       "      <td>3</td>\n",
       "      <td>1</td>\n",
       "      <td>1</td>\n",
       "      <td>1</td>\n",
       "      <td>1.00</td>\n",
       "    </tr>\n",
       "  </tbody>\n",
       "</table>\n",
       "</div>"
      ],
      "text/plain": [
       "                                                                                                     hypothesis  \\\n",
       "8                                                       Запустить акцию, дающую скидку на товар в день рождения   \n",
       "0            Добавить два новых канала привлечения трафика, что позволит привлекать на 30% больше пользователей   \n",
       "7              Добавить форму подписки на все основные страницы, чтобы собрать базу клиентов для email-рассылок   \n",
       "6          Показать на главной странице баннеры с актуальными акциями и распродажами, чтобы увеличить конверсию   \n",
       "2  Добавить блоки рекомендаций товаров на сайт интернет магазина, чтобы повысить конверсию и средний чек заказа   \n",
       "1                                     Запустить собственную службу доставки, что сократит срок доставки заказов   \n",
       "5                      Добавить страницу отзывов клиентов о магазине, что позволит увеличить количество заказов   \n",
       "3           Изменить структура категорий, что увеличит конверсию, т.к. пользователи быстрее найдут нужный товар   \n",
       "4                              Изменить цвет фона главной страницы, чтобы увеличить вовлеченность пользователей   \n",
       "\n",
       "   reach  impact  confidence  efforts    ICE  \n",
       "8      1       9           9        5  16.20  \n",
       "0      3      10           8        6  13.33  \n",
       "7     10       7           8        5  11.20  \n",
       "6      5       3           8        3   8.00  \n",
       "2      8       3           7        3   7.00  \n",
       "1      2       5           4       10   2.00  \n",
       "5      3       2           2        3   1.33  \n",
       "3      8       3           3        8   1.12  \n",
       "4      3       1           1        1   1.00  "
      ]
     },
     "execution_count": 26,
     "metadata": {},
     "output_type": "execute_result"
    }
   ],
   "source": [
    "hypothesis['ICE'] = (hypothesis['impact'] * hypothesis['confidence'] / hypothesis['efforts']).round(2)\n",
    "hypothesis.sort_values(by='ICE', ascending=False)"
   ]
  },
  {
   "cell_type": "markdown",
   "metadata": {},
   "source": [
    "Приоритетные гипотезы: скидка на день рождения, два новых канала привлечения трафика, форма подписки, баннеры с актуальными акциями на главной странице и блоки рекомендаций товаров."
   ]
  },
  {
   "cell_type": "code",
   "execution_count": 27,
   "metadata": {},
   "outputs": [
    {
     "data": {
      "text/html": [
       "<div>\n",
       "<style scoped>\n",
       "    .dataframe tbody tr th:only-of-type {\n",
       "        vertical-align: middle;\n",
       "    }\n",
       "\n",
       "    .dataframe tbody tr th {\n",
       "        vertical-align: top;\n",
       "    }\n",
       "\n",
       "    .dataframe thead th {\n",
       "        text-align: right;\n",
       "    }\n",
       "</style>\n",
       "<table border=\"1\" class=\"dataframe\">\n",
       "  <thead>\n",
       "    <tr style=\"text-align: right;\">\n",
       "      <th></th>\n",
       "      <th>hypothesis</th>\n",
       "      <th>reach</th>\n",
       "      <th>impact</th>\n",
       "      <th>confidence</th>\n",
       "      <th>efforts</th>\n",
       "      <th>ICE</th>\n",
       "      <th>RICE</th>\n",
       "    </tr>\n",
       "  </thead>\n",
       "  <tbody>\n",
       "    <tr>\n",
       "      <th>7</th>\n",
       "      <td>Добавить форму подписки на все основные страницы, чтобы собрать базу клиентов для email-рассылок</td>\n",
       "      <td>10</td>\n",
       "      <td>7</td>\n",
       "      <td>8</td>\n",
       "      <td>5</td>\n",
       "      <td>11.20</td>\n",
       "      <td>112.0</td>\n",
       "    </tr>\n",
       "    <tr>\n",
       "      <th>2</th>\n",
       "      <td>Добавить блоки рекомендаций товаров на сайт интернет магазина, чтобы повысить конверсию и средний чек заказа</td>\n",
       "      <td>8</td>\n",
       "      <td>3</td>\n",
       "      <td>7</td>\n",
       "      <td>3</td>\n",
       "      <td>7.00</td>\n",
       "      <td>56.0</td>\n",
       "    </tr>\n",
       "    <tr>\n",
       "      <th>0</th>\n",
       "      <td>Добавить два новых канала привлечения трафика, что позволит привлекать на 30% больше пользователей</td>\n",
       "      <td>3</td>\n",
       "      <td>10</td>\n",
       "      <td>8</td>\n",
       "      <td>6</td>\n",
       "      <td>13.33</td>\n",
       "      <td>40.0</td>\n",
       "    </tr>\n",
       "    <tr>\n",
       "      <th>6</th>\n",
       "      <td>Показать на главной странице баннеры с актуальными акциями и распродажами, чтобы увеличить конверсию</td>\n",
       "      <td>5</td>\n",
       "      <td>3</td>\n",
       "      <td>8</td>\n",
       "      <td>3</td>\n",
       "      <td>8.00</td>\n",
       "      <td>40.0</td>\n",
       "    </tr>\n",
       "    <tr>\n",
       "      <th>8</th>\n",
       "      <td>Запустить акцию, дающую скидку на товар в день рождения</td>\n",
       "      <td>1</td>\n",
       "      <td>9</td>\n",
       "      <td>9</td>\n",
       "      <td>5</td>\n",
       "      <td>16.20</td>\n",
       "      <td>16.2</td>\n",
       "    </tr>\n",
       "    <tr>\n",
       "      <th>3</th>\n",
       "      <td>Изменить структура категорий, что увеличит конверсию, т.к. пользователи быстрее найдут нужный товар</td>\n",
       "      <td>8</td>\n",
       "      <td>3</td>\n",
       "      <td>3</td>\n",
       "      <td>8</td>\n",
       "      <td>1.12</td>\n",
       "      <td>9.0</td>\n",
       "    </tr>\n",
       "    <tr>\n",
       "      <th>1</th>\n",
       "      <td>Запустить собственную службу доставки, что сократит срок доставки заказов</td>\n",
       "      <td>2</td>\n",
       "      <td>5</td>\n",
       "      <td>4</td>\n",
       "      <td>10</td>\n",
       "      <td>2.00</td>\n",
       "      <td>4.0</td>\n",
       "    </tr>\n",
       "    <tr>\n",
       "      <th>5</th>\n",
       "      <td>Добавить страницу отзывов клиентов о магазине, что позволит увеличить количество заказов</td>\n",
       "      <td>3</td>\n",
       "      <td>2</td>\n",
       "      <td>2</td>\n",
       "      <td>3</td>\n",
       "      <td>1.33</td>\n",
       "      <td>4.0</td>\n",
       "    </tr>\n",
       "    <tr>\n",
       "      <th>4</th>\n",
       "      <td>Изменить цвет фона главной страницы, чтобы увеличить вовлеченность пользователей</td>\n",
       "      <td>3</td>\n",
       "      <td>1</td>\n",
       "      <td>1</td>\n",
       "      <td>1</td>\n",
       "      <td>1.00</td>\n",
       "      <td>3.0</td>\n",
       "    </tr>\n",
       "  </tbody>\n",
       "</table>\n",
       "</div>"
      ],
      "text/plain": [
       "                                                                                                     hypothesis  \\\n",
       "7              Добавить форму подписки на все основные страницы, чтобы собрать базу клиентов для email-рассылок   \n",
       "2  Добавить блоки рекомендаций товаров на сайт интернет магазина, чтобы повысить конверсию и средний чек заказа   \n",
       "0            Добавить два новых канала привлечения трафика, что позволит привлекать на 30% больше пользователей   \n",
       "6          Показать на главной странице баннеры с актуальными акциями и распродажами, чтобы увеличить конверсию   \n",
       "8                                                       Запустить акцию, дающую скидку на товар в день рождения   \n",
       "3           Изменить структура категорий, что увеличит конверсию, т.к. пользователи быстрее найдут нужный товар   \n",
       "1                                     Запустить собственную службу доставки, что сократит срок доставки заказов   \n",
       "5                      Добавить страницу отзывов клиентов о магазине, что позволит увеличить количество заказов   \n",
       "4                              Изменить цвет фона главной страницы, чтобы увеличить вовлеченность пользователей   \n",
       "\n",
       "   reach  impact  confidence  efforts    ICE   RICE  \n",
       "7     10       7           8        5  11.20  112.0  \n",
       "2      8       3           7        3   7.00   56.0  \n",
       "0      3      10           8        6  13.33   40.0  \n",
       "6      5       3           8        3   8.00   40.0  \n",
       "8      1       9           9        5  16.20   16.2  \n",
       "3      8       3           3        8   1.12    9.0  \n",
       "1      2       5           4       10   2.00    4.0  \n",
       "5      3       2           2        3   1.33    4.0  \n",
       "4      3       1           1        1   1.00    3.0  "
      ]
     },
     "execution_count": 27,
     "metadata": {},
     "output_type": "execute_result"
    }
   ],
   "source": [
    "hypothesis['RICE'] = hypothesis['reach'] * hypothesis['impact'] * hypothesis['confidence'] / hypothesis['efforts']\n",
    "hypothesis.sort_values(by='RICE', ascending=False)"
   ]
  },
  {
   "cell_type": "markdown",
   "metadata": {},
   "source": [
    "По фреймворку RICE в приоритете оказались те же гипотезы, но в другом порядке: форма подписки, блоки рекомендаций, два новых канала привлечения трафика, баннеры с актуальными акциями и скидка на день рождения. Построим точечную диаграмму."
   ]
  },
  {
   "cell_type": "code",
   "execution_count": 28,
   "metadata": {},
   "outputs": [
    {
     "data": {
      "image/png": "[encoded data removed]",
      "text/plain": [
       "<Figure size 864x504 with 1 Axes>"
      ]
     },
     "metadata": {
      "needs_background": "light"
     },
     "output_type": "display_data"
    }
   ],
   "source": [
    "\n",
    "fig, ax = plt.subplots(figsize=(12, 7))\n",
    "\n",
    "ax.set_xlabel('RICE')\n",
    "ax.set_ylabel('ICE')\n",
    "ax.set_title('ICE/RICE')\n",
    "\n",
    "for i, txt in enumerate(hypothesis.index.values):\n",
    "    legend = (str(txt) + ' - ' + str(hypothesis['hypothesis'][i]))    \n",
    "    ax.annotate(txt, (hypothesis['ICE'][i], hypothesis['RICE'][i]), xytext=(10,10), textcoords='offset points')\n",
    "    plt.scatter(hypothesis['ICE'][i], hypothesis['RICE'][i], label = legend)\n",
    "    \n",
    "plt.grid(True)  \n",
    "plt.legend(loc=\"lower left\",  bbox_to_anchor=(0, -0.5))\n",
    "\n",
    "plt.show()"
   ]
  },
  {
   "cell_type": "markdown",
   "metadata": {},
   "source": [
    "### Выводы\n",
    "<a id=\"conclusioin3\"></a>\n",
    "Гипотеза \"Запустить акцию, дающую скидку на день рождения\" по фреймворку ICE первая, но по фреймворку RICE она на пятом месте: охват пользователей маловат, не смотря на хорошее влияние и средние затраты. Параметр Confidence у этой гипотезы самый высокий.\n",
    "\n",
    "Следующая по ICE гипотеза \"Добавить два новых канала привлечения трафика\" по RICE на третьем месте: охват пользователей оценён в 3 балла, влияние максимально, затраты самые большие из выбранных гипотез. \n",
    "\n",
    "Гипотеза \"Добавить форму подписки на все основные страницы\" по ICE третья, по RICE первая: охват максимальный, влияние хорошее, затраты средние. \n",
    "\n",
    "Гипотеза \"Показать на главной странице баннеры с актуальными акциями\" по обоим фреймворкам на четвертом месте: охват небольшой, влияние не сильное, но и затрат немного, параметр Confidence самый низкий из выбранных гипотез. \n",
    "\n",
    "Гипотеза \"Добавить блоки рекомендаций товаров на сайт\" пятая по ICE и вторая по RICE: охват хороший, влияние и затраты несильные.\n",
    "\n",
    "После применения фреймворка RICE порядок гипотез изменился в зависимости от параметра Reach. Гипотезы, у которых охват большой, переместились на более высокое положение. У некоторых гипотез охват не повлиял или повлиял не существенно, например, когда у гипотезы большие затраты или сильное влияние.,\n",
    "\n"
   ]
  },
  {
   "cell_type": "markdown",
   "metadata": {},
   "source": [
    "## Часть 2. Анализ A/B-теста\n",
    "<a id=\"part2\"></a>\n",
    "\n",
    "\n",
    "У нас есть определенные результаты A/B-теста.\n",
    "Нам необходимо проанализировать эти результаты. Для этого:\n",
    "1. Построим графики по группам:\n",
    "\n",
    "     -  кумулятивной выручки,\n",
    "     -  кумулятивного среднего чека,\n",
    "     -  относительного изменения кумулятивного среднего чека группы B к группе A,\n",
    "     -  кумулятивной конверсии по группам,\n",
    "     -  относительного изменения кумулятивной конверсии группы B к группе A.\n",
    "     \n",
    "     \n",
    "2. Построим точечный график количества заказов по пользователям. Посчитаем 95-й и 99-й перцентили количества заказов на пользователя. Выберем границу для определения аномальных пользователей.\n",
    "4. Построим точечный график стоимостей заказов. Посчитаем 95-й и 99-й перцентили стоимости заказов. Выберем границу для определения аномальных заказов.\n",
    "5. Посчитаем статистическую значимость различий в конверсии и в среднем чеке заказа между группами по «сырым» и «очищенным» данным. \n",
    "\n",
    "Примем решение по результатам теста. Варианты решений: \n",
    "1. Остановить тест, зафиксировать победу одной из групп. \n",
    "2. Остановить тест, зафиксировать отсутствие различий между группами. \n",
    "3. Продолжить тест.\n",
    "\n",
    "Для начала посмотрим не попали ли пользователи в обе группы."
   ]
  },
  {
   "cell_type": "code",
   "execution_count": 29,
   "metadata": {},
   "outputs": [
    {
     "data": {
      "text/plain": [
       "0      8300375\n",
       "1    199603092\n",
       "2    232979603\n",
       "3    237748145\n",
       "4    276558944\n",
       "Name: visitor_id, dtype: int64"
      ]
     },
     "execution_count": 29,
     "metadata": {},
     "output_type": "execute_result"
    }
   ],
   "source": [
    "orders_a = orders.query('group == \"A\"')\n",
    "orders_agr = orders_a.groupby('visitor_id')['group'].count().reset_index()\n",
    "list_id_a = orders_agr['visitor_id']\n",
    "orders_b = orders.query('group == \"B\"')\n",
    "orders_ab = orders_b.query('visitor_id in @list_id_a')\n",
    "orders_abgr = orders_ab.groupby('visitor_id')['group'].count().reset_index()\n",
    "list_id_ab = orders_abgr['visitor_id']\n",
    "list_id_ab.head()"
   ]
  },
  {
   "cell_type": "markdown",
   "metadata": {},
   "source": [
    "58 пользователей попали в обе группы. Удаляем, но помним об этом, поскольку скорее всего такое удаление скажется на результатах."
   ]
  },
  {
   "cell_type": "code",
   "execution_count": 30,
   "metadata": {},
   "outputs": [
    {
     "data": {
      "text/html": [
       "<div>\n",
       "<style scoped>\n",
       "    .dataframe tbody tr th:only-of-type {\n",
       "        vertical-align: middle;\n",
       "    }\n",
       "\n",
       "    .dataframe tbody tr th {\n",
       "        vertical-align: top;\n",
       "    }\n",
       "\n",
       "    .dataframe thead th {\n",
       "        text-align: right;\n",
       "    }\n",
       "</style>\n",
       "<table border=\"1\" class=\"dataframe\">\n",
       "  <thead>\n",
       "    <tr style=\"text-align: right;\">\n",
       "      <th></th>\n",
       "      <th>date</th>\n",
       "      <th>group</th>\n",
       "      <th>orders</th>\n",
       "      <th>buyers</th>\n",
       "      <th>revenue</th>\n",
       "      <th>visitors</th>\n",
       "    </tr>\n",
       "  </thead>\n",
       "  <tbody>\n",
       "    <tr>\n",
       "      <th>0</th>\n",
       "      <td>2019-08-01</td>\n",
       "      <td>A</td>\n",
       "      <td>23</td>\n",
       "      <td>19</td>\n",
       "      <td>142779</td>\n",
       "      <td>719</td>\n",
       "    </tr>\n",
       "    <tr>\n",
       "      <th>1</th>\n",
       "      <td>2019-08-01</td>\n",
       "      <td>B</td>\n",
       "      <td>17</td>\n",
       "      <td>17</td>\n",
       "      <td>59758</td>\n",
       "      <td>713</td>\n",
       "    </tr>\n",
       "    <tr>\n",
       "      <th>2</th>\n",
       "      <td>2019-08-02</td>\n",
       "      <td>A</td>\n",
       "      <td>42</td>\n",
       "      <td>36</td>\n",
       "      <td>234381</td>\n",
       "      <td>1338</td>\n",
       "    </tr>\n",
       "    <tr>\n",
       "      <th>3</th>\n",
       "      <td>2019-08-02</td>\n",
       "      <td>B</td>\n",
       "      <td>40</td>\n",
       "      <td>39</td>\n",
       "      <td>221801</td>\n",
       "      <td>1294</td>\n",
       "    </tr>\n",
       "    <tr>\n",
       "      <th>4</th>\n",
       "      <td>2019-08-03</td>\n",
       "      <td>A</td>\n",
       "      <td>66</td>\n",
       "      <td>60</td>\n",
       "      <td>346854</td>\n",
       "      <td>1845</td>\n",
       "    </tr>\n",
       "  </tbody>\n",
       "</table>\n",
       "</div>"
      ],
      "text/plain": [
       "        date group  orders  buyers  revenue  visitors\n",
       "0 2019-08-01     A      23      19   142779       719\n",
       "1 2019-08-01     B      17      17    59758       713\n",
       "2 2019-08-02     A      42      36   234381      1338\n",
       "3 2019-08-02     B      40      39   221801      1294\n",
       "4 2019-08-03     A      66      60   346854      1845"
      ]
     },
     "execution_count": 30,
     "metadata": {},
     "output_type": "execute_result"
    }
   ],
   "source": [
    "orders = orders.query('visitor_id not in @list_id_ab')\n",
    "\n",
    "# создаем массив уникальных пар значений дат и групп теста\n",
    "datesGroups = orders[['date','group']].drop_duplicates()\n",
    "# Получим строки таблицы orders, дата которых меньше или равна дате элемента из datesGroups, а группа теста равна \n",
    "# группе из datesGroups\n",
    "ordersAggregated = datesGroups.apply(lambda x: orders[np.logical_and(orders['date'] <= x['date'], orders['group'] ==\n",
    "                      x['group'])].agg({'date' : 'max', 'group' : 'max', 'transaction_id' : pd.Series.nunique, \n",
    "                     'visitor_id' : pd.Series.nunique, 'revenue' : 'sum'}), axis=1).sort_values(by=['date','group'])\n",
    "\n",
    "# Аналогично получим агрегированные кумулятивные по дням данные о посетителях интернет-магазина\n",
    "visitorsAggregated = datesGroups.apply(lambda x: visitors[np.logical_and(visitors['date'] <= x['date'], \n",
    "    visitors['group'] == x['group'])].agg({'date' : 'max', 'group' : 'max', 'visitors' : 'sum'}), \n",
    "                                       axis=1).sort_values(by=['date','group'])\n",
    "\n",
    "# объединяем кумулятивные данные в одной таблице и присваиваем ее столбцам понятные названия\n",
    "cumulativeData = ordersAggregated.merge(visitorsAggregated, left_on=['date', 'group'], right_on=['date', 'group'])\n",
    "cumulativeData.columns = ['date', 'group', 'orders', 'buyers', 'revenue', 'visitors']\n",
    "\n",
    "cumulativeData.head(5)"
   ]
  },
  {
   "cell_type": "code",
   "execution_count": 31,
   "metadata": {},
   "outputs": [
    {
     "data": {
      "image/png": "[encoded data removed]",
      "text/plain": [
       "<Figure size 864x504 with 1 Axes>"
      ]
     },
     "metadata": {
      "needs_background": "light"
     },
     "output_type": "display_data"
    }
   ],
   "source": [
    "# датафрейм с кумулятивным количеством заказов и кумулятивной выручкой по дням в группе А\n",
    "cumulativeRevenueA = cumulativeData[cumulativeData['group']=='A'][['date','revenue', 'orders']]\n",
    "\n",
    "# датафрейм с кумулятивным количеством заказов и кумулятивной выручкой по дням в группе B\n",
    "cumulativeRevenueB = cumulativeData[cumulativeData['group']=='B'][['date','revenue', 'orders']]\n",
    "plt.figure(figsize=(12, 7))\n",
    "plt.title('График куммулятивной выручки по группам')\n",
    "plt.xlabel(\"Дата\")\n",
    "plt.ylabel(\"Куммулятивная выручка\")\n",
    "plt.plot(cumulativeRevenueA['date'], cumulativeRevenueA['revenue'], label='Группа A')\n",
    "plt.plot(cumulativeRevenueB['date'], cumulativeRevenueB['revenue'], label='Группа B')\n",
    "plt.xticks(rotation=60)\n",
    "plt.legend()\n",
    "plt.grid(True)\n",
    "plt.show()"
   ]
  },
  {
   "cell_type": "markdown",
   "metadata": {},
   "source": [
    "Куммулятивная выручка группы В стабильно выше выручки группы А. Судя по резкому скачку, скорее всего 19 августа в группе В был аномально крупный заказ. И 12-13 августа в группе А наблюдается скачок."
   ]
  },
  {
   "cell_type": "code",
   "execution_count": 32,
   "metadata": {},
   "outputs": [
    {
     "data": {
      "image/png": "[encoded data removed]",
      "text/plain": [
       "<Figure size 864x504 with 1 Axes>"
      ]
     },
     "metadata": {
      "needs_background": "light"
     },
     "output_type": "display_data"
    }
   ],
   "source": [
    "plt.figure(figsize=(12, 7))\n",
    "plt.plot(cumulativeRevenueA['date'], cumulativeRevenueA['revenue']/cumulativeRevenueA['orders'], label='A')\n",
    "plt.plot(cumulativeRevenueB['date'], cumulativeRevenueB['revenue']/cumulativeRevenueB['orders'], label='B')\n",
    "plt.legend() \n",
    "plt.grid(True)\n",
    "plt.title('Графики среднего чека по группам')\n",
    "plt.xlabel(\"Дата\")\n",
    "plt.ylabel(\"Сумма среднего чека\")\n",
    "plt.show()"
   ]
  },
  {
   "cell_type": "markdown",
   "metadata": {},
   "source": [
    "По графикам среднего чека также виден аномальный скачок 19 августа в группе В и 13 августа в группе А. К концу теста значения установились."
   ]
  },
  {
   "cell_type": "code",
   "execution_count": 33,
   "metadata": {},
   "outputs": [
    {
     "data": {
      "image/png": "[encoded data removed]",
      "text/plain": [
       "<Figure size 864x504 with 1 Axes>"
      ]
     },
     "metadata": {
      "needs_background": "light"
     },
     "output_type": "display_data"
    }
   ],
   "source": [
    "# собираем данные в одном датафрейме\n",
    "mergedCumulativeRevenue = cumulativeRevenueA.merge(cumulativeRevenueB, left_on='date', right_on='date', how='left',\n",
    "                                                   suffixes=['A', 'B'])\n",
    "plt.figure(figsize=(12, 7))\n",
    "# cтроим отношение средних чеков\n",
    "plt.plot(mergedCumulativeRevenue['date'], (mergedCumulativeRevenue['revenueB']/mergedCumulativeRevenue['ordersB'])/\n",
    "         (mergedCumulativeRevenue['revenueA']/mergedCumulativeRevenue['ordersA'])-1)\n",
    "\n",
    "# добавляем ось X\n",
    "plt.axhline(y=0, color='black', linestyle='--')\n",
    "plt.title('Oтношение средних чеков')\n",
    "plt.grid(True)\n",
    "plt.show()"
   ]
  },
  {
   "cell_type": "markdown",
   "metadata": {},
   "source": [
    "Отношение средних чеков подтверждает выводы, сделанные ранее: резкие скачки говорят о аномально больших заказах в обеих группах."
   ]
  },
  {
   "cell_type": "code",
   "execution_count": 34,
   "metadata": {
    "scrolled": false
   },
   "outputs": [
    {
     "data": {
      "image/png": "[encoded data removed]",
      "text/plain": [
       "<Figure size 864x504 with 1 Axes>"
      ]
     },
     "metadata": {
      "needs_background": "light"
     },
     "output_type": "display_data"
    }
   ],
   "source": [
    "# считаем кумулятивную конверсию\n",
    "cumulativeData['conversion'] = cumulativeData['orders'] / cumulativeData['visitors']\n",
    "\n",
    "# отделяем данные по группе A\n",
    "cumulativeDataA = cumulativeData[cumulativeData['group']=='A']\n",
    "\n",
    "# отделяем данные по группе B\n",
    "cumulativeDataB = cumulativeData[cumulativeData['group']=='B']\n",
    "plt.figure(figsize=(12, 7))\n",
    "# строим графики\n",
    "plt.plot(cumulativeDataA['date'], cumulativeDataA['conversion'], label='Группа A')\n",
    "plt.plot(cumulativeDataB['date'], cumulativeDataB['conversion'], label='Группа B')\n",
    "plt.legend()\n",
    "\n",
    "# задаем масштаб осей\n",
    "plt.axis(['2019-08-01', '2019-08-31', 0.02, 0.04])\n",
    "plt.grid(True)\n",
    "plt.title('Куммулятивная конверсия по группам')\n",
    "plt.xlabel(\"Дата\")\n",
    "plt.ylabel(\"Куммулятивная конверсия\")\n",
    "plt.show()"
   ]
  },
  {
   "cell_type": "markdown",
   "metadata": {},
   "source": [
    "К концу теста значения установились. Куммулятивная конверсия в группе В стабильно больше."
   ]
  },
  {
   "cell_type": "code",
   "execution_count": 35,
   "metadata": {
    "scrolled": false
   },
   "outputs": [
    {
     "data": {
      "image/png": "[encoded data removed]",
      "text/plain": [
       "<Figure size 864x504 with 1 Axes>"
      ]
     },
     "metadata": {
      "needs_background": "light"
     },
     "output_type": "display_data"
    }
   ],
   "source": [
    "mergedCumulativeConversions = cumulativeDataA[['date','conversion']].merge(cumulativeDataB[['date','conversion']], \n",
    "                                                    left_on='date', right_on='date', how='left', suffixes=['A', 'B'])\n",
    "plt.figure(figsize=(12, 7))\n",
    "plt.plot(mergedCumulativeConversions['date'], mergedCumulativeConversions['conversionB']/\n",
    "    mergedCumulativeConversions['conversionA']-1)\n",
    "plt.title(\"Относительный прирост конверсии группы B относительно группы A\")\n",
    "plt.xlabel(\"Дата\")\n",
    "plt.ylabel(\"Конверсия\")\n",
    "line = (mergedCumulativeConversions.query('date > \"2019-08-08\"')['conversionB']/\n",
    "    mergedCumulativeConversions.query('date > \"2019-08-08\"')['conversionA']-1).mean()\n",
    "plt.axhline(y = line, color='red', linestyle='--')\n",
    "plt.axis(['2019-08-01', '2019-08-31', -0.3, 0.3])\n",
    "plt.grid(True)\n",
    "plt.xticks(rotation=60)\n",
    "plt.show()"
   ]
  },
  {
   "cell_type": "markdown",
   "metadata": {},
   "source": [
    "В начале теста в приросте конверсии наблюдаются скачки, но к концу стабилизировался и в целом динамика положительная. Посмотрим как распределяется стоимость заказов. Построим точечную диаграмму стоимости заказов."
   ]
  },
  {
   "cell_type": "code",
   "execution_count": 36,
   "metadata": {},
   "outputs": [
    {
     "data": {
      "image/png": "[encoded data removed]",
      "text/plain": [
       "<Figure size 864x504 with 1 Axes>"
      ]
     },
     "metadata": {
      "needs_background": "light"
     },
     "output_type": "display_data"
    }
   ],
   "source": [
    "# Построим точечную диаграмму стоимости заказов\n",
    "plt.figure(figsize=(12, 7))\n",
    "orders_gra = orders.query('group == \"A\"')\n",
    "orders_grb = orders.query('group == \"B\"')\n",
    "# Посчитаем количество заказов\n",
    "x_values_rev_a = pd.Series(range(0,len(orders_gra['revenue'])))\n",
    "x_values_rev_b = pd.Series(range(0,len(orders_grb['revenue'])))\n",
    "plt.scatter(x_values_rev_a, orders_gra['revenue'], label=\"Группа A\", alpha=0.5) \n",
    "plt.scatter(x_values_rev_b, orders_grb['revenue'], label=\"Группа B\", alpha=0.2) \n",
    "plt.title('График стоимостей заказов')\n",
    "# Добавим линию, отсекающую 5% аномальных заказов\n",
    "line = (np.percentile(orders['revenue'], 99))\n",
    "plt.axhline(y = line, color='red', linestyle='--')\n",
    "plt.xlabel(\"Заказы\")\n",
    "plt.ylabel(\"Стоимость заказов\")\n",
    "plt.legend()\n",
    "plt.show()"
   ]
  },
  {
   "cell_type": "code",
   "execution_count": 37,
   "metadata": {},
   "outputs": [
    {
     "data": {
      "text/plain": [
       "array([17990., 26785., 53904.])"
      ]
     },
     "execution_count": 37,
     "metadata": {},
     "output_type": "execute_result"
    }
   ],
   "source": [
    "np.percentile(orders['revenue'], [90, 95, 99])"
   ]
  },
  {
   "cell_type": "markdown",
   "metadata": {},
   "source": [
    "Есть аномально дорогие заказы. Всего 5% заказов больше 26785. В группе В выбиваются два аномальных заказа. В целом аномально дорогими можно считать 1%."
   ]
  },
  {
   "cell_type": "code",
   "execution_count": 38,
   "metadata": {},
   "outputs": [
    {
     "data": {
      "text/html": [
       "<div>\n",
       "<style scoped>\n",
       "    .dataframe tbody tr th:only-of-type {\n",
       "        vertical-align: middle;\n",
       "    }\n",
       "\n",
       "    .dataframe tbody tr th {\n",
       "        vertical-align: top;\n",
       "    }\n",
       "\n",
       "    .dataframe thead th {\n",
       "        text-align: right;\n",
       "    }\n",
       "</style>\n",
       "<table border=\"1\" class=\"dataframe\">\n",
       "  <thead>\n",
       "    <tr style=\"text-align: right;\">\n",
       "      <th></th>\n",
       "      <th>group</th>\n",
       "      <th>user_id</th>\n",
       "      <th>orders</th>\n",
       "    </tr>\n",
       "  </thead>\n",
       "  <tbody>\n",
       "    <tr>\n",
       "      <th>445</th>\n",
       "      <td>B</td>\n",
       "      <td>5114589</td>\n",
       "      <td>1</td>\n",
       "    </tr>\n",
       "    <tr>\n",
       "      <th>446</th>\n",
       "      <td>B</td>\n",
       "      <td>6958315</td>\n",
       "      <td>1</td>\n",
       "    </tr>\n",
       "    <tr>\n",
       "      <th>447</th>\n",
       "      <td>B</td>\n",
       "      <td>39475350</td>\n",
       "      <td>1</td>\n",
       "    </tr>\n",
       "    <tr>\n",
       "      <th>448</th>\n",
       "      <td>B</td>\n",
       "      <td>47206413</td>\n",
       "      <td>1</td>\n",
       "    </tr>\n",
       "    <tr>\n",
       "      <th>449</th>\n",
       "      <td>B</td>\n",
       "      <td>48147722</td>\n",
       "      <td>1</td>\n",
       "    </tr>\n",
       "  </tbody>\n",
       "</table>\n",
       "</div>"
      ],
      "text/plain": [
       "    group   user_id  orders\n",
       "445     B   5114589       1\n",
       "446     B   6958315       1\n",
       "447     B  39475350       1\n",
       "448     B  47206413       1\n",
       "449     B  48147722       1"
      ]
     },
     "execution_count": 38,
     "metadata": {},
     "output_type": "execute_result"
    }
   ],
   "source": [
    "# Посчитаем количество заказов по каждому покупателю по группам\n",
    "ordersByUsers = (orders.drop(['revenue', 'date'], axis=1).groupby(['group', 'visitor_id'], as_index=False)\n",
    "    .agg({'transaction_id': pd.Series.nunique}))\n",
    "\n",
    "ordersByUsers.columns = ['group', 'user_id', 'orders']\n",
    "ordersByUsers_a = ordersByUsers.query('group == \"A\"')\n",
    "ordersByUsers_b = ordersByUsers.query('group == \"B\"')\n",
    "ordersByUsers_b.head()"
   ]
  },
  {
   "cell_type": "code",
   "execution_count": 39,
   "metadata": {},
   "outputs": [
    {
     "data": {
      "image/png": "[encoded data removed]",
      "text/plain": [
       "<Figure size 864x360 with 1 Axes>"
      ]
     },
     "metadata": {
      "needs_background": "light"
     },
     "output_type": "display_data"
    }
   ],
   "source": [
    "# Построим точечный график количества заказов на одного покупателя\n",
    "plt.figure(figsize=(12, 5))\n",
    "x_values_a = pd.Series(range(0,len(ordersByUsers_a)))\n",
    "x_values_b = pd.Series(range(0,len(ordersByUsers_b)))\n",
    "plt.title('График количества заказов на одного покупателя')\n",
    "plt.xlabel(\"Покупатели\")\n",
    "plt.ylabel(\"Количество заказов\")\n",
    "plt.scatter(x_values_a, ordersByUsers_a['orders'], label=\"Группа A\", alpha=0.5)\n",
    "plt.scatter(x_values_b, ordersByUsers_b['orders'], label=\"Группа B\", alpha=0.2)\n",
    "plt.legend()\n",
    "plt.show()"
   ]
  },
  {
   "cell_type": "code",
   "execution_count": 40,
   "metadata": {},
   "outputs": [
    {
     "data": {
      "text/plain": [
       "array([1., 1., 2.])"
      ]
     },
     "execution_count": 40,
     "metadata": {},
     "output_type": "execute_result"
    }
   ],
   "source": [
    "np.percentile(ordersByUsers['orders'], [90, 95, 99])"
   ]
  },
  {
   "cell_type": "markdown",
   "metadata": {},
   "source": [
    "Больше двух раз заказывали только 1% покупателей. Почти все аномальные заказы отсеклись после удаления пользователей, попавших в обе группы, поэтому за границу аномальных заказов принимаем 1%."
   ]
  },
  {
   "cell_type": "markdown",
   "metadata": {},
   "source": [
    "Посчитаем статистическую значимость различия в конверсии между группами. Чтобы получить конверсию в группе, поделим сумму заказов на число пользователей. Подготовим выборки к проверке критерием Манна-Уитни. За нулевую принимаем гипотезу о том, что статистически значимых различий в конверсии между группами нет. За альтернативную гипотезу примем наличие статистически значимых различий. Определить характер этих различий нам поможет прирост конверсии группы В относительно группы А: если прирост положительный - конверсия больше в группе В, если отрицательный - то в группе А. Примем критический уровень статистической значимости alpha = 0.05."
   ]
  },
  {
   "cell_type": "code",
   "execution_count": 41,
   "metadata": {},
   "outputs": [
    {
     "name": "stdout",
     "output_type": "stream",
     "text": [
      "p-значение:  0.011\n",
      "Отвергаем нулевую гипотезу: разница статистически значима.\n",
      "Относительный прирост конверсии в группе В относительно группы А: 15.98%\n"
     ]
    }
   ],
   "source": [
    "# количество пользователей в выбранную дату в группе А\n",
    "visitorsADaily = visitors[visitors['group'] == 'A'][['date', 'visitors']]\n",
    "visitorsADaily.columns = ['date', 'visitorsPerDateA']\n",
    "# количество пользователей до выбранной даты включительно в группе A\n",
    "visitorsACummulative = visitorsADaily.apply(lambda x: visitorsADaily[visitorsADaily['date'] <= x['date']].agg(\n",
    "        {'date': 'max', 'visitorsPerDateA': 'sum'}), axis=1)\n",
    "\n",
    "visitorsACummulative.columns = ['date', 'visitorsCummulativeA']\n",
    "\n",
    "# количество пользователей в выбранную дату в группе B\n",
    "visitorsBDaily = visitors[visitors['group'] == 'B'][['date', 'visitors']]\n",
    "visitorsBDaily.columns = ['date', 'visitorsPerDateB']\n",
    "\n",
    "# количество пользователей до выбранной даты включительно в группе B\n",
    "visitorsBCummulative = visitorsBDaily.apply(lambda x: visitorsBDaily[visitorsBDaily['date'] <= x['date']].agg(\n",
    "        {'date': 'max', 'visitorsPerDateB': 'sum'}), axis=1)\n",
    "\n",
    "visitorsBCummulative.columns = ['date', 'visitorsCummulativeB']\n",
    "\n",
    "# количество заказов и суммарная выручка в выбранную дату в группе A\n",
    "ordersADaily = (orders[orders['group'] == 'A'][['date', 'transaction_id', 'visitor_id', 'revenue']]\n",
    "    .groupby('date', as_index=False).agg({'transaction_id': pd.Series.nunique, 'revenue': 'sum'}))\n",
    "ordersADaily.columns = ['date', 'ordersPerDateA', 'revenuePerDateA']\n",
    "\n",
    "# суммарное число заказов и суммарная выручка до выбранной даты включительно в группе A\n",
    "ordersACummulative = ordersADaily.apply(lambda x: ordersADaily[ordersADaily['date'] <= x['date']].agg(\n",
    "        {'date': 'max', 'ordersPerDateA': 'sum', 'revenuePerDateA': 'sum'}), axis=1).sort_values(by=['date'])\n",
    "ordersACummulative.columns = ['date', 'ordersCummulativeA', 'revenueCummulativeA']\n",
    "\n",
    "# количество заказов и суммарная выручка в выбранную дату в группе B\n",
    "ordersBDaily = (orders[orders['group'] == 'B'][['date', 'transaction_id', 'visitor_id', 'revenue']]\n",
    "    .groupby('date', as_index=False).agg({'transaction_id': pd.Series.nunique, 'revenue': 'sum'}))\n",
    "ordersBDaily.columns = ['date', 'ordersPerDateB', 'revenuePerDateB']\n",
    "\n",
    "# суммарное количество заказов и суммарная выручка до выбранной даты включительно в группе B\n",
    "ordersBCummulative = ordersBDaily.apply(\n",
    "    lambda x: ordersBDaily[ordersBDaily['date'] <= x['date']].agg(\n",
    "        {'date': 'max', 'ordersPerDateB': 'sum', 'revenuePerDateB': 'sum'}), axis=1).sort_values(by=['date'])\n",
    "\n",
    "ordersBCummulative.columns = ['date', 'ordersCummulativeB', 'revenueCummulativeB',]\n",
    "\n",
    "# Объединяем полученные результаты в одну таблицу\n",
    "data = (ordersADaily.merge(ordersBDaily, left_on='date', right_on='date', how='left')\n",
    "    .merge(ordersACummulative, left_on='date', right_on='date', how='left')\n",
    "    .merge(ordersBCummulative, left_on='date', right_on='date', how='left')\n",
    "    .merge(visitorsADaily, left_on='date', right_on='date', how='left')\n",
    "    .merge(visitorsBDaily, left_on='date', right_on='date', how='left')\n",
    "    .merge(visitorsACummulative, left_on='date', right_on='date', how='left')\n",
    "    .merge(visitorsBCummulative, left_on='date', right_on='date', how='left'))\n",
    "\n",
    "\n",
    "# Выведем относительный прирост конверсии по группам\n",
    "ordersByUsersA = (\n",
    "    orders[orders['group'] == 'A']\n",
    "    .groupby('visitor_id', as_index=False)\n",
    "    .agg({'transaction_id': pd.Series.nunique}))\n",
    "\n",
    "ordersByUsersA.columns = ['visitor_id', 'orders']\n",
    "\n",
    "ordersByUsersB = (\n",
    "    orders[orders['group'] == 'B']\n",
    "    .groupby('visitor_id', as_index=False)\n",
    "    .agg({'transaction_id': pd.Series.nunique}))\n",
    "ordersByUsersB.columns = ['visitor_id', 'orders']\n",
    "\n",
    "sampleA = pd.concat([ordersByUsersA['orders'],pd.Series(0, index=np.arange(\n",
    "                data['visitorsPerDateA'].sum() - len(ordersByUsersA['orders'])), name='orders')], axis=0)\n",
    "\n",
    "sampleB = pd.concat([ordersByUsersB['orders'],pd.Series(0, index=np.arange(data['visitorsPerDateB'].sum() - \n",
    "                    len(ordersByUsersB['orders'])), name='orders')], axis=0)\n",
    "result = (stats.mannwhitneyu(sampleA, sampleB, alternative=\"two-sided\")[1]).round(4)\n",
    "alpha = 0.05\n",
    "print('p-значение: ', result)\n",
    "\n",
    "if result < alpha:\n",
    "    print('Отвергаем нулевую гипотезу: разница статистически значима.')\n",
    "else:\n",
    "    print('Не получилось отвергнуть нулевую гипотезу, вывод о различии сделать нельзя') \n",
    "\n",
    "print('Относительный прирост конверсии в группе В относительно группы А:', \"{0:.2%}\".format(sampleB.mean() / \n",
    "                                                                                            sampleA.mean() - 1))\n"
   ]
  },
  {
   "cell_type": "markdown",
   "metadata": {},
   "source": [
    "Мы посчитали статистическую значимость различия в конверсии между группами по \"сырым\" данным. Первое число — p-value = 0.011 меньше 0.05. Значит, нулевую гипотезу о том, что статистически значимых различий в конверсии между группами нет, отвергаем. На 15.98% группа В обогнала группу А. Посчитаем статистическую значимость различий в среднем чеке между группами. За нулевую гипотезу также примем гипотезу о том, что статистически значимых различий в среднем чеке между группами нет. За альтернативную соответственно - наличие статистически значимой разницы. Оставляем alpha = 0.05."
   ]
  },
  {
   "cell_type": "code",
   "execution_count": 42,
   "metadata": {},
   "outputs": [
    {
     "name": "stdout",
     "output_type": "stream",
     "text": [
      "p-значение:  0.829\n",
      "Не получилось отвергнуть нулевую гипотезу, вывод о различии сделать нельзя.\n",
      "Различие в среднем чеке между группами: 28.66%\n"
     ]
    }
   ],
   "source": [
    "result_mr = (stats.mannwhitneyu(orders[orders['group']=='A']['revenue'], orders[orders['group']=='B']\n",
    "                                          ['revenue'], alternative = \"two-sided\")[1]).round(3)\n",
    "print('p-значение: ', result_mr)\n",
    "\n",
    "if result_mr < alpha:\n",
    "    print('Отвергаем нулевую гипотезу: разница статистически значима.')\n",
    "else:\n",
    "    print('Не получилось отвергнуть нулевую гипотезу, вывод о различии сделать нельзя.') \n",
    "\n",
    "\n",
    "print('Различие в среднем чеке между группами:', '{0:.2%}'.format(orders[orders['group']=='B']['revenue'].mean()/\n",
    "                                                                  orders[orders['group']=='A']['revenue'].mean()-1))"
   ]
  },
  {
   "cell_type": "markdown",
   "metadata": {},
   "source": [
    "Мы рассчитали статистическую значимость различий в среднем чеке между сегментами. P-value значительно больше 0.05. Значит, причин отвергать нулевую гипотезу и считать, что в среднем чеке есть различия, нет. Впрочем, средний чек группы B  выше среднего чека группы A на 28.66%. \n",
    "\n",
    "Посмотрим как обстоят дела, если данные очистить от аномальных значений. Поскольку большая часть аномальных заказов отскеклась при удалении пользователей, попавших в обе группы, за границу аномальной зоны будем считать 1%, то есть те пользователи, кто заказывал более 2 раз и заказы дороже 56904."
   ]
  },
  {
   "cell_type": "code",
   "execution_count": 43,
   "metadata": {},
   "outputs": [
    {
     "name": "stdout",
     "output_type": "stream",
     "text": [
      "1099    148427295\n",
      "33      249864742\n",
      "58      611059232\n",
      "949     887908475\n",
      "744     888512513\n",
      "Name: visitor_id, dtype: int64\n",
      "(16,)\n"
     ]
    }
   ],
   "source": [
    "orders_lim = np.percentile(ordersByUsers['orders'], 99)\n",
    "usersWithManyOrders = pd.concat(\n",
    "    [ordersByUsersA[ordersByUsersA['orders'] > orders_lim]['visitor_id'],\n",
    "        ordersByUsersB[ordersByUsersB['orders'] > orders_lim]['visitor_id']], axis=0)\n",
    "revenue_lim = np.percentile(orders['revenue'], 99)\n",
    "usersWithExpensiveOrders = orders[orders['revenue'] > revenue_lim]['visitor_id']\n",
    "abnormalUsers = (\n",
    "    pd.concat([usersWithManyOrders, usersWithExpensiveOrders], axis=0)\n",
    "    .drop_duplicates()\n",
    "    .sort_values())\n",
    "\n",
    "print(abnormalUsers.head(5))\n",
    "print(abnormalUsers.shape)"
   ]
  },
  {
   "cell_type": "markdown",
   "metadata": {},
   "source": [
    "\n",
    "В аномальную зону попали 16 пользователей. Посчитаем статистическую значимость различия в конверсии между группами по \"очищенным\" данным. За нулевую гипотезу аналогично принимаем гипотезу о том, что статистически значимых различий в конверсии между группами нет. За альтернативную гипотезу примем наличие статистически значимых различий. Критический уровень статистической значимости оставляем прежним alpha = 0.05."
   ]
  },
  {
   "cell_type": "code",
   "execution_count": 44,
   "metadata": {},
   "outputs": [
    {
     "name": "stdout",
     "output_type": "stream",
     "text": [
      "p-значение:  0.007\n",
      "Отвергаем нулевую гипотезу: разница статистически значима.\n",
      "Относительный прирост конверсии в группе В относительно группы А: 18.92%\n"
     ]
    }
   ],
   "source": [
    "sampleAFiltered = pd.concat(\n",
    "    [ordersByUsersA[np.logical_not(ordersByUsersA['visitor_id'].isin(abnormalUsers))]['orders'],\n",
    "        pd.Series(0, index=np.arange(data['visitorsPerDateA'].sum() - len(ordersByUsersA['orders'])),\n",
    "            name='orders')], axis=0)\n",
    "\n",
    "sampleBFiltered = pd.concat(\n",
    "    [ordersByUsersB[np.logical_not(ordersByUsersB['visitor_id'].isin(abnormalUsers))]['orders'],\n",
    "        pd.Series(0, index=np.arange(data['visitorsPerDateB'].sum() - len(ordersByUsersB['orders'])),\n",
    "            name='orders')], axis=0)\n",
    "\n",
    "result_filt_conv = (stats.mannwhitneyu(sampleAFiltered, sampleBFiltered, alternative=\"two-sided\")[1]).round(3)\n",
    "print('p-значение: ', result_filt_conv)\n",
    "\n",
    "if result_filt_conv < alpha:\n",
    "    print('Отвергаем нулевую гипотезу: разница статистически значима.')\n",
    "else:\n",
    "    print('Не получилось отвергнуть нулевую гипотезу, вывод о различии сделать нельзя') \n",
    "\n",
    "\n",
    "print('Относительный прирост конверсии в группе В относительно группы А:','{0:.2%}'.format(sampleBFiltered.mean() / \n",
    "                                                                                           sampleAFiltered.mean()-1))"
   ]
  },
  {
   "cell_type": "markdown",
   "metadata": {},
   "source": [
    "Результаты по конверсии изменились не сильно. Нулевую гипотезу отвергаем. Посмотрим, что со средним чеком. Аналогично расчёту по \"сырым\" данным, проверим гипотезу о наличии статистических различий средних чеков в группах. За нулевую гипотезу принимаем также отсутствие различий, за альтернативную - наличие."
   ]
  },
  {
   "cell_type": "code",
   "execution_count": 45,
   "metadata": {},
   "outputs": [
    {
     "name": "stdout",
     "output_type": "stream",
     "text": [
      "p-значение:  0.394\n",
      "Не получилось отвергнуть нулевую гипотезу, вывод о различии сделать нельзя.\n",
      "Различие в среднем чеке между группами: -3.23%\n"
     ]
    }
   ],
   "source": [
    "result_filt_rev = stats.mannwhitneyu(orders[np.logical_and(orders['group'] == 'A', np.logical_not(\n",
    "    orders['visitor_id'].isin(abnormalUsers)))]['revenue'], orders[np.logical_and(orders['group'] == 'B', \n",
    "                                np.logical_not(orders['visitor_id'].isin(abnormalUsers)))]['revenue'])[1]\n",
    "\n",
    "difference_rev = orders[np.logical_and(orders['group'] == 'B', np.logical_not(\n",
    "    orders['visitor_id'].isin(abnormalUsers)))]['revenue'].mean() / orders[np.logical_and(orders['group'] == 'A',\n",
    "                                    np.logical_not(orders['visitor_id'].isin(abnormalUsers)))]['revenue'].mean() - 1\n",
    "\n",
    "print('p-значение: ', result_filt_rev.round(3))\n",
    "\n",
    "if result_mr < alpha:\n",
    "    print('Отвергаем нулевую гипотезу: разница статистически значима.')\n",
    "else:\n",
    "    print('Не получилось отвергнуть нулевую гипотезу, вывод о различии сделать нельзя.') \n",
    "\n",
    "\n",
    "print('Различие в среднем чеке между группами:', '{0:.2%}'.format(difference_rev))"
   ]
  },
  {
   "cell_type": "markdown",
   "metadata": {},
   "source": [
    "Нулевую гипотезу также не можем отвергнуть. По среднему чеку P-значение стало меньше, чем по \"сырым\" данным, а разница между сегментами уменьшилась с 28.66% до 3.23% и группа А лидирует. Два аномально дорогих заказа в группе В ощутимо влияют на средний чек. Построим график относительного прироста конверсии группы В относительно группы А по \"очищенным\" данным."
   ]
  },
  {
   "cell_type": "code",
   "execution_count": 46,
   "metadata": {},
   "outputs": [
    {
     "data": {
      "image/png": "[encoded data removed]",
      "text/plain": [
       "<Figure size 864x504 with 1 Axes>"
      ]
     },
     "metadata": {
      "needs_background": "light"
     },
     "output_type": "display_data"
    }
   ],
   "source": [
    "# \"Очистим\" данные от аномальных значений\n",
    "ordersByUsersFilter = ordersByUsers.query('orders <= @orders_lim')\n",
    "ordersFilter = orders.query('revenue <= @revenue_lim')\n",
    "\n",
    "# создаем массив уникальных пар значений дат и групп теста\n",
    "datesGroupsFilter = ordersFilter[['date','group']].drop_duplicates()\n",
    "# Получим строки таблицы ordersFilter, дата которых меньше или равна дате элемента из datesGroups, а группа теста равна \n",
    "# группе из datesGroups\n",
    "ordersAggregatedFilter = datesGroupsFilter.apply(lambda x: ordersFilter[np.logical_and(ordersFilter['date'] <= x['date'],\n",
    "        ordersFilter['group'] == x['group'])].agg({'date' : 'max', 'group' : 'max', 'transaction_id' : pd.Series.nunique,\n",
    "        'visitor_id' : pd.Series.nunique, 'revenue' : 'sum'}), axis=1).sort_values(by=['date','group'])\n",
    "\n",
    "# Аналогично получим агрегированные кумулятивные по дням данные о посетителях интернет-магазина\n",
    "visitorsAggregatedFilter = datesGroupsFilter.apply(lambda x: visitors[np.logical_and(visitors['date'] <= x['date'], \n",
    "    visitors['group'] == x['group'])].agg({'date' : 'max', 'group' : 'max', 'visitors' : 'sum'}), \n",
    "                                       axis=1).sort_values(by=['date','group'])\n",
    "\n",
    "# объединяем кумулятивные данные в одной таблице и присваиваем ее столбцам понятные названия\n",
    "cumulativeDataFilter = ordersAggregatedFilter.merge(visitorsAggregatedFilter, left_on=['date', 'group'], \n",
    "                                                    right_on=['date', 'group'])\n",
    "cumulativeDataFilter.columns = ['date', 'group', 'orders', 'buyers', 'revenue', 'visitors']\n",
    "\n",
    "cumulativeDataFilter.head(5)\n",
    "# считаем кумулятивную конверсию\n",
    "cumulativeDataFilter['conversion'] = cumulativeDataFilter['orders'] / cumulativeDataFilter['visitors']\n",
    "\n",
    "# отделяем данные по группе A\n",
    "cumulativeDataAFilter = cumulativeDataFilter[cumulativeDataFilter['group']=='A']\n",
    "\n",
    "# отделяем данные по группе B\n",
    "cumulativeDataBFilter = cumulativeDataFilter[cumulativeDataFilter['group']=='B']\n",
    "# Объединяем данные в одну таблицу\n",
    "mergedCumulativeConversionsFilter = cumulativeDataAFilter[['date','conversion']].merge(cumulativeDataBFilter[\n",
    "    ['date','conversion']], left_on='date', right_on='date', how='left', suffixes=['A', 'B'])\n",
    "\n",
    "plt.figure(figsize=(12, 7))\n",
    "plt.plot(mergedCumulativeConversionsFilter['date'], mergedCumulativeConversionsFilter['conversionB']/\n",
    "    mergedCumulativeConversionsFilter['conversionA']-1)\n",
    "plt.title(\"Относительный прирост конверсии группы B относительно группы A\")\n",
    "plt.xlabel(\"Дата\")\n",
    "plt.ylabel(\"Конверсия\")\n",
    "line = (mergedCumulativeConversions.query('date > \"2019-08-08\"')['conversionB']/\n",
    "    mergedCumulativeConversions.query('date > \"2019-08-08\"')['conversionA']-1).mean()\n",
    "plt.axhline(y = line, color='red', linestyle='--')\n",
    "plt.axis(['2019-08-01', '2019-08-31', -0.3, 0.3])\n",
    "plt.grid(True)\n",
    "plt.xticks(rotation=60)\n",
    "plt.show()"
   ]
  },
  {
   "cell_type": "markdown",
   "metadata": {},
   "source": [
    "По \"очищенным\" данным изменения в относительном приросте конверсии незначительны. За счет удаления аномальных заказов график стал более плавным. В целом значение установилось, динамика положительная."
   ]
  },
  {
   "cell_type": "markdown",
   "metadata": {},
   "source": [
    "\n",
    "\n",
    "## Выводы и предположения\n",
    "<a id=\"conclusions\"></a>\n",
    "Куммулятивная выручка группы В стабильно выше выручки группы А. Судя по резкому скачку, скорее всего 19 августа в группе В был аномально крупный заказ. И 12-13 августа в группе А наблюдается скачок.\n",
    "По графикам среднего чека также виден аномальный скачок 19 августа в группе В и 13 августа в группе А. К концу теста значения установились. Группа В лидирует.\n",
    "Куммулятивная конверсия в группе В стабильно больше.\n",
    "Относительный прирост конверсии группы В относительно группы А к концу теста стабилизировался и в целом динамика положительная.\n",
    "По \"сырым\" данным в конверсии есть статистически значимые отличия. На 15.98% группа В обогнала группу А.\n",
    "В среднем чеке статистически значимых различий нет. Но средний чек группы B на 28.66% выше среднего чека группы A. \n",
    "За границу аномальной зоны принимаем 1%, то есть тех, кто заказывал более двух заказов и заказы дороже 56904.\n",
    "Значение конверсии по \"очищенным\" данным изменилось мало: статистически значимые отличия в конверсии есть. Группа В обгоняет группу А на 18.92%.\n",
    "По среднему чеку P-value уменьшилось с 0.829 до 0.394, разница между сегментами уменьшилась  до 3.23% и группа А лидирует.\n",
    "На основе имеющихся данным мы можем сделать вывод, что тест прошёл успешно и принять решение: остановить тест, зафиксировать победу группы В."
   ]
  },
  {
   "cell_type": "code",
   "execution_count": null,
   "metadata": {},
   "outputs": [],
   "source": []
  }
 ],
 "metadata": {
  "ExecuteTimeLog": [
   {
    "duration": 826,
    "start_time": "2021-06-09T06:19:05.583Z"
   },
   {
    "duration": 62,
    "start_time": "2021-06-09T06:19:06.412Z"
   },
   {
    "duration": 9,
    "start_time": "2021-06-09T06:19:07.483Z"
   },
   {
    "duration": 23,
    "start_time": "2021-06-09T06:20:05.840Z"
   },
   {
    "duration": 9,
    "start_time": "2021-06-09T06:22:09.054Z"
   },
   {
    "duration": 13,
    "start_time": "2021-06-09T06:22:22.353Z"
   },
   {
    "duration": 7,
    "start_time": "2021-06-09T06:23:20.894Z"
   },
   {
    "duration": 11,
    "start_time": "2021-06-09T06:23:53.026Z"
   },
   {
    "duration": 8,
    "start_time": "2021-06-09T06:27:37.854Z"
   },
   {
    "duration": 10,
    "start_time": "2021-06-09T06:28:09.115Z"
   },
   {
    "duration": 12,
    "start_time": "2021-06-09T06:29:48.595Z"
   },
   {
    "duration": 12,
    "start_time": "2021-06-09T06:30:00.695Z"
   },
   {
    "duration": 6,
    "start_time": "2021-06-09T06:30:20.095Z"
   },
   {
    "duration": 10,
    "start_time": "2021-06-09T06:30:45.403Z"
   },
   {
    "duration": 9,
    "start_time": "2021-06-09T06:33:50.016Z"
   },
   {
    "duration": 8,
    "start_time": "2021-06-09T06:33:50.848Z"
   },
   {
    "duration": 1709,
    "start_time": "2021-06-09T06:51:10.684Z"
   },
   {
    "duration": 119,
    "start_time": "2021-06-09T06:51:39.475Z"
   },
   {
    "duration": 1622,
    "start_time": "2021-06-09T06:51:44.746Z"
   },
   {
    "duration": 2437,
    "start_time": "2021-06-09T06:52:12.528Z"
   },
   {
    "duration": 1617,
    "start_time": "2021-06-09T06:53:03.975Z"
   },
   {
    "duration": 1715,
    "start_time": "2021-06-09T06:53:29.643Z"
   },
   {
    "duration": 1700,
    "start_time": "2021-06-09T06:53:43.353Z"
   },
   {
    "duration": 878,
    "start_time": "2021-06-09T06:55:28.470Z"
   },
   {
    "duration": 58,
    "start_time": "2021-06-09T06:55:29.350Z"
   },
   {
    "duration": 9,
    "start_time": "2021-06-09T06:55:29.411Z"
   },
   {
    "duration": 21,
    "start_time": "2021-06-09T06:55:29.423Z"
   },
   {
    "duration": 15,
    "start_time": "2021-06-09T06:55:29.446Z"
   },
   {
    "duration": 13,
    "start_time": "2021-06-09T06:55:29.464Z"
   },
   {
    "duration": 31,
    "start_time": "2021-06-09T06:55:29.479Z"
   },
   {
    "duration": 7,
    "start_time": "2021-06-09T06:55:29.514Z"
   },
   {
    "duration": 11,
    "start_time": "2021-06-09T06:55:29.524Z"
   },
   {
    "duration": 10,
    "start_time": "2021-06-09T06:55:29.537Z"
   },
   {
    "duration": 11,
    "start_time": "2021-06-09T06:55:29.550Z"
   },
   {
    "duration": 52,
    "start_time": "2021-06-09T06:55:29.563Z"
   },
   {
    "duration": 8,
    "start_time": "2021-06-09T06:55:29.617Z"
   },
   {
    "duration": 17,
    "start_time": "2021-06-09T06:55:29.627Z"
   },
   {
    "duration": 8,
    "start_time": "2021-06-09T06:55:29.647Z"
   },
   {
    "duration": 11,
    "start_time": "2021-06-09T06:55:29.658Z"
   },
   {
    "duration": 61,
    "start_time": "2021-06-09T06:55:29.671Z"
   },
   {
    "duration": 1849,
    "start_time": "2021-06-09T06:55:51.700Z"
   },
   {
    "duration": 869,
    "start_time": "2021-06-09T06:56:03.344Z"
   },
   {
    "duration": 61,
    "start_time": "2021-06-09T06:56:04.216Z"
   },
   {
    "duration": 11,
    "start_time": "2021-06-09T06:56:04.280Z"
   },
   {
    "duration": 19,
    "start_time": "2021-06-09T06:56:04.294Z"
   },
   {
    "duration": 11,
    "start_time": "2021-06-09T06:56:04.316Z"
   },
   {
    "duration": 17,
    "start_time": "2021-06-09T06:56:04.330Z"
   },
   {
    "duration": 9,
    "start_time": "2021-06-09T06:56:04.350Z"
   },
   {
    "duration": 49,
    "start_time": "2021-06-09T06:56:04.362Z"
   },
   {
    "duration": 10,
    "start_time": "2021-06-09T06:56:04.416Z"
   },
   {
    "duration": 10,
    "start_time": "2021-06-09T06:56:04.428Z"
   },
   {
    "duration": 10,
    "start_time": "2021-06-09T06:56:04.440Z"
   },
   {
    "duration": 15,
    "start_time": "2021-06-09T06:56:04.452Z"
   },
   {
    "duration": 42,
    "start_time": "2021-06-09T06:56:04.469Z"
   },
   {
    "duration": 26,
    "start_time": "2021-06-09T06:56:04.513Z"
   },
   {
    "duration": 16,
    "start_time": "2021-06-09T06:56:04.542Z"
   },
   {
    "duration": 24,
    "start_time": "2021-06-09T06:56:04.561Z"
   },
   {
    "duration": 43,
    "start_time": "2021-06-09T06:56:04.588Z"
   },
   {
    "duration": 450,
    "start_time": "2021-06-09T06:56:25.243Z"
   },
   {
    "duration": 12,
    "start_time": "2021-06-09T06:56:32.663Z"
   },
   {
    "duration": 10,
    "start_time": "2021-06-09T06:56:50.810Z"
   },
   {
    "duration": 8,
    "start_time": "2021-06-09T06:57:09.898Z"
   },
   {
    "duration": 8,
    "start_time": "2021-06-09T06:57:50.103Z"
   },
   {
    "duration": 9827,
    "start_time": "2021-06-09T07:00:11.665Z"
   },
   {
    "duration": 12,
    "start_time": "2021-06-09T07:00:35.938Z"
   },
   {
    "duration": 21,
    "start_time": "2021-06-09T07:01:43.546Z"
   },
   {
    "duration": 864,
    "start_time": "2021-06-09T07:15:09.128Z"
   },
   {
    "duration": 58,
    "start_time": "2021-06-09T07:15:09.994Z"
   },
   {
    "duration": 9,
    "start_time": "2021-06-09T07:15:10.055Z"
   },
   {
    "duration": 20,
    "start_time": "2021-06-09T07:15:10.066Z"
   },
   {
    "duration": 13,
    "start_time": "2021-06-09T07:15:10.089Z"
   },
   {
    "duration": 13,
    "start_time": "2021-06-09T07:15:10.104Z"
   },
   {
    "duration": 14,
    "start_time": "2021-06-09T07:15:10.120Z"
   },
   {
    "duration": 7,
    "start_time": "2021-06-09T07:15:10.140Z"
   },
   {
    "duration": 10,
    "start_time": "2021-06-09T07:15:10.150Z"
   },
   {
    "duration": 50,
    "start_time": "2021-06-09T07:15:10.163Z"
   },
   {
    "duration": 13,
    "start_time": "2021-06-09T07:15:10.216Z"
   },
   {
    "duration": 10,
    "start_time": "2021-06-09T07:15:10.232Z"
   },
   {
    "duration": 13,
    "start_time": "2021-06-09T07:15:10.244Z"
   },
   {
    "duration": 50,
    "start_time": "2021-06-09T07:15:10.260Z"
   },
   {
    "duration": 13,
    "start_time": "2021-06-09T07:15:10.313Z"
   },
   {
    "duration": 9,
    "start_time": "2021-06-09T07:15:10.329Z"
   },
   {
    "duration": 10,
    "start_time": "2021-06-09T07:15:10.341Z"
   },
   {
    "duration": 80,
    "start_time": "2021-06-09T07:15:10.353Z"
   },
   {
    "duration": 13,
    "start_time": "2021-06-09T07:15:10.436Z"
   },
   {
    "duration": 13,
    "start_time": "2021-06-09T07:15:10.452Z"
   },
   {
    "duration": 48,
    "start_time": "2021-06-09T07:15:10.467Z"
   },
   {
    "duration": 29,
    "start_time": "2021-06-09T07:15:10.517Z"
   },
   {
    "duration": 15,
    "start_time": "2021-06-09T07:15:10.551Z"
   },
   {
    "duration": 15,
    "start_time": "2021-06-09T07:21:21.078Z"
   },
   {
    "duration": 17,
    "start_time": "2021-06-09T07:21:40.411Z"
   },
   {
    "duration": 12,
    "start_time": "2021-06-09T08:17:27.299Z"
   },
   {
    "duration": 10,
    "start_time": "2021-06-09T08:18:40.972Z"
   },
   {
    "duration": 474,
    "start_time": "2021-06-09T08:19:43.745Z"
   },
   {
    "duration": 886,
    "start_time": "2021-06-09T08:21:48.833Z"
   },
   {
    "duration": 57,
    "start_time": "2021-06-09T08:21:49.722Z"
   },
   {
    "duration": 9,
    "start_time": "2021-06-09T08:21:49.782Z"
   },
   {
    "duration": 17,
    "start_time": "2021-06-09T08:21:49.794Z"
   },
   {
    "duration": 7,
    "start_time": "2021-06-09T08:21:49.813Z"
   },
   {
    "duration": 11,
    "start_time": "2021-06-09T08:21:49.822Z"
   },
   {
    "duration": 15,
    "start_time": "2021-06-09T08:21:49.835Z"
   },
   {
    "duration": 5,
    "start_time": "2021-06-09T08:21:49.854Z"
   },
   {
    "duration": 49,
    "start_time": "2021-06-09T08:21:49.862Z"
   },
   {
    "duration": 12,
    "start_time": "2021-06-09T08:21:49.913Z"
   },
   {
    "duration": 10,
    "start_time": "2021-06-09T08:21:49.928Z"
   },
   {
    "duration": 11,
    "start_time": "2021-06-09T08:21:49.940Z"
   },
   {
    "duration": 18,
    "start_time": "2021-06-09T08:21:49.953Z"
   },
   {
    "duration": 38,
    "start_time": "2021-06-09T08:21:49.973Z"
   },
   {
    "duration": 16,
    "start_time": "2021-06-09T08:21:50.013Z"
   },
   {
    "duration": 13,
    "start_time": "2021-06-09T08:21:50.031Z"
   },
   {
    "duration": 13,
    "start_time": "2021-06-09T08:21:50.046Z"
   },
   {
    "duration": 51,
    "start_time": "2021-06-09T08:21:50.061Z"
   },
   {
    "duration": 11,
    "start_time": "2021-06-09T08:21:50.114Z"
   },
   {
    "duration": 13,
    "start_time": "2021-06-09T08:21:50.127Z"
   },
   {
    "duration": 14,
    "start_time": "2021-06-09T08:21:50.142Z"
   },
   {
    "duration": 22,
    "start_time": "2021-06-09T08:21:50.158Z"
   },
   {
    "duration": 18,
    "start_time": "2021-06-09T08:21:50.210Z"
   },
   {
    "duration": 443,
    "start_time": "2021-06-09T08:21:50.230Z"
   },
   {
    "duration": -181,
    "start_time": "2021-06-09T08:21:50.856Z"
   },
   {
    "duration": -196,
    "start_time": "2021-06-09T08:21:50.873Z"
   },
   {
    "duration": -211,
    "start_time": "2021-06-09T08:21:50.889Z"
   },
   {
    "duration": 10383,
    "start_time": "2021-06-09T08:23:12.538Z"
   },
   {
    "duration": 1173,
    "start_time": "2021-06-09T08:24:18.390Z"
   },
   {
    "duration": 338,
    "start_time": "2021-06-09T08:24:26.353Z"
   },
   {
    "duration": 314,
    "start_time": "2021-06-09T08:24:57.580Z"
   },
   {
    "duration": 549,
    "start_time": "2021-06-09T08:26:48.162Z"
   },
   {
    "duration": 434,
    "start_time": "2021-06-09T08:26:58.306Z"
   },
   {
    "duration": 443,
    "start_time": "2021-06-09T08:28:17.714Z"
   },
   {
    "duration": 302,
    "start_time": "2021-06-09T08:28:58.237Z"
   },
   {
    "duration": 399,
    "start_time": "2021-06-09T08:47:44.771Z"
   },
   {
    "duration": 532,
    "start_time": "2021-06-09T08:48:54.884Z"
   },
   {
    "duration": 455,
    "start_time": "2021-06-09T09:10:47.881Z"
   },
   {
    "duration": 426,
    "start_time": "2021-06-09T09:10:58.193Z"
   },
   {
    "duration": 6,
    "start_time": "2021-06-09T09:12:16.049Z"
   },
   {
    "duration": 6,
    "start_time": "2021-06-09T09:12:36.762Z"
   },
   {
    "duration": 5,
    "start_time": "2021-06-09T09:13:00.285Z"
   },
   {
    "duration": 5,
    "start_time": "2021-06-09T09:13:13.853Z"
   },
   {
    "duration": 403,
    "start_time": "2021-06-09T09:14:16.115Z"
   },
   {
    "duration": 443,
    "start_time": "2021-06-09T09:14:58.667Z"
   },
   {
    "duration": 414,
    "start_time": "2021-06-09T09:15:19.032Z"
   },
   {
    "duration": 512,
    "start_time": "2021-06-09T09:15:36.853Z"
   },
   {
    "duration": 455,
    "start_time": "2021-06-09T09:16:07.908Z"
   },
   {
    "duration": 422,
    "start_time": "2021-06-09T09:16:29.831Z"
   },
   {
    "duration": 430,
    "start_time": "2021-06-09T09:17:07.319Z"
   },
   {
    "duration": 549,
    "start_time": "2021-06-09T09:18:21.075Z"
   },
   {
    "duration": 12,
    "start_time": "2021-06-09T09:21:22.605Z"
   },
   {
    "duration": 10,
    "start_time": "2021-06-09T09:21:23.229Z"
   },
   {
    "duration": 414,
    "start_time": "2021-06-09T09:21:35.065Z"
   },
   {
    "duration": 474,
    "start_time": "2021-06-09T09:22:21.326Z"
   },
   {
    "duration": 6,
    "start_time": "2021-06-09T09:23:24.308Z"
   },
   {
    "duration": 359,
    "start_time": "2021-06-09T09:25:08.878Z"
   },
   {
    "duration": 227,
    "start_time": "2021-06-09T09:25:22.483Z"
   },
   {
    "duration": 381,
    "start_time": "2021-06-09T09:25:58.547Z"
   },
   {
    "duration": 7,
    "start_time": "2021-06-09T09:26:30.948Z"
   },
   {
    "duration": 497,
    "start_time": "2021-06-09T09:29:32.124Z"
   },
   {
    "duration": 482,
    "start_time": "2021-06-09T09:30:15.359Z"
   },
   {
    "duration": 585,
    "start_time": "2021-06-09T09:38:45.781Z"
   },
   {
    "duration": 8615,
    "start_time": "2021-06-09T09:39:31.860Z"
   },
   {
    "duration": 539,
    "start_time": "2021-06-09T09:40:03.867Z"
   },
   {
    "duration": 768,
    "start_time": "2021-06-09T09:40:23.593Z"
   },
   {
    "duration": 1477,
    "start_time": "2021-06-09T09:41:39.303Z"
   },
   {
    "duration": 57,
    "start_time": "2021-06-09T09:41:40.783Z"
   },
   {
    "duration": 9,
    "start_time": "2021-06-09T09:41:40.843Z"
   },
   {
    "duration": 17,
    "start_time": "2021-06-09T09:41:40.855Z"
   },
   {
    "duration": 22,
    "start_time": "2021-06-09T09:41:40.874Z"
   },
   {
    "duration": 10,
    "start_time": "2021-06-09T09:41:40.899Z"
   },
   {
    "duration": 14,
    "start_time": "2021-06-09T09:41:40.912Z"
   },
   {
    "duration": 8,
    "start_time": "2021-06-09T09:41:40.928Z"
   },
   {
    "duration": 7,
    "start_time": "2021-06-09T09:41:40.940Z"
   },
   {
    "duration": 9,
    "start_time": "2021-06-09T09:41:40.950Z"
   },
   {
    "duration": 50,
    "start_time": "2021-06-09T09:41:40.961Z"
   },
   {
    "duration": 19,
    "start_time": "2021-06-09T09:41:41.013Z"
   },
   {
    "duration": 18,
    "start_time": "2021-06-09T09:41:41.034Z"
   },
   {
    "duration": 7,
    "start_time": "2021-06-09T09:41:41.054Z"
   },
   {
    "duration": 14,
    "start_time": "2021-06-09T09:41:41.063Z"
   },
   {
    "duration": 31,
    "start_time": "2021-06-09T09:41:41.079Z"
   },
   {
    "duration": 9,
    "start_time": "2021-06-09T09:41:41.113Z"
   },
   {
    "duration": 32,
    "start_time": "2021-06-09T09:41:41.125Z"
   },
   {
    "duration": 12,
    "start_time": "2021-06-09T09:41:41.160Z"
   },
   {
    "duration": 38,
    "start_time": "2021-06-09T09:41:41.174Z"
   },
   {
    "duration": 10,
    "start_time": "2021-06-09T09:41:41.215Z"
   },
   {
    "duration": 7,
    "start_time": "2021-06-09T09:41:41.227Z"
   },
   {
    "duration": 7,
    "start_time": "2021-06-09T09:41:41.236Z"
   },
   {
    "duration": 7,
    "start_time": "2021-06-09T09:41:41.245Z"
   },
   {
    "duration": 7,
    "start_time": "2021-06-09T09:41:41.255Z"
   },
   {
    "duration": 66,
    "start_time": "2021-06-09T09:41:41.264Z"
   },
   {
    "duration": 18,
    "start_time": "2021-06-09T09:41:41.337Z"
   },
   {
    "duration": 140,
    "start_time": "2021-06-09T09:41:41.359Z"
   },
   {
    "duration": -95,
    "start_time": "2021-06-09T09:41:41.597Z"
   },
   {
    "duration": -100,
    "start_time": "2021-06-09T09:41:41.604Z"
   },
   {
    "duration": -100,
    "start_time": "2021-06-09T09:41:41.606Z"
   },
   {
    "duration": -100,
    "start_time": "2021-06-09T09:41:41.608Z"
   },
   {
    "duration": -108,
    "start_time": "2021-06-09T09:41:41.618Z"
   },
   {
    "duration": -108,
    "start_time": "2021-06-09T09:41:41.621Z"
   },
   {
    "duration": -108,
    "start_time": "2021-06-09T09:41:41.623Z"
   },
   {
    "duration": -108,
    "start_time": "2021-06-09T09:41:41.625Z"
   },
   {
    "duration": -108,
    "start_time": "2021-06-09T09:41:41.627Z"
   },
   {
    "duration": -107,
    "start_time": "2021-06-09T09:41:41.629Z"
   },
   {
    "duration": -107,
    "start_time": "2021-06-09T09:41:41.631Z"
   },
   {
    "duration": -107,
    "start_time": "2021-06-09T09:41:41.633Z"
   },
   {
    "duration": -106,
    "start_time": "2021-06-09T09:41:41.635Z"
   },
   {
    "duration": -107,
    "start_time": "2021-06-09T09:41:41.637Z"
   },
   {
    "duration": -108,
    "start_time": "2021-06-09T09:41:41.639Z"
   },
   {
    "duration": 658,
    "start_time": "2021-06-09T09:58:26.017Z"
   },
   {
    "duration": 589,
    "start_time": "2021-06-09T09:59:30.621Z"
   },
   {
    "duration": 10623,
    "start_time": "2021-06-09T09:59:52.519Z"
   },
   {
    "duration": 445,
    "start_time": "2021-06-09T10:01:01.497Z"
   },
   {
    "duration": 124,
    "start_time": "2021-06-09T10:01:15.991Z"
   },
   {
    "duration": 1446,
    "start_time": "2021-06-09T10:01:28.430Z"
   },
   {
    "duration": 58,
    "start_time": "2021-06-09T10:01:29.879Z"
   },
   {
    "duration": 10,
    "start_time": "2021-06-09T10:01:29.941Z"
   },
   {
    "duration": 24,
    "start_time": "2021-06-09T10:01:29.954Z"
   },
   {
    "duration": 18,
    "start_time": "2021-06-09T10:01:29.982Z"
   },
   {
    "duration": 24,
    "start_time": "2021-06-09T10:01:30.003Z"
   },
   {
    "duration": 25,
    "start_time": "2021-06-09T10:01:30.030Z"
   },
   {
    "duration": 11,
    "start_time": "2021-06-09T10:01:30.061Z"
   },
   {
    "duration": 11,
    "start_time": "2021-06-09T10:01:30.076Z"
   },
   {
    "duration": 20,
    "start_time": "2021-06-09T10:01:30.090Z"
   },
   {
    "duration": 25,
    "start_time": "2021-06-09T10:01:30.113Z"
   },
   {
    "duration": 21,
    "start_time": "2021-06-09T10:01:30.140Z"
   },
   {
    "duration": 32,
    "start_time": "2021-06-09T10:01:30.163Z"
   },
   {
    "duration": 16,
    "start_time": "2021-06-09T10:01:30.198Z"
   },
   {
    "duration": 17,
    "start_time": "2021-06-09T10:01:30.216Z"
   },
   {
    "duration": 15,
    "start_time": "2021-06-09T10:01:30.236Z"
   },
   {
    "duration": 16,
    "start_time": "2021-06-09T10:01:30.254Z"
   },
   {
    "duration": 43,
    "start_time": "2021-06-09T10:01:30.273Z"
   },
   {
    "duration": 28,
    "start_time": "2021-06-09T10:01:30.319Z"
   },
   {
    "duration": 17,
    "start_time": "2021-06-09T10:01:30.349Z"
   },
   {
    "duration": 34,
    "start_time": "2021-06-09T10:01:30.368Z"
   },
   {
    "duration": 15,
    "start_time": "2021-06-09T10:01:30.404Z"
   },
   {
    "duration": 12,
    "start_time": "2021-06-09T10:01:30.424Z"
   },
   {
    "duration": 9,
    "start_time": "2021-06-09T10:01:30.439Z"
   },
   {
    "duration": 12,
    "start_time": "2021-06-09T10:01:30.450Z"
   },
   {
    "duration": 41,
    "start_time": "2021-06-09T10:01:30.465Z"
   },
   {
    "duration": 23,
    "start_time": "2021-06-09T10:01:30.508Z"
   },
   {
    "duration": 140,
    "start_time": "2021-06-09T10:01:30.534Z"
   },
   {
    "duration": -112,
    "start_time": "2021-06-09T10:01:30.789Z"
   },
   {
    "duration": -112,
    "start_time": "2021-06-09T10:01:30.791Z"
   },
   {
    "duration": -112,
    "start_time": "2021-06-09T10:01:30.793Z"
   },
   {
    "duration": -111,
    "start_time": "2021-06-09T10:01:30.794Z"
   },
   {
    "duration": -110,
    "start_time": "2021-06-09T10:01:30.796Z"
   },
   {
    "duration": -110,
    "start_time": "2021-06-09T10:01:30.798Z"
   },
   {
    "duration": -111,
    "start_time": "2021-06-09T10:01:30.801Z"
   },
   {
    "duration": -110,
    "start_time": "2021-06-09T10:01:30.802Z"
   },
   {
    "duration": -111,
    "start_time": "2021-06-09T10:01:30.805Z"
   },
   {
    "duration": -111,
    "start_time": "2021-06-09T10:01:30.807Z"
   },
   {
    "duration": -111,
    "start_time": "2021-06-09T10:01:30.809Z"
   },
   {
    "duration": -111,
    "start_time": "2021-06-09T10:01:30.811Z"
   },
   {
    "duration": -110,
    "start_time": "2021-06-09T10:01:30.813Z"
   },
   {
    "duration": -115,
    "start_time": "2021-06-09T10:01:30.820Z"
   },
   {
    "duration": -114,
    "start_time": "2021-06-09T10:01:30.822Z"
   },
   {
    "duration": 125,
    "start_time": "2021-06-09T10:02:16.273Z"
   },
   {
    "duration": 243,
    "start_time": "2021-06-09T10:03:13.754Z"
   },
   {
    "duration": 109,
    "start_time": "2021-06-09T10:04:06.117Z"
   },
   {
    "duration": 117,
    "start_time": "2021-06-09T10:05:01.798Z"
   },
   {
    "duration": 135,
    "start_time": "2021-06-09T10:05:46.185Z"
   },
   {
    "duration": 113,
    "start_time": "2021-06-09T10:07:06.941Z"
   },
   {
    "duration": 101,
    "start_time": "2021-06-09T10:07:59.061Z"
   },
   {
    "duration": 1361,
    "start_time": "2021-06-09T10:09:28.627Z"
   },
   {
    "duration": 58,
    "start_time": "2021-06-09T10:09:29.990Z"
   },
   {
    "duration": 9,
    "start_time": "2021-06-09T10:09:30.051Z"
   },
   {
    "duration": 22,
    "start_time": "2021-06-09T10:09:30.063Z"
   },
   {
    "duration": 12,
    "start_time": "2021-06-09T10:09:30.087Z"
   },
   {
    "duration": 22,
    "start_time": "2021-06-09T10:09:30.102Z"
   },
   {
    "duration": 30,
    "start_time": "2021-06-09T10:09:30.126Z"
   },
   {
    "duration": 12,
    "start_time": "2021-06-09T10:09:30.159Z"
   },
   {
    "duration": 12,
    "start_time": "2021-06-09T10:09:30.175Z"
   },
   {
    "duration": 18,
    "start_time": "2021-06-09T10:09:30.191Z"
   },
   {
    "duration": 23,
    "start_time": "2021-06-09T10:09:30.211Z"
   },
   {
    "duration": 13,
    "start_time": "2021-06-09T10:09:30.237Z"
   },
   {
    "duration": 22,
    "start_time": "2021-06-09T10:09:30.252Z"
   },
   {
    "duration": 16,
    "start_time": "2021-06-09T10:09:30.277Z"
   },
   {
    "duration": 28,
    "start_time": "2021-06-09T10:09:30.295Z"
   },
   {
    "duration": 16,
    "start_time": "2021-06-09T10:09:30.325Z"
   },
   {
    "duration": 19,
    "start_time": "2021-06-09T10:09:30.344Z"
   },
   {
    "duration": 44,
    "start_time": "2021-06-09T10:09:30.365Z"
   },
   {
    "duration": 12,
    "start_time": "2021-06-09T10:09:30.411Z"
   },
   {
    "duration": 21,
    "start_time": "2021-06-09T10:09:30.426Z"
   },
   {
    "duration": 26,
    "start_time": "2021-06-09T10:09:30.450Z"
   },
   {
    "duration": 23,
    "start_time": "2021-06-09T10:09:30.478Z"
   },
   {
    "duration": 28,
    "start_time": "2021-06-09T10:09:30.503Z"
   },
   {
    "duration": 49,
    "start_time": "2021-06-09T10:09:30.533Z"
   },
   {
    "duration": 24,
    "start_time": "2021-06-09T10:09:30.585Z"
   },
   {
    "duration": 34,
    "start_time": "2021-06-09T10:09:30.611Z"
   },
   {
    "duration": 18,
    "start_time": "2021-06-09T10:09:30.651Z"
   },
   {
    "duration": 154,
    "start_time": "2021-06-09T10:09:30.671Z"
   },
   {
    "duration": -70,
    "start_time": "2021-06-09T10:09:30.897Z"
   },
   {
    "duration": -89,
    "start_time": "2021-06-09T10:09:30.917Z"
   },
   {
    "duration": -89,
    "start_time": "2021-06-09T10:09:30.919Z"
   },
   {
    "duration": -89,
    "start_time": "2021-06-09T10:09:30.920Z"
   },
   {
    "duration": -90,
    "start_time": "2021-06-09T10:09:30.922Z"
   },
   {
    "duration": -90,
    "start_time": "2021-06-09T10:09:30.924Z"
   },
   {
    "duration": -92,
    "start_time": "2021-06-09T10:09:30.927Z"
   },
   {
    "duration": -93,
    "start_time": "2021-06-09T10:09:30.929Z"
   },
   {
    "duration": -93,
    "start_time": "2021-06-09T10:09:30.931Z"
   },
   {
    "duration": -94,
    "start_time": "2021-06-09T10:09:30.933Z"
   },
   {
    "duration": -95,
    "start_time": "2021-06-09T10:09:30.935Z"
   },
   {
    "duration": -95,
    "start_time": "2021-06-09T10:09:30.937Z"
   },
   {
    "duration": -96,
    "start_time": "2021-06-09T10:09:30.939Z"
   },
   {
    "duration": -95,
    "start_time": "2021-06-09T10:09:30.940Z"
   },
   {
    "duration": 135,
    "start_time": "2021-06-09T10:10:28.945Z"
   },
   {
    "duration": 1188,
    "start_time": "2021-06-09T10:13:08.457Z"
   },
   {
    "duration": 486,
    "start_time": "2021-06-09T10:13:18.695Z"
   },
   {
    "duration": 436,
    "start_time": "2021-06-09T10:13:20.097Z"
   },
   {
    "duration": 539,
    "start_time": "2021-06-09T10:13:21.504Z"
   },
   {
    "duration": 444,
    "start_time": "2021-06-09T10:13:23.070Z"
   },
   {
    "duration": 533,
    "start_time": "2021-06-09T10:13:24.535Z"
   },
   {
    "duration": 476,
    "start_time": "2021-06-09T10:13:26.558Z"
   },
   {
    "duration": 8,
    "start_time": "2021-06-09T10:13:28.225Z"
   },
   {
    "duration": 225,
    "start_time": "2021-06-09T10:13:36.550Z"
   },
   {
    "duration": 458,
    "start_time": "2021-06-09T10:13:39.867Z"
   },
   {
    "duration": 7,
    "start_time": "2021-06-09T10:13:42.659Z"
   },
   {
    "duration": 456,
    "start_time": "2021-06-09T10:13:56.786Z"
   },
   {
    "duration": 482,
    "start_time": "2021-06-09T10:14:02.794Z"
   },
   {
    "duration": 14,
    "start_time": "2021-06-09T10:15:09.347Z"
   },
   {
    "duration": 15,
    "start_time": "2021-06-09T10:17:35.946Z"
   },
   {
    "duration": 15,
    "start_time": "2021-06-09T10:18:22.981Z"
   },
   {
    "duration": 15,
    "start_time": "2021-06-09T10:19:18.911Z"
   },
   {
    "duration": 19,
    "start_time": "2021-06-09T10:19:38.599Z"
   },
   {
    "duration": 547,
    "start_time": "2021-06-09T10:31:04.518Z"
   },
   {
    "duration": 960,
    "start_time": "2021-06-09T12:48:50.956Z"
   },
   {
    "duration": 14,
    "start_time": "2021-06-09T12:54:21.844Z"
   },
   {
    "duration": 18,
    "start_time": "2021-06-09T12:54:33.579Z"
   },
   {
    "duration": 14,
    "start_time": "2021-06-09T12:54:50.699Z"
   },
   {
    "duration": 19,
    "start_time": "2021-06-09T12:54:54.034Z"
   },
   {
    "duration": 14,
    "start_time": "2021-06-09T12:55:13.302Z"
   },
   {
    "duration": 13,
    "start_time": "2021-06-09T12:55:42.269Z"
   },
   {
    "duration": 17,
    "start_time": "2021-06-09T12:55:43.469Z"
   },
   {
    "duration": 14,
    "start_time": "2021-06-09T12:57:55.978Z"
   },
   {
    "duration": 18,
    "start_time": "2021-06-09T12:57:57.725Z"
   },
   {
    "duration": 20,
    "start_time": "2021-06-09T13:12:18.552Z"
   },
   {
    "duration": 14,
    "start_time": "2021-06-09T13:16:34.187Z"
   },
   {
    "duration": 18,
    "start_time": "2021-06-09T13:16:38.983Z"
   },
   {
    "duration": 21,
    "start_time": "2021-06-09T13:16:46.275Z"
   },
   {
    "duration": 14,
    "start_time": "2021-06-09T13:18:15.000Z"
   },
   {
    "duration": 18,
    "start_time": "2021-06-09T13:18:20.380Z"
   },
   {
    "duration": 20,
    "start_time": "2021-06-09T13:19:24.525Z"
   },
   {
    "duration": 1410,
    "start_time": "2021-06-09T14:30:21.669Z"
   },
   {
    "duration": 58,
    "start_time": "2021-06-09T14:30:23.082Z"
   },
   {
    "duration": 10,
    "start_time": "2021-06-09T14:30:23.142Z"
   },
   {
    "duration": 20,
    "start_time": "2021-06-09T14:30:23.154Z"
   },
   {
    "duration": 9,
    "start_time": "2021-06-09T14:30:23.176Z"
   },
   {
    "duration": 24,
    "start_time": "2021-06-09T14:30:23.187Z"
   },
   {
    "duration": 15,
    "start_time": "2021-06-09T14:30:23.214Z"
   },
   {
    "duration": 9,
    "start_time": "2021-06-09T14:30:23.235Z"
   },
   {
    "duration": 21,
    "start_time": "2021-06-09T14:30:23.248Z"
   },
   {
    "duration": 42,
    "start_time": "2021-06-09T14:30:23.272Z"
   },
   {
    "duration": 13,
    "start_time": "2021-06-09T14:30:23.317Z"
   },
   {
    "duration": 14,
    "start_time": "2021-06-09T14:30:23.333Z"
   },
   {
    "duration": 18,
    "start_time": "2021-06-09T14:30:23.349Z"
   },
   {
    "duration": 42,
    "start_time": "2021-06-09T14:30:23.370Z"
   },
   {
    "duration": 15,
    "start_time": "2021-06-09T14:30:23.414Z"
   },
   {
    "duration": 12,
    "start_time": "2021-06-09T14:30:23.431Z"
   },
   {
    "duration": 9,
    "start_time": "2021-06-09T14:30:23.446Z"
   },
   {
    "duration": 61,
    "start_time": "2021-06-09T14:30:23.457Z"
   },
   {
    "duration": 11,
    "start_time": "2021-06-09T14:30:23.520Z"
   },
   {
    "duration": 10,
    "start_time": "2021-06-09T14:30:23.533Z"
   },
   {
    "duration": 9,
    "start_time": "2021-06-09T14:30:23.546Z"
   },
   {
    "duration": 9,
    "start_time": "2021-06-09T14:30:23.558Z"
   },
   {
    "duration": 17,
    "start_time": "2021-06-09T14:30:23.609Z"
   },
   {
    "duration": 7,
    "start_time": "2021-06-09T14:30:23.629Z"
   },
   {
    "duration": 8,
    "start_time": "2021-06-09T14:30:23.638Z"
   },
   {
    "duration": 17,
    "start_time": "2021-06-09T14:30:23.651Z"
   },
   {
    "duration": 51,
    "start_time": "2021-06-09T14:30:23.671Z"
   },
   {
    "duration": 1296,
    "start_time": "2021-06-09T14:30:23.725Z"
   },
   {
    "duration": 496,
    "start_time": "2021-06-09T14:30:25.023Z"
   },
   {
    "duration": 519,
    "start_time": "2021-06-09T14:30:25.521Z"
   },
   {
    "duration": 584,
    "start_time": "2021-06-09T14:30:26.042Z"
   },
   {
    "duration": 467,
    "start_time": "2021-06-09T14:30:26.629Z"
   },
   {
    "duration": 624,
    "start_time": "2021-06-09T14:30:27.099Z"
   },
   {
    "duration": 495,
    "start_time": "2021-06-09T14:30:27.725Z"
   },
   {
    "duration": 6,
    "start_time": "2021-06-09T14:30:28.222Z"
   },
   {
    "duration": 203,
    "start_time": "2021-06-09T14:30:28.231Z"
   },
   {
    "duration": 468,
    "start_time": "2021-06-09T14:30:28.436Z"
   },
   {
    "duration": 7,
    "start_time": "2021-06-09T14:30:28.908Z"
   },
   {
    "duration": 862,
    "start_time": "2021-06-09T14:30:28.917Z"
   },
   {
    "duration": 28,
    "start_time": "2021-06-09T14:30:29.781Z"
   },
   {
    "duration": 14,
    "start_time": "2021-06-09T14:30:29.811Z"
   },
   {
    "duration": 19,
    "start_time": "2021-06-09T14:30:29.828Z"
   },
   {
    "duration": 20,
    "start_time": "2021-06-09T14:30:29.850Z"
   },
   {
    "duration": 629,
    "start_time": "2021-06-09T14:32:02.986Z"
   },
   {
    "duration": 1393,
    "start_time": "2021-06-09T14:32:18.593Z"
   },
   {
    "duration": 58,
    "start_time": "2021-06-09T14:32:19.989Z"
   },
   {
    "duration": 12,
    "start_time": "2021-06-09T14:32:20.050Z"
   },
   {
    "duration": 34,
    "start_time": "2021-06-09T14:32:20.064Z"
   },
   {
    "duration": 37,
    "start_time": "2021-06-09T14:32:20.101Z"
   },
   {
    "duration": 39,
    "start_time": "2021-06-09T14:32:20.141Z"
   },
   {
    "duration": 30,
    "start_time": "2021-06-09T14:32:20.183Z"
   },
   {
    "duration": 11,
    "start_time": "2021-06-09T14:32:20.217Z"
   },
   {
    "duration": 11,
    "start_time": "2021-06-09T14:32:20.232Z"
   },
   {
    "duration": 30,
    "start_time": "2021-06-09T14:32:20.246Z"
   },
   {
    "duration": 22,
    "start_time": "2021-06-09T14:32:20.279Z"
   },
   {
    "duration": 16,
    "start_time": "2021-06-09T14:32:20.303Z"
   },
   {
    "duration": 16,
    "start_time": "2021-06-09T14:32:20.321Z"
   },
   {
    "duration": 10,
    "start_time": "2021-06-09T14:32:20.340Z"
   },
   {
    "duration": 14,
    "start_time": "2021-06-09T14:32:20.352Z"
   },
   {
    "duration": 41,
    "start_time": "2021-06-09T14:32:20.369Z"
   },
   {
    "duration": 17,
    "start_time": "2021-06-09T14:32:20.413Z"
   },
   {
    "duration": 39,
    "start_time": "2021-06-09T14:32:20.433Z"
   },
   {
    "duration": 21,
    "start_time": "2021-06-09T14:32:20.475Z"
   },
   {
    "duration": 16,
    "start_time": "2021-06-09T14:32:20.498Z"
   },
   {
    "duration": 21,
    "start_time": "2021-06-09T14:32:20.516Z"
   },
   {
    "duration": 19,
    "start_time": "2021-06-09T14:32:20.539Z"
   },
   {
    "duration": 8,
    "start_time": "2021-06-09T14:32:20.560Z"
   },
   {
    "duration": 8,
    "start_time": "2021-06-09T14:32:20.570Z"
   },
   {
    "duration": 29,
    "start_time": "2021-06-09T14:32:20.581Z"
   },
   {
    "duration": 39,
    "start_time": "2021-06-09T14:32:20.616Z"
   },
   {
    "duration": 18,
    "start_time": "2021-06-09T14:32:20.658Z"
   },
   {
    "duration": 1212,
    "start_time": "2021-06-09T14:32:20.679Z"
   },
   {
    "duration": 488,
    "start_time": "2021-06-09T14:32:21.893Z"
   },
   {
    "duration": 470,
    "start_time": "2021-06-09T14:32:22.383Z"
   },
   {
    "duration": 530,
    "start_time": "2021-06-09T14:32:22.856Z"
   },
   {
    "duration": 448,
    "start_time": "2021-06-09T14:32:23.388Z"
   },
   {
    "duration": 530,
    "start_time": "2021-06-09T14:32:23.838Z"
   },
   {
    "duration": 528,
    "start_time": "2021-06-09T14:32:24.371Z"
   },
   {
    "duration": 10,
    "start_time": "2021-06-09T14:32:24.902Z"
   },
   {
    "duration": 231,
    "start_time": "2021-06-09T14:32:24.915Z"
   },
   {
    "duration": 460,
    "start_time": "2021-06-09T14:32:25.149Z"
   },
   {
    "duration": 6,
    "start_time": "2021-06-09T14:32:25.611Z"
   },
   {
    "duration": 899,
    "start_time": "2021-06-09T14:32:25.620Z"
   },
   {
    "duration": 14,
    "start_time": "2021-06-09T14:32:26.521Z"
   },
   {
    "duration": 14,
    "start_time": "2021-06-09T14:32:26.537Z"
   },
   {
    "duration": 17,
    "start_time": "2021-06-09T14:32:26.553Z"
   },
   {
    "duration": 52,
    "start_time": "2021-06-09T14:32:26.572Z"
   },
   {
    "duration": 1470,
    "start_time": "2021-06-09T18:23:57.155Z"
   },
   {
    "duration": 59,
    "start_time": "2021-06-09T18:23:58.627Z"
   },
   {
    "duration": 10,
    "start_time": "2021-06-09T18:23:58.689Z"
   },
   {
    "duration": 19,
    "start_time": "2021-06-09T18:23:58.703Z"
   },
   {
    "duration": 6,
    "start_time": "2021-06-09T18:23:58.725Z"
   },
   {
    "duration": 19,
    "start_time": "2021-06-09T18:23:58.733Z"
   },
   {
    "duration": 33,
    "start_time": "2021-06-09T18:23:58.754Z"
   },
   {
    "duration": 18,
    "start_time": "2021-06-09T18:23:58.791Z"
   },
   {
    "duration": 11,
    "start_time": "2021-06-09T18:23:58.812Z"
   },
   {
    "duration": 21,
    "start_time": "2021-06-09T18:23:58.826Z"
   },
   {
    "duration": 16,
    "start_time": "2021-06-09T18:23:58.849Z"
   },
   {
    "duration": 9,
    "start_time": "2021-06-09T18:23:58.869Z"
   },
   {
    "duration": 35,
    "start_time": "2021-06-09T18:23:58.881Z"
   },
   {
    "duration": 14,
    "start_time": "2021-06-09T18:23:58.918Z"
   },
   {
    "duration": 26,
    "start_time": "2021-06-09T18:23:58.935Z"
   },
   {
    "duration": 34,
    "start_time": "2021-06-09T18:23:58.963Z"
   },
   {
    "duration": 20,
    "start_time": "2021-06-09T18:23:58.999Z"
   },
   {
    "duration": 44,
    "start_time": "2021-06-09T18:23:59.021Z"
   },
   {
    "duration": 18,
    "start_time": "2021-06-09T18:23:59.068Z"
   },
   {
    "duration": 20,
    "start_time": "2021-06-09T18:23:59.089Z"
   },
   {
    "duration": 10,
    "start_time": "2021-06-09T18:23:59.113Z"
   },
   {
    "duration": 15,
    "start_time": "2021-06-09T18:23:59.125Z"
   },
   {
    "duration": 12,
    "start_time": "2021-06-09T18:23:59.146Z"
   },
   {
    "duration": 20,
    "start_time": "2021-06-09T18:23:59.161Z"
   },
   {
    "duration": 38,
    "start_time": "2021-06-09T18:23:59.184Z"
   },
   {
    "duration": 23,
    "start_time": "2021-06-09T18:23:59.225Z"
   },
   {
    "duration": 19,
    "start_time": "2021-06-09T18:23:59.251Z"
   },
   {
    "duration": 1244,
    "start_time": "2021-06-09T18:23:59.272Z"
   },
   {
    "duration": 844,
    "start_time": "2021-06-09T18:24:00.518Z"
   },
   {
    "duration": 478,
    "start_time": "2021-06-09T18:24:01.365Z"
   },
   {
    "duration": 592,
    "start_time": "2021-06-09T18:24:01.845Z"
   },
   {
    "duration": 466,
    "start_time": "2021-06-09T18:24:02.446Z"
   },
   {
    "duration": 572,
    "start_time": "2021-06-09T18:24:02.915Z"
   },
   {
    "duration": 524,
    "start_time": "2021-06-09T18:24:03.489Z"
   },
   {
    "duration": 8,
    "start_time": "2021-06-09T18:24:04.016Z"
   },
   {
    "duration": 218,
    "start_time": "2021-06-09T18:24:04.026Z"
   },
   {
    "duration": 489,
    "start_time": "2021-06-09T18:24:04.246Z"
   },
   {
    "duration": 6,
    "start_time": "2021-06-09T18:24:04.738Z"
   },
   {
    "duration": 911,
    "start_time": "2021-06-09T18:24:04.746Z"
   },
   {
    "duration": 15,
    "start_time": "2021-06-09T18:24:05.659Z"
   },
   {
    "duration": 30,
    "start_time": "2021-06-09T18:24:05.676Z"
   },
   {
    "duration": 103,
    "start_time": "2021-06-09T18:24:05.709Z"
   },
   {
    "duration": 24,
    "start_time": "2021-06-09T18:24:05.814Z"
   },
   {
    "duration": 1313,
    "start_time": "2021-06-09T18:41:46.077Z"
   },
   {
    "duration": 113,
    "start_time": "2021-06-09T18:41:47.393Z"
   },
   {
    "duration": 18,
    "start_time": "2021-06-09T18:41:47.509Z"
   },
   {
    "duration": 24,
    "start_time": "2021-06-09T18:41:47.529Z"
   },
   {
    "duration": 6,
    "start_time": "2021-06-09T18:41:47.555Z"
   },
   {
    "duration": 24,
    "start_time": "2021-06-09T18:41:47.563Z"
   },
   {
    "duration": 38,
    "start_time": "2021-06-09T18:41:47.589Z"
   },
   {
    "duration": 14,
    "start_time": "2021-06-09T18:41:47.631Z"
   },
   {
    "duration": 14,
    "start_time": "2021-06-09T18:41:47.648Z"
   },
   {
    "duration": 18,
    "start_time": "2021-06-09T18:41:47.665Z"
   },
   {
    "duration": 11,
    "start_time": "2021-06-09T18:41:47.686Z"
   },
   {
    "duration": 36,
    "start_time": "2021-06-09T18:41:47.699Z"
   },
   {
    "duration": 18,
    "start_time": "2021-06-09T18:41:47.737Z"
   },
   {
    "duration": 18,
    "start_time": "2021-06-09T18:41:47.757Z"
   },
   {
    "duration": 18,
    "start_time": "2021-06-09T18:41:47.778Z"
   },
   {
    "duration": 31,
    "start_time": "2021-06-09T18:41:47.798Z"
   },
   {
    "duration": 7,
    "start_time": "2021-06-09T18:41:47.831Z"
   },
   {
    "duration": 53,
    "start_time": "2021-06-09T18:41:47.840Z"
   },
   {
    "duration": 24,
    "start_time": "2021-06-09T18:41:47.895Z"
   },
   {
    "duration": 34,
    "start_time": "2021-06-09T18:41:47.922Z"
   },
   {
    "duration": 29,
    "start_time": "2021-06-09T18:41:47.958Z"
   },
   {
    "duration": 11,
    "start_time": "2021-06-09T18:41:47.990Z"
   },
   {
    "duration": 11,
    "start_time": "2021-06-09T18:41:48.006Z"
   },
   {
    "duration": 17,
    "start_time": "2021-06-09T18:41:48.020Z"
   },
   {
    "duration": 15,
    "start_time": "2021-06-09T18:41:48.039Z"
   },
   {
    "duration": 22,
    "start_time": "2021-06-09T18:41:48.057Z"
   },
   {
    "duration": 20,
    "start_time": "2021-06-09T18:41:48.082Z"
   },
   {
    "duration": 1286,
    "start_time": "2021-06-09T18:41:48.105Z"
   },
   {
    "duration": 487,
    "start_time": "2021-06-09T18:41:49.394Z"
   },
   {
    "duration": 440,
    "start_time": "2021-06-09T18:41:49.884Z"
   },
   {
    "duration": 520,
    "start_time": "2021-06-09T18:41:50.326Z"
   },
   {
    "duration": 881,
    "start_time": "2021-06-09T18:41:50.849Z"
   },
   {
    "duration": -1749,
    "start_time": "2021-06-09T18:41:53.481Z"
   },
   {
    "duration": -1753,
    "start_time": "2021-06-09T18:41:53.487Z"
   },
   {
    "duration": -1760,
    "start_time": "2021-06-09T18:41:53.495Z"
   },
   {
    "duration": -1765,
    "start_time": "2021-06-09T18:41:53.501Z"
   },
   {
    "duration": -1765,
    "start_time": "2021-06-09T18:41:53.503Z"
   },
   {
    "duration": -1765,
    "start_time": "2021-06-09T18:41:53.504Z"
   },
   {
    "duration": -1764,
    "start_time": "2021-06-09T18:41:53.505Z"
   },
   {
    "duration": -1765,
    "start_time": "2021-06-09T18:41:53.507Z"
   },
   {
    "duration": -1765,
    "start_time": "2021-06-09T18:41:53.508Z"
   },
   {
    "duration": -1765,
    "start_time": "2021-06-09T18:41:53.510Z"
   },
   {
    "duration": -1765,
    "start_time": "2021-06-09T18:41:53.511Z"
   },
   {
    "duration": 16,
    "start_time": "2021-06-09T19:18:19.815Z"
   },
   {
    "duration": 15,
    "start_time": "2021-06-09T19:18:24.168Z"
   },
   {
    "duration": 687,
    "start_time": "2021-06-09T19:51:35.444Z"
   },
   {
    "duration": 466,
    "start_time": "2021-06-09T19:52:08.697Z"
   },
   {
    "duration": 724,
    "start_time": "2021-06-09T19:52:18.654Z"
   },
   {
    "duration": 1571,
    "start_time": "2021-06-09T19:52:45.310Z"
   },
   {
    "duration": 4625,
    "start_time": "2021-06-09T19:52:53.020Z"
   },
   {
    "duration": 2688,
    "start_time": "2021-06-09T19:53:42.749Z"
   },
   {
    "duration": 8822,
    "start_time": "2021-06-09T19:53:49.249Z"
   },
   {
    "duration": 720,
    "start_time": "2021-06-09T19:54:02.488Z"
   },
   {
    "duration": 891,
    "start_time": "2021-06-09T19:56:20.081Z"
   },
   {
    "duration": 841,
    "start_time": "2021-06-09T19:56:38.802Z"
   },
   {
    "duration": 780,
    "start_time": "2021-06-09T19:56:44.655Z"
   },
   {
    "duration": 16,
    "start_time": "2021-06-09T19:59:45.798Z"
   },
   {
    "duration": 25,
    "start_time": "2021-06-09T20:00:13.316Z"
   },
   {
    "duration": 98,
    "start_time": "2021-06-09T20:00:23.354Z"
   },
   {
    "duration": 14,
    "start_time": "2021-06-09T20:00:34.088Z"
   },
   {
    "duration": 13,
    "start_time": "2021-06-09T20:00:38.905Z"
   },
   {
    "duration": 762,
    "start_time": "2021-06-09T20:01:33.647Z"
   },
   {
    "duration": 814,
    "start_time": "2021-06-09T20:01:50.261Z"
   },
   {
    "duration": 702,
    "start_time": "2021-06-09T20:02:19.036Z"
   },
   {
    "duration": 735,
    "start_time": "2021-06-09T20:02:36.299Z"
   },
   {
    "duration": 506,
    "start_time": "2021-06-09T20:03:19.934Z"
   },
   {
    "duration": 7,
    "start_time": "2021-06-09T20:03:21.319Z"
   },
   {
    "duration": 314,
    "start_time": "2021-06-09T20:03:21.718Z"
   },
   {
    "duration": 489,
    "start_time": "2021-06-09T20:03:22.036Z"
   },
   {
    "duration": 8,
    "start_time": "2021-06-09T20:03:22.528Z"
   },
   {
    "duration": 1151,
    "start_time": "2021-06-09T20:03:22.538Z"
   },
   {
    "duration": 13,
    "start_time": "2021-06-09T20:03:23.691Z"
   },
   {
    "duration": 17,
    "start_time": "2021-06-09T20:03:23.724Z"
   },
   {
    "duration": 18,
    "start_time": "2021-06-09T20:03:23.743Z"
   },
   {
    "duration": 19,
    "start_time": "2021-06-09T20:03:23.763Z"
   },
   {
    "duration": 1015,
    "start_time": "2021-06-09T20:04:34.946Z"
   },
   {
    "duration": 13,
    "start_time": "2021-06-09T20:04:36.946Z"
   },
   {
    "duration": 14,
    "start_time": "2021-06-09T20:04:37.913Z"
   },
   {
    "duration": 14,
    "start_time": "2021-06-09T20:32:48.904Z"
   },
   {
    "duration": 85,
    "start_time": "2021-06-09T20:32:55.773Z"
   },
   {
    "duration": 15,
    "start_time": "2021-06-09T20:32:57.197Z"
   },
   {
    "duration": 14,
    "start_time": "2021-06-09T20:32:59.692Z"
   },
   {
    "duration": 367,
    "start_time": "2021-06-10T10:43:42.675Z"
   },
   {
    "duration": 1366,
    "start_time": "2021-06-12T06:47:07.341Z"
   },
   {
    "duration": 85,
    "start_time": "2021-06-12T06:47:08.710Z"
   },
   {
    "duration": 9,
    "start_time": "2021-06-12T06:47:08.798Z"
   },
   {
    "duration": 20,
    "start_time": "2021-06-12T06:47:08.810Z"
   },
   {
    "duration": 9,
    "start_time": "2021-06-12T06:47:08.833Z"
   },
   {
    "duration": 15,
    "start_time": "2021-06-12T06:47:08.845Z"
   },
   {
    "duration": 17,
    "start_time": "2021-06-12T06:47:08.863Z"
   },
   {
    "duration": 6,
    "start_time": "2021-06-12T06:47:08.884Z"
   },
   {
    "duration": 10,
    "start_time": "2021-06-12T06:47:08.894Z"
   },
   {
    "duration": 10,
    "start_time": "2021-06-12T06:47:08.907Z"
   },
   {
    "duration": 46,
    "start_time": "2021-06-12T06:47:08.919Z"
   },
   {
    "duration": 12,
    "start_time": "2021-06-12T06:47:08.968Z"
   },
   {
    "duration": 17,
    "start_time": "2021-06-12T06:47:08.983Z"
   },
   {
    "duration": 9,
    "start_time": "2021-06-12T06:47:09.003Z"
   },
   {
    "duration": 13,
    "start_time": "2021-06-12T06:47:09.055Z"
   },
   {
    "duration": 10,
    "start_time": "2021-06-12T06:47:09.071Z"
   },
   {
    "duration": 9,
    "start_time": "2021-06-12T06:47:09.084Z"
   },
   {
    "duration": 79,
    "start_time": "2021-06-12T06:47:09.096Z"
   },
   {
    "duration": 13,
    "start_time": "2021-06-12T06:47:09.178Z"
   },
   {
    "duration": 11,
    "start_time": "2021-06-12T06:47:09.194Z"
   },
   {
    "duration": 46,
    "start_time": "2021-06-12T06:47:09.208Z"
   },
   {
    "duration": 7,
    "start_time": "2021-06-12T06:47:09.257Z"
   },
   {
    "duration": 7,
    "start_time": "2021-06-12T06:47:09.269Z"
   },
   {
    "duration": 8,
    "start_time": "2021-06-12T06:47:09.279Z"
   },
   {
    "duration": 9,
    "start_time": "2021-06-12T06:47:09.289Z"
   },
   {
    "duration": 61,
    "start_time": "2021-06-12T06:47:09.300Z"
   },
   {
    "duration": 17,
    "start_time": "2021-06-12T06:47:09.363Z"
   },
   {
    "duration": 674,
    "start_time": "2021-06-12T06:47:09.382Z"
   },
   {
    "duration": 1507,
    "start_time": "2021-06-12T06:47:10.060Z"
   },
   {
    "duration": 472,
    "start_time": "2021-06-12T06:47:11.570Z"
   },
   {
    "duration": 432,
    "start_time": "2021-06-12T06:47:12.044Z"
   },
   {
    "duration": 484,
    "start_time": "2021-06-12T06:47:12.479Z"
   },
   {
    "duration": 472,
    "start_time": "2021-06-12T06:47:12.966Z"
   },
   {
    "duration": 529,
    "start_time": "2021-06-12T06:47:13.440Z"
   },
   {
    "duration": 505,
    "start_time": "2021-06-12T06:47:13.972Z"
   },
   {
    "duration": 7,
    "start_time": "2021-06-12T06:47:14.479Z"
   },
   {
    "duration": 203,
    "start_time": "2021-06-12T06:47:14.488Z"
   },
   {
    "duration": 473,
    "start_time": "2021-06-12T06:47:14.694Z"
   },
   {
    "duration": 7,
    "start_time": "2021-06-12T06:47:15.169Z"
   },
   {
    "duration": 898,
    "start_time": "2021-06-12T06:47:15.179Z"
   },
   {
    "duration": 14,
    "start_time": "2021-06-12T06:47:16.079Z"
   },
   {
    "duration": 20,
    "start_time": "2021-06-12T06:47:16.095Z"
   },
   {
    "duration": 42,
    "start_time": "2021-06-12T06:47:16.118Z"
   },
   {
    "duration": 20,
    "start_time": "2021-06-12T06:47:16.162Z"
   },
   {
    "duration": 781,
    "start_time": "2021-06-12T06:47:29.028Z"
   },
   {
    "duration": 673,
    "start_time": "2021-06-12T06:47:47.656Z"
   },
   {
    "duration": 677,
    "start_time": "2021-06-12T06:48:21.312Z"
   },
   {
    "duration": 690,
    "start_time": "2021-06-12T06:48:52.952Z"
   },
   {
    "duration": 707,
    "start_time": "2021-06-12T06:50:13.525Z"
   },
   {
    "duration": 6556,
    "start_time": "2021-06-12T06:50:39.346Z"
   },
   {
    "duration": 6015,
    "start_time": "2021-06-12T06:50:48.153Z"
   },
   {
    "duration": 781,
    "start_time": "2021-06-12T06:51:30.843Z"
   },
   {
    "duration": 295,
    "start_time": "2021-06-12T07:09:41.564Z"
   },
   {
    "duration": 260,
    "start_time": "2021-06-12T07:11:14.693Z"
   },
   {
    "duration": 249,
    "start_time": "2021-06-12T07:11:43.956Z"
   },
   {
    "duration": 14,
    "start_time": "2021-06-12T07:12:01.981Z"
   },
   {
    "duration": 6,
    "start_time": "2021-06-12T07:13:26.550Z"
   },
   {
    "duration": 9,
    "start_time": "2021-06-12T07:13:36.359Z"
   },
   {
    "duration": 265,
    "start_time": "2021-06-12T07:13:59.553Z"
   },
   {
    "duration": 81,
    "start_time": "2021-06-12T07:14:21.536Z"
   },
   {
    "duration": 248,
    "start_time": "2021-06-12T07:14:27.183Z"
   },
   {
    "duration": 19,
    "start_time": "2021-06-12T07:14:59.816Z"
   },
   {
    "duration": 8,
    "start_time": "2021-06-12T07:15:46.254Z"
   },
   {
    "duration": 12,
    "start_time": "2021-06-12T07:16:24.003Z"
   },
   {
    "duration": 19,
    "start_time": "2021-06-12T07:17:14.370Z"
   },
   {
    "duration": 14,
    "start_time": "2021-06-12T07:19:20.566Z"
   },
   {
    "duration": 16,
    "start_time": "2021-06-12T07:20:49.611Z"
   },
   {
    "duration": 19,
    "start_time": "2021-06-12T07:21:07.267Z"
   },
   {
    "duration": 18,
    "start_time": "2021-06-12T07:22:09.659Z"
   },
   {
    "duration": 255,
    "start_time": "2021-06-12T07:22:50.498Z"
   },
   {
    "duration": 16,
    "start_time": "2021-06-12T07:23:04.175Z"
   },
   {
    "duration": 4,
    "start_time": "2021-06-12T08:24:25.670Z"
   },
   {
    "duration": 76,
    "start_time": "2021-06-12T08:24:25.686Z"
   },
   {
    "duration": 9,
    "start_time": "2021-06-12T08:24:25.765Z"
   },
   {
    "duration": 26,
    "start_time": "2021-06-12T08:24:25.778Z"
   },
   {
    "duration": 21,
    "start_time": "2021-06-12T08:24:25.808Z"
   },
   {
    "duration": 25,
    "start_time": "2021-06-12T08:24:25.831Z"
   },
   {
    "duration": 23,
    "start_time": "2021-06-12T08:24:25.858Z"
   },
   {
    "duration": 16,
    "start_time": "2021-06-12T08:24:25.884Z"
   },
   {
    "duration": 26,
    "start_time": "2021-06-12T08:24:25.902Z"
   },
   {
    "duration": 19,
    "start_time": "2021-06-12T08:24:25.932Z"
   },
   {
    "duration": 19,
    "start_time": "2021-06-12T08:24:25.954Z"
   },
   {
    "duration": 32,
    "start_time": "2021-06-12T08:24:25.975Z"
   },
   {
    "duration": 20,
    "start_time": "2021-06-12T08:24:26.009Z"
   },
   {
    "duration": 14,
    "start_time": "2021-06-12T08:24:26.031Z"
   },
   {
    "duration": 18,
    "start_time": "2021-06-12T08:24:26.047Z"
   },
   {
    "duration": 36,
    "start_time": "2021-06-12T08:24:26.069Z"
   },
   {
    "duration": 32,
    "start_time": "2021-06-12T08:24:26.107Z"
   },
   {
    "duration": 58,
    "start_time": "2021-06-12T08:24:26.142Z"
   },
   {
    "duration": 37,
    "start_time": "2021-06-12T08:24:26.203Z"
   },
   {
    "duration": 21,
    "start_time": "2021-06-12T08:24:26.243Z"
   },
   {
    "duration": 15,
    "start_time": "2021-06-12T08:24:26.267Z"
   },
   {
    "duration": 14,
    "start_time": "2021-06-12T08:24:26.285Z"
   },
   {
    "duration": 22,
    "start_time": "2021-06-12T08:24:26.302Z"
   },
   {
    "duration": 21,
    "start_time": "2021-06-12T08:24:26.327Z"
   },
   {
    "duration": 8,
    "start_time": "2021-06-12T08:24:26.351Z"
   },
   {
    "duration": 32,
    "start_time": "2021-06-12T08:24:26.362Z"
   },
   {
    "duration": 22,
    "start_time": "2021-06-12T08:24:26.397Z"
   },
   {
    "duration": 719,
    "start_time": "2021-06-12T08:24:26.424Z"
   },
   {
    "duration": 26,
    "start_time": "2021-06-12T08:24:27.146Z"
   },
   {
    "duration": 1180,
    "start_time": "2021-06-12T08:24:27.175Z"
   },
   {
    "duration": 479,
    "start_time": "2021-06-12T08:24:28.357Z"
   },
   {
    "duration": 433,
    "start_time": "2021-06-12T08:24:28.839Z"
   },
   {
    "duration": 658,
    "start_time": "2021-06-12T08:24:29.276Z"
   },
   {
    "duration": 476,
    "start_time": "2021-06-12T08:24:29.936Z"
   },
   {
    "duration": 867,
    "start_time": "2021-06-12T08:24:30.415Z"
   },
   {
    "duration": 591,
    "start_time": "2021-06-12T08:24:31.284Z"
   },
   {
    "duration": 6,
    "start_time": "2021-06-12T08:24:31.877Z"
   },
   {
    "duration": 216,
    "start_time": "2021-06-12T08:24:31.885Z"
   },
   {
    "duration": 467,
    "start_time": "2021-06-12T08:24:32.104Z"
   },
   {
    "duration": 6,
    "start_time": "2021-06-12T08:24:32.573Z"
   },
   {
    "duration": 859,
    "start_time": "2021-06-12T08:24:32.582Z"
   },
   {
    "duration": 20,
    "start_time": "2021-06-12T08:24:33.444Z"
   },
   {
    "duration": 16,
    "start_time": "2021-06-12T08:24:33.466Z"
   },
   {
    "duration": 20,
    "start_time": "2021-06-12T08:24:33.485Z"
   },
   {
    "duration": 62,
    "start_time": "2021-06-12T08:24:33.508Z"
   },
   {
    "duration": 201,
    "start_time": "2021-06-12T12:14:28.181Z"
   },
   {
    "duration": 981,
    "start_time": "2021-06-12T12:14:39.975Z"
   },
   {
    "duration": 91,
    "start_time": "2021-06-12T12:14:40.958Z"
   },
   {
    "duration": 6,
    "start_time": "2021-06-12T12:14:41.051Z"
   },
   {
    "duration": 13,
    "start_time": "2021-06-12T12:14:41.059Z"
   },
   {
    "duration": 3,
    "start_time": "2021-06-12T12:14:41.074Z"
   },
   {
    "duration": 18,
    "start_time": "2021-06-12T12:14:41.079Z"
   },
   {
    "duration": 10,
    "start_time": "2021-06-12T12:14:41.098Z"
   },
   {
    "duration": 12,
    "start_time": "2021-06-12T12:14:41.110Z"
   },
   {
    "duration": 8,
    "start_time": "2021-06-12T12:14:41.125Z"
   },
   {
    "duration": 6,
    "start_time": "2021-06-12T12:14:41.135Z"
   },
   {
    "duration": 9,
    "start_time": "2021-06-12T12:14:41.143Z"
   },
   {
    "duration": 5,
    "start_time": "2021-06-12T12:14:41.153Z"
   },
   {
    "duration": 25,
    "start_time": "2021-06-12T12:14:41.160Z"
   },
   {
    "duration": 4,
    "start_time": "2021-06-12T12:14:41.186Z"
   },
   {
    "duration": 10,
    "start_time": "2021-06-12T12:14:41.191Z"
   },
   {
    "duration": 5,
    "start_time": "2021-06-12T12:14:41.202Z"
   },
   {
    "duration": 6,
    "start_time": "2021-06-12T12:14:41.209Z"
   },
   {
    "duration": 19,
    "start_time": "2021-06-12T12:14:41.217Z"
   },
   {
    "duration": 8,
    "start_time": "2021-06-12T12:14:41.238Z"
   },
   {
    "duration": 38,
    "start_time": "2021-06-12T12:14:41.247Z"
   },
   {
    "duration": 6,
    "start_time": "2021-06-12T12:14:41.287Z"
   },
   {
    "duration": 5,
    "start_time": "2021-06-12T12:14:41.294Z"
   },
   {
    "duration": 5,
    "start_time": "2021-06-12T12:14:41.301Z"
   },
   {
    "duration": 6,
    "start_time": "2021-06-12T12:14:41.307Z"
   },
   {
    "duration": 7,
    "start_time": "2021-06-12T12:14:41.314Z"
   },
   {
    "duration": 13,
    "start_time": "2021-06-12T12:14:41.322Z"
   },
   {
    "duration": 11,
    "start_time": "2021-06-12T12:14:41.338Z"
   },
   {
    "duration": 194,
    "start_time": "2021-06-12T12:14:41.350Z"
   },
   {
    "duration": 424,
    "start_time": "2021-06-12T12:14:41.546Z"
   },
   {
    "duration": 21,
    "start_time": "2021-06-12T12:14:41.972Z"
   },
   {
    "duration": 676,
    "start_time": "2021-06-12T12:14:41.994Z"
   },
   {
    "duration": 299,
    "start_time": "2021-06-12T12:14:42.672Z"
   },
   {
    "duration": 451,
    "start_time": "2021-06-12T12:14:42.973Z"
   },
   {
    "duration": 443,
    "start_time": "2021-06-12T12:14:43.426Z"
   },
   {
    "duration": 283,
    "start_time": "2021-06-12T12:14:43.870Z"
   },
   {
    "duration": 419,
    "start_time": "2021-06-12T12:14:44.154Z"
   },
   {
    "duration": 395,
    "start_time": "2021-06-12T12:14:44.575Z"
   },
   {
    "duration": 12,
    "start_time": "2021-06-12T12:14:44.972Z"
   },
   {
    "duration": 121,
    "start_time": "2021-06-12T12:14:44.986Z"
   },
   {
    "duration": 338,
    "start_time": "2021-06-12T12:14:45.109Z"
   },
   {
    "duration": 5,
    "start_time": "2021-06-12T12:14:45.448Z"
   },
   {
    "duration": 652,
    "start_time": "2021-06-12T12:14:45.455Z"
   },
   {
    "duration": 8,
    "start_time": "2021-06-12T12:14:46.109Z"
   },
   {
    "duration": 8,
    "start_time": "2021-06-12T12:14:46.119Z"
   },
   {
    "duration": 11,
    "start_time": "2021-06-12T12:14:46.128Z"
   },
   {
    "duration": 12,
    "start_time": "2021-06-12T12:14:46.140Z"
   },
   {
    "duration": 504,
    "start_time": "2021-06-12T12:15:28.767Z"
   },
   {
    "duration": 12,
    "start_time": "2021-06-12T13:13:38.895Z"
   },
   {
    "duration": 11,
    "start_time": "2021-06-12T13:14:12.313Z"
   },
   {
    "duration": 10,
    "start_time": "2021-06-12T13:15:04.648Z"
   },
   {
    "duration": 10,
    "start_time": "2021-06-12T13:15:57.650Z"
   },
   {
    "duration": 7,
    "start_time": "2021-06-12T13:22:15.777Z"
   },
   {
    "duration": 12,
    "start_time": "2021-06-12T13:23:03.392Z"
   },
   {
    "duration": 13,
    "start_time": "2021-06-12T13:23:12.743Z"
   },
   {
    "duration": 16,
    "start_time": "2021-06-12T13:23:54.135Z"
   },
   {
    "duration": 9,
    "start_time": "2021-06-12T13:25:22.723Z"
   },
   {
    "duration": 13,
    "start_time": "2021-06-12T13:28:59.619Z"
   },
   {
    "duration": 14,
    "start_time": "2021-06-12T13:29:42.571Z"
   },
   {
    "duration": 9,
    "start_time": "2021-06-12T13:30:52.176Z"
   },
   {
    "duration": 14,
    "start_time": "2021-06-12T13:30:59.155Z"
   },
   {
    "duration": 13,
    "start_time": "2021-06-12T13:31:18.690Z"
   },
   {
    "duration": 248,
    "start_time": "2021-06-12T13:31:36.493Z"
   },
   {
    "duration": 13,
    "start_time": "2021-06-12T13:32:01.252Z"
   },
   {
    "duration": 7,
    "start_time": "2021-06-12T13:33:03.469Z"
   },
   {
    "duration": 11,
    "start_time": "2021-06-12T13:33:14.785Z"
   },
   {
    "duration": 15,
    "start_time": "2021-06-12T13:33:26.258Z"
   },
   {
    "duration": 957,
    "start_time": "2021-06-12T13:36:36.406Z"
   },
   {
    "duration": 74,
    "start_time": "2021-06-12T13:36:37.365Z"
   },
   {
    "duration": 7,
    "start_time": "2021-06-12T13:36:37.440Z"
   },
   {
    "duration": 11,
    "start_time": "2021-06-12T13:36:37.449Z"
   },
   {
    "duration": 4,
    "start_time": "2021-06-12T13:36:37.461Z"
   },
   {
    "duration": 8,
    "start_time": "2021-06-12T13:36:37.466Z"
   },
   {
    "duration": 7,
    "start_time": "2021-06-12T13:36:37.475Z"
   },
   {
    "duration": 4,
    "start_time": "2021-06-12T13:36:37.484Z"
   },
   {
    "duration": 7,
    "start_time": "2021-06-12T13:36:37.489Z"
   },
   {
    "duration": 6,
    "start_time": "2021-06-12T13:36:37.497Z"
   },
   {
    "duration": 7,
    "start_time": "2021-06-12T13:36:37.504Z"
   },
   {
    "duration": 4,
    "start_time": "2021-06-12T13:36:37.513Z"
   },
   {
    "duration": 8,
    "start_time": "2021-06-12T13:36:37.519Z"
   },
   {
    "duration": 5,
    "start_time": "2021-06-12T13:36:37.528Z"
   },
   {
    "duration": 7,
    "start_time": "2021-06-12T13:36:37.534Z"
   },
   {
    "duration": 4,
    "start_time": "2021-06-12T13:36:37.543Z"
   },
   {
    "duration": 5,
    "start_time": "2021-06-12T13:36:37.549Z"
   },
   {
    "duration": 18,
    "start_time": "2021-06-12T13:36:37.556Z"
   },
   {
    "duration": 11,
    "start_time": "2021-06-12T13:36:37.575Z"
   },
   {
    "duration": 8,
    "start_time": "2021-06-12T13:36:37.587Z"
   },
   {
    "duration": 7,
    "start_time": "2021-06-12T13:36:37.596Z"
   },
   {
    "duration": 5,
    "start_time": "2021-06-12T13:36:37.604Z"
   },
   {
    "duration": 5,
    "start_time": "2021-06-12T13:36:38.139Z"
   },
   {
    "duration": 7,
    "start_time": "2021-06-12T13:36:38.145Z"
   },
   {
    "duration": 6,
    "start_time": "2021-06-12T13:36:38.153Z"
   },
   {
    "duration": 24,
    "start_time": "2021-06-12T13:36:38.160Z"
   },
   {
    "duration": 11,
    "start_time": "2021-06-12T13:36:38.186Z"
   },
   {
    "duration": 538,
    "start_time": "2021-06-12T13:36:38.198Z"
   },
   {
    "duration": 9,
    "start_time": "2021-06-12T13:36:38.737Z"
   },
   {
    "duration": 11,
    "start_time": "2021-06-12T13:36:38.748Z"
   },
   {
    "duration": 5,
    "start_time": "2021-06-12T13:36:38.760Z"
   },
   {
    "duration": 677,
    "start_time": "2021-06-12T13:36:38.767Z"
   },
   {
    "duration": 282,
    "start_time": "2021-06-12T13:36:39.446Z"
   },
   {
    "duration": 278,
    "start_time": "2021-06-12T13:36:39.730Z"
   },
   {
    "duration": 366,
    "start_time": "2021-06-12T13:36:40.010Z"
   },
   {
    "duration": 269,
    "start_time": "2021-06-12T13:36:40.378Z"
   },
   {
    "duration": 429,
    "start_time": "2021-06-12T13:36:40.650Z"
   },
   {
    "duration": 349,
    "start_time": "2021-06-12T13:36:41.084Z"
   },
   {
    "duration": 5,
    "start_time": "2021-06-12T13:36:41.435Z"
   },
   {
    "duration": 103,
    "start_time": "2021-06-12T13:36:41.441Z"
   },
   {
    "duration": 374,
    "start_time": "2021-06-12T13:36:41.546Z"
   },
   {
    "duration": 4,
    "start_time": "2021-06-12T13:36:41.922Z"
   },
   {
    "duration": 703,
    "start_time": "2021-06-12T13:36:41.928Z"
   },
   {
    "duration": 9,
    "start_time": "2021-06-12T13:36:42.632Z"
   },
   {
    "duration": 9,
    "start_time": "2021-06-12T13:36:42.642Z"
   },
   {
    "duration": 11,
    "start_time": "2021-06-12T13:36:42.652Z"
   },
   {
    "duration": 12,
    "start_time": "2021-06-12T13:36:42.684Z"
   },
   {
    "duration": 757,
    "start_time": "2021-06-12T13:42:34.018Z"
   },
   {
    "duration": 230,
    "start_time": "2021-06-12T13:43:03.214Z"
   },
   {
    "duration": 12,
    "start_time": "2021-06-12T14:25:40.794Z"
   },
   {
    "duration": 245,
    "start_time": "2021-06-12T14:27:55.165Z"
   },
   {
    "duration": 195,
    "start_time": "2021-06-12T14:29:00.404Z"
   },
   {
    "duration": 180,
    "start_time": "2021-06-12T14:29:20.744Z"
   },
   {
    "duration": 9,
    "start_time": "2021-06-12T14:29:40.354Z"
   },
   {
    "duration": 11,
    "start_time": "2021-06-12T14:29:48.914Z"
   },
   {
    "duration": 236,
    "start_time": "2021-06-12T14:30:48.024Z"
   },
   {
    "duration": 17,
    "start_time": "2021-06-12T14:30:53.634Z"
   },
   {
    "duration": 14,
    "start_time": "2021-06-12T14:31:32.634Z"
   },
   {
    "duration": 12,
    "start_time": "2021-06-12T14:31:47.794Z"
   },
   {
    "duration": 15,
    "start_time": "2021-06-12T14:32:01.064Z"
   },
   {
    "duration": 15,
    "start_time": "2021-06-12T14:33:12.164Z"
   },
   {
    "duration": 14,
    "start_time": "2021-06-12T14:34:38.814Z"
   },
   {
    "duration": 1006,
    "start_time": "2021-06-12T14:35:04.884Z"
   },
   {
    "duration": 67,
    "start_time": "2021-06-12T14:35:05.891Z"
   },
   {
    "duration": 7,
    "start_time": "2021-06-12T14:35:05.960Z"
   },
   {
    "duration": 11,
    "start_time": "2021-06-12T14:35:05.969Z"
   },
   {
    "duration": 7,
    "start_time": "2021-06-12T14:35:05.982Z"
   },
   {
    "duration": 6,
    "start_time": "2021-06-12T14:35:05.991Z"
   },
   {
    "duration": 7,
    "start_time": "2021-06-12T14:35:05.998Z"
   },
   {
    "duration": 10,
    "start_time": "2021-06-12T14:35:06.008Z"
   },
   {
    "duration": 6,
    "start_time": "2021-06-12T14:35:06.020Z"
   },
   {
    "duration": 6,
    "start_time": "2021-06-12T14:35:06.027Z"
   },
   {
    "duration": 8,
    "start_time": "2021-06-12T14:35:06.034Z"
   },
   {
    "duration": 6,
    "start_time": "2021-06-12T14:35:06.043Z"
   },
   {
    "duration": 8,
    "start_time": "2021-06-12T14:35:06.085Z"
   },
   {
    "duration": 5,
    "start_time": "2021-06-12T14:35:06.095Z"
   },
   {
    "duration": 8,
    "start_time": "2021-06-12T14:35:06.101Z"
   },
   {
    "duration": 6,
    "start_time": "2021-06-12T14:35:06.111Z"
   },
   {
    "duration": 4,
    "start_time": "2021-06-12T14:35:06.119Z"
   },
   {
    "duration": 19,
    "start_time": "2021-06-12T14:35:06.125Z"
   },
   {
    "duration": 7,
    "start_time": "2021-06-12T14:35:06.146Z"
   },
   {
    "duration": 6,
    "start_time": "2021-06-12T14:35:06.185Z"
   },
   {
    "duration": 8,
    "start_time": "2021-06-12T14:35:06.192Z"
   },
   {
    "duration": 4,
    "start_time": "2021-06-12T14:35:06.201Z"
   },
   {
    "duration": 3,
    "start_time": "2021-06-12T14:35:06.208Z"
   },
   {
    "duration": 5,
    "start_time": "2021-06-12T14:35:06.213Z"
   },
   {
    "duration": 6,
    "start_time": "2021-06-12T14:35:06.219Z"
   },
   {
    "duration": 12,
    "start_time": "2021-06-12T14:35:06.226Z"
   },
   {
    "duration": 10,
    "start_time": "2021-06-12T14:35:06.240Z"
   },
   {
    "duration": 540,
    "start_time": "2021-06-12T14:35:06.252Z"
   },
   {
    "duration": 21,
    "start_time": "2021-06-12T14:35:06.793Z"
   },
   {
    "duration": 774,
    "start_time": "2021-06-12T14:35:06.816Z"
   },
   {
    "duration": 293,
    "start_time": "2021-06-12T14:35:07.592Z"
   },
   {
    "duration": 262,
    "start_time": "2021-06-12T14:35:07.887Z"
   },
   {
    "duration": 345,
    "start_time": "2021-06-12T14:35:08.151Z"
   },
   {
    "duration": 270,
    "start_time": "2021-06-12T14:35:08.498Z"
   },
   {
    "duration": 397,
    "start_time": "2021-06-12T14:35:08.770Z"
   },
   {
    "duration": 379,
    "start_time": "2021-06-12T14:35:09.169Z"
   },
   {
    "duration": 5,
    "start_time": "2021-06-12T14:35:09.549Z"
   },
   {
    "duration": 102,
    "start_time": "2021-06-12T14:35:09.555Z"
   },
   {
    "duration": 379,
    "start_time": "2021-06-12T14:35:09.659Z"
   },
   {
    "duration": 5,
    "start_time": "2021-06-12T14:35:10.039Z"
   },
   {
    "duration": 518,
    "start_time": "2021-06-12T14:35:10.046Z"
   },
   {
    "duration": 18,
    "start_time": "2021-06-12T14:35:10.566Z"
   },
   {
    "duration": 8,
    "start_time": "2021-06-12T14:35:10.586Z"
   },
   {
    "duration": 11,
    "start_time": "2021-06-12T14:35:10.595Z"
   },
   {
    "duration": 11,
    "start_time": "2021-06-12T14:35:10.608Z"
   },
   {
    "duration": 15,
    "start_time": "2021-06-12T14:36:55.682Z"
   },
   {
    "duration": 15,
    "start_time": "2021-06-12T14:37:25.597Z"
   },
   {
    "duration": 257,
    "start_time": "2021-06-12T14:40:11.858Z"
   },
   {
    "duration": 13,
    "start_time": "2021-06-12T14:40:29.369Z"
   },
   {
    "duration": 15,
    "start_time": "2021-06-12T14:40:37.338Z"
   },
   {
    "duration": 935,
    "start_time": "2021-06-12T14:42:16.716Z"
   },
   {
    "duration": 67,
    "start_time": "2021-06-12T14:42:17.652Z"
   },
   {
    "duration": 6,
    "start_time": "2021-06-12T14:42:17.721Z"
   },
   {
    "duration": 10,
    "start_time": "2021-06-12T14:42:17.728Z"
   },
   {
    "duration": 4,
    "start_time": "2021-06-12T14:42:17.740Z"
   },
   {
    "duration": 5,
    "start_time": "2021-06-12T14:42:17.745Z"
   },
   {
    "duration": 7,
    "start_time": "2021-06-12T14:42:17.752Z"
   },
   {
    "duration": 4,
    "start_time": "2021-06-12T14:42:17.762Z"
   },
   {
    "duration": 6,
    "start_time": "2021-06-12T14:42:17.768Z"
   },
   {
    "duration": 5,
    "start_time": "2021-06-12T14:42:17.785Z"
   },
   {
    "duration": 6,
    "start_time": "2021-06-12T14:42:17.791Z"
   },
   {
    "duration": 6,
    "start_time": "2021-06-12T14:42:17.799Z"
   },
   {
    "duration": 8,
    "start_time": "2021-06-12T14:42:17.807Z"
   },
   {
    "duration": 6,
    "start_time": "2021-06-12T14:42:17.816Z"
   },
   {
    "duration": 8,
    "start_time": "2021-06-12T14:42:17.824Z"
   },
   {
    "duration": 4,
    "start_time": "2021-06-12T14:42:17.833Z"
   },
   {
    "duration": 5,
    "start_time": "2021-06-12T14:42:17.839Z"
   },
   {
    "duration": 51,
    "start_time": "2021-06-12T14:42:17.846Z"
   },
   {
    "duration": 10,
    "start_time": "2021-06-12T14:42:17.899Z"
   },
   {
    "duration": 8,
    "start_time": "2021-06-12T14:42:17.911Z"
   },
   {
    "duration": 7,
    "start_time": "2021-06-12T14:42:17.920Z"
   },
   {
    "duration": 6,
    "start_time": "2021-06-12T14:42:17.928Z"
   },
   {
    "duration": 4,
    "start_time": "2021-06-12T14:42:17.938Z"
   },
   {
    "duration": 9,
    "start_time": "2021-06-12T14:42:17.944Z"
   },
   {
    "duration": 32,
    "start_time": "2021-06-12T14:42:17.954Z"
   },
   {
    "duration": 11,
    "start_time": "2021-06-12T14:42:17.987Z"
   },
   {
    "duration": 11,
    "start_time": "2021-06-12T14:42:18.000Z"
   },
   {
    "duration": 499,
    "start_time": "2021-06-12T14:42:18.012Z"
   },
   {
    "duration": 15,
    "start_time": "2021-06-12T14:42:18.512Z"
   },
   {
    "duration": 267,
    "start_time": "2021-06-12T14:42:18.528Z"
   },
   {
    "duration": -749,
    "start_time": "2021-06-12T14:42:19.546Z"
   },
   {
    "duration": -756,
    "start_time": "2021-06-12T14:42:19.554Z"
   },
   {
    "duration": -759,
    "start_time": "2021-06-12T14:42:19.558Z"
   },
   {
    "duration": -766,
    "start_time": "2021-06-12T14:42:19.565Z"
   },
   {
    "duration": -790,
    "start_time": "2021-06-12T14:42:19.590Z"
   },
   {
    "duration": -794,
    "start_time": "2021-06-12T14:42:19.595Z"
   },
   {
    "duration": -798,
    "start_time": "2021-06-12T14:42:19.600Z"
   },
   {
    "duration": -805,
    "start_time": "2021-06-12T14:42:19.608Z"
   },
   {
    "duration": -810,
    "start_time": "2021-06-12T14:42:19.614Z"
   },
   {
    "duration": -816,
    "start_time": "2021-06-12T14:42:19.621Z"
   },
   {
    "duration": -820,
    "start_time": "2021-06-12T14:42:19.626Z"
   },
   {
    "duration": -839,
    "start_time": "2021-06-12T14:42:19.646Z"
   },
   {
    "duration": -845,
    "start_time": "2021-06-12T14:42:19.653Z"
   },
   {
    "duration": -849,
    "start_time": "2021-06-12T14:42:19.658Z"
   },
   {
    "duration": -853,
    "start_time": "2021-06-12T14:42:19.662Z"
   },
   {
    "duration": 641,
    "start_time": "2021-06-12T14:43:03.067Z"
   },
   {
    "duration": 278,
    "start_time": "2021-06-12T14:43:11.806Z"
   },
   {
    "duration": 269,
    "start_time": "2021-06-12T14:43:12.086Z"
   },
   {
    "duration": 368,
    "start_time": "2021-06-12T14:43:12.357Z"
   },
   {
    "duration": 264,
    "start_time": "2021-06-12T14:43:12.727Z"
   },
   {
    "duration": 368,
    "start_time": "2021-06-12T14:43:12.993Z"
   },
   {
    "duration": 358,
    "start_time": "2021-06-12T14:43:13.363Z"
   },
   {
    "duration": 5,
    "start_time": "2021-06-12T14:43:13.722Z"
   },
   {
    "duration": 113,
    "start_time": "2021-06-12T14:43:13.729Z"
   },
   {
    "duration": 545,
    "start_time": "2021-06-12T14:43:13.885Z"
   },
   {
    "duration": 5,
    "start_time": "2021-06-12T14:43:14.432Z"
   },
   {
    "duration": 531,
    "start_time": "2021-06-12T14:43:14.438Z"
   },
   {
    "duration": 17,
    "start_time": "2021-06-12T14:43:14.971Z"
   },
   {
    "duration": 9,
    "start_time": "2021-06-12T14:43:14.990Z"
   },
   {
    "duration": 24,
    "start_time": "2021-06-12T14:43:15.000Z"
   },
   {
    "duration": 16,
    "start_time": "2021-06-12T14:43:15.026Z"
   },
   {
    "duration": 336,
    "start_time": "2021-06-12T16:47:11.327Z"
   },
   {
    "duration": 1213,
    "start_time": "2021-06-12T16:49:40.597Z"
   },
   {
    "duration": -311,
    "start_time": "2021-06-12T16:49:42.125Z"
   },
   {
    "duration": -314,
    "start_time": "2021-06-12T16:49:42.129Z"
   },
   {
    "duration": -332,
    "start_time": "2021-06-12T16:49:42.148Z"
   },
   {
    "duration": -334,
    "start_time": "2021-06-12T16:49:42.151Z"
   },
   {
    "duration": -337,
    "start_time": "2021-06-12T16:49:42.155Z"
   },
   {
    "duration": -340,
    "start_time": "2021-06-12T16:49:42.159Z"
   },
   {
    "duration": -343,
    "start_time": "2021-06-12T16:49:42.163Z"
   },
   {
    "duration": -345,
    "start_time": "2021-06-12T16:49:42.166Z"
   },
   {
    "duration": -347,
    "start_time": "2021-06-12T16:49:42.169Z"
   },
   {
    "duration": -349,
    "start_time": "2021-06-12T16:49:42.172Z"
   },
   {
    "duration": -352,
    "start_time": "2021-06-12T16:49:42.175Z"
   },
   {
    "duration": -354,
    "start_time": "2021-06-12T16:49:42.178Z"
   },
   {
    "duration": -357,
    "start_time": "2021-06-12T16:49:42.182Z"
   },
   {
    "duration": -359,
    "start_time": "2021-06-12T16:49:42.185Z"
   },
   {
    "duration": -362,
    "start_time": "2021-06-12T16:49:42.189Z"
   },
   {
    "duration": -365,
    "start_time": "2021-06-12T16:49:42.193Z"
   },
   {
    "duration": -367,
    "start_time": "2021-06-12T16:49:42.196Z"
   },
   {
    "duration": -369,
    "start_time": "2021-06-12T16:49:42.199Z"
   },
   {
    "duration": -371,
    "start_time": "2021-06-12T16:49:42.202Z"
   },
   {
    "duration": -374,
    "start_time": "2021-06-12T16:49:42.206Z"
   },
   {
    "duration": -377,
    "start_time": "2021-06-12T16:49:42.210Z"
   },
   {
    "duration": -385,
    "start_time": "2021-06-12T16:49:42.220Z"
   },
   {
    "duration": -387,
    "start_time": "2021-06-12T16:49:42.223Z"
   },
   {
    "duration": -391,
    "start_time": "2021-06-12T16:49:42.228Z"
   },
   {
    "duration": -393,
    "start_time": "2021-06-12T16:49:42.230Z"
   },
   {
    "duration": -395,
    "start_time": "2021-06-12T16:49:42.233Z"
   },
   {
    "duration": -397,
    "start_time": "2021-06-12T16:49:42.236Z"
   },
   {
    "duration": -399,
    "start_time": "2021-06-12T16:49:42.239Z"
   },
   {
    "duration": -402,
    "start_time": "2021-06-12T16:49:42.243Z"
   },
   {
    "duration": -405,
    "start_time": "2021-06-12T16:49:42.247Z"
   },
   {
    "duration": -406,
    "start_time": "2021-06-12T16:49:42.249Z"
   },
   {
    "duration": -408,
    "start_time": "2021-06-12T16:49:42.252Z"
   },
   {
    "duration": -410,
    "start_time": "2021-06-12T16:49:42.255Z"
   },
   {
    "duration": -413,
    "start_time": "2021-06-12T16:49:42.259Z"
   },
   {
    "duration": -415,
    "start_time": "2021-06-12T16:49:42.262Z"
   },
   {
    "duration": -417,
    "start_time": "2021-06-12T16:49:42.265Z"
   },
   {
    "duration": -418,
    "start_time": "2021-06-12T16:49:42.267Z"
   },
   {
    "duration": -420,
    "start_time": "2021-06-12T16:49:42.270Z"
   },
   {
    "duration": -422,
    "start_time": "2021-06-12T16:49:42.273Z"
   },
   {
    "duration": -425,
    "start_time": "2021-06-12T16:49:42.277Z"
   },
   {
    "duration": -427,
    "start_time": "2021-06-12T16:49:42.280Z"
   },
   {
    "duration": -429,
    "start_time": "2021-06-12T16:49:42.283Z"
   },
   {
    "duration": -431,
    "start_time": "2021-06-12T16:49:42.286Z"
   },
   {
    "duration": -434,
    "start_time": "2021-06-12T16:49:42.289Z"
   },
   {
    "duration": 3,
    "start_time": "2021-06-12T16:49:58.598Z"
   },
   {
    "duration": 69,
    "start_time": "2021-06-12T16:49:58.602Z"
   },
   {
    "duration": 6,
    "start_time": "2021-06-12T16:49:58.673Z"
   },
   {
    "duration": 13,
    "start_time": "2021-06-12T16:49:58.680Z"
   },
   {
    "duration": 4,
    "start_time": "2021-06-12T16:49:58.695Z"
   },
   {
    "duration": 7,
    "start_time": "2021-06-12T16:49:58.701Z"
   },
   {
    "duration": 8,
    "start_time": "2021-06-12T16:49:58.709Z"
   },
   {
    "duration": 8,
    "start_time": "2021-06-12T16:49:58.718Z"
   },
   {
    "duration": 5,
    "start_time": "2021-06-12T16:49:58.728Z"
   },
   {
    "duration": 7,
    "start_time": "2021-06-12T16:49:58.735Z"
   },
   {
    "duration": 7,
    "start_time": "2021-06-12T16:49:58.743Z"
   },
   {
    "duration": 5,
    "start_time": "2021-06-12T16:49:58.785Z"
   },
   {
    "duration": 11,
    "start_time": "2021-06-12T16:49:58.792Z"
   },
   {
    "duration": 7,
    "start_time": "2021-06-12T16:49:58.804Z"
   },
   {
    "duration": 9,
    "start_time": "2021-06-12T16:49:58.813Z"
   },
   {
    "duration": 6,
    "start_time": "2021-06-12T16:49:58.823Z"
   },
   {
    "duration": 11,
    "start_time": "2021-06-12T16:49:58.830Z"
   },
   {
    "duration": 22,
    "start_time": "2021-06-12T16:49:58.843Z"
   },
   {
    "duration": 8,
    "start_time": "2021-06-12T16:49:58.885Z"
   },
   {
    "duration": 15,
    "start_time": "2021-06-12T16:49:58.894Z"
   },
   {
    "duration": 7,
    "start_time": "2021-06-12T16:49:58.910Z"
   },
   {
    "duration": 8,
    "start_time": "2021-06-12T16:49:58.918Z"
   },
   {
    "duration": 12,
    "start_time": "2021-06-12T16:49:58.928Z"
   },
   {
    "duration": 12,
    "start_time": "2021-06-12T16:49:58.941Z"
   },
   {
    "duration": 6,
    "start_time": "2021-06-12T16:49:58.955Z"
   },
   {
    "duration": 18,
    "start_time": "2021-06-12T16:49:58.962Z"
   },
   {
    "duration": 11,
    "start_time": "2021-06-12T16:49:58.986Z"
   },
   {
    "duration": 511,
    "start_time": "2021-06-12T16:49:58.999Z"
   },
   {
    "duration": 18,
    "start_time": "2021-06-12T16:49:59.512Z"
   },
   {
    "duration": 675,
    "start_time": "2021-06-12T16:49:59.532Z"
   },
   {
    "duration": 300,
    "start_time": "2021-06-12T16:50:00.208Z"
   },
   {
    "duration": 275,
    "start_time": "2021-06-12T16:50:00.509Z"
   },
   {
    "duration": 422,
    "start_time": "2021-06-12T16:50:00.786Z"
   },
   {
    "duration": 447,
    "start_time": "2021-06-12T16:50:01.209Z"
   },
   {
    "duration": 548,
    "start_time": "2021-06-12T16:50:01.658Z"
   },
   {
    "duration": 396,
    "start_time": "2021-06-12T16:50:02.208Z"
   },
   {
    "duration": 5,
    "start_time": "2021-06-12T16:50:02.606Z"
   },
   {
    "duration": 107,
    "start_time": "2021-06-12T16:50:02.612Z"
   },
   {
    "duration": 333,
    "start_time": "2021-06-12T16:50:02.721Z"
   },
   {
    "duration": 4,
    "start_time": "2021-06-12T16:50:03.056Z"
   },
   {
    "duration": 511,
    "start_time": "2021-06-12T16:50:03.062Z"
   },
   {
    "duration": 17,
    "start_time": "2021-06-12T16:50:03.574Z"
   },
   {
    "duration": 11,
    "start_time": "2021-06-12T16:50:03.593Z"
   },
   {
    "duration": 11,
    "start_time": "2021-06-12T16:50:03.606Z"
   },
   {
    "duration": 11,
    "start_time": "2021-06-12T16:50:03.619Z"
   },
   {
    "duration": 3,
    "start_time": "2021-06-12T17:00:07.456Z"
   },
   {
    "duration": 983,
    "start_time": "2021-06-12T17:00:15.578Z"
   },
   {
    "duration": 77,
    "start_time": "2021-06-12T17:00:16.563Z"
   },
   {
    "duration": 5,
    "start_time": "2021-06-12T17:00:16.642Z"
   },
   {
    "duration": 20,
    "start_time": "2021-06-12T17:00:16.649Z"
   },
   {
    "duration": 5,
    "start_time": "2021-06-12T17:00:16.670Z"
   },
   {
    "duration": 7,
    "start_time": "2021-06-12T17:00:16.677Z"
   },
   {
    "duration": 10,
    "start_time": "2021-06-12T17:00:16.686Z"
   },
   {
    "duration": 6,
    "start_time": "2021-06-12T17:00:16.698Z"
   },
   {
    "duration": 6,
    "start_time": "2021-06-12T17:00:16.706Z"
   },
   {
    "duration": 5,
    "start_time": "2021-06-12T17:00:16.714Z"
   },
   {
    "duration": 8,
    "start_time": "2021-06-12T17:00:16.720Z"
   },
   {
    "duration": 5,
    "start_time": "2021-06-12T17:00:16.730Z"
   },
   {
    "duration": 8,
    "start_time": "2021-06-12T17:00:16.737Z"
   },
   {
    "duration": 38,
    "start_time": "2021-06-12T17:00:16.747Z"
   },
   {
    "duration": 10,
    "start_time": "2021-06-12T17:00:16.786Z"
   },
   {
    "duration": 6,
    "start_time": "2021-06-12T17:00:16.797Z"
   },
   {
    "duration": 6,
    "start_time": "2021-06-12T17:00:16.805Z"
   },
   {
    "duration": 18,
    "start_time": "2021-06-12T17:00:16.812Z"
   },
   {
    "duration": 7,
    "start_time": "2021-06-12T17:00:16.832Z"
   },
   {
    "duration": 11,
    "start_time": "2021-06-12T17:00:16.841Z"
   },
   {
    "duration": 32,
    "start_time": "2021-06-12T17:00:16.853Z"
   },
   {
    "duration": 9,
    "start_time": "2021-06-12T17:00:16.887Z"
   },
   {
    "duration": 11,
    "start_time": "2021-06-12T17:00:16.897Z"
   },
   {
    "duration": 8,
    "start_time": "2021-06-12T17:00:16.909Z"
   },
   {
    "duration": 10,
    "start_time": "2021-06-12T17:00:16.919Z"
   },
   {
    "duration": 20,
    "start_time": "2021-06-12T17:00:16.930Z"
   },
   {
    "duration": 10,
    "start_time": "2021-06-12T17:00:16.953Z"
   },
   {
    "duration": 527,
    "start_time": "2021-06-12T17:00:16.965Z"
   },
   {
    "duration": 16,
    "start_time": "2021-06-12T17:00:17.494Z"
   },
   {
    "duration": 683,
    "start_time": "2021-06-12T17:00:17.511Z"
   },
   {
    "duration": 274,
    "start_time": "2021-06-12T17:00:18.195Z"
   },
   {
    "duration": 333,
    "start_time": "2021-06-12T17:00:18.470Z"
   },
   {
    "duration": 351,
    "start_time": "2021-06-12T17:00:18.805Z"
   },
   {
    "duration": 276,
    "start_time": "2021-06-12T17:00:19.157Z"
   },
   {
    "duration": 364,
    "start_time": "2021-06-12T17:00:19.435Z"
   },
   {
    "duration": 352,
    "start_time": "2021-06-12T17:00:19.801Z"
   },
   {
    "duration": 5,
    "start_time": "2021-06-12T17:00:20.155Z"
   },
   {
    "duration": 98,
    "start_time": "2021-06-12T17:00:20.161Z"
   },
   {
    "duration": 553,
    "start_time": "2021-06-12T17:00:20.261Z"
   },
   {
    "duration": 4,
    "start_time": "2021-06-12T17:00:20.816Z"
   },
   {
    "duration": 515,
    "start_time": "2021-06-12T17:00:20.822Z"
   },
   {
    "duration": 9,
    "start_time": "2021-06-12T17:00:21.339Z"
   },
   {
    "duration": 12,
    "start_time": "2021-06-12T17:00:21.349Z"
   },
   {
    "duration": 22,
    "start_time": "2021-06-12T17:00:21.363Z"
   },
   {
    "duration": 12,
    "start_time": "2021-06-12T17:00:21.387Z"
   },
   {
    "duration": 580,
    "start_time": "2021-06-12T17:16:17.278Z"
   },
   {
    "duration": 333,
    "start_time": "2021-06-12T17:16:35.209Z"
   },
   {
    "duration": 341,
    "start_time": "2021-06-12T17:17:01.508Z"
   },
   {
    "duration": 336,
    "start_time": "2021-06-12T17:23:17.101Z"
   },
   {
    "duration": 322,
    "start_time": "2021-06-12T17:24:30.607Z"
   },
   {
    "duration": 348,
    "start_time": "2021-06-12T17:24:42.088Z"
   },
   {
    "duration": 1369,
    "start_time": "2021-06-12T17:33:50.076Z"
   },
   {
    "duration": 89,
    "start_time": "2021-06-12T17:33:51.448Z"
   },
   {
    "duration": 9,
    "start_time": "2021-06-12T17:33:51.539Z"
   },
   {
    "duration": 21,
    "start_time": "2021-06-12T17:33:51.551Z"
   },
   {
    "duration": 6,
    "start_time": "2021-06-12T17:33:51.574Z"
   },
   {
    "duration": 16,
    "start_time": "2021-06-12T17:33:51.582Z"
   },
   {
    "duration": 15,
    "start_time": "2021-06-12T17:33:51.600Z"
   },
   {
    "duration": 7,
    "start_time": "2021-06-12T17:33:51.619Z"
   },
   {
    "duration": 13,
    "start_time": "2021-06-12T17:33:51.629Z"
   },
   {
    "duration": 9,
    "start_time": "2021-06-12T17:33:51.644Z"
   },
   {
    "duration": 37,
    "start_time": "2021-06-12T17:33:51.655Z"
   },
   {
    "duration": 10,
    "start_time": "2021-06-12T17:33:51.694Z"
   },
   {
    "duration": 12,
    "start_time": "2021-06-12T17:33:51.706Z"
   },
   {
    "duration": 13,
    "start_time": "2021-06-12T17:33:51.720Z"
   },
   {
    "duration": 22,
    "start_time": "2021-06-12T17:33:51.735Z"
   },
   {
    "duration": 30,
    "start_time": "2021-06-12T17:33:51.759Z"
   },
   {
    "duration": 11,
    "start_time": "2021-06-12T17:33:51.791Z"
   },
   {
    "duration": 33,
    "start_time": "2021-06-12T17:33:51.804Z"
   },
   {
    "duration": 15,
    "start_time": "2021-06-12T17:33:51.839Z"
   },
   {
    "duration": 36,
    "start_time": "2021-06-12T17:33:51.856Z"
   },
   {
    "duration": 12,
    "start_time": "2021-06-12T17:33:51.894Z"
   },
   {
    "duration": 8,
    "start_time": "2021-06-12T17:33:51.908Z"
   },
   {
    "duration": 5,
    "start_time": "2021-06-12T17:33:51.921Z"
   },
   {
    "duration": 6,
    "start_time": "2021-06-12T17:33:51.929Z"
   },
   {
    "duration": 8,
    "start_time": "2021-06-12T17:33:51.937Z"
   },
   {
    "duration": 17,
    "start_time": "2021-06-12T17:33:51.986Z"
   },
   {
    "duration": 17,
    "start_time": "2021-06-12T17:33:52.005Z"
   },
   {
    "duration": 789,
    "start_time": "2021-06-12T17:33:52.024Z"
   },
   {
    "duration": 23,
    "start_time": "2021-06-12T17:33:52.815Z"
   },
   {
    "duration": 1219,
    "start_time": "2021-06-12T17:33:52.840Z"
   },
   {
    "duration": 656,
    "start_time": "2021-06-12T17:33:54.062Z"
   },
   {
    "duration": 730,
    "start_time": "2021-06-12T17:33:54.720Z"
   },
   {
    "duration": 540,
    "start_time": "2021-06-12T17:33:55.452Z"
   },
   {
    "duration": 471,
    "start_time": "2021-06-12T17:33:55.994Z"
   },
   {
    "duration": 544,
    "start_time": "2021-06-12T17:33:56.468Z"
   },
   {
    "duration": 497,
    "start_time": "2021-06-12T17:33:57.014Z"
   },
   {
    "duration": 6,
    "start_time": "2021-06-12T17:33:57.513Z"
   },
   {
    "duration": 196,
    "start_time": "2021-06-12T17:33:57.521Z"
   },
   {
    "duration": 460,
    "start_time": "2021-06-12T17:33:57.719Z"
   },
   {
    "duration": 6,
    "start_time": "2021-06-12T17:33:58.185Z"
   },
   {
    "duration": 892,
    "start_time": "2021-06-12T17:33:58.193Z"
   },
   {
    "duration": 15,
    "start_time": "2021-06-12T17:33:59.087Z"
   },
   {
    "duration": 14,
    "start_time": "2021-06-12T17:33:59.105Z"
   },
   {
    "duration": 18,
    "start_time": "2021-06-12T17:33:59.122Z"
   },
   {
    "duration": 59,
    "start_time": "2021-06-12T17:33:59.142Z"
   },
   {
    "duration": 483,
    "start_time": "2021-06-12T17:35:31.035Z"
   },
   {
    "duration": 484,
    "start_time": "2021-06-12T17:35:59.005Z"
   },
   {
    "duration": 311,
    "start_time": "2021-06-12T17:37:26.816Z"
   },
   {
    "duration": 220,
    "start_time": "2021-06-12T17:37:37.366Z"
   },
   {
    "duration": 227,
    "start_time": "2021-06-12T17:39:08.976Z"
   },
   {
    "duration": 463,
    "start_time": "2021-06-12T17:40:26.546Z"
   },
   {
    "duration": 455,
    "start_time": "2021-06-12T17:41:20.607Z"
   },
   {
    "duration": 452,
    "start_time": "2021-06-12T17:42:38.017Z"
   },
   {
    "duration": 493,
    "start_time": "2021-06-12T17:42:44.766Z"
   },
   {
    "duration": 445,
    "start_time": "2021-06-12T17:42:51.816Z"
   },
   {
    "duration": 460,
    "start_time": "2021-06-12T17:43:04.806Z"
   },
   {
    "duration": 456,
    "start_time": "2021-06-12T17:43:31.016Z"
   },
   {
    "duration": 518,
    "start_time": "2021-06-12T17:43:38.256Z"
   },
   {
    "duration": 671,
    "start_time": "2021-06-12T17:47:37.287Z"
   },
   {
    "duration": 569,
    "start_time": "2021-06-12T17:48:14.635Z"
   },
   {
    "duration": 515,
    "start_time": "2021-06-12T17:49:20.416Z"
   },
   {
    "duration": 493,
    "start_time": "2021-06-13T07:59:29.466Z"
   },
   {
    "duration": 1870,
    "start_time": "2021-06-13T08:00:39.234Z"
   },
   {
    "duration": 78,
    "start_time": "2021-06-13T08:00:41.108Z"
   },
   {
    "duration": 12,
    "start_time": "2021-06-13T08:00:41.190Z"
   },
   {
    "duration": 25,
    "start_time": "2021-06-13T08:00:41.206Z"
   },
   {
    "duration": 8,
    "start_time": "2021-06-13T08:00:41.234Z"
   },
   {
    "duration": 12,
    "start_time": "2021-06-13T08:00:41.263Z"
   },
   {
    "duration": 27,
    "start_time": "2021-06-13T08:00:41.278Z"
   },
   {
    "duration": 23,
    "start_time": "2021-06-13T08:00:41.308Z"
   },
   {
    "duration": 20,
    "start_time": "2021-06-13T08:00:41.337Z"
   },
   {
    "duration": 15,
    "start_time": "2021-06-13T08:00:41.360Z"
   },
   {
    "duration": 17,
    "start_time": "2021-06-13T08:00:41.378Z"
   },
   {
    "duration": 22,
    "start_time": "2021-06-13T08:00:41.397Z"
   },
   {
    "duration": 15,
    "start_time": "2021-06-13T08:00:41.421Z"
   },
   {
    "duration": 31,
    "start_time": "2021-06-13T08:00:41.438Z"
   },
   {
    "duration": 14,
    "start_time": "2021-06-13T08:00:41.471Z"
   },
   {
    "duration": 10,
    "start_time": "2021-06-13T08:00:41.488Z"
   },
   {
    "duration": 16,
    "start_time": "2021-06-13T08:00:41.500Z"
   },
   {
    "duration": 62,
    "start_time": "2021-06-13T08:00:41.518Z"
   },
   {
    "duration": 12,
    "start_time": "2021-06-13T08:00:41.582Z"
   },
   {
    "duration": 24,
    "start_time": "2021-06-13T08:00:41.596Z"
   },
   {
    "duration": 11,
    "start_time": "2021-06-13T08:00:41.623Z"
   },
   {
    "duration": 7,
    "start_time": "2021-06-13T08:00:41.662Z"
   },
   {
    "duration": 7,
    "start_time": "2021-06-13T08:00:41.671Z"
   },
   {
    "duration": 7,
    "start_time": "2021-06-13T08:00:41.680Z"
   },
   {
    "duration": 8,
    "start_time": "2021-06-13T08:00:41.689Z"
   },
   {
    "duration": 25,
    "start_time": "2021-06-13T08:00:41.699Z"
   },
   {
    "duration": 18,
    "start_time": "2021-06-13T08:00:41.764Z"
   },
   {
    "duration": 1408,
    "start_time": "2021-06-13T08:06:29.420Z"
   },
   {
    "duration": 66,
    "start_time": "2021-06-13T08:06:30.831Z"
   },
   {
    "duration": 10,
    "start_time": "2021-06-13T08:06:30.901Z"
   },
   {
    "duration": 23,
    "start_time": "2021-06-13T08:06:30.914Z"
   },
   {
    "duration": 10,
    "start_time": "2021-06-13T08:06:30.940Z"
   },
   {
    "duration": 14,
    "start_time": "2021-06-13T08:06:30.952Z"
   },
   {
    "duration": 11,
    "start_time": "2021-06-13T08:06:30.968Z"
   },
   {
    "duration": 14,
    "start_time": "2021-06-13T08:06:30.983Z"
   },
   {
    "duration": 21,
    "start_time": "2021-06-13T08:06:31.000Z"
   },
   {
    "duration": 21,
    "start_time": "2021-06-13T08:06:31.023Z"
   },
   {
    "duration": 17,
    "start_time": "2021-06-13T08:06:31.046Z"
   },
   {
    "duration": 20,
    "start_time": "2021-06-13T08:06:31.066Z"
   },
   {
    "duration": 33,
    "start_time": "2021-06-13T08:06:31.089Z"
   },
   {
    "duration": 30,
    "start_time": "2021-06-13T08:06:31.125Z"
   },
   {
    "duration": 29,
    "start_time": "2021-06-13T08:06:31.158Z"
   },
   {
    "duration": 15,
    "start_time": "2021-06-13T08:06:31.191Z"
   },
   {
    "duration": 21,
    "start_time": "2021-06-13T08:06:31.208Z"
   },
   {
    "duration": 40,
    "start_time": "2021-06-13T08:06:31.231Z"
   },
   {
    "duration": 29,
    "start_time": "2021-06-13T08:06:31.273Z"
   },
   {
    "duration": 25,
    "start_time": "2021-06-13T08:06:31.305Z"
   },
   {
    "duration": 22,
    "start_time": "2021-06-13T08:06:31.333Z"
   },
   {
    "duration": 15,
    "start_time": "2021-06-13T08:06:31.357Z"
   },
   {
    "duration": 21,
    "start_time": "2021-06-13T08:06:31.377Z"
   },
   {
    "duration": 13,
    "start_time": "2021-06-13T08:06:31.401Z"
   },
   {
    "duration": 10,
    "start_time": "2021-06-13T08:06:31.417Z"
   },
   {
    "duration": 37,
    "start_time": "2021-06-13T08:06:31.429Z"
   },
   {
    "duration": 18,
    "start_time": "2021-06-13T08:06:31.468Z"
   },
   {
    "duration": 780,
    "start_time": "2021-06-13T08:06:31.488Z"
   },
   {
    "duration": 22,
    "start_time": "2021-06-13T08:06:32.271Z"
   },
   {
    "duration": 1216,
    "start_time": "2021-06-13T08:06:32.296Z"
   },
   {
    "duration": 591,
    "start_time": "2021-06-13T08:06:33.515Z"
   },
   {
    "duration": 840,
    "start_time": "2021-06-13T08:06:34.162Z"
   },
   {
    "duration": 586,
    "start_time": "2021-06-13T08:06:35.004Z"
   },
   {
    "duration": 482,
    "start_time": "2021-06-13T08:06:35.592Z"
   },
   {
    "duration": 529,
    "start_time": "2021-06-13T08:06:36.076Z"
   },
   {
    "duration": 595,
    "start_time": "2021-06-13T08:06:36.607Z"
   },
   {
    "duration": 6,
    "start_time": "2021-06-13T08:06:37.204Z"
   },
   {
    "duration": 215,
    "start_time": "2021-06-13T08:06:37.212Z"
   },
   {
    "duration": 377,
    "start_time": "2021-06-13T08:06:37.429Z"
   },
   {
    "duration": 6,
    "start_time": "2021-06-13T08:06:37.808Z"
   },
   {
    "duration": 885,
    "start_time": "2021-06-13T08:06:37.816Z"
   },
   {
    "duration": 436,
    "start_time": "2021-06-13T08:06:38.703Z"
   },
   {
    "duration": -79,
    "start_time": "2021-06-13T08:06:39.221Z"
   },
   {
    "duration": -86,
    "start_time": "2021-06-13T08:06:39.229Z"
   },
   {
    "duration": -103,
    "start_time": "2021-06-13T08:06:39.248Z"
   },
   {
    "duration": 338,
    "start_time": "2021-06-13T08:26:22.407Z"
   },
   {
    "duration": 672,
    "start_time": "2021-06-13T08:26:27.873Z"
   },
   {
    "duration": 17,
    "start_time": "2021-06-13T08:26:28.549Z"
   },
   {
    "duration": 1365,
    "start_time": "2021-06-13T08:26:28.570Z"
   },
   {
    "duration": 325,
    "start_time": "2021-06-13T08:26:29.939Z"
   },
   {
    "duration": -427,
    "start_time": "2021-06-13T08:26:30.694Z"
   },
   {
    "duration": -499,
    "start_time": "2021-06-13T08:26:30.768Z"
   },
   {
    "duration": -562,
    "start_time": "2021-06-13T08:26:30.833Z"
   },
   {
    "duration": 1300,
    "start_time": "2021-06-13T08:28:50.924Z"
   },
   {
    "duration": 1311,
    "start_time": "2021-06-13T08:29:03.203Z"
   },
   {
    "duration": 14,
    "start_time": "2021-06-13T08:29:48.197Z"
   },
   {
    "duration": 1746,
    "start_time": "2021-06-13T10:01:22.541Z"
   },
   {
    "duration": 81,
    "start_time": "2021-06-13T10:01:24.291Z"
   },
   {
    "duration": 10,
    "start_time": "2021-06-13T10:01:24.374Z"
   },
   {
    "duration": 17,
    "start_time": "2021-06-13T10:01:24.386Z"
   },
   {
    "duration": 6,
    "start_time": "2021-06-13T10:01:24.405Z"
   },
   {
    "duration": 10,
    "start_time": "2021-06-13T10:01:24.413Z"
   },
   {
    "duration": 19,
    "start_time": "2021-06-13T10:01:24.425Z"
   },
   {
    "duration": 6,
    "start_time": "2021-06-13T10:01:24.448Z"
   },
   {
    "duration": 7,
    "start_time": "2021-06-13T10:01:24.456Z"
   },
   {
    "duration": 7,
    "start_time": "2021-06-13T10:01:24.466Z"
   },
   {
    "duration": 14,
    "start_time": "2021-06-13T10:01:24.475Z"
   },
   {
    "duration": 39,
    "start_time": "2021-06-13T10:01:24.491Z"
   },
   {
    "duration": 12,
    "start_time": "2021-06-13T10:01:24.532Z"
   },
   {
    "duration": 7,
    "start_time": "2021-06-13T10:01:24.546Z"
   },
   {
    "duration": 13,
    "start_time": "2021-06-13T10:01:24.556Z"
   },
   {
    "duration": 7,
    "start_time": "2021-06-13T10:01:24.571Z"
   },
   {
    "duration": 44,
    "start_time": "2021-06-13T10:01:24.581Z"
   },
   {
    "duration": 37,
    "start_time": "2021-06-13T10:01:24.628Z"
   },
   {
    "duration": 16,
    "start_time": "2021-06-13T10:01:24.669Z"
   },
   {
    "duration": 37,
    "start_time": "2021-06-13T10:01:24.688Z"
   },
   {
    "duration": 10,
    "start_time": "2021-06-13T10:01:24.728Z"
   },
   {
    "duration": 7,
    "start_time": "2021-06-13T10:01:24.741Z"
   },
   {
    "duration": 5,
    "start_time": "2021-06-13T10:01:24.753Z"
   },
   {
    "duration": 7,
    "start_time": "2021-06-13T10:01:24.761Z"
   },
   {
    "duration": 54,
    "start_time": "2021-06-13T10:01:24.770Z"
   },
   {
    "duration": 23,
    "start_time": "2021-06-13T10:01:24.827Z"
   },
   {
    "duration": 18,
    "start_time": "2021-06-13T10:01:24.852Z"
   },
   {
    "duration": 778,
    "start_time": "2021-06-13T10:01:24.872Z"
   },
   {
    "duration": 26,
    "start_time": "2021-06-13T10:01:25.653Z"
   },
   {
    "duration": 1184,
    "start_time": "2021-06-13T10:01:25.682Z"
   },
   {
    "duration": 491,
    "start_time": "2021-06-13T10:01:26.869Z"
   },
   {
    "duration": 450,
    "start_time": "2021-06-13T10:01:27.363Z"
   },
   {
    "duration": 508,
    "start_time": "2021-06-13T10:01:27.823Z"
   },
   {
    "duration": 486,
    "start_time": "2021-06-13T10:01:28.333Z"
   },
   {
    "duration": 537,
    "start_time": "2021-06-13T10:01:28.825Z"
   },
   {
    "duration": 600,
    "start_time": "2021-06-13T10:01:29.365Z"
   },
   {
    "duration": 6,
    "start_time": "2021-06-13T10:01:29.967Z"
   },
   {
    "duration": 206,
    "start_time": "2021-06-13T10:01:29.975Z"
   },
   {
    "duration": 530,
    "start_time": "2021-06-13T10:01:30.183Z"
   },
   {
    "duration": 13,
    "start_time": "2021-06-13T10:01:30.715Z"
   },
   {
    "duration": 885,
    "start_time": "2021-06-13T10:01:30.730Z"
   },
   {
    "duration": 18,
    "start_time": "2021-06-13T10:01:31.618Z"
   },
   {
    "duration": 13,
    "start_time": "2021-06-13T10:01:31.638Z"
   },
   {
    "duration": 24,
    "start_time": "2021-06-13T10:01:31.654Z"
   },
   {
    "duration": 62,
    "start_time": "2021-06-13T10:01:31.681Z"
   },
   {
    "duration": 126,
    "start_time": "2021-06-13T10:22:30.539Z"
   },
   {
    "duration": 1220,
    "start_time": "2021-06-13T10:22:43.180Z"
   },
   {
    "duration": 1049,
    "start_time": "2021-06-13T10:22:56.696Z"
   },
   {
    "duration": 108,
    "start_time": "2021-06-13T10:23:24.855Z"
   },
   {
    "duration": 808,
    "start_time": "2021-06-13T10:23:31.493Z"
   },
   {
    "duration": 432,
    "start_time": "2021-06-13T13:30:51.071Z"
   },
   {
    "duration": 1459,
    "start_time": "2021-06-13T13:31:14.024Z"
   },
   {
    "duration": 58,
    "start_time": "2021-06-13T13:31:15.486Z"
   },
   {
    "duration": 9,
    "start_time": "2021-06-13T13:31:15.547Z"
   },
   {
    "duration": 21,
    "start_time": "2021-06-13T13:31:15.559Z"
   },
   {
    "duration": 12,
    "start_time": "2021-06-13T13:31:15.583Z"
   },
   {
    "duration": 10,
    "start_time": "2021-06-13T13:31:15.598Z"
   },
   {
    "duration": 17,
    "start_time": "2021-06-13T13:31:15.610Z"
   },
   {
    "duration": 10,
    "start_time": "2021-06-13T13:31:15.629Z"
   },
   {
    "duration": 8,
    "start_time": "2021-06-13T13:31:15.644Z"
   },
   {
    "duration": 17,
    "start_time": "2021-06-13T13:31:15.654Z"
   },
   {
    "duration": 37,
    "start_time": "2021-06-13T13:31:15.673Z"
   },
   {
    "duration": 9,
    "start_time": "2021-06-13T13:31:15.712Z"
   },
   {
    "duration": 16,
    "start_time": "2021-06-13T13:31:15.723Z"
   },
   {
    "duration": 8,
    "start_time": "2021-06-13T13:31:15.741Z"
   },
   {
    "duration": 14,
    "start_time": "2021-06-13T13:31:15.752Z"
   },
   {
    "duration": 44,
    "start_time": "2021-06-13T13:31:15.769Z"
   },
   {
    "duration": 10,
    "start_time": "2021-06-13T13:31:15.816Z"
   },
   {
    "duration": 32,
    "start_time": "2021-06-13T13:31:15.828Z"
   },
   {
    "duration": 13,
    "start_time": "2021-06-13T13:31:15.863Z"
   },
   {
    "duration": 8,
    "start_time": "2021-06-13T13:31:15.910Z"
   },
   {
    "duration": 18,
    "start_time": "2021-06-13T13:31:15.920Z"
   },
   {
    "duration": 13,
    "start_time": "2021-06-13T13:31:15.941Z"
   },
   {
    "duration": 7,
    "start_time": "2021-06-13T13:31:15.956Z"
   },
   {
    "duration": 8,
    "start_time": "2021-06-13T13:31:15.965Z"
   },
   {
    "duration": 36,
    "start_time": "2021-06-13T13:31:15.976Z"
   },
   {
    "duration": 24,
    "start_time": "2021-06-13T13:31:16.015Z"
   },
   {
    "duration": 18,
    "start_time": "2021-06-13T13:31:16.043Z"
   },
   {
    "duration": 783,
    "start_time": "2021-06-13T13:31:16.064Z"
   },
   {
    "duration": 23,
    "start_time": "2021-06-13T13:31:16.849Z"
   },
   {
    "duration": 1382,
    "start_time": "2021-06-13T13:33:02.196Z"
   },
   {
    "duration": 58,
    "start_time": "2021-06-13T13:33:03.580Z"
   },
   {
    "duration": 9,
    "start_time": "2021-06-13T13:33:03.641Z"
   },
   {
    "duration": 33,
    "start_time": "2021-06-13T13:33:03.652Z"
   },
   {
    "duration": 25,
    "start_time": "2021-06-13T13:33:03.688Z"
   },
   {
    "duration": 39,
    "start_time": "2021-06-13T13:33:03.715Z"
   },
   {
    "duration": 32,
    "start_time": "2021-06-13T13:33:03.756Z"
   },
   {
    "duration": 38,
    "start_time": "2021-06-13T13:33:03.791Z"
   },
   {
    "duration": 47,
    "start_time": "2021-06-13T13:33:03.832Z"
   },
   {
    "duration": 17,
    "start_time": "2021-06-13T13:33:03.881Z"
   },
   {
    "duration": 14,
    "start_time": "2021-06-13T13:33:03.901Z"
   },
   {
    "duration": 27,
    "start_time": "2021-06-13T13:33:03.917Z"
   },
   {
    "duration": 18,
    "start_time": "2021-06-13T13:33:03.946Z"
   },
   {
    "duration": 13,
    "start_time": "2021-06-13T13:33:03.966Z"
   },
   {
    "duration": 24,
    "start_time": "2021-06-13T13:33:03.981Z"
   },
   {
    "duration": 23,
    "start_time": "2021-06-13T13:33:04.008Z"
   },
   {
    "duration": 12,
    "start_time": "2021-06-13T13:33:04.034Z"
   },
   {
    "duration": 37,
    "start_time": "2021-06-13T13:33:04.049Z"
   },
   {
    "duration": 22,
    "start_time": "2021-06-13T13:33:04.088Z"
   },
   {
    "duration": 25,
    "start_time": "2021-06-13T13:33:04.113Z"
   },
   {
    "duration": 28,
    "start_time": "2021-06-13T13:33:04.141Z"
   },
   {
    "duration": 30,
    "start_time": "2021-06-13T13:33:04.172Z"
   },
   {
    "duration": 41,
    "start_time": "2021-06-13T13:33:04.209Z"
   },
   {
    "duration": 28,
    "start_time": "2021-06-13T13:33:04.253Z"
   },
   {
    "duration": 16,
    "start_time": "2021-06-13T13:33:04.283Z"
   },
   {
    "duration": 28,
    "start_time": "2021-06-13T13:33:04.302Z"
   },
   {
    "duration": 23,
    "start_time": "2021-06-13T13:33:04.332Z"
   },
   {
    "duration": 771,
    "start_time": "2021-06-13T13:33:04.357Z"
   },
   {
    "duration": 23,
    "start_time": "2021-06-13T13:33:05.130Z"
   },
   {
    "duration": 1214,
    "start_time": "2021-06-13T13:33:05.155Z"
   },
   {
    "duration": 484,
    "start_time": "2021-06-13T13:33:06.371Z"
   },
   {
    "duration": 464,
    "start_time": "2021-06-13T13:33:06.857Z"
   },
   {
    "duration": 697,
    "start_time": "2021-06-13T13:33:07.324Z"
   },
   {
    "duration": 660,
    "start_time": "2021-06-13T13:33:08.023Z"
   },
   {
    "duration": 581,
    "start_time": "2021-06-13T13:33:08.685Z"
   },
   {
    "duration": 615,
    "start_time": "2021-06-13T13:33:09.268Z"
   },
   {
    "duration": 6,
    "start_time": "2021-06-13T13:33:09.886Z"
   },
   {
    "duration": 210,
    "start_time": "2021-06-13T13:33:09.910Z"
   },
   {
    "duration": 500,
    "start_time": "2021-06-13T13:33:10.122Z"
   },
   {
    "duration": 6,
    "start_time": "2021-06-13T13:33:10.624Z"
   },
   {
    "duration": 1393,
    "start_time": "2021-06-13T13:33:10.632Z"
   },
   {
    "duration": -379,
    "start_time": "2021-06-13T13:33:12.407Z"
   },
   {
    "duration": -385,
    "start_time": "2021-06-13T13:33:12.414Z"
   },
   {
    "duration": -403,
    "start_time": "2021-06-13T13:33:12.433Z"
   },
   {
    "duration": -408,
    "start_time": "2021-06-13T13:33:12.440Z"
   },
   {
    "duration": 1140,
    "start_time": "2021-06-13T13:33:49.985Z"
   },
   {
    "duration": 829,
    "start_time": "2021-06-13T13:34:13.464Z"
   },
   {
    "duration": 857,
    "start_time": "2021-06-13T13:34:53.340Z"
   },
   {
    "duration": 838,
    "start_time": "2021-06-13T13:35:07.319Z"
   },
   {
    "duration": 109,
    "start_time": "2021-06-13T13:41:48.405Z"
   },
   {
    "duration": 150,
    "start_time": "2021-06-13T13:42:32.783Z"
   },
   {
    "duration": 22,
    "start_time": "2021-06-13T13:43:55.629Z"
   },
   {
    "duration": 22,
    "start_time": "2021-06-13T13:44:31.316Z"
   },
   {
    "duration": 15,
    "start_time": "2021-06-13T13:44:40.458Z"
   },
   {
    "duration": 137,
    "start_time": "2021-06-13T14:07:47.320Z"
   },
   {
    "duration": 873,
    "start_time": "2021-06-13T14:08:05.104Z"
   },
   {
    "duration": 889,
    "start_time": "2021-06-13T14:08:19.620Z"
   },
   {
    "duration": 15,
    "start_time": "2021-06-13T14:08:51.585Z"
   },
   {
    "duration": 883,
    "start_time": "2021-06-13T14:09:53.058Z"
   },
   {
    "duration": 17,
    "start_time": "2021-06-13T14:10:13.145Z"
   },
   {
    "duration": 290,
    "start_time": "2021-06-13T19:24:40.392Z"
   },
   {
    "duration": 1303,
    "start_time": "2021-06-13T19:24:59.125Z"
   },
   {
    "duration": 66,
    "start_time": "2021-06-13T19:25:00.430Z"
   },
   {
    "duration": 9,
    "start_time": "2021-06-13T19:25:00.499Z"
   },
   {
    "duration": 22,
    "start_time": "2021-06-13T19:25:00.511Z"
   },
   {
    "duration": 9,
    "start_time": "2021-06-13T19:25:00.536Z"
   },
   {
    "duration": 10,
    "start_time": "2021-06-13T19:25:00.548Z"
   },
   {
    "duration": 30,
    "start_time": "2021-06-13T19:25:00.560Z"
   },
   {
    "duration": 7,
    "start_time": "2021-06-13T19:25:00.593Z"
   },
   {
    "duration": 10,
    "start_time": "2021-06-13T19:25:00.604Z"
   },
   {
    "duration": 9,
    "start_time": "2021-06-13T19:25:00.617Z"
   },
   {
    "duration": 11,
    "start_time": "2021-06-13T19:25:00.628Z"
   },
   {
    "duration": 49,
    "start_time": "2021-06-13T19:25:00.641Z"
   },
   {
    "duration": 18,
    "start_time": "2021-06-13T19:25:00.692Z"
   },
   {
    "duration": 13,
    "start_time": "2021-06-13T19:25:00.712Z"
   },
   {
    "duration": 17,
    "start_time": "2021-06-13T19:25:00.727Z"
   },
   {
    "duration": 11,
    "start_time": "2021-06-13T19:25:00.747Z"
   },
   {
    "duration": 29,
    "start_time": "2021-06-13T19:25:00.760Z"
   },
   {
    "duration": 36,
    "start_time": "2021-06-13T19:25:00.792Z"
   },
   {
    "duration": 17,
    "start_time": "2021-06-13T19:25:00.830Z"
   },
   {
    "duration": 34,
    "start_time": "2021-06-13T19:25:00.850Z"
   },
   {
    "duration": 16,
    "start_time": "2021-06-13T19:25:00.887Z"
   },
   {
    "duration": 12,
    "start_time": "2021-06-13T19:25:00.906Z"
   },
   {
    "duration": 14,
    "start_time": "2021-06-13T19:25:00.920Z"
   },
   {
    "duration": 14,
    "start_time": "2021-06-13T19:25:00.936Z"
   },
   {
    "duration": 31,
    "start_time": "2021-06-13T19:25:00.953Z"
   },
   {
    "duration": 22,
    "start_time": "2021-06-13T19:25:00.986Z"
   },
   {
    "duration": 33,
    "start_time": "2021-06-13T19:25:01.013Z"
   },
   {
    "duration": 735,
    "start_time": "2021-06-13T19:25:01.049Z"
   },
   {
    "duration": 26,
    "start_time": "2021-06-13T19:25:01.787Z"
   },
   {
    "duration": 1267,
    "start_time": "2021-06-13T19:25:01.817Z"
   },
   {
    "duration": 696,
    "start_time": "2021-06-13T19:25:03.087Z"
   },
   {
    "duration": 432,
    "start_time": "2021-06-13T19:25:03.785Z"
   },
   {
    "duration": 485,
    "start_time": "2021-06-13T19:25:04.220Z"
   },
   {
    "duration": 443,
    "start_time": "2021-06-13T19:25:04.708Z"
   },
   {
    "duration": 529,
    "start_time": "2021-06-13T19:25:05.154Z"
   },
   {
    "duration": 528,
    "start_time": "2021-06-13T19:25:05.685Z"
   },
   {
    "duration": 7,
    "start_time": "2021-06-13T19:25:06.215Z"
   },
   {
    "duration": 209,
    "start_time": "2021-06-13T19:25:06.224Z"
   },
   {
    "duration": 495,
    "start_time": "2021-06-13T19:25:06.435Z"
   },
   {
    "duration": 6,
    "start_time": "2021-06-13T19:25:06.933Z"
   },
   {
    "duration": 867,
    "start_time": "2021-06-13T19:25:06.941Z"
   },
   {
    "duration": 14,
    "start_time": "2021-06-13T19:25:07.811Z"
   },
   {
    "duration": 15,
    "start_time": "2021-06-13T19:25:07.827Z"
   },
   {
    "duration": 44,
    "start_time": "2021-06-13T19:25:07.844Z"
   },
   {
    "duration": 19,
    "start_time": "2021-06-13T19:25:07.890Z"
   },
   {
    "duration": 15,
    "start_time": "2021-06-13T19:29:06.078Z"
   },
   {
    "duration": 20,
    "start_time": "2021-06-13T19:34:11.995Z"
   },
   {
    "duration": 19,
    "start_time": "2021-06-13T19:34:34.823Z"
   },
   {
    "duration": 18,
    "start_time": "2021-06-13T19:36:23.903Z"
   },
   {
    "duration": 92,
    "start_time": "2021-06-13T19:45:14.517Z"
   },
   {
    "duration": 110,
    "start_time": "2021-06-13T19:46:15.139Z"
   },
   {
    "duration": 85,
    "start_time": "2021-06-13T19:46:41.963Z"
   },
   {
    "duration": 22,
    "start_time": "2021-06-13T19:46:52.604Z"
   },
   {
    "duration": 383,
    "start_time": "2021-06-13T19:47:31.538Z"
   },
   {
    "duration": 85,
    "start_time": "2021-06-13T19:48:12.439Z"
   },
   {
    "duration": 83,
    "start_time": "2021-06-13T19:48:25.154Z"
   },
   {
    "duration": 89,
    "start_time": "2021-06-13T19:48:30.756Z"
   },
   {
    "duration": 23,
    "start_time": "2021-06-13T19:49:09.120Z"
   },
   {
    "duration": 23,
    "start_time": "2021-06-13T19:49:27.242Z"
   },
   {
    "duration": 1382,
    "start_time": "2021-06-14T04:50:16.117Z"
   },
   {
    "duration": 76,
    "start_time": "2021-06-14T04:50:17.502Z"
   },
   {
    "duration": 9,
    "start_time": "2021-06-14T04:50:17.581Z"
   },
   {
    "duration": 18,
    "start_time": "2021-06-14T04:50:17.593Z"
   },
   {
    "duration": 7,
    "start_time": "2021-06-14T04:50:17.613Z"
   },
   {
    "duration": 10,
    "start_time": "2021-06-14T04:50:17.622Z"
   },
   {
    "duration": 12,
    "start_time": "2021-06-14T04:50:17.634Z"
   },
   {
    "duration": 6,
    "start_time": "2021-06-14T04:50:17.651Z"
   },
   {
    "duration": 8,
    "start_time": "2021-06-14T04:50:17.660Z"
   },
   {
    "duration": 53,
    "start_time": "2021-06-14T04:50:17.671Z"
   },
   {
    "duration": 11,
    "start_time": "2021-06-14T04:50:17.727Z"
   },
   {
    "duration": 9,
    "start_time": "2021-06-14T04:50:17.741Z"
   },
   {
    "duration": 11,
    "start_time": "2021-06-14T04:50:17.752Z"
   },
   {
    "duration": 11,
    "start_time": "2021-06-14T04:50:17.766Z"
   },
   {
    "duration": 53,
    "start_time": "2021-06-14T04:50:17.779Z"
   },
   {
    "duration": 7,
    "start_time": "2021-06-14T04:50:17.835Z"
   },
   {
    "duration": 10,
    "start_time": "2021-06-14T04:50:17.845Z"
   },
   {
    "duration": 71,
    "start_time": "2021-06-14T04:50:17.858Z"
   },
   {
    "duration": 14,
    "start_time": "2021-06-14T04:50:17.932Z"
   },
   {
    "duration": 10,
    "start_time": "2021-06-14T04:50:17.949Z"
   },
   {
    "duration": 11,
    "start_time": "2021-06-14T04:50:17.962Z"
   },
   {
    "duration": 51,
    "start_time": "2021-06-14T04:50:17.976Z"
   },
   {
    "duration": 6,
    "start_time": "2021-06-14T04:50:18.035Z"
   },
   {
    "duration": 7,
    "start_time": "2021-06-14T04:50:18.045Z"
   },
   {
    "duration": 8,
    "start_time": "2021-06-14T04:50:18.055Z"
   },
   {
    "duration": 74,
    "start_time": "2021-06-14T04:50:18.066Z"
   },
   {
    "duration": 18,
    "start_time": "2021-06-14T04:50:18.143Z"
   },
   {
    "duration": 788,
    "start_time": "2021-06-14T04:50:18.164Z"
   },
   {
    "duration": 25,
    "start_time": "2021-06-14T04:50:18.955Z"
   },
   {
    "duration": 1202,
    "start_time": "2021-06-14T04:50:18.982Z"
   },
   {
    "duration": 478,
    "start_time": "2021-06-14T04:50:20.186Z"
   },
   {
    "duration": 483,
    "start_time": "2021-06-14T04:50:20.666Z"
   },
   {
    "duration": 493,
    "start_time": "2021-06-14T04:50:21.151Z"
   },
   {
    "duration": 472,
    "start_time": "2021-06-14T04:50:21.647Z"
   },
   {
    "duration": 534,
    "start_time": "2021-06-14T04:50:22.126Z"
   },
   {
    "duration": 597,
    "start_time": "2021-06-14T04:50:22.662Z"
   },
   {
    "duration": 7,
    "start_time": "2021-06-14T04:50:23.261Z"
   },
   {
    "duration": 270,
    "start_time": "2021-06-14T04:50:23.270Z"
   },
   {
    "duration": 482,
    "start_time": "2021-06-14T04:50:23.543Z"
   },
   {
    "duration": 7,
    "start_time": "2021-06-14T04:50:24.028Z"
   },
   {
    "duration": 924,
    "start_time": "2021-06-14T04:50:24.038Z"
   },
   {
    "duration": 16,
    "start_time": "2021-06-14T04:50:24.965Z"
   },
   {
    "duration": 16,
    "start_time": "2021-06-14T04:50:24.983Z"
   },
   {
    "duration": 20,
    "start_time": "2021-06-14T04:50:25.027Z"
   },
   {
    "duration": 22,
    "start_time": "2021-06-14T04:50:25.050Z"
   },
   {
    "duration": 109,
    "start_time": "2021-06-14T04:50:25.074Z"
   },
   {
    "duration": 12,
    "start_time": "2021-06-14T04:55:23.839Z"
   },
   {
    "duration": 14,
    "start_time": "2021-06-14T04:57:10.384Z"
   },
   {
    "duration": 10,
    "start_time": "2021-06-14T05:21:06.719Z"
   },
   {
    "duration": 7,
    "start_time": "2021-06-14T05:22:14.516Z"
   },
   {
    "duration": 7,
    "start_time": "2021-06-14T05:23:35.086Z"
   },
   {
    "duration": 7,
    "start_time": "2021-06-14T06:41:03.194Z"
   },
   {
    "duration": 7,
    "start_time": "2021-06-14T06:41:14.819Z"
   },
   {
    "duration": 995,
    "start_time": "2021-06-14T10:09:16.066Z"
   },
   {
    "duration": 81,
    "start_time": "2021-06-14T10:09:17.063Z"
   },
   {
    "duration": 7,
    "start_time": "2021-06-14T10:09:17.146Z"
   },
   {
    "duration": 13,
    "start_time": "2021-06-14T10:09:17.155Z"
   },
   {
    "duration": 14,
    "start_time": "2021-06-14T10:09:17.169Z"
   },
   {
    "duration": 8,
    "start_time": "2021-06-14T10:09:17.189Z"
   },
   {
    "duration": 15,
    "start_time": "2021-06-14T10:09:17.199Z"
   },
   {
    "duration": 18,
    "start_time": "2021-06-14T10:09:17.215Z"
   },
   {
    "duration": 13,
    "start_time": "2021-06-14T10:09:17.237Z"
   },
   {
    "duration": 16,
    "start_time": "2021-06-14T10:09:17.252Z"
   },
   {
    "duration": 36,
    "start_time": "2021-06-14T10:09:17.270Z"
   },
   {
    "duration": 12,
    "start_time": "2021-06-14T10:09:17.308Z"
   },
   {
    "duration": 25,
    "start_time": "2021-06-14T10:09:17.321Z"
   },
   {
    "duration": 12,
    "start_time": "2021-06-14T10:09:17.347Z"
   },
   {
    "duration": 16,
    "start_time": "2021-06-14T10:09:17.360Z"
   },
   {
    "duration": 16,
    "start_time": "2021-06-14T10:09:17.378Z"
   },
   {
    "duration": 15,
    "start_time": "2021-06-14T10:09:17.396Z"
   },
   {
    "duration": 22,
    "start_time": "2021-06-14T10:09:17.413Z"
   },
   {
    "duration": 9,
    "start_time": "2021-06-14T10:09:17.436Z"
   },
   {
    "duration": 11,
    "start_time": "2021-06-14T10:09:17.447Z"
   },
   {
    "duration": 14,
    "start_time": "2021-06-14T10:09:17.459Z"
   },
   {
    "duration": 11,
    "start_time": "2021-06-14T10:09:17.475Z"
   },
   {
    "duration": 14,
    "start_time": "2021-06-14T10:09:17.487Z"
   },
   {
    "duration": 5,
    "start_time": "2021-06-14T10:09:17.503Z"
   },
   {
    "duration": 11,
    "start_time": "2021-06-14T10:09:17.509Z"
   },
   {
    "duration": 27,
    "start_time": "2021-06-14T10:09:17.522Z"
   },
   {
    "duration": 11,
    "start_time": "2021-06-14T10:09:17.553Z"
   },
   {
    "duration": 536,
    "start_time": "2021-06-14T10:09:17.566Z"
   },
   {
    "duration": 16,
    "start_time": "2021-06-14T10:09:18.104Z"
   },
   {
    "duration": 699,
    "start_time": "2021-06-14T10:09:18.122Z"
   },
   {
    "duration": 302,
    "start_time": "2021-06-14T10:09:18.823Z"
   },
   {
    "duration": 287,
    "start_time": "2021-06-14T10:09:19.126Z"
   },
   {
    "duration": 340,
    "start_time": "2021-06-14T10:09:19.414Z"
   },
   {
    "duration": 290,
    "start_time": "2021-06-14T10:09:19.756Z"
   },
   {
    "duration": 416,
    "start_time": "2021-06-14T10:09:20.048Z"
   },
   {
    "duration": 437,
    "start_time": "2021-06-14T10:09:20.466Z"
   },
   {
    "duration": 5,
    "start_time": "2021-06-14T10:09:20.904Z"
   },
   {
    "duration": 128,
    "start_time": "2021-06-14T10:09:20.911Z"
   },
   {
    "duration": 408,
    "start_time": "2021-06-14T10:09:21.041Z"
   },
   {
    "duration": 5,
    "start_time": "2021-06-14T10:09:21.450Z"
   },
   {
    "duration": 432,
    "start_time": "2021-06-14T10:09:21.456Z"
   },
   {
    "duration": 12,
    "start_time": "2021-06-14T10:09:21.889Z"
   },
   {
    "duration": 10,
    "start_time": "2021-06-14T10:09:21.903Z"
   },
   {
    "duration": 12,
    "start_time": "2021-06-14T10:09:21.915Z"
   },
   {
    "duration": 12,
    "start_time": "2021-06-14T10:09:21.929Z"
   },
   {
    "duration": 435,
    "start_time": "2021-06-14T10:09:21.942Z"
   },
   {
    "duration": 360,
    "start_time": "2021-06-14T10:09:43.987Z"
   },
   {
    "duration": 246,
    "start_time": "2021-06-14T10:10:00.312Z"
   },
   {
    "duration": 246,
    "start_time": "2021-06-14T10:14:21.398Z"
   },
   {
    "duration": 15,
    "start_time": "2021-06-14T10:15:39.430Z"
   },
   {
    "duration": 522,
    "start_time": "2021-06-14T10:23:01.106Z"
   },
   {
    "duration": 512,
    "start_time": "2021-06-14T10:23:23.212Z"
   },
   {
    "duration": 62,
    "start_time": "2021-06-14T10:29:32.972Z"
   },
   {
    "duration": 358,
    "start_time": "2021-06-14T10:29:45.761Z"
   },
   {
    "duration": 741,
    "start_time": "2021-06-14T10:33:48.419Z"
   },
   {
    "duration": 979,
    "start_time": "2021-06-14T11:17:03.281Z"
   },
   {
    "duration": 69,
    "start_time": "2021-06-14T11:17:04.262Z"
   },
   {
    "duration": 6,
    "start_time": "2021-06-14T11:17:04.333Z"
   },
   {
    "duration": 11,
    "start_time": "2021-06-14T11:17:04.341Z"
   },
   {
    "duration": 4,
    "start_time": "2021-06-14T11:17:04.354Z"
   },
   {
    "duration": 10,
    "start_time": "2021-06-14T11:17:04.359Z"
   },
   {
    "duration": 8,
    "start_time": "2021-06-14T11:17:04.371Z"
   },
   {
    "duration": 4,
    "start_time": "2021-06-14T11:17:04.381Z"
   },
   {
    "duration": 12,
    "start_time": "2021-06-14T11:17:04.386Z"
   },
   {
    "duration": 5,
    "start_time": "2021-06-14T11:17:04.400Z"
   },
   {
    "duration": 7,
    "start_time": "2021-06-14T11:17:04.407Z"
   },
   {
    "duration": 5,
    "start_time": "2021-06-14T11:17:04.416Z"
   },
   {
    "duration": 8,
    "start_time": "2021-06-14T11:17:04.423Z"
   },
   {
    "duration": 5,
    "start_time": "2021-06-14T11:17:04.433Z"
   },
   {
    "duration": 9,
    "start_time": "2021-06-14T11:17:04.439Z"
   },
   {
    "duration": 13,
    "start_time": "2021-06-14T11:17:04.485Z"
   },
   {
    "duration": 5,
    "start_time": "2021-06-14T11:17:04.500Z"
   },
   {
    "duration": 19,
    "start_time": "2021-06-14T11:17:04.507Z"
   },
   {
    "duration": 11,
    "start_time": "2021-06-14T11:17:04.527Z"
   },
   {
    "duration": 6,
    "start_time": "2021-06-14T11:17:04.540Z"
   },
   {
    "duration": 7,
    "start_time": "2021-06-14T11:17:04.548Z"
   },
   {
    "duration": 37,
    "start_time": "2021-06-14T11:17:04.556Z"
   },
   {
    "duration": 4,
    "start_time": "2021-06-14T11:17:04.598Z"
   },
   {
    "duration": 10,
    "start_time": "2021-06-14T11:17:04.604Z"
   },
   {
    "duration": 5,
    "start_time": "2021-06-14T11:17:04.616Z"
   },
   {
    "duration": 15,
    "start_time": "2021-06-14T11:17:04.622Z"
   },
   {
    "duration": 11,
    "start_time": "2021-06-14T11:17:04.639Z"
   },
   {
    "duration": 555,
    "start_time": "2021-06-14T11:17:04.651Z"
   },
   {
    "duration": 15,
    "start_time": "2021-06-14T11:17:05.207Z"
   },
   {
    "duration": 361,
    "start_time": "2021-06-14T11:17:05.224Z"
   },
   {
    "duration": 303,
    "start_time": "2021-06-14T11:17:05.588Z"
   },
   {
    "duration": 289,
    "start_time": "2021-06-14T11:17:05.893Z"
   },
   {
    "duration": 369,
    "start_time": "2021-06-14T11:17:06.183Z"
   },
   {
    "duration": 290,
    "start_time": "2021-06-14T11:17:06.554Z"
   },
   {
    "duration": 389,
    "start_time": "2021-06-14T11:17:06.845Z"
   },
   {
    "duration": 561,
    "start_time": "2021-06-14T11:17:07.236Z"
   },
   {
    "duration": 5,
    "start_time": "2021-06-14T11:17:07.799Z"
   },
   {
    "duration": 222,
    "start_time": "2021-06-14T11:17:07.806Z"
   },
   {
    "duration": 341,
    "start_time": "2021-06-14T11:17:08.030Z"
   },
   {
    "duration": 12,
    "start_time": "2021-06-14T11:17:08.373Z"
   },
   {
    "duration": 408,
    "start_time": "2021-06-14T11:17:08.387Z"
   },
   {
    "duration": 9,
    "start_time": "2021-06-14T11:17:08.797Z"
   },
   {
    "duration": 9,
    "start_time": "2021-06-14T11:17:08.808Z"
   },
   {
    "duration": 17,
    "start_time": "2021-06-14T11:17:08.818Z"
   },
   {
    "duration": 14,
    "start_time": "2021-06-14T11:17:08.836Z"
   },
   {
    "duration": 747,
    "start_time": "2021-06-14T11:17:08.852Z"
   },
   {
    "duration": 952,
    "start_time": "2021-06-14T11:21:56.148Z"
   },
   {
    "duration": 70,
    "start_time": "2021-06-14T11:21:57.101Z"
   },
   {
    "duration": 7,
    "start_time": "2021-06-14T11:21:57.173Z"
   },
   {
    "duration": 20,
    "start_time": "2021-06-14T11:21:57.182Z"
   },
   {
    "duration": 8,
    "start_time": "2021-06-14T11:21:57.204Z"
   },
   {
    "duration": 8,
    "start_time": "2021-06-14T11:21:57.213Z"
   },
   {
    "duration": 9,
    "start_time": "2021-06-14T11:21:57.222Z"
   },
   {
    "duration": 5,
    "start_time": "2021-06-14T11:21:57.233Z"
   },
   {
    "duration": 6,
    "start_time": "2021-06-14T11:21:57.240Z"
   },
   {
    "duration": 7,
    "start_time": "2021-06-14T11:21:57.247Z"
   },
   {
    "duration": 39,
    "start_time": "2021-06-14T11:21:57.255Z"
   },
   {
    "duration": 5,
    "start_time": "2021-06-14T11:21:57.296Z"
   },
   {
    "duration": 11,
    "start_time": "2021-06-14T11:21:57.303Z"
   },
   {
    "duration": 5,
    "start_time": "2021-06-14T11:21:57.315Z"
   },
   {
    "duration": 7,
    "start_time": "2021-06-14T11:21:57.322Z"
   },
   {
    "duration": 6,
    "start_time": "2021-06-14T11:21:57.331Z"
   },
   {
    "duration": 9,
    "start_time": "2021-06-14T11:21:57.338Z"
   },
   {
    "duration": 43,
    "start_time": "2021-06-14T11:21:57.348Z"
   },
   {
    "duration": 9,
    "start_time": "2021-06-14T11:21:57.401Z"
   },
   {
    "duration": 7,
    "start_time": "2021-06-14T11:21:57.411Z"
   },
   {
    "duration": 8,
    "start_time": "2021-06-14T11:21:57.419Z"
   },
   {
    "duration": 5,
    "start_time": "2021-06-14T11:21:57.428Z"
   },
   {
    "duration": 4,
    "start_time": "2021-06-14T11:21:57.436Z"
   },
   {
    "duration": 10,
    "start_time": "2021-06-14T11:21:57.442Z"
   },
   {
    "duration": 5,
    "start_time": "2021-06-14T11:21:57.454Z"
   },
   {
    "duration": 18,
    "start_time": "2021-06-14T11:21:57.486Z"
   },
   {
    "duration": 11,
    "start_time": "2021-06-14T11:21:57.505Z"
   },
   {
    "duration": 505,
    "start_time": "2021-06-14T11:21:57.517Z"
   },
   {
    "duration": 15,
    "start_time": "2021-06-14T11:21:58.024Z"
   },
   {
    "duration": 364,
    "start_time": "2021-06-14T11:21:58.041Z"
   },
   {
    "duration": 300,
    "start_time": "2021-06-14T11:21:58.406Z"
   },
   {
    "duration": 271,
    "start_time": "2021-06-14T11:21:58.708Z"
   },
   {
    "duration": 367,
    "start_time": "2021-06-14T11:21:58.980Z"
   },
   {
    "duration": 295,
    "start_time": "2021-06-14T11:21:59.348Z"
   },
   {
    "duration": 419,
    "start_time": "2021-06-14T11:21:59.644Z"
   },
   {
    "duration": 444,
    "start_time": "2021-06-14T11:22:00.065Z"
   },
   {
    "duration": 5,
    "start_time": "2021-06-14T11:22:00.512Z"
   },
   {
    "duration": 124,
    "start_time": "2021-06-14T11:22:00.519Z"
   },
   {
    "duration": 404,
    "start_time": "2021-06-14T11:22:00.645Z"
   },
   {
    "duration": 5,
    "start_time": "2021-06-14T11:22:01.051Z"
   },
   {
    "duration": 443,
    "start_time": "2021-06-14T11:22:01.057Z"
   },
   {
    "duration": 11,
    "start_time": "2021-06-14T11:22:01.501Z"
   },
   {
    "duration": 18,
    "start_time": "2021-06-14T11:22:01.513Z"
   },
   {
    "duration": 23,
    "start_time": "2021-06-14T11:22:01.533Z"
   },
   {
    "duration": 30,
    "start_time": "2021-06-14T11:22:01.558Z"
   },
   {
    "duration": 743,
    "start_time": "2021-06-14T11:22:01.590Z"
   },
   {
    "duration": 1174,
    "start_time": "2021-06-14T12:28:17.920Z"
   },
   {
    "duration": 72,
    "start_time": "2021-06-14T12:28:19.096Z"
   },
   {
    "duration": 7,
    "start_time": "2021-06-14T12:28:19.170Z"
   },
   {
    "duration": 23,
    "start_time": "2021-06-14T12:28:19.179Z"
   },
   {
    "duration": 6,
    "start_time": "2021-06-14T12:28:19.205Z"
   },
   {
    "duration": 10,
    "start_time": "2021-06-14T12:28:19.212Z"
   },
   {
    "duration": 11,
    "start_time": "2021-06-14T12:28:19.224Z"
   },
   {
    "duration": 6,
    "start_time": "2021-06-14T12:28:19.238Z"
   },
   {
    "duration": 9,
    "start_time": "2021-06-14T12:28:19.246Z"
   },
   {
    "duration": 33,
    "start_time": "2021-06-14T12:28:19.257Z"
   },
   {
    "duration": 12,
    "start_time": "2021-06-14T12:28:19.292Z"
   },
   {
    "duration": 11,
    "start_time": "2021-06-14T12:28:19.306Z"
   },
   {
    "duration": 9,
    "start_time": "2021-06-14T12:28:19.319Z"
   },
   {
    "duration": 6,
    "start_time": "2021-06-14T12:28:19.331Z"
   },
   {
    "duration": 46,
    "start_time": "2021-06-14T12:28:19.340Z"
   },
   {
    "duration": 12,
    "start_time": "2021-06-14T12:28:19.387Z"
   },
   {
    "duration": 7,
    "start_time": "2021-06-14T12:28:19.402Z"
   },
   {
    "duration": 35,
    "start_time": "2021-06-14T12:28:19.411Z"
   },
   {
    "duration": 37,
    "start_time": "2021-06-14T12:28:19.448Z"
   },
   {
    "duration": 12,
    "start_time": "2021-06-14T12:28:19.494Z"
   },
   {
    "duration": 7,
    "start_time": "2021-06-14T12:28:19.508Z"
   },
   {
    "duration": 7,
    "start_time": "2021-06-14T12:28:19.517Z"
   },
   {
    "duration": 6,
    "start_time": "2021-06-14T12:28:19.528Z"
   },
   {
    "duration": 5,
    "start_time": "2021-06-14T12:28:19.536Z"
   },
   {
    "duration": 7,
    "start_time": "2021-06-14T12:28:19.542Z"
   },
   {
    "duration": 17,
    "start_time": "2021-06-14T12:28:19.587Z"
   },
   {
    "duration": 13,
    "start_time": "2021-06-14T12:28:19.606Z"
   },
   {
    "duration": 566,
    "start_time": "2021-06-14T12:28:19.620Z"
   },
   {
    "duration": 23,
    "start_time": "2021-06-14T12:28:20.188Z"
   },
   {
    "duration": 420,
    "start_time": "2021-06-14T12:28:20.213Z"
   },
   {
    "duration": 338,
    "start_time": "2021-06-14T12:28:20.635Z"
   },
   {
    "duration": 328,
    "start_time": "2021-06-14T12:28:20.975Z"
   },
   {
    "duration": 393,
    "start_time": "2021-06-14T12:28:21.306Z"
   },
   {
    "duration": 326,
    "start_time": "2021-06-14T12:28:21.701Z"
   },
   {
    "duration": 408,
    "start_time": "2021-06-14T12:28:22.029Z"
   },
   {
    "duration": 477,
    "start_time": "2021-06-14T12:28:22.438Z"
   },
   {
    "duration": 6,
    "start_time": "2021-06-14T12:28:22.917Z"
   },
   {
    "duration": 142,
    "start_time": "2021-06-14T12:28:22.925Z"
   },
   {
    "duration": 411,
    "start_time": "2021-06-14T12:28:23.069Z"
   },
   {
    "duration": 7,
    "start_time": "2021-06-14T12:28:23.484Z"
   },
   {
    "duration": 501,
    "start_time": "2021-06-14T12:28:23.493Z"
   },
   {
    "duration": 16,
    "start_time": "2021-06-14T12:28:23.996Z"
   },
   {
    "duration": 15,
    "start_time": "2021-06-14T12:28:24.014Z"
   },
   {
    "duration": 17,
    "start_time": "2021-06-14T12:28:24.031Z"
   },
   {
    "duration": 43,
    "start_time": "2021-06-14T12:28:24.050Z"
   },
   {
    "duration": 805,
    "start_time": "2021-06-14T12:28:24.095Z"
   },
   {
    "duration": 1335,
    "start_time": "2021-06-14T13:27:57.605Z"
   },
   {
    "duration": 76,
    "start_time": "2021-06-14T13:27:58.943Z"
   },
   {
    "duration": 13,
    "start_time": "2021-06-14T13:27:59.023Z"
   },
   {
    "duration": 25,
    "start_time": "2021-06-14T13:27:59.039Z"
   },
   {
    "duration": 8,
    "start_time": "2021-06-14T13:27:59.067Z"
   },
   {
    "duration": 11,
    "start_time": "2021-06-14T13:27:59.078Z"
   },
   {
    "duration": 15,
    "start_time": "2021-06-14T13:27:59.092Z"
   },
   {
    "duration": 7,
    "start_time": "2021-06-14T13:27:59.111Z"
   },
   {
    "duration": 44,
    "start_time": "2021-06-14T13:27:59.120Z"
   },
   {
    "duration": 9,
    "start_time": "2021-06-14T13:27:59.167Z"
   },
   {
    "duration": 11,
    "start_time": "2021-06-14T13:27:59.178Z"
   },
   {
    "duration": 7,
    "start_time": "2021-06-14T13:27:59.192Z"
   },
   {
    "duration": 56,
    "start_time": "2021-06-14T13:27:59.202Z"
   },
   {
    "duration": 7,
    "start_time": "2021-06-14T13:27:59.261Z"
   },
   {
    "duration": 12,
    "start_time": "2021-06-14T13:27:59.270Z"
   },
   {
    "duration": 8,
    "start_time": "2021-06-14T13:27:59.284Z"
   },
   {
    "duration": 8,
    "start_time": "2021-06-14T13:27:59.294Z"
   },
   {
    "duration": 73,
    "start_time": "2021-06-14T13:27:59.304Z"
   },
   {
    "duration": 12,
    "start_time": "2021-06-14T13:27:59.379Z"
   },
   {
    "duration": 11,
    "start_time": "2021-06-14T13:27:59.393Z"
   },
   {
    "duration": 10,
    "start_time": "2021-06-14T13:27:59.407Z"
   },
   {
    "duration": 38,
    "start_time": "2021-06-14T13:27:59.420Z"
   },
   {
    "duration": 6,
    "start_time": "2021-06-14T13:27:59.465Z"
   },
   {
    "duration": 7,
    "start_time": "2021-06-14T13:27:59.475Z"
   },
   {
    "duration": 9,
    "start_time": "2021-06-14T13:27:59.485Z"
   },
   {
    "duration": 63,
    "start_time": "2021-06-14T13:27:59.496Z"
   },
   {
    "duration": 25,
    "start_time": "2021-06-14T13:27:59.562Z"
   },
   {
    "duration": 1033,
    "start_time": "2021-06-14T13:27:59.591Z"
   },
   {
    "duration": 48,
    "start_time": "2021-06-14T13:28:00.627Z"
   },
   {
    "duration": 608,
    "start_time": "2021-06-14T13:28:00.678Z"
   },
   {
    "duration": 663,
    "start_time": "2021-06-14T13:28:01.288Z"
   },
   {
    "duration": 639,
    "start_time": "2021-06-14T13:28:01.957Z"
   },
   {
    "duration": 696,
    "start_time": "2021-06-14T13:28:02.599Z"
   },
   {
    "duration": 662,
    "start_time": "2021-06-14T13:28:03.298Z"
   },
   {
    "duration": 831,
    "start_time": "2021-06-14T13:28:03.963Z"
   },
   {
    "duration": 570,
    "start_time": "2021-06-14T13:28:04.797Z"
   },
   {
    "duration": 7,
    "start_time": "2021-06-14T13:28:05.370Z"
   },
   {
    "duration": 233,
    "start_time": "2021-06-14T13:28:05.379Z"
   },
   {
    "duration": 504,
    "start_time": "2021-06-14T13:28:05.614Z"
   },
   {
    "duration": 7,
    "start_time": "2021-06-14T13:28:06.120Z"
   },
   {
    "duration": 718,
    "start_time": "2021-06-14T13:28:06.129Z"
   },
   {
    "duration": 14,
    "start_time": "2021-06-14T13:28:06.850Z"
   },
   {
    "duration": 35,
    "start_time": "2021-06-14T13:28:06.866Z"
   },
   {
    "duration": 44,
    "start_time": "2021-06-14T13:28:06.903Z"
   },
   {
    "duration": 23,
    "start_time": "2021-06-14T13:28:06.950Z"
   },
   {
    "duration": 1099,
    "start_time": "2021-06-14T13:28:06.975Z"
   },
   {
    "duration": 1224,
    "start_time": "2021-06-14T13:29:24.424Z"
   },
   {
    "duration": 1030,
    "start_time": "2021-06-14T13:31:57.958Z"
   },
   {
    "duration": 110,
    "start_time": "2021-06-14T13:33:14.482Z"
   },
   {
    "duration": 848,
    "start_time": "2021-06-14T13:33:17.181Z"
   },
   {
    "duration": 1551,
    "start_time": "2021-06-14T13:33:22.680Z"
   },
   {
    "duration": 1581,
    "start_time": "2021-06-14T13:33:27.353Z"
   },
   {
    "duration": 1030,
    "start_time": "2021-06-14T13:34:23.606Z"
   },
   {
    "duration": 946,
    "start_time": "2021-06-14T13:34:28.765Z"
   },
   {
    "duration": 977,
    "start_time": "2021-06-14T13:34:36.045Z"
   },
   {
    "duration": 1133,
    "start_time": "2021-06-14T13:34:42.252Z"
   },
   {
    "duration": 519,
    "start_time": "2021-06-14T13:40:59.643Z"
   },
   {
    "duration": 547,
    "start_time": "2021-06-14T13:41:14.863Z"
   },
   {
    "duration": 775,
    "start_time": "2021-06-14T13:41:32.348Z"
   },
   {
    "duration": 776,
    "start_time": "2021-06-14T13:41:48.890Z"
   },
   {
    "duration": 582,
    "start_time": "2021-06-14T13:41:59.690Z"
   },
   {
    "duration": 663,
    "start_time": "2021-06-14T13:42:15.657Z"
   },
   {
    "duration": 805,
    "start_time": "2021-06-14T13:43:02.039Z"
   },
   {
    "duration": 862,
    "start_time": "2021-06-14T13:43:12.702Z"
   },
   {
    "duration": 669,
    "start_time": "2021-06-14T13:43:15.157Z"
   },
   {
    "duration": 783,
    "start_time": "2021-06-14T13:43:23.309Z"
   },
   {
    "duration": 1109,
    "start_time": "2021-06-14T13:44:31.873Z"
   },
   {
    "duration": 79,
    "start_time": "2021-06-14T13:44:39.681Z"
   },
   {
    "duration": 8,
    "start_time": "2021-06-14T13:44:44.384Z"
   },
   {
    "duration": 611,
    "start_time": "2021-06-14T13:44:50.688Z"
   },
   {
    "duration": 763,
    "start_time": "2021-06-14T13:45:10.430Z"
   },
   {
    "duration": 611,
    "start_time": "2021-06-14T13:45:24.606Z"
   },
   {
    "duration": 657,
    "start_time": "2021-06-14T13:45:36.092Z"
   },
   {
    "duration": -1570,
    "start_time": "2021-06-14T13:46:30.192Z"
   },
   {
    "duration": 818,
    "start_time": "2021-06-14T13:46:41.441Z"
   },
   {
    "duration": 602,
    "start_time": "2021-06-14T13:48:46.338Z"
   },
   {
    "duration": 828,
    "start_time": "2021-06-14T13:49:01.705Z"
   },
   {
    "duration": 771,
    "start_time": "2021-06-14T13:49:07.817Z"
   },
   {
    "duration": 739,
    "start_time": "2021-06-14T13:49:24.327Z"
   },
   {
    "duration": 776,
    "start_time": "2021-06-14T13:50:13.283Z"
   },
   {
    "duration": 1143,
    "start_time": "2021-06-14T13:50:27.452Z"
   },
   {
    "duration": 601,
    "start_time": "2021-06-14T13:50:31.475Z"
   },
   {
    "duration": 2208,
    "start_time": "2021-06-14T13:50:38.787Z"
   },
   {
    "duration": 1070,
    "start_time": "2021-06-14T13:51:15.592Z"
   },
   {
    "duration": 768,
    "start_time": "2021-06-14T13:52:05.191Z"
   },
   {
    "duration": 1110,
    "start_time": "2021-06-14T13:52:15.046Z"
   },
   {
    "duration": 804,
    "start_time": "2021-06-14T13:52:48.187Z"
   },
   {
    "duration": 841,
    "start_time": "2021-06-14T13:52:52.699Z"
   },
   {
    "duration": 805,
    "start_time": "2021-06-14T13:53:20.786Z"
   },
   {
    "duration": 947,
    "start_time": "2021-06-14T13:53:26.161Z"
   },
   {
    "duration": 810,
    "start_time": "2021-06-14T13:53:31.888Z"
   },
   {
    "duration": 749,
    "start_time": "2021-06-14T13:53:37.208Z"
   },
   {
    "duration": 1047,
    "start_time": "2021-06-14T13:54:07.215Z"
   },
   {
    "duration": 1076,
    "start_time": "2021-06-14T13:54:11.367Z"
   },
   {
    "duration": 787,
    "start_time": "2021-06-14T13:54:15.462Z"
   },
   {
    "duration": 923,
    "start_time": "2021-06-14T13:54:18.614Z"
   },
   {
    "duration": 819,
    "start_time": "2021-06-14T13:54:24.076Z"
   },
   {
    "duration": 1314,
    "start_time": "2021-06-29T07:28:37.038Z"
   },
   {
    "duration": 64,
    "start_time": "2021-06-29T07:28:38.355Z"
   },
   {
    "duration": 9,
    "start_time": "2021-06-29T07:28:38.422Z"
   },
   {
    "duration": 30,
    "start_time": "2021-06-29T07:28:38.434Z"
   },
   {
    "duration": 21,
    "start_time": "2021-06-29T07:28:38.467Z"
   },
   {
    "duration": 27,
    "start_time": "2021-06-29T07:28:38.490Z"
   },
   {
    "duration": 23,
    "start_time": "2021-06-29T07:28:38.520Z"
   },
   {
    "duration": 31,
    "start_time": "2021-06-29T07:28:38.547Z"
   },
   {
    "duration": 18,
    "start_time": "2021-06-29T07:28:38.581Z"
   },
   {
    "duration": 20,
    "start_time": "2021-06-29T07:28:38.602Z"
   },
   {
    "duration": 25,
    "start_time": "2021-06-29T07:28:38.624Z"
   },
   {
    "duration": 14,
    "start_time": "2021-06-29T07:28:38.652Z"
   },
   {
    "duration": 26,
    "start_time": "2021-06-29T07:28:38.669Z"
   },
   {
    "duration": 25,
    "start_time": "2021-06-29T07:28:38.698Z"
   },
   {
    "duration": 25,
    "start_time": "2021-06-29T07:28:38.725Z"
   },
   {
    "duration": 20,
    "start_time": "2021-06-29T07:28:38.753Z"
   },
   {
    "duration": 27,
    "start_time": "2021-06-29T07:28:38.776Z"
   },
   {
    "duration": 38,
    "start_time": "2021-06-29T07:28:38.806Z"
   },
   {
    "duration": 17,
    "start_time": "2021-06-29T07:28:38.846Z"
   },
   {
    "duration": 26,
    "start_time": "2021-06-29T07:28:38.865Z"
   },
   {
    "duration": 29,
    "start_time": "2021-06-29T07:28:38.893Z"
   },
   {
    "duration": 6,
    "start_time": "2021-06-29T07:28:38.924Z"
   },
   {
    "duration": 6,
    "start_time": "2021-06-29T07:28:38.935Z"
   },
   {
    "duration": 8,
    "start_time": "2021-06-29T07:28:38.944Z"
   },
   {
    "duration": 8,
    "start_time": "2021-06-29T07:28:38.954Z"
   },
   {
    "duration": 44,
    "start_time": "2021-06-29T07:28:38.965Z"
   },
   {
    "duration": 17,
    "start_time": "2021-06-29T07:28:39.012Z"
   },
   {
    "duration": 775,
    "start_time": "2021-06-29T07:28:39.031Z"
   },
   {
    "duration": 815,
    "start_time": "2021-06-29T07:28:39.809Z"
   },
   {
    "duration": 23,
    "start_time": "2021-06-29T07:28:40.626Z"
   },
   {
    "duration": 618,
    "start_time": "2021-06-29T07:28:40.652Z"
   },
   {
    "duration": 513,
    "start_time": "2021-06-29T07:28:41.274Z"
   },
   {
    "duration": 465,
    "start_time": "2021-06-29T07:28:41.790Z"
   },
   {
    "duration": 523,
    "start_time": "2021-06-29T07:28:42.257Z"
   },
   {
    "duration": 463,
    "start_time": "2021-06-29T07:28:42.783Z"
   },
   {
    "duration": 557,
    "start_time": "2021-06-29T07:28:43.248Z"
   },
   {
    "duration": 544,
    "start_time": "2021-06-29T07:28:43.808Z"
   },
   {
    "duration": 8,
    "start_time": "2021-06-29T07:28:44.354Z"
   },
   {
    "duration": 1220,
    "start_time": "2021-06-29T07:28:44.364Z"
   },
   {
    "duration": 276,
    "start_time": "2021-06-29T07:28:45.586Z"
   },
   {
    "duration": 528,
    "start_time": "2021-06-29T07:28:45.864Z"
   },
   {
    "duration": 8,
    "start_time": "2021-06-29T07:28:46.394Z"
   },
   {
    "duration": 661,
    "start_time": "2021-06-29T07:28:46.404Z"
   },
   {
    "duration": 33,
    "start_time": "2021-06-29T07:28:47.069Z"
   },
   {
    "duration": 15,
    "start_time": "2021-06-29T07:28:47.104Z"
   },
   {
    "duration": 19,
    "start_time": "2021-06-29T07:28:47.122Z"
   },
   {
    "duration": 57,
    "start_time": "2021-06-29T07:28:47.144Z"
   },
   {
    "duration": 1117,
    "start_time": "2021-06-29T07:28:47.204Z"
   }
  ],
  "kernelspec": {
   "display_name": "Python 3",
   "language": "python",
   "name": "python3"
  },
  "language_info": {
   "codemirror_mode": {
    "name": "ipython",
    "version": 3
   },
   "file_extension": ".py",
   "mimetype": "text/x-python",
   "name": "python",
   "nbconvert_exporter": "python",
   "pygments_lexer": "ipython3",
   "version": "3.8.8"
  },
  "toc": {
   "base_numbering": 1,
   "nav_menu": {},
   "number_sections": true,
   "sideBar": true,
   "skip_h1_title": true,
   "title_cell": "Table of Contents",
   "title_sidebar": "Contents",
   "toc_cell": false,
   "toc_position": {
    "height": "calc(100% - 180px)",
    "left": "10px",
    "top": "150px",
    "width": "286.225px"
   },
   "toc_section_display": true,
   "toc_window_display": true
  }
 },
 "nbformat": 4,
 "nbformat_minor": 2
}
